{
 "cells": [
  {
   "cell_type": "markdown",
   "metadata": {},
   "source": [
    "Statistic analysis to start comparation betweens two similars clubs. First of all, we obtain the correct path to the respective experiments.   "
   ]
  },
  {
   "cell_type": "code",
   "execution_count": 1,
   "metadata": {},
   "outputs": [],
   "source": [
    "import pandas as pd"
   ]
  },
  {
   "cell_type": "code",
   "execution_count": 2,
   "metadata": {
    "dotnet_interactive": {
     "language": "csharp"
    },
    "polyglot_notebook": {
     "kernelName": "csharp"
    }
   },
   "outputs": [],
   "source": [
    "#Define path to the experiments\n",
    "ManUnited = \"../Data/ManUnited/ThirdStage/finalMetadataManchester United.csv\"\n",
    "ManCity = \"../Data/ManCity/ThirdStage/finalMetadataManchester City.csv\""
   ]
  },
  {
   "cell_type": "code",
   "execution_count": 3,
   "metadata": {},
   "outputs": [],
   "source": [
    "try:\n",
    "    # Read the CSV files into DataFrames\n",
    "    metadataManUnited = pd.read_csv(ManUnited, sep=\",\")\n",
    "    metadataManCity = pd.read_csv(ManCity, sep=\",\")\n",
    "\n",
    "    # Now metadataManUnited and metadataManCity contain the data from the CSV files\n",
    "except FileNotFoundError:\n",
    "    print(\"One of the files does not exist or the path is incorrect.\")\n",
    "except Exception as e:\n",
    "    print(\"An error occurred:\", str(e))\n"
   ]
  },
  {
   "cell_type": "code",
   "execution_count": 4,
   "metadata": {},
   "outputs": [
    {
     "name": "stdout",
     "output_type": "stream",
     "text": [
      "  IdFiles        ScoringTeam Score NoInformation  totalPasses  completePasses  \\\n",
      "0   264_1                NaN   NaN            NF        483.0           391.0   \n",
      "1    88_1            Arsenal   0_1           NaN        219.0           170.0   \n",
      "2    88_2  Manchester United   1_1           NaN        191.0           154.0   \n",
      "3    88_3                NaN   NaN            NF         32.0            26.0   \n",
      "\n",
      "   incompletePasses  \n",
      "0              92.0  \n",
      "1              49.0  \n",
      "2              37.0  \n",
      "3               6.0  \n",
      "  IdFiles      ScoringTeam Score NoInformation  totalPasses  completePasses  \\\n",
      "0   243_1  Manchester City   1_0           NaN         53.0            36.0   \n",
      "1   243_2          Arsenal   1_1           NaN        155.0           110.0   \n",
      "2   243_3          Arsenal   1_2           NaN         77.0            51.0   \n",
      "3   243_4              NaN   NaN            NF        105.0            81.0   \n",
      "4    32_1          Arsenal   0_1           NaN        151.0           112.0   \n",
      "5    32_2          Arsenal   0_2           NaN        171.0           129.0   \n",
      "6    32_3  Manchester City   1_2           NaN         16.0            11.0   \n",
      "7    32_4              NaN   NaN            NF         14.0            12.0   \n",
      "\n",
      "   incompletePasses  \n",
      "0              17.0  \n",
      "1              45.0  \n",
      "2              26.0  \n",
      "3              24.0  \n",
      "4              39.0  \n",
      "5              42.0  \n",
      "6               5.0  \n",
      "7               2.0  \n"
     ]
    }
   ],
   "source": [
    "print(metadataManUnited)\n",
    "print(metadataManCity)"
   ]
  },
  {
   "cell_type": "code",
   "execution_count": null,
   "metadata": {},
   "outputs": [],
   "source": []
  }
 ],
 "metadata": {
  "kernelspec": {
   "display_name": "Python 3",
   "language": "python",
   "name": "python3"
  },
  "language_info": {
   "codemirror_mode": {
    "name": "ipython",
    "version": 3
   },
   "file_extension": ".py",
   "mimetype": "text/x-python",
   "name": "python",
   "nbconvert_exporter": "python",
   "pygments_lexer": "ipython3",
   "version": "3.12.0"
  },
  "polyglot_notebook": {
   "kernelInfo": {
    "defaultKernelName": "csharp",
    "items": [
     {
      "aliases": [],
      "languageName": "csharp",
      "name": "csharp"
     }
    ]
   }
  }
 },
 "nbformat": 4,
 "nbformat_minor": 2
}
