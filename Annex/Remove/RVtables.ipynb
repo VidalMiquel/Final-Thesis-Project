{
 "cells": [
  {
   "cell_type": "code",
   "execution_count": 187,
   "metadata": {},
   "outputs": [],
   "source": [
    "import pickle\n",
    "import pandas as pd\n",
    "import numpy as np\n",
    "import plotly.express as px\n",
    "import plotly.graph_objects as go"
   ]
  },
  {
   "cell_type": "code",
   "execution_count": 188,
   "metadata": {},
   "outputs": [],
   "source": [
    "path = \"../../Data/Team_1/06Stage/Tables/Player/5506_individualMetrics.pkl\""
   ]
  },
  {
   "cell_type": "code",
   "execution_count": 189,
   "metadata": {},
   "outputs": [],
   "source": [
    "def loadPickleFile(file):\n",
    "    try:\n",
    "        with open(file, \"rb\") as f:\n",
    "            deserializedFile = pickle.load(f)\n",
    "        return deserializedFile\n",
    "    except FileNotFoundError:\n",
    "        print(f\"File  not found.\")"
   ]
  },
  {
   "cell_type": "code",
   "execution_count": 190,
   "metadata": {},
   "outputs": [],
   "source": [
    "table = loadPickleFile(path)"
   ]
  },
  {
   "cell_type": "code",
   "execution_count": 191,
   "metadata": {},
   "outputs": [
    {
     "data": {
      "text/html": [
       "<div>\n",
       "<style scoped>\n",
       "    .dataframe tbody tr th:only-of-type {\n",
       "        vertical-align: middle;\n",
       "    }\n",
       "\n",
       "    .dataframe tbody tr th {\n",
       "        vertical-align: top;\n",
       "    }\n",
       "\n",
       "    .dataframe thead tr th {\n",
       "        text-align: left;\n",
       "    }\n",
       "</style>\n",
       "<table border=\"1\" class=\"dataframe\">\n",
       "  <thead>\n",
       "    <tr>\n",
       "      <th></th>\n",
       "      <th colspan=\"4\" halign=\"left\">inD</th>\n",
       "      <th colspan=\"4\" halign=\"left\">outD</th>\n",
       "      <th colspan=\"4\" halign=\"left\">clust</th>\n",
       "      <th colspan=\"4\" halign=\"left\">betw</th>\n",
       "      <th colspan=\"4\" halign=\"left\">clos</th>\n",
       "    </tr>\n",
       "    <tr>\n",
       "      <th></th>\n",
       "      <th>Mean</th>\n",
       "      <th>Std</th>\n",
       "      <th>Count</th>\n",
       "      <th>Class</th>\n",
       "      <th>Mean</th>\n",
       "      <th>Std</th>\n",
       "      <th>Count</th>\n",
       "      <th>Class</th>\n",
       "      <th>Mean</th>\n",
       "      <th>Std</th>\n",
       "      <th>Count</th>\n",
       "      <th>Class</th>\n",
       "      <th>Mean</th>\n",
       "      <th>Std</th>\n",
       "      <th>Count</th>\n",
       "      <th>Class</th>\n",
       "      <th>Mean</th>\n",
       "      <th>Std</th>\n",
       "      <th>Count</th>\n",
       "      <th>Class</th>\n",
       "    </tr>\n",
       "  </thead>\n",
       "  <tbody>\n",
       "    <tr>\n",
       "      <th>0_1</th>\n",
       "      <td>0.37</td>\n",
       "      <td>0.23</td>\n",
       "      <td>5</td>\n",
       "      <td>medium</td>\n",
       "      <td>0.30</td>\n",
       "      <td>0.34</td>\n",
       "      <td>5</td>\n",
       "      <td>bad</td>\n",
       "      <td>0.48</td>\n",
       "      <td>0.29</td>\n",
       "      <td>5</td>\n",
       "      <td>medium</td>\n",
       "      <td>0.30</td>\n",
       "      <td>0.39</td>\n",
       "      <td>5</td>\n",
       "      <td>medium</td>\n",
       "      <td>0.44</td>\n",
       "      <td>0.22</td>\n",
       "      <td>5</td>\n",
       "      <td>medium</td>\n",
       "    </tr>\n",
       "    <tr>\n",
       "      <th>0_2</th>\n",
       "      <td>1.00</td>\n",
       "      <td>0.00</td>\n",
       "      <td>1</td>\n",
       "      <td>excellent</td>\n",
       "      <td>0.67</td>\n",
       "      <td>0.00</td>\n",
       "      <td>1</td>\n",
       "      <td>good</td>\n",
       "      <td>0.58</td>\n",
       "      <td>0.00</td>\n",
       "      <td>1</td>\n",
       "      <td>good</td>\n",
       "      <td>0.14</td>\n",
       "      <td>0.00</td>\n",
       "      <td>1</td>\n",
       "      <td>worst</td>\n",
       "      <td>1.00</td>\n",
       "      <td>0.00</td>\n",
       "      <td>1</td>\n",
       "      <td>excellent</td>\n",
       "    </tr>\n",
       "    <tr>\n",
       "      <th>1_2</th>\n",
       "      <td>0.87</td>\n",
       "      <td>0.01</td>\n",
       "      <td>2</td>\n",
       "      <td>excellent</td>\n",
       "      <td>0.85</td>\n",
       "      <td>0.21</td>\n",
       "      <td>2</td>\n",
       "      <td>excellent</td>\n",
       "      <td>0.72</td>\n",
       "      <td>0.28</td>\n",
       "      <td>2</td>\n",
       "      <td>good</td>\n",
       "      <td>0.47</td>\n",
       "      <td>0.29</td>\n",
       "      <td>2</td>\n",
       "      <td>good</td>\n",
       "      <td>0.91</td>\n",
       "      <td>0.04</td>\n",
       "      <td>2</td>\n",
       "      <td>excellent</td>\n",
       "    </tr>\n",
       "    <tr>\n",
       "      <th>1_0</th>\n",
       "      <td>0.59</td>\n",
       "      <td>0.31</td>\n",
       "      <td>24</td>\n",
       "      <td>excellent</td>\n",
       "      <td>0.56</td>\n",
       "      <td>0.31</td>\n",
       "      <td>24</td>\n",
       "      <td>good</td>\n",
       "      <td>0.48</td>\n",
       "      <td>0.33</td>\n",
       "      <td>24</td>\n",
       "      <td>bad</td>\n",
       "      <td>0.40</td>\n",
       "      <td>0.30</td>\n",
       "      <td>24</td>\n",
       "      <td>good</td>\n",
       "      <td>0.57</td>\n",
       "      <td>0.30</td>\n",
       "      <td>24</td>\n",
       "      <td>good</td>\n",
       "    </tr>\n",
       "    <tr>\n",
       "      <th>2_0</th>\n",
       "      <td>0.61</td>\n",
       "      <td>0.30</td>\n",
       "      <td>16</td>\n",
       "      <td>excellent</td>\n",
       "      <td>0.61</td>\n",
       "      <td>0.34</td>\n",
       "      <td>16</td>\n",
       "      <td>good</td>\n",
       "      <td>0.54</td>\n",
       "      <td>0.37</td>\n",
       "      <td>16</td>\n",
       "      <td>good</td>\n",
       "      <td>0.41</td>\n",
       "      <td>0.33</td>\n",
       "      <td>16</td>\n",
       "      <td>excellent</td>\n",
       "      <td>0.68</td>\n",
       "      <td>0.27</td>\n",
       "      <td>16</td>\n",
       "      <td>excellent</td>\n",
       "    </tr>\n",
       "    <tr>\n",
       "      <th>3_0</th>\n",
       "      <td>0.52</td>\n",
       "      <td>0.36</td>\n",
       "      <td>12</td>\n",
       "      <td>good</td>\n",
       "      <td>0.56</td>\n",
       "      <td>0.33</td>\n",
       "      <td>12</td>\n",
       "      <td>good</td>\n",
       "      <td>0.54</td>\n",
       "      <td>0.30</td>\n",
       "      <td>12</td>\n",
       "      <td>medium</td>\n",
       "      <td>0.33</td>\n",
       "      <td>0.35</td>\n",
       "      <td>12</td>\n",
       "      <td>good</td>\n",
       "      <td>0.54</td>\n",
       "      <td>0.33</td>\n",
       "      <td>12</td>\n",
       "      <td>good</td>\n",
       "    </tr>\n",
       "    <tr>\n",
       "      <th>1_1</th>\n",
       "      <td>0.77</td>\n",
       "      <td>0.28</td>\n",
       "      <td>7</td>\n",
       "      <td>excellent</td>\n",
       "      <td>0.63</td>\n",
       "      <td>0.36</td>\n",
       "      <td>7</td>\n",
       "      <td>excellent</td>\n",
       "      <td>0.49</td>\n",
       "      <td>0.44</td>\n",
       "      <td>7</td>\n",
       "      <td>bad</td>\n",
       "      <td>0.45</td>\n",
       "      <td>0.39</td>\n",
       "      <td>7</td>\n",
       "      <td>excellent</td>\n",
       "      <td>0.80</td>\n",
       "      <td>0.30</td>\n",
       "      <td>7</td>\n",
       "      <td>excellent</td>\n",
       "    </tr>\n",
       "    <tr>\n",
       "      <th>2_1</th>\n",
       "      <td>0.63</td>\n",
       "      <td>0.31</td>\n",
       "      <td>9</td>\n",
       "      <td>excellent</td>\n",
       "      <td>0.54</td>\n",
       "      <td>0.28</td>\n",
       "      <td>9</td>\n",
       "      <td>good</td>\n",
       "      <td>0.63</td>\n",
       "      <td>0.39</td>\n",
       "      <td>9</td>\n",
       "      <td>good</td>\n",
       "      <td>0.27</td>\n",
       "      <td>0.33</td>\n",
       "      <td>9</td>\n",
       "      <td>medium</td>\n",
       "      <td>0.57</td>\n",
       "      <td>0.35</td>\n",
       "      <td>9</td>\n",
       "      <td>good</td>\n",
       "    </tr>\n",
       "    <tr>\n",
       "      <th>3_1</th>\n",
       "      <td>0.36</td>\n",
       "      <td>0.32</td>\n",
       "      <td>4</td>\n",
       "      <td>bad</td>\n",
       "      <td>0.41</td>\n",
       "      <td>0.41</td>\n",
       "      <td>4</td>\n",
       "      <td>bad</td>\n",
       "      <td>0.51</td>\n",
       "      <td>0.40</td>\n",
       "      <td>4</td>\n",
       "      <td>bad</td>\n",
       "      <td>0.18</td>\n",
       "      <td>0.19</td>\n",
       "      <td>4</td>\n",
       "      <td>bad</td>\n",
       "      <td>0.47</td>\n",
       "      <td>0.36</td>\n",
       "      <td>4</td>\n",
       "      <td>bad</td>\n",
       "    </tr>\n",
       "    <tr>\n",
       "      <th>0_3</th>\n",
       "      <td>0.83</td>\n",
       "      <td>0.00</td>\n",
       "      <td>1</td>\n",
       "      <td>excellent</td>\n",
       "      <td>1.00</td>\n",
       "      <td>0.00</td>\n",
       "      <td>1</td>\n",
       "      <td>excellent</td>\n",
       "      <td>0.57</td>\n",
       "      <td>0.00</td>\n",
       "      <td>1</td>\n",
       "      <td>medium</td>\n",
       "      <td>0.51</td>\n",
       "      <td>0.00</td>\n",
       "      <td>1</td>\n",
       "      <td>medium</td>\n",
       "      <td>0.79</td>\n",
       "      <td>0.00</td>\n",
       "      <td>1</td>\n",
       "      <td>good</td>\n",
       "    </tr>\n",
       "    <tr>\n",
       "      <th>1_3</th>\n",
       "      <td>0.86</td>\n",
       "      <td>0.00</td>\n",
       "      <td>1</td>\n",
       "      <td>excellent</td>\n",
       "      <td>0.00</td>\n",
       "      <td>0.00</td>\n",
       "      <td>1</td>\n",
       "      <td>worst</td>\n",
       "      <td>0.62</td>\n",
       "      <td>0.00</td>\n",
       "      <td>1</td>\n",
       "      <td>good</td>\n",
       "      <td>0.18</td>\n",
       "      <td>0.00</td>\n",
       "      <td>1</td>\n",
       "      <td>worst</td>\n",
       "      <td>0.85</td>\n",
       "      <td>0.00</td>\n",
       "      <td>1</td>\n",
       "      <td>excellent</td>\n",
       "    </tr>\n",
       "    <tr>\n",
       "      <th>1_4</th>\n",
       "      <td>1.00</td>\n",
       "      <td>0.00</td>\n",
       "      <td>1</td>\n",
       "      <td>excellent</td>\n",
       "      <td>1.00</td>\n",
       "      <td>0.00</td>\n",
       "      <td>1</td>\n",
       "      <td>excellent</td>\n",
       "      <td>1.00</td>\n",
       "      <td>0.00</td>\n",
       "      <td>1</td>\n",
       "      <td>excellent</td>\n",
       "      <td>0.75</td>\n",
       "      <td>0.00</td>\n",
       "      <td>1</td>\n",
       "      <td>good</td>\n",
       "      <td>0.94</td>\n",
       "      <td>0.00</td>\n",
       "      <td>1</td>\n",
       "      <td>excellent</td>\n",
       "    </tr>\n",
       "    <tr>\n",
       "      <th>2_2</th>\n",
       "      <td>0.48</td>\n",
       "      <td>0.27</td>\n",
       "      <td>2</td>\n",
       "      <td>good</td>\n",
       "      <td>0.67</td>\n",
       "      <td>0.24</td>\n",
       "      <td>2</td>\n",
       "      <td>excellent</td>\n",
       "      <td>0.38</td>\n",
       "      <td>0.31</td>\n",
       "      <td>2</td>\n",
       "      <td>medium</td>\n",
       "      <td>0.45</td>\n",
       "      <td>0.06</td>\n",
       "      <td>2</td>\n",
       "      <td>medium</td>\n",
       "      <td>0.59</td>\n",
       "      <td>0.01</td>\n",
       "      <td>2</td>\n",
       "      <td>good</td>\n",
       "    </tr>\n",
       "  </tbody>\n",
       "</table>\n",
       "</div>"
      ],
      "text/plain": [
       "      inD                         outD                        clust        \\\n",
       "     Mean   Std Count      Class  Mean   Std Count      Class  Mean   Std   \n",
       "0_1  0.37  0.23     5     medium  0.30  0.34     5        bad  0.48  0.29   \n",
       "0_2  1.00  0.00     1  excellent  0.67  0.00     1       good  0.58  0.00   \n",
       "1_2  0.87  0.01     2  excellent  0.85  0.21     2  excellent  0.72  0.28   \n",
       "1_0  0.59  0.31    24  excellent  0.56  0.31    24       good  0.48  0.33   \n",
       "2_0  0.61  0.30    16  excellent  0.61  0.34    16       good  0.54  0.37   \n",
       "3_0  0.52  0.36    12       good  0.56  0.33    12       good  0.54  0.30   \n",
       "1_1  0.77  0.28     7  excellent  0.63  0.36     7  excellent  0.49  0.44   \n",
       "2_1  0.63  0.31     9  excellent  0.54  0.28     9       good  0.63  0.39   \n",
       "3_1  0.36  0.32     4        bad  0.41  0.41     4        bad  0.51  0.40   \n",
       "0_3  0.83  0.00     1  excellent  1.00  0.00     1  excellent  0.57  0.00   \n",
       "1_3  0.86  0.00     1  excellent  0.00  0.00     1      worst  0.62  0.00   \n",
       "1_4  1.00  0.00     1  excellent  1.00  0.00     1  excellent  1.00  0.00   \n",
       "2_2  0.48  0.27     2       good  0.67  0.24     2  excellent  0.38  0.31   \n",
       "\n",
       "                      betw                         clos                         \n",
       "    Count      Class  Mean   Std Count      Class  Mean   Std Count      Class  \n",
       "0_1     5     medium  0.30  0.39     5     medium  0.44  0.22     5     medium  \n",
       "0_2     1       good  0.14  0.00     1      worst  1.00  0.00     1  excellent  \n",
       "1_2     2       good  0.47  0.29     2       good  0.91  0.04     2  excellent  \n",
       "1_0    24        bad  0.40  0.30    24       good  0.57  0.30    24       good  \n",
       "2_0    16       good  0.41  0.33    16  excellent  0.68  0.27    16  excellent  \n",
       "3_0    12     medium  0.33  0.35    12       good  0.54  0.33    12       good  \n",
       "1_1     7        bad  0.45  0.39     7  excellent  0.80  0.30     7  excellent  \n",
       "2_1     9       good  0.27  0.33     9     medium  0.57  0.35     9       good  \n",
       "3_1     4        bad  0.18  0.19     4        bad  0.47  0.36     4        bad  \n",
       "0_3     1     medium  0.51  0.00     1     medium  0.79  0.00     1       good  \n",
       "1_3     1       good  0.18  0.00     1      worst  0.85  0.00     1  excellent  \n",
       "1_4     1  excellent  0.75  0.00     1       good  0.94  0.00     1  excellent  \n",
       "2_2     2     medium  0.45  0.06     2     medium  0.59  0.01     2       good  "
      ]
     },
     "execution_count": 191,
     "metadata": {},
     "output_type": "execute_result"
    }
   ],
   "source": [
    "table"
   ]
  },
  {
   "cell_type": "code",
   "execution_count": 192,
   "metadata": {},
   "outputs": [],
   "source": [
    "aux = table.copy()"
   ]
  },
  {
   "cell_type": "code",
   "execution_count": 193,
   "metadata": {},
   "outputs": [],
   "source": [
    "for element in table.columns:\n",
    "    if 'Std' in element or 'Count' in element:\n",
    "        aux.drop(columns=element, inplace=True)"
   ]
  },
  {
   "cell_type": "code",
   "execution_count": 194,
   "metadata": {},
   "outputs": [
    {
     "data": {
      "text/html": [
       "<div>\n",
       "<style scoped>\n",
       "    .dataframe tbody tr th:only-of-type {\n",
       "        vertical-align: middle;\n",
       "    }\n",
       "\n",
       "    .dataframe tbody tr th {\n",
       "        vertical-align: top;\n",
       "    }\n",
       "\n",
       "    .dataframe thead tr th {\n",
       "        text-align: left;\n",
       "    }\n",
       "</style>\n",
       "<table border=\"1\" class=\"dataframe\">\n",
       "  <thead>\n",
       "    <tr>\n",
       "      <th></th>\n",
       "      <th colspan=\"2\" halign=\"left\">inD</th>\n",
       "      <th colspan=\"2\" halign=\"left\">outD</th>\n",
       "      <th colspan=\"2\" halign=\"left\">clust</th>\n",
       "      <th colspan=\"2\" halign=\"left\">betw</th>\n",
       "      <th colspan=\"2\" halign=\"left\">clos</th>\n",
       "    </tr>\n",
       "    <tr>\n",
       "      <th></th>\n",
       "      <th>Mean</th>\n",
       "      <th>Class</th>\n",
       "      <th>Mean</th>\n",
       "      <th>Class</th>\n",
       "      <th>Mean</th>\n",
       "      <th>Class</th>\n",
       "      <th>Mean</th>\n",
       "      <th>Class</th>\n",
       "      <th>Mean</th>\n",
       "      <th>Class</th>\n",
       "    </tr>\n",
       "  </thead>\n",
       "  <tbody>\n",
       "    <tr>\n",
       "      <th>0_1</th>\n",
       "      <td>0.37</td>\n",
       "      <td>medium</td>\n",
       "      <td>0.30</td>\n",
       "      <td>bad</td>\n",
       "      <td>0.48</td>\n",
       "      <td>medium</td>\n",
       "      <td>0.30</td>\n",
       "      <td>medium</td>\n",
       "      <td>0.44</td>\n",
       "      <td>medium</td>\n",
       "    </tr>\n",
       "    <tr>\n",
       "      <th>0_2</th>\n",
       "      <td>1.00</td>\n",
       "      <td>excellent</td>\n",
       "      <td>0.67</td>\n",
       "      <td>good</td>\n",
       "      <td>0.58</td>\n",
       "      <td>good</td>\n",
       "      <td>0.14</td>\n",
       "      <td>worst</td>\n",
       "      <td>1.00</td>\n",
       "      <td>excellent</td>\n",
       "    </tr>\n",
       "    <tr>\n",
       "      <th>1_2</th>\n",
       "      <td>0.87</td>\n",
       "      <td>excellent</td>\n",
       "      <td>0.85</td>\n",
       "      <td>excellent</td>\n",
       "      <td>0.72</td>\n",
       "      <td>good</td>\n",
       "      <td>0.47</td>\n",
       "      <td>good</td>\n",
       "      <td>0.91</td>\n",
       "      <td>excellent</td>\n",
       "    </tr>\n",
       "    <tr>\n",
       "      <th>1_0</th>\n",
       "      <td>0.59</td>\n",
       "      <td>excellent</td>\n",
       "      <td>0.56</td>\n",
       "      <td>good</td>\n",
       "      <td>0.48</td>\n",
       "      <td>bad</td>\n",
       "      <td>0.40</td>\n",
       "      <td>good</td>\n",
       "      <td>0.57</td>\n",
       "      <td>good</td>\n",
       "    </tr>\n",
       "    <tr>\n",
       "      <th>2_0</th>\n",
       "      <td>0.61</td>\n",
       "      <td>excellent</td>\n",
       "      <td>0.61</td>\n",
       "      <td>good</td>\n",
       "      <td>0.54</td>\n",
       "      <td>good</td>\n",
       "      <td>0.41</td>\n",
       "      <td>excellent</td>\n",
       "      <td>0.68</td>\n",
       "      <td>excellent</td>\n",
       "    </tr>\n",
       "    <tr>\n",
       "      <th>3_0</th>\n",
       "      <td>0.52</td>\n",
       "      <td>good</td>\n",
       "      <td>0.56</td>\n",
       "      <td>good</td>\n",
       "      <td>0.54</td>\n",
       "      <td>medium</td>\n",
       "      <td>0.33</td>\n",
       "      <td>good</td>\n",
       "      <td>0.54</td>\n",
       "      <td>good</td>\n",
       "    </tr>\n",
       "    <tr>\n",
       "      <th>1_1</th>\n",
       "      <td>0.77</td>\n",
       "      <td>excellent</td>\n",
       "      <td>0.63</td>\n",
       "      <td>excellent</td>\n",
       "      <td>0.49</td>\n",
       "      <td>bad</td>\n",
       "      <td>0.45</td>\n",
       "      <td>excellent</td>\n",
       "      <td>0.80</td>\n",
       "      <td>excellent</td>\n",
       "    </tr>\n",
       "    <tr>\n",
       "      <th>2_1</th>\n",
       "      <td>0.63</td>\n",
       "      <td>excellent</td>\n",
       "      <td>0.54</td>\n",
       "      <td>good</td>\n",
       "      <td>0.63</td>\n",
       "      <td>good</td>\n",
       "      <td>0.27</td>\n",
       "      <td>medium</td>\n",
       "      <td>0.57</td>\n",
       "      <td>good</td>\n",
       "    </tr>\n",
       "    <tr>\n",
       "      <th>3_1</th>\n",
       "      <td>0.36</td>\n",
       "      <td>bad</td>\n",
       "      <td>0.41</td>\n",
       "      <td>bad</td>\n",
       "      <td>0.51</td>\n",
       "      <td>bad</td>\n",
       "      <td>0.18</td>\n",
       "      <td>bad</td>\n",
       "      <td>0.47</td>\n",
       "      <td>bad</td>\n",
       "    </tr>\n",
       "    <tr>\n",
       "      <th>0_3</th>\n",
       "      <td>0.83</td>\n",
       "      <td>excellent</td>\n",
       "      <td>1.00</td>\n",
       "      <td>excellent</td>\n",
       "      <td>0.57</td>\n",
       "      <td>medium</td>\n",
       "      <td>0.51</td>\n",
       "      <td>medium</td>\n",
       "      <td>0.79</td>\n",
       "      <td>good</td>\n",
       "    </tr>\n",
       "    <tr>\n",
       "      <th>1_3</th>\n",
       "      <td>0.86</td>\n",
       "      <td>excellent</td>\n",
       "      <td>0.00</td>\n",
       "      <td>worst</td>\n",
       "      <td>0.62</td>\n",
       "      <td>good</td>\n",
       "      <td>0.18</td>\n",
       "      <td>worst</td>\n",
       "      <td>0.85</td>\n",
       "      <td>excellent</td>\n",
       "    </tr>\n",
       "    <tr>\n",
       "      <th>1_4</th>\n",
       "      <td>1.00</td>\n",
       "      <td>excellent</td>\n",
       "      <td>1.00</td>\n",
       "      <td>excellent</td>\n",
       "      <td>1.00</td>\n",
       "      <td>excellent</td>\n",
       "      <td>0.75</td>\n",
       "      <td>good</td>\n",
       "      <td>0.94</td>\n",
       "      <td>excellent</td>\n",
       "    </tr>\n",
       "    <tr>\n",
       "      <th>2_2</th>\n",
       "      <td>0.48</td>\n",
       "      <td>good</td>\n",
       "      <td>0.67</td>\n",
       "      <td>excellent</td>\n",
       "      <td>0.38</td>\n",
       "      <td>medium</td>\n",
       "      <td>0.45</td>\n",
       "      <td>medium</td>\n",
       "      <td>0.59</td>\n",
       "      <td>good</td>\n",
       "    </tr>\n",
       "  </tbody>\n",
       "</table>\n",
       "</div>"
      ],
      "text/plain": [
       "      inD             outD            clust             betw             clos  \\\n",
       "     Mean      Class  Mean      Class  Mean      Class  Mean      Class  Mean   \n",
       "0_1  0.37     medium  0.30        bad  0.48     medium  0.30     medium  0.44   \n",
       "0_2  1.00  excellent  0.67       good  0.58       good  0.14      worst  1.00   \n",
       "1_2  0.87  excellent  0.85  excellent  0.72       good  0.47       good  0.91   \n",
       "1_0  0.59  excellent  0.56       good  0.48        bad  0.40       good  0.57   \n",
       "2_0  0.61  excellent  0.61       good  0.54       good  0.41  excellent  0.68   \n",
       "3_0  0.52       good  0.56       good  0.54     medium  0.33       good  0.54   \n",
       "1_1  0.77  excellent  0.63  excellent  0.49        bad  0.45  excellent  0.80   \n",
       "2_1  0.63  excellent  0.54       good  0.63       good  0.27     medium  0.57   \n",
       "3_1  0.36        bad  0.41        bad  0.51        bad  0.18        bad  0.47   \n",
       "0_3  0.83  excellent  1.00  excellent  0.57     medium  0.51     medium  0.79   \n",
       "1_3  0.86  excellent  0.00      worst  0.62       good  0.18      worst  0.85   \n",
       "1_4  1.00  excellent  1.00  excellent  1.00  excellent  0.75       good  0.94   \n",
       "2_2  0.48       good  0.67  excellent  0.38     medium  0.45     medium  0.59   \n",
       "\n",
       "                \n",
       "         Class  \n",
       "0_1     medium  \n",
       "0_2  excellent  \n",
       "1_2  excellent  \n",
       "1_0       good  \n",
       "2_0  excellent  \n",
       "3_0       good  \n",
       "1_1  excellent  \n",
       "2_1       good  \n",
       "3_1        bad  \n",
       "0_3       good  \n",
       "1_3  excellent  \n",
       "1_4  excellent  \n",
       "2_2       good  "
      ]
     },
     "execution_count": 194,
     "metadata": {},
     "output_type": "execute_result"
    }
   ],
   "source": [
    "aux"
   ]
  },
  {
   "cell_type": "code",
   "execution_count": 195,
   "metadata": {},
   "outputs": [
    {
     "data": {
      "text/html": [
       "<div>\n",
       "<style scoped>\n",
       "    .dataframe tbody tr th:only-of-type {\n",
       "        vertical-align: middle;\n",
       "    }\n",
       "\n",
       "    .dataframe tbody tr th {\n",
       "        vertical-align: top;\n",
       "    }\n",
       "\n",
       "    .dataframe thead tr th {\n",
       "        text-align: left;\n",
       "    }\n",
       "</style>\n",
       "<table border=\"1\" class=\"dataframe\">\n",
       "  <thead>\n",
       "    <tr>\n",
       "      <th></th>\n",
       "      <th colspan=\"2\" halign=\"left\">inD</th>\n",
       "      <th colspan=\"2\" halign=\"left\">outD</th>\n",
       "      <th colspan=\"2\" halign=\"left\">clust</th>\n",
       "      <th colspan=\"2\" halign=\"left\">betw</th>\n",
       "      <th colspan=\"2\" halign=\"left\">clos</th>\n",
       "      <th>Count</th>\n",
       "    </tr>\n",
       "    <tr>\n",
       "      <th></th>\n",
       "      <th>Mean</th>\n",
       "      <th>Class</th>\n",
       "      <th>Mean</th>\n",
       "      <th>Class</th>\n",
       "      <th>Mean</th>\n",
       "      <th>Class</th>\n",
       "      <th>Mean</th>\n",
       "      <th>Class</th>\n",
       "      <th>Mean</th>\n",
       "      <th>Class</th>\n",
       "      <th></th>\n",
       "    </tr>\n",
       "  </thead>\n",
       "  <tbody>\n",
       "    <tr>\n",
       "      <th>0_1</th>\n",
       "      <td>0.37</td>\n",
       "      <td>medium</td>\n",
       "      <td>0.30</td>\n",
       "      <td>bad</td>\n",
       "      <td>0.48</td>\n",
       "      <td>medium</td>\n",
       "      <td>0.30</td>\n",
       "      <td>medium</td>\n",
       "      <td>0.44</td>\n",
       "      <td>medium</td>\n",
       "      <td>5</td>\n",
       "    </tr>\n",
       "    <tr>\n",
       "      <th>0_2</th>\n",
       "      <td>1.00</td>\n",
       "      <td>excellent</td>\n",
       "      <td>0.67</td>\n",
       "      <td>good</td>\n",
       "      <td>0.58</td>\n",
       "      <td>good</td>\n",
       "      <td>0.14</td>\n",
       "      <td>worst</td>\n",
       "      <td>1.00</td>\n",
       "      <td>excellent</td>\n",
       "      <td>1</td>\n",
       "    </tr>\n",
       "    <tr>\n",
       "      <th>1_2</th>\n",
       "      <td>0.87</td>\n",
       "      <td>excellent</td>\n",
       "      <td>0.85</td>\n",
       "      <td>excellent</td>\n",
       "      <td>0.72</td>\n",
       "      <td>good</td>\n",
       "      <td>0.47</td>\n",
       "      <td>good</td>\n",
       "      <td>0.91</td>\n",
       "      <td>excellent</td>\n",
       "      <td>2</td>\n",
       "    </tr>\n",
       "    <tr>\n",
       "      <th>1_0</th>\n",
       "      <td>0.59</td>\n",
       "      <td>excellent</td>\n",
       "      <td>0.56</td>\n",
       "      <td>good</td>\n",
       "      <td>0.48</td>\n",
       "      <td>bad</td>\n",
       "      <td>0.40</td>\n",
       "      <td>good</td>\n",
       "      <td>0.57</td>\n",
       "      <td>good</td>\n",
       "      <td>24</td>\n",
       "    </tr>\n",
       "    <tr>\n",
       "      <th>2_0</th>\n",
       "      <td>0.61</td>\n",
       "      <td>excellent</td>\n",
       "      <td>0.61</td>\n",
       "      <td>good</td>\n",
       "      <td>0.54</td>\n",
       "      <td>good</td>\n",
       "      <td>0.41</td>\n",
       "      <td>excellent</td>\n",
       "      <td>0.68</td>\n",
       "      <td>excellent</td>\n",
       "      <td>16</td>\n",
       "    </tr>\n",
       "    <tr>\n",
       "      <th>3_0</th>\n",
       "      <td>0.52</td>\n",
       "      <td>good</td>\n",
       "      <td>0.56</td>\n",
       "      <td>good</td>\n",
       "      <td>0.54</td>\n",
       "      <td>medium</td>\n",
       "      <td>0.33</td>\n",
       "      <td>good</td>\n",
       "      <td>0.54</td>\n",
       "      <td>good</td>\n",
       "      <td>12</td>\n",
       "    </tr>\n",
       "    <tr>\n",
       "      <th>1_1</th>\n",
       "      <td>0.77</td>\n",
       "      <td>excellent</td>\n",
       "      <td>0.63</td>\n",
       "      <td>excellent</td>\n",
       "      <td>0.49</td>\n",
       "      <td>bad</td>\n",
       "      <td>0.45</td>\n",
       "      <td>excellent</td>\n",
       "      <td>0.80</td>\n",
       "      <td>excellent</td>\n",
       "      <td>7</td>\n",
       "    </tr>\n",
       "    <tr>\n",
       "      <th>2_1</th>\n",
       "      <td>0.63</td>\n",
       "      <td>excellent</td>\n",
       "      <td>0.54</td>\n",
       "      <td>good</td>\n",
       "      <td>0.63</td>\n",
       "      <td>good</td>\n",
       "      <td>0.27</td>\n",
       "      <td>medium</td>\n",
       "      <td>0.57</td>\n",
       "      <td>good</td>\n",
       "      <td>9</td>\n",
       "    </tr>\n",
       "    <tr>\n",
       "      <th>3_1</th>\n",
       "      <td>0.36</td>\n",
       "      <td>bad</td>\n",
       "      <td>0.41</td>\n",
       "      <td>bad</td>\n",
       "      <td>0.51</td>\n",
       "      <td>bad</td>\n",
       "      <td>0.18</td>\n",
       "      <td>bad</td>\n",
       "      <td>0.47</td>\n",
       "      <td>bad</td>\n",
       "      <td>4</td>\n",
       "    </tr>\n",
       "    <tr>\n",
       "      <th>0_3</th>\n",
       "      <td>0.83</td>\n",
       "      <td>excellent</td>\n",
       "      <td>1.00</td>\n",
       "      <td>excellent</td>\n",
       "      <td>0.57</td>\n",
       "      <td>medium</td>\n",
       "      <td>0.51</td>\n",
       "      <td>medium</td>\n",
       "      <td>0.79</td>\n",
       "      <td>good</td>\n",
       "      <td>1</td>\n",
       "    </tr>\n",
       "    <tr>\n",
       "      <th>1_3</th>\n",
       "      <td>0.86</td>\n",
       "      <td>excellent</td>\n",
       "      <td>0.00</td>\n",
       "      <td>worst</td>\n",
       "      <td>0.62</td>\n",
       "      <td>good</td>\n",
       "      <td>0.18</td>\n",
       "      <td>worst</td>\n",
       "      <td>0.85</td>\n",
       "      <td>excellent</td>\n",
       "      <td>1</td>\n",
       "    </tr>\n",
       "    <tr>\n",
       "      <th>1_4</th>\n",
       "      <td>1.00</td>\n",
       "      <td>excellent</td>\n",
       "      <td>1.00</td>\n",
       "      <td>excellent</td>\n",
       "      <td>1.00</td>\n",
       "      <td>excellent</td>\n",
       "      <td>0.75</td>\n",
       "      <td>good</td>\n",
       "      <td>0.94</td>\n",
       "      <td>excellent</td>\n",
       "      <td>1</td>\n",
       "    </tr>\n",
       "    <tr>\n",
       "      <th>2_2</th>\n",
       "      <td>0.48</td>\n",
       "      <td>good</td>\n",
       "      <td>0.67</td>\n",
       "      <td>excellent</td>\n",
       "      <td>0.38</td>\n",
       "      <td>medium</td>\n",
       "      <td>0.45</td>\n",
       "      <td>medium</td>\n",
       "      <td>0.59</td>\n",
       "      <td>good</td>\n",
       "      <td>2</td>\n",
       "    </tr>\n",
       "  </tbody>\n",
       "</table>\n",
       "</div>"
      ],
      "text/plain": [
       "      inD             outD            clust             betw             clos  \\\n",
       "     Mean      Class  Mean      Class  Mean      Class  Mean      Class  Mean   \n",
       "0_1  0.37     medium  0.30        bad  0.48     medium  0.30     medium  0.44   \n",
       "0_2  1.00  excellent  0.67       good  0.58       good  0.14      worst  1.00   \n",
       "1_2  0.87  excellent  0.85  excellent  0.72       good  0.47       good  0.91   \n",
       "1_0  0.59  excellent  0.56       good  0.48        bad  0.40       good  0.57   \n",
       "2_0  0.61  excellent  0.61       good  0.54       good  0.41  excellent  0.68   \n",
       "3_0  0.52       good  0.56       good  0.54     medium  0.33       good  0.54   \n",
       "1_1  0.77  excellent  0.63  excellent  0.49        bad  0.45  excellent  0.80   \n",
       "2_1  0.63  excellent  0.54       good  0.63       good  0.27     medium  0.57   \n",
       "3_1  0.36        bad  0.41        bad  0.51        bad  0.18        bad  0.47   \n",
       "0_3  0.83  excellent  1.00  excellent  0.57     medium  0.51     medium  0.79   \n",
       "1_3  0.86  excellent  0.00      worst  0.62       good  0.18      worst  0.85   \n",
       "1_4  1.00  excellent  1.00  excellent  1.00  excellent  0.75       good  0.94   \n",
       "2_2  0.48       good  0.67  excellent  0.38     medium  0.45     medium  0.59   \n",
       "\n",
       "               Count  \n",
       "         Class        \n",
       "0_1     medium     5  \n",
       "0_2  excellent     1  \n",
       "1_2  excellent     2  \n",
       "1_0       good    24  \n",
       "2_0  excellent    16  \n",
       "3_0       good    12  \n",
       "1_1  excellent     7  \n",
       "2_1       good     9  \n",
       "3_1        bad     4  \n",
       "0_3       good     1  \n",
       "1_3  excellent     1  \n",
       "1_4  excellent     1  \n",
       "2_2       good     2  "
      ]
     },
     "execution_count": 195,
     "metadata": {},
     "output_type": "execute_result"
    }
   ],
   "source": [
    "aux[\"Count\"] = table[\"inD\"][\"Count\"]\n",
    "aux"
   ]
  },
  {
   "cell_type": "code",
   "execution_count": 196,
   "metadata": {},
   "outputs": [
    {
     "data": {
      "text/html": [
       "<div>\n",
       "<style scoped>\n",
       "    .dataframe tbody tr th:only-of-type {\n",
       "        vertical-align: middle;\n",
       "    }\n",
       "\n",
       "    .dataframe tbody tr th {\n",
       "        vertical-align: top;\n",
       "    }\n",
       "\n",
       "    .dataframe thead tr th {\n",
       "        text-align: left;\n",
       "    }\n",
       "</style>\n",
       "<table border=\"1\" class=\"dataframe\">\n",
       "  <thead>\n",
       "    <tr>\n",
       "      <th></th>\n",
       "      <th colspan=\"2\" halign=\"left\">inD</th>\n",
       "      <th colspan=\"2\" halign=\"left\">outD</th>\n",
       "      <th colspan=\"2\" halign=\"left\">clust</th>\n",
       "      <th colspan=\"2\" halign=\"left\">betw</th>\n",
       "      <th colspan=\"2\" halign=\"left\">clos</th>\n",
       "      <th>Count</th>\n",
       "    </tr>\n",
       "    <tr>\n",
       "      <th></th>\n",
       "      <th>Mean</th>\n",
       "      <th>Class</th>\n",
       "      <th>Mean</th>\n",
       "      <th>Class</th>\n",
       "      <th>Mean</th>\n",
       "      <th>Class</th>\n",
       "      <th>Mean</th>\n",
       "      <th>Class</th>\n",
       "      <th>Mean</th>\n",
       "      <th>Class</th>\n",
       "      <th></th>\n",
       "    </tr>\n",
       "  </thead>\n",
       "  <tbody>\n",
       "    <tr>\n",
       "      <th>0_1</th>\n",
       "      <td>0.37</td>\n",
       "      <td>medium</td>\n",
       "      <td>0.30</td>\n",
       "      <td>bad</td>\n",
       "      <td>0.48</td>\n",
       "      <td>medium</td>\n",
       "      <td>0.30</td>\n",
       "      <td>medium</td>\n",
       "      <td>0.44</td>\n",
       "      <td>medium</td>\n",
       "      <td>5</td>\n",
       "    </tr>\n",
       "    <tr>\n",
       "      <th>0_2</th>\n",
       "      <td>1.00</td>\n",
       "      <td>excellent</td>\n",
       "      <td>0.67</td>\n",
       "      <td>good</td>\n",
       "      <td>0.58</td>\n",
       "      <td>good</td>\n",
       "      <td>0.14</td>\n",
       "      <td>worst</td>\n",
       "      <td>1.00</td>\n",
       "      <td>excellent</td>\n",
       "      <td>1</td>\n",
       "    </tr>\n",
       "    <tr>\n",
       "      <th>0_3</th>\n",
       "      <td>0.83</td>\n",
       "      <td>excellent</td>\n",
       "      <td>1.00</td>\n",
       "      <td>excellent</td>\n",
       "      <td>0.57</td>\n",
       "      <td>medium</td>\n",
       "      <td>0.51</td>\n",
       "      <td>medium</td>\n",
       "      <td>0.79</td>\n",
       "      <td>good</td>\n",
       "      <td>1</td>\n",
       "    </tr>\n",
       "    <tr>\n",
       "      <th>1_0</th>\n",
       "      <td>0.59</td>\n",
       "      <td>excellent</td>\n",
       "      <td>0.56</td>\n",
       "      <td>good</td>\n",
       "      <td>0.48</td>\n",
       "      <td>bad</td>\n",
       "      <td>0.40</td>\n",
       "      <td>good</td>\n",
       "      <td>0.57</td>\n",
       "      <td>good</td>\n",
       "      <td>24</td>\n",
       "    </tr>\n",
       "    <tr>\n",
       "      <th>1_1</th>\n",
       "      <td>0.77</td>\n",
       "      <td>excellent</td>\n",
       "      <td>0.63</td>\n",
       "      <td>excellent</td>\n",
       "      <td>0.49</td>\n",
       "      <td>bad</td>\n",
       "      <td>0.45</td>\n",
       "      <td>excellent</td>\n",
       "      <td>0.80</td>\n",
       "      <td>excellent</td>\n",
       "      <td>7</td>\n",
       "    </tr>\n",
       "    <tr>\n",
       "      <th>1_2</th>\n",
       "      <td>0.87</td>\n",
       "      <td>excellent</td>\n",
       "      <td>0.85</td>\n",
       "      <td>excellent</td>\n",
       "      <td>0.72</td>\n",
       "      <td>good</td>\n",
       "      <td>0.47</td>\n",
       "      <td>good</td>\n",
       "      <td>0.91</td>\n",
       "      <td>excellent</td>\n",
       "      <td>2</td>\n",
       "    </tr>\n",
       "    <tr>\n",
       "      <th>1_3</th>\n",
       "      <td>0.86</td>\n",
       "      <td>excellent</td>\n",
       "      <td>0.00</td>\n",
       "      <td>worst</td>\n",
       "      <td>0.62</td>\n",
       "      <td>good</td>\n",
       "      <td>0.18</td>\n",
       "      <td>worst</td>\n",
       "      <td>0.85</td>\n",
       "      <td>excellent</td>\n",
       "      <td>1</td>\n",
       "    </tr>\n",
       "    <tr>\n",
       "      <th>1_4</th>\n",
       "      <td>1.00</td>\n",
       "      <td>excellent</td>\n",
       "      <td>1.00</td>\n",
       "      <td>excellent</td>\n",
       "      <td>1.00</td>\n",
       "      <td>excellent</td>\n",
       "      <td>0.75</td>\n",
       "      <td>good</td>\n",
       "      <td>0.94</td>\n",
       "      <td>excellent</td>\n",
       "      <td>1</td>\n",
       "    </tr>\n",
       "    <tr>\n",
       "      <th>2_0</th>\n",
       "      <td>0.61</td>\n",
       "      <td>excellent</td>\n",
       "      <td>0.61</td>\n",
       "      <td>good</td>\n",
       "      <td>0.54</td>\n",
       "      <td>good</td>\n",
       "      <td>0.41</td>\n",
       "      <td>excellent</td>\n",
       "      <td>0.68</td>\n",
       "      <td>excellent</td>\n",
       "      <td>16</td>\n",
       "    </tr>\n",
       "    <tr>\n",
       "      <th>2_1</th>\n",
       "      <td>0.63</td>\n",
       "      <td>excellent</td>\n",
       "      <td>0.54</td>\n",
       "      <td>good</td>\n",
       "      <td>0.63</td>\n",
       "      <td>good</td>\n",
       "      <td>0.27</td>\n",
       "      <td>medium</td>\n",
       "      <td>0.57</td>\n",
       "      <td>good</td>\n",
       "      <td>9</td>\n",
       "    </tr>\n",
       "    <tr>\n",
       "      <th>2_2</th>\n",
       "      <td>0.48</td>\n",
       "      <td>good</td>\n",
       "      <td>0.67</td>\n",
       "      <td>excellent</td>\n",
       "      <td>0.38</td>\n",
       "      <td>medium</td>\n",
       "      <td>0.45</td>\n",
       "      <td>medium</td>\n",
       "      <td>0.59</td>\n",
       "      <td>good</td>\n",
       "      <td>2</td>\n",
       "    </tr>\n",
       "    <tr>\n",
       "      <th>3_0</th>\n",
       "      <td>0.52</td>\n",
       "      <td>good</td>\n",
       "      <td>0.56</td>\n",
       "      <td>good</td>\n",
       "      <td>0.54</td>\n",
       "      <td>medium</td>\n",
       "      <td>0.33</td>\n",
       "      <td>good</td>\n",
       "      <td>0.54</td>\n",
       "      <td>good</td>\n",
       "      <td>12</td>\n",
       "    </tr>\n",
       "    <tr>\n",
       "      <th>3_1</th>\n",
       "      <td>0.36</td>\n",
       "      <td>bad</td>\n",
       "      <td>0.41</td>\n",
       "      <td>bad</td>\n",
       "      <td>0.51</td>\n",
       "      <td>bad</td>\n",
       "      <td>0.18</td>\n",
       "      <td>bad</td>\n",
       "      <td>0.47</td>\n",
       "      <td>bad</td>\n",
       "      <td>4</td>\n",
       "    </tr>\n",
       "  </tbody>\n",
       "</table>\n",
       "</div>"
      ],
      "text/plain": [
       "      inD             outD            clust             betw             clos  \\\n",
       "     Mean      Class  Mean      Class  Mean      Class  Mean      Class  Mean   \n",
       "0_1  0.37     medium  0.30        bad  0.48     medium  0.30     medium  0.44   \n",
       "0_2  1.00  excellent  0.67       good  0.58       good  0.14      worst  1.00   \n",
       "0_3  0.83  excellent  1.00  excellent  0.57     medium  0.51     medium  0.79   \n",
       "1_0  0.59  excellent  0.56       good  0.48        bad  0.40       good  0.57   \n",
       "1_1  0.77  excellent  0.63  excellent  0.49        bad  0.45  excellent  0.80   \n",
       "1_2  0.87  excellent  0.85  excellent  0.72       good  0.47       good  0.91   \n",
       "1_3  0.86  excellent  0.00      worst  0.62       good  0.18      worst  0.85   \n",
       "1_4  1.00  excellent  1.00  excellent  1.00  excellent  0.75       good  0.94   \n",
       "2_0  0.61  excellent  0.61       good  0.54       good  0.41  excellent  0.68   \n",
       "2_1  0.63  excellent  0.54       good  0.63       good  0.27     medium  0.57   \n",
       "2_2  0.48       good  0.67  excellent  0.38     medium  0.45     medium  0.59   \n",
       "3_0  0.52       good  0.56       good  0.54     medium  0.33       good  0.54   \n",
       "3_1  0.36        bad  0.41        bad  0.51        bad  0.18        bad  0.47   \n",
       "\n",
       "               Count  \n",
       "         Class        \n",
       "0_1     medium     5  \n",
       "0_2  excellent     1  \n",
       "0_3       good     1  \n",
       "1_0       good    24  \n",
       "1_1  excellent     7  \n",
       "1_2  excellent     2  \n",
       "1_3  excellent     1  \n",
       "1_4  excellent     1  \n",
       "2_0  excellent    16  \n",
       "2_1       good     9  \n",
       "2_2       good     2  \n",
       "3_0       good    12  \n",
       "3_1        bad     4  "
      ]
     },
     "execution_count": 196,
     "metadata": {},
     "output_type": "execute_result"
    }
   ],
   "source": [
    "aux.sort_index()"
   ]
  },
  {
   "cell_type": "code",
   "execution_count": 197,
   "metadata": {},
   "outputs": [
    {
     "name": "stdout",
     "output_type": "stream",
     "text": [
      "      inD             outD            clust           \n",
      "     Mean      Class  Mean      Class  Mean      Class\n",
      "0_1  0.37     medium  0.30        bad  0.48     medium\n",
      "0_2  1.00  excellent  0.67       good  0.58       good\n",
      "1_2  0.87  excellent  0.85  excellent  0.72       good\n",
      "1_0  0.59  excellent  0.56       good  0.48        bad\n",
      "2_0  0.61  excellent  0.61       good  0.54       good\n",
      "3_0  0.52       good  0.56       good  0.54     medium\n",
      "1_1  0.77  excellent  0.63  excellent  0.49        bad\n",
      "2_1  0.63  excellent  0.54       good  0.63       good\n",
      "3_1  0.36        bad  0.41        bad  0.51        bad\n",
      "0_3  0.83  excellent  1.00  excellent  0.57     medium\n",
      "1_3  0.86  excellent  0.00      worst  0.62       good\n",
      "1_4  1.00  excellent  1.00  excellent  1.00  excellent\n",
      "2_2  0.48       good  0.67  excellent  0.38     medium\n"
     ]
    }
   ],
   "source": [
    "columns_to_extract = [('inD', 'Mean'), ('inD', 'Class'), ('outD', 'Mean'), ('outD', 'Class'),('clust', 'Mean'), ('clust', 'Class')]\n",
    "\n",
    "# Extract the specified columns\n",
    "extracted_df = aux[columns_to_extract]\n",
    "\n",
    "# Display the extracted DataFrame\n",
    "print(extracted_df)"
   ]
  },
  {
   "cell_type": "code",
   "execution_count": 198,
   "metadata": {},
   "outputs": [],
   "source": [
    "categories = [\"worst\", \"bad\", \"medium\", \"good\", \"excellent\"]\n",
    "catValues = dict(zip(categories,range(len(categories))))"
   ]
  },
  {
   "cell_type": "code",
   "execution_count": 199,
   "metadata": {},
   "outputs": [],
   "source": [
    "def transformClassColumns(dataframe, catValues):\n",
    "    # Replace 0 with \"worst\"\n",
    "    transformedDf = dataframe.replace(0, \"worst\")\n",
    "    \n",
    "    # Extract the 'Class' columns\n",
    "    classColumns = transformedDf.xs('Class', level=1, axis=1)\n",
    "    \n",
    "    # Map class columns to their corresponding numeric values\n",
    "    mappedClassColumns = classColumns.map(lambda x: catValues.get(x, x))\n",
    "    \n",
    "    return mappedClassColumns"
   ]
  },
  {
   "cell_type": "code",
   "execution_count": 200,
   "metadata": {},
   "outputs": [],
   "source": [
    "def createPolarPlot(df):\n",
    "    fig = go.Figure()\n",
    "\n",
    "    for i in range(len(df)):\n",
    "        fig.add_trace(\n",
    "            go.Scatterpolar(\n",
    "                r=df.iloc[i],\n",
    "                theta=df.columns,\n",
    "                fill='toself',\n",
    "                opacity=0.5,\n",
    "                name=f\"Score-{df.index[i]}\",  # Use player's name if available\n",
    "                showlegend=True\n",
    "            )\n",
    "        )\n",
    "\n",
    "    fig.update_layout(\n",
    "        font_size=13,\n",
    "        legend=dict(\n",
    "            yanchor=\"top\",\n",
    "            y=1.0,\n",
    "            xanchor=\"left\",\n",
    "            x=0.8\n",
    "        ),\n",
    "        polar=dict(\n",
    "            radialaxis=dict(\n",
    "                angle=45,\n",
    "                tickangle=45,\n",
    "                visible=True,\n",
    "                gridwidth=2,\n",
    "                range=[0, max(df.max(numeric_only=True))],  # Adjust range based on data\n",
    "                tickvals=list(range(len(categories))),\n",
    "                ticktext=categories,\n",
    "                tickwidth=10\n",
    "            )\n",
    "        ),\n",
    "        title= f\"5506 Player Variables\",\n",
    "        height=600,\n",
    "        width=1000\n",
    "    )\n",
    "\n",
    "    fig.show()"
   ]
  },
  {
   "cell_type": "code",
   "execution_count": 201,
   "metadata": {},
   "outputs": [
    {
     "data": {
      "application/vnd.plotly.v1+json": {
       "config": {
        "plotlyServerURL": "https://plot.ly"
       },
       "data": [
        {
         "fill": "toself",
         "name": "Score-0_1",
         "opacity": 0.5,
         "r": [
          2,
          1,
          2,
          2,
          2
         ],
         "showlegend": true,
         "theta": [
          "inD",
          "outD",
          "clust",
          "betw",
          "clos"
         ],
         "type": "scatterpolar"
        },
        {
         "fill": "toself",
         "name": "Score-0_2",
         "opacity": 0.5,
         "r": [
          4,
          3,
          3,
          0,
          4
         ],
         "showlegend": true,
         "theta": [
          "inD",
          "outD",
          "clust",
          "betw",
          "clos"
         ],
         "type": "scatterpolar"
        },
        {
         "fill": "toself",
         "name": "Score-0_3",
         "opacity": 0.5,
         "r": [
          4,
          4,
          2,
          2,
          3
         ],
         "showlegend": true,
         "theta": [
          "inD",
          "outD",
          "clust",
          "betw",
          "clos"
         ],
         "type": "scatterpolar"
        },
        {
         "fill": "toself",
         "name": "Score-1_0",
         "opacity": 0.5,
         "r": [
          4,
          3,
          1,
          3,
          3
         ],
         "showlegend": true,
         "theta": [
          "inD",
          "outD",
          "clust",
          "betw",
          "clos"
         ],
         "type": "scatterpolar"
        },
        {
         "fill": "toself",
         "name": "Score-1_1",
         "opacity": 0.5,
         "r": [
          4,
          4,
          1,
          4,
          4
         ],
         "showlegend": true,
         "theta": [
          "inD",
          "outD",
          "clust",
          "betw",
          "clos"
         ],
         "type": "scatterpolar"
        },
        {
         "fill": "toself",
         "name": "Score-1_2",
         "opacity": 0.5,
         "r": [
          4,
          4,
          3,
          3,
          4
         ],
         "showlegend": true,
         "theta": [
          "inD",
          "outD",
          "clust",
          "betw",
          "clos"
         ],
         "type": "scatterpolar"
        },
        {
         "fill": "toself",
         "name": "Score-1_3",
         "opacity": 0.5,
         "r": [
          4,
          0,
          3,
          0,
          4
         ],
         "showlegend": true,
         "theta": [
          "inD",
          "outD",
          "clust",
          "betw",
          "clos"
         ],
         "type": "scatterpolar"
        },
        {
         "fill": "toself",
         "name": "Score-2_0",
         "opacity": 0.5,
         "r": [
          4,
          3,
          3,
          4,
          4
         ],
         "showlegend": true,
         "theta": [
          "inD",
          "outD",
          "clust",
          "betw",
          "clos"
         ],
         "type": "scatterpolar"
        },
        {
         "fill": "toself",
         "name": "Score-2_1",
         "opacity": 0.5,
         "r": [
          4,
          3,
          3,
          2,
          3
         ],
         "showlegend": true,
         "theta": [
          "inD",
          "outD",
          "clust",
          "betw",
          "clos"
         ],
         "type": "scatterpolar"
        },
        {
         "fill": "toself",
         "name": "Score-2_2",
         "opacity": 0.5,
         "r": [
          3,
          4,
          2,
          2,
          3
         ],
         "showlegend": true,
         "theta": [
          "inD",
          "outD",
          "clust",
          "betw",
          "clos"
         ],
         "type": "scatterpolar"
        },
        {
         "fill": "toself",
         "name": "Score-3_0",
         "opacity": 0.5,
         "r": [
          3,
          3,
          2,
          3,
          3
         ],
         "showlegend": true,
         "theta": [
          "inD",
          "outD",
          "clust",
          "betw",
          "clos"
         ],
         "type": "scatterpolar"
        },
        {
         "fill": "toself",
         "name": "Score-3_1",
         "opacity": 0.5,
         "r": [
          1,
          1,
          1,
          1,
          1
         ],
         "showlegend": true,
         "theta": [
          "inD",
          "outD",
          "clust",
          "betw",
          "clos"
         ],
         "type": "scatterpolar"
        }
       ],
       "layout": {
        "font": {
         "size": 13
        },
        "height": 600,
        "legend": {
         "x": 0.8,
         "xanchor": "left",
         "y": 1,
         "yanchor": "top"
        },
        "polar": {
         "radialaxis": {
          "angle": 45,
          "gridwidth": 2,
          "range": [
           0,
           4
          ],
          "tickangle": 45,
          "ticktext": [
           "worst",
           "bad",
           "medium",
           "good",
           "excellent"
          ],
          "tickvals": [
           0,
           1,
           2,
           3,
           4
          ],
          "tickwidth": 10,
          "visible": true
         }
        },
        "template": {
         "data": {
          "bar": [
           {
            "error_x": {
             "color": "#2a3f5f"
            },
            "error_y": {
             "color": "#2a3f5f"
            },
            "marker": {
             "line": {
              "color": "#E5ECF6",
              "width": 0.5
             },
             "pattern": {
              "fillmode": "overlay",
              "size": 10,
              "solidity": 0.2
             }
            },
            "type": "bar"
           }
          ],
          "barpolar": [
           {
            "marker": {
             "line": {
              "color": "#E5ECF6",
              "width": 0.5
             },
             "pattern": {
              "fillmode": "overlay",
              "size": 10,
              "solidity": 0.2
             }
            },
            "type": "barpolar"
           }
          ],
          "carpet": [
           {
            "aaxis": {
             "endlinecolor": "#2a3f5f",
             "gridcolor": "white",
             "linecolor": "white",
             "minorgridcolor": "white",
             "startlinecolor": "#2a3f5f"
            },
            "baxis": {
             "endlinecolor": "#2a3f5f",
             "gridcolor": "white",
             "linecolor": "white",
             "minorgridcolor": "white",
             "startlinecolor": "#2a3f5f"
            },
            "type": "carpet"
           }
          ],
          "choropleth": [
           {
            "colorbar": {
             "outlinewidth": 0,
             "ticks": ""
            },
            "type": "choropleth"
           }
          ],
          "contour": [
           {
            "colorbar": {
             "outlinewidth": 0,
             "ticks": ""
            },
            "colorscale": [
             [
              0,
              "#0d0887"
             ],
             [
              0.1111111111111111,
              "#46039f"
             ],
             [
              0.2222222222222222,
              "#7201a8"
             ],
             [
              0.3333333333333333,
              "#9c179e"
             ],
             [
              0.4444444444444444,
              "#bd3786"
             ],
             [
              0.5555555555555556,
              "#d8576b"
             ],
             [
              0.6666666666666666,
              "#ed7953"
             ],
             [
              0.7777777777777778,
              "#fb9f3a"
             ],
             [
              0.8888888888888888,
              "#fdca26"
             ],
             [
              1,
              "#f0f921"
             ]
            ],
            "type": "contour"
           }
          ],
          "contourcarpet": [
           {
            "colorbar": {
             "outlinewidth": 0,
             "ticks": ""
            },
            "type": "contourcarpet"
           }
          ],
          "heatmap": [
           {
            "colorbar": {
             "outlinewidth": 0,
             "ticks": ""
            },
            "colorscale": [
             [
              0,
              "#0d0887"
             ],
             [
              0.1111111111111111,
              "#46039f"
             ],
             [
              0.2222222222222222,
              "#7201a8"
             ],
             [
              0.3333333333333333,
              "#9c179e"
             ],
             [
              0.4444444444444444,
              "#bd3786"
             ],
             [
              0.5555555555555556,
              "#d8576b"
             ],
             [
              0.6666666666666666,
              "#ed7953"
             ],
             [
              0.7777777777777778,
              "#fb9f3a"
             ],
             [
              0.8888888888888888,
              "#fdca26"
             ],
             [
              1,
              "#f0f921"
             ]
            ],
            "type": "heatmap"
           }
          ],
          "heatmapgl": [
           {
            "colorbar": {
             "outlinewidth": 0,
             "ticks": ""
            },
            "colorscale": [
             [
              0,
              "#0d0887"
             ],
             [
              0.1111111111111111,
              "#46039f"
             ],
             [
              0.2222222222222222,
              "#7201a8"
             ],
             [
              0.3333333333333333,
              "#9c179e"
             ],
             [
              0.4444444444444444,
              "#bd3786"
             ],
             [
              0.5555555555555556,
              "#d8576b"
             ],
             [
              0.6666666666666666,
              "#ed7953"
             ],
             [
              0.7777777777777778,
              "#fb9f3a"
             ],
             [
              0.8888888888888888,
              "#fdca26"
             ],
             [
              1,
              "#f0f921"
             ]
            ],
            "type": "heatmapgl"
           }
          ],
          "histogram": [
           {
            "marker": {
             "pattern": {
              "fillmode": "overlay",
              "size": 10,
              "solidity": 0.2
             }
            },
            "type": "histogram"
           }
          ],
          "histogram2d": [
           {
            "colorbar": {
             "outlinewidth": 0,
             "ticks": ""
            },
            "colorscale": [
             [
              0,
              "#0d0887"
             ],
             [
              0.1111111111111111,
              "#46039f"
             ],
             [
              0.2222222222222222,
              "#7201a8"
             ],
             [
              0.3333333333333333,
              "#9c179e"
             ],
             [
              0.4444444444444444,
              "#bd3786"
             ],
             [
              0.5555555555555556,
              "#d8576b"
             ],
             [
              0.6666666666666666,
              "#ed7953"
             ],
             [
              0.7777777777777778,
              "#fb9f3a"
             ],
             [
              0.8888888888888888,
              "#fdca26"
             ],
             [
              1,
              "#f0f921"
             ]
            ],
            "type": "histogram2d"
           }
          ],
          "histogram2dcontour": [
           {
            "colorbar": {
             "outlinewidth": 0,
             "ticks": ""
            },
            "colorscale": [
             [
              0,
              "#0d0887"
             ],
             [
              0.1111111111111111,
              "#46039f"
             ],
             [
              0.2222222222222222,
              "#7201a8"
             ],
             [
              0.3333333333333333,
              "#9c179e"
             ],
             [
              0.4444444444444444,
              "#bd3786"
             ],
             [
              0.5555555555555556,
              "#d8576b"
             ],
             [
              0.6666666666666666,
              "#ed7953"
             ],
             [
              0.7777777777777778,
              "#fb9f3a"
             ],
             [
              0.8888888888888888,
              "#fdca26"
             ],
             [
              1,
              "#f0f921"
             ]
            ],
            "type": "histogram2dcontour"
           }
          ],
          "mesh3d": [
           {
            "colorbar": {
             "outlinewidth": 0,
             "ticks": ""
            },
            "type": "mesh3d"
           }
          ],
          "parcoords": [
           {
            "line": {
             "colorbar": {
              "outlinewidth": 0,
              "ticks": ""
             }
            },
            "type": "parcoords"
           }
          ],
          "pie": [
           {
            "automargin": true,
            "type": "pie"
           }
          ],
          "scatter": [
           {
            "fillpattern": {
             "fillmode": "overlay",
             "size": 10,
             "solidity": 0.2
            },
            "type": "scatter"
           }
          ],
          "scatter3d": [
           {
            "line": {
             "colorbar": {
              "outlinewidth": 0,
              "ticks": ""
             }
            },
            "marker": {
             "colorbar": {
              "outlinewidth": 0,
              "ticks": ""
             }
            },
            "type": "scatter3d"
           }
          ],
          "scattercarpet": [
           {
            "marker": {
             "colorbar": {
              "outlinewidth": 0,
              "ticks": ""
             }
            },
            "type": "scattercarpet"
           }
          ],
          "scattergeo": [
           {
            "marker": {
             "colorbar": {
              "outlinewidth": 0,
              "ticks": ""
             }
            },
            "type": "scattergeo"
           }
          ],
          "scattergl": [
           {
            "marker": {
             "colorbar": {
              "outlinewidth": 0,
              "ticks": ""
             }
            },
            "type": "scattergl"
           }
          ],
          "scattermapbox": [
           {
            "marker": {
             "colorbar": {
              "outlinewidth": 0,
              "ticks": ""
             }
            },
            "type": "scattermapbox"
           }
          ],
          "scatterpolar": [
           {
            "marker": {
             "colorbar": {
              "outlinewidth": 0,
              "ticks": ""
             }
            },
            "type": "scatterpolar"
           }
          ],
          "scatterpolargl": [
           {
            "marker": {
             "colorbar": {
              "outlinewidth": 0,
              "ticks": ""
             }
            },
            "type": "scatterpolargl"
           }
          ],
          "scatterternary": [
           {
            "marker": {
             "colorbar": {
              "outlinewidth": 0,
              "ticks": ""
             }
            },
            "type": "scatterternary"
           }
          ],
          "surface": [
           {
            "colorbar": {
             "outlinewidth": 0,
             "ticks": ""
            },
            "colorscale": [
             [
              0,
              "#0d0887"
             ],
             [
              0.1111111111111111,
              "#46039f"
             ],
             [
              0.2222222222222222,
              "#7201a8"
             ],
             [
              0.3333333333333333,
              "#9c179e"
             ],
             [
              0.4444444444444444,
              "#bd3786"
             ],
             [
              0.5555555555555556,
              "#d8576b"
             ],
             [
              0.6666666666666666,
              "#ed7953"
             ],
             [
              0.7777777777777778,
              "#fb9f3a"
             ],
             [
              0.8888888888888888,
              "#fdca26"
             ],
             [
              1,
              "#f0f921"
             ]
            ],
            "type": "surface"
           }
          ],
          "table": [
           {
            "cells": {
             "fill": {
              "color": "#EBF0F8"
             },
             "line": {
              "color": "white"
             }
            },
            "header": {
             "fill": {
              "color": "#C8D4E3"
             },
             "line": {
              "color": "white"
             }
            },
            "type": "table"
           }
          ]
         },
         "layout": {
          "annotationdefaults": {
           "arrowcolor": "#2a3f5f",
           "arrowhead": 0,
           "arrowwidth": 1
          },
          "autotypenumbers": "strict",
          "coloraxis": {
           "colorbar": {
            "outlinewidth": 0,
            "ticks": ""
           }
          },
          "colorscale": {
           "diverging": [
            [
             0,
             "#8e0152"
            ],
            [
             0.1,
             "#c51b7d"
            ],
            [
             0.2,
             "#de77ae"
            ],
            [
             0.3,
             "#f1b6da"
            ],
            [
             0.4,
             "#fde0ef"
            ],
            [
             0.5,
             "#f7f7f7"
            ],
            [
             0.6,
             "#e6f5d0"
            ],
            [
             0.7,
             "#b8e186"
            ],
            [
             0.8,
             "#7fbc41"
            ],
            [
             0.9,
             "#4d9221"
            ],
            [
             1,
             "#276419"
            ]
           ],
           "sequential": [
            [
             0,
             "#0d0887"
            ],
            [
             0.1111111111111111,
             "#46039f"
            ],
            [
             0.2222222222222222,
             "#7201a8"
            ],
            [
             0.3333333333333333,
             "#9c179e"
            ],
            [
             0.4444444444444444,
             "#bd3786"
            ],
            [
             0.5555555555555556,
             "#d8576b"
            ],
            [
             0.6666666666666666,
             "#ed7953"
            ],
            [
             0.7777777777777778,
             "#fb9f3a"
            ],
            [
             0.8888888888888888,
             "#fdca26"
            ],
            [
             1,
             "#f0f921"
            ]
           ],
           "sequentialminus": [
            [
             0,
             "#0d0887"
            ],
            [
             0.1111111111111111,
             "#46039f"
            ],
            [
             0.2222222222222222,
             "#7201a8"
            ],
            [
             0.3333333333333333,
             "#9c179e"
            ],
            [
             0.4444444444444444,
             "#bd3786"
            ],
            [
             0.5555555555555556,
             "#d8576b"
            ],
            [
             0.6666666666666666,
             "#ed7953"
            ],
            [
             0.7777777777777778,
             "#fb9f3a"
            ],
            [
             0.8888888888888888,
             "#fdca26"
            ],
            [
             1,
             "#f0f921"
            ]
           ]
          },
          "colorway": [
           "#636efa",
           "#EF553B",
           "#00cc96",
           "#ab63fa",
           "#FFA15A",
           "#19d3f3",
           "#FF6692",
           "#B6E880",
           "#FF97FF",
           "#FECB52"
          ],
          "font": {
           "color": "#2a3f5f"
          },
          "geo": {
           "bgcolor": "white",
           "lakecolor": "white",
           "landcolor": "#E5ECF6",
           "showlakes": true,
           "showland": true,
           "subunitcolor": "white"
          },
          "hoverlabel": {
           "align": "left"
          },
          "hovermode": "closest",
          "mapbox": {
           "style": "light"
          },
          "paper_bgcolor": "white",
          "plot_bgcolor": "#E5ECF6",
          "polar": {
           "angularaxis": {
            "gridcolor": "white",
            "linecolor": "white",
            "ticks": ""
           },
           "bgcolor": "#E5ECF6",
           "radialaxis": {
            "gridcolor": "white",
            "linecolor": "white",
            "ticks": ""
           }
          },
          "scene": {
           "xaxis": {
            "backgroundcolor": "#E5ECF6",
            "gridcolor": "white",
            "gridwidth": 2,
            "linecolor": "white",
            "showbackground": true,
            "ticks": "",
            "zerolinecolor": "white"
           },
           "yaxis": {
            "backgroundcolor": "#E5ECF6",
            "gridcolor": "white",
            "gridwidth": 2,
            "linecolor": "white",
            "showbackground": true,
            "ticks": "",
            "zerolinecolor": "white"
           },
           "zaxis": {
            "backgroundcolor": "#E5ECF6",
            "gridcolor": "white",
            "gridwidth": 2,
            "linecolor": "white",
            "showbackground": true,
            "ticks": "",
            "zerolinecolor": "white"
           }
          },
          "shapedefaults": {
           "line": {
            "color": "#2a3f5f"
           }
          },
          "ternary": {
           "aaxis": {
            "gridcolor": "white",
            "linecolor": "white",
            "ticks": ""
           },
           "baxis": {
            "gridcolor": "white",
            "linecolor": "white",
            "ticks": ""
           },
           "bgcolor": "#E5ECF6",
           "caxis": {
            "gridcolor": "white",
            "linecolor": "white",
            "ticks": ""
           }
          },
          "title": {
           "x": 0.05
          },
          "xaxis": {
           "automargin": true,
           "gridcolor": "white",
           "linecolor": "white",
           "ticks": "",
           "title": {
            "standoff": 15
           },
           "zerolinecolor": "white",
           "zerolinewidth": 2
          },
          "yaxis": {
           "automargin": true,
           "gridcolor": "white",
           "linecolor": "white",
           "ticks": "",
           "title": {
            "standoff": 15
           },
           "zerolinecolor": "white",
           "zerolinewidth": 2
          }
         }
        },
        "title": {
         "text": "5503 Player Variables"
        },
        "width": 1000
       }
      }
     },
     "metadata": {},
     "output_type": "display_data"
    }
   ],
   "source": [
    "aux2 = transformClassColumns(aux, catValues)\n",
    "aux2 = aux2.drop(\"1_4\")\n",
    "createPolarPlot(aux2.sort_index())"
   ]
  }
 ],
 "metadata": {
  "kernelspec": {
   "display_name": "Python 3",
   "language": "python",
   "name": "python3"
  },
  "language_info": {
   "codemirror_mode": {
    "name": "ipython",
    "version": 3
   },
   "file_extension": ".py",
   "mimetype": "text/x-python",
   "name": "python",
   "nbconvert_exporter": "python",
   "pygments_lexer": "ipython3",
   "version": "3.12.0"
  }
 },
 "nbformat": 4,
 "nbformat_minor": 2
}
