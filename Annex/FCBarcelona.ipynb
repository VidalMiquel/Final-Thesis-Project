{
 "cells": [
  {
   "cell_type": "code",
   "execution_count": 57,
   "metadata": {},
   "outputs": [],
   "source": [
    "import pickle\n",
    "import pandas as pd\n",
    "import numpy as np"
   ]
  },
  {
   "cell_type": "markdown",
   "metadata": {},
   "source": [
    "FCBarcelona study"
   ]
  },
  {
   "cell_type": "code",
   "execution_count": 58,
   "metadata": {},
   "outputs": [],
   "source": [
    "individualMetricsBarcelonaPath = \"../Data/Team_1/05Stage/Metrics/Raw/Individual/IndividualnetworkMetrics.pkl\"\n",
    "globalMetricsBarcelonaPath = \"../Data/Team_1/05Stage/Metrics/Raw/Global/GlobalnetworkMetrics.pkl\"\n",
    "metadataBarcelonaPath = \"../Data/Team_1/03Stage/finalMetadataBarcelona.csv\"\n",
    "playersBarcelonaPath =  \"../Data/Team_1/04Stage/playersList.pkl\"    "
   ]
  },
  {
   "cell_type": "code",
   "execution_count": 59,
   "metadata": {},
   "outputs": [],
   "source": [
    "def readCSV(filePath):\n",
    "    try:\n",
    "        df = pd.read_csv(filePath)\n",
    "        return df\n",
    "    except FileNotFoundError:\n",
    "        print(f\"No s'ha trobat el fitxer: {filePath}\")\n",
    "    except pd.errors.EmptyDataError:\n",
    "        print(f\"El fitxer està buit: {filePath}\")\n",
    "    except pd.errors.ParserError:\n",
    "        print(f\"Error de parseig al fitxer: {filePath}\")\n",
    "    except Exception as e:\n",
    "        print(f\"Ha ocorregut un error: {e}\")"
   ]
  },
  {
   "cell_type": "code",
   "execution_count": 60,
   "metadata": {},
   "outputs": [],
   "source": [
    "def loadPickleFile(file):\n",
    "    try:\n",
    "        with open(file, \"rb\") as f:\n",
    "            deserializedFile = pickle.load(f)\n",
    "        return deserializedFile\n",
    "    except FileNotFoundError:\n",
    "        print(f\"File  not found.\")"
   ]
  },
  {
   "cell_type": "markdown",
   "metadata": {},
   "source": [
    "Get rawed dict"
   ]
  },
  {
   "cell_type": "code",
   "execution_count": 61,
   "metadata": {},
   "outputs": [],
   "source": [
    "file = loadPickleFile(individualMetricsBarcelonaPath)"
   ]
  },
  {
   "cell_type": "markdown",
   "metadata": {},
   "source": [
    "Get filtered dict by players"
   ]
  },
  {
   "cell_type": "code",
   "execution_count": 62,
   "metadata": {},
   "outputs": [],
   "source": [
    "def getCount(df):\n",
    "    counts = df.notna().sum(axis=1)\n",
    "    return counts"
   ]
  },
  {
   "cell_type": "code",
   "execution_count": 63,
   "metadata": {},
   "outputs": [],
   "source": [
    "def dfCounts(counts):\n",
    "    countDf = pd.DataFrame(counts, columns=['count'])\n",
    "    return countDf"
   ]
  },
  {
   "cell_type": "code",
   "execution_count": 64,
   "metadata": {},
   "outputs": [],
   "source": [
    "def filterDf(df):\n",
    "    maxCount = df['count'].max()\n",
    "\n",
    "    # Calculate the threshold (1/5 of the maximum count)\n",
    "    threshold = maxCount / 4\n",
    "\n",
    "    # Filter the DataFrame to include only rows where the count is at least the threshold\n",
    "    filteredDf = df[df['count'] >= threshold]\n",
    "    return filteredDf"
   ]
  },
  {
   "cell_type": "code",
   "execution_count": 65,
   "metadata": {},
   "outputs": [],
   "source": [
    "def filtererdMetricsByPlayers(file):\n",
    "    finalDict = {}\n",
    "    for element in file:\n",
    "        concatenated_dict = {}\n",
    "        for score in file[element]:\n",
    "            df = pd.DataFrame.from_dict(file[element][score], orient=\"index\")\n",
    "            counts = getCount(df)\n",
    "            countDf = dfCounts(counts)\n",
    "            filteredCountDf  = filterDf(countDf)\n",
    "            filteredDf = df.loc[filteredCountDf.index]\n",
    "            a = filteredDf.T.to_dict(orient=\"list\")\n",
    "            concatenated_dict[score] = a\n",
    "        finalDict[element] = concatenated_dict\n",
    "    return finalDict\n",
    "            "
   ]
  },
  {
   "cell_type": "code",
   "execution_count": 66,
   "metadata": {},
   "outputs": [],
   "source": [
    "filteredDict = filtererdMetricsByPlayers(file)"
   ]
  },
  {
   "cell_type": "markdown",
   "metadata": {},
   "source": [
    "Get normalized dict"
   ]
  },
  {
   "cell_type": "code",
   "execution_count": 67,
   "metadata": {},
   "outputs": [],
   "source": [
    "def normalizatedMetrics(file):\n",
    "    finalDict = {}\n",
    "    for element in file:\n",
    "        concatenated_dict = {}\n",
    "        for score in file[element]:\n",
    "            df = pd.DataFrame.from_dict(file[element][score], orient=\"index\")\n",
    "            dfN = (df - df.min()) / (df.max() - df.min())\n",
    "            dfN.set_index(df.index, inplace=True)\n",
    "            a = dfN.T.to_dict(orient=\"list\")\n",
    "            concatenated_dict[score] = a\n",
    "        finalDict[element] = concatenated_dict\n",
    "    return finalDict"
   ]
  },
  {
   "cell_type": "code",
   "execution_count": 68,
   "metadata": {},
   "outputs": [],
   "source": [
    "normalizedDict = normalizatedMetrics(filteredDict)"
   ]
  },
  {
   "cell_type": "markdown",
   "metadata": {},
   "source": [
    "Get classified file"
   ]
  },
  {
   "cell_type": "code",
   "execution_count": 69,
   "metadata": {},
   "outputs": [],
   "source": [
    "def calculateMetrics(data):\n",
    "    dfNoNan = data.fillna(\" \")\n",
    "    dfNoBlank = dfNoNan.replace(\" \", float('NaN'))  # Replace blank spaces with 0\n",
    "    # Calculate mean, standard deviation, and count\n",
    "    meanValues = dfNoBlank.mean(axis=1).round(2)\n",
    "    stdValues = dfNoBlank.std(axis=1).round(2)\n",
    "    countValues = dfNoBlank.count(axis=1)\n",
    "\n",
    "    return meanValues, stdValues, countValues"
   ]
  },
  {
   "cell_type": "code",
   "execution_count": 70,
   "metadata": {},
   "outputs": [],
   "source": [
    "def classifiedMetrics(file):\n",
    "    finalDict = {}\n",
    "    for element in file:\n",
    "        concatenated_dict = {}\n",
    "        for score in file[element]:\n",
    "            metricsTable = pd.DataFrame()\n",
    "            df = pd.DataFrame.from_dict(file[element][score], orient=\"index\")\n",
    "            meanValues, stdValues, countValues = calculateMetrics(df)  \n",
    "            meanDropNa = meanValues.dropna(axis=0)\n",
    "            if  not meanDropNa.empty:\n",
    "                classifyValues = pd.cut(np.array(meanDropNa), 5, labels=[\"worst\", \"bad\", \"medium\", \"good\", \"excellent\"]).astype(str)\n",
    "                columnClassifiy = pd.DataFrame({'Class': classifyValues}, index=meanDropNa.index)\n",
    "                metricsTable = pd.concat([metricsTable, meanDropNa.rename('Mean'), stdValues.rename('Std'), countValues.rename('Count'), columnClassifiy], axis=1)\n",
    "                metricsTable.set_index(df.index, inplace=True)\n",
    "                metricsTableDict = metricsTable.T.to_dict(orient=\"list\")\n",
    "                concatenated_dict[score] = metricsTableDict\n",
    "        finalDict[element] = concatenated_dict\n",
    "    return finalDict"
   ]
  },
  {
   "cell_type": "code",
   "execution_count": 71,
   "metadata": {},
   "outputs": [],
   "source": [
    "classifiedDict = classifiedMetrics(normalizedDict)"
   ]
  },
  {
   "cell_type": "markdown",
   "metadata": {},
   "source": [
    "Get filtered dict by scores"
   ]
  },
  {
   "cell_type": "code",
   "execution_count": 72,
   "metadata": {},
   "outputs": [],
   "source": [
    "def filterScoresBarcelona(dfScore):\n",
    "    # Convert 'Difference' column to numeric\n",
    "    dfScore['Difference'] = pd.to_numeric(dfScore['Difference'], errors='coerce')\n",
    "\n",
    "    # Group by the 'Score' column and calculate the size of each group\n",
    "    scoreCounts = dfScore.groupby('Score').size()\n",
    "\n",
    "    # Filter the DataFrame by the conditions: 'Difference' <= 3, size of 'Score' > 1, and 'Difference' < 0\n",
    "    filteredDfScore = dfScore[((dfScore['Difference'] < 3) & dfScore['Score'].isin(scoreCounts[scoreCounts > 1].index)) | (dfScore['Difference'] <= 0) | (dfScore[\"Score\"] == \"3_2\") | ((dfScore[\"Score\"] == \"3_0\"))]\n",
    "    filteredDfScore = filteredDfScore[filteredDfScore[\"Score\"]!=\"NF\"]\n",
    "\n",
    "    return filteredDfScore"
   ]
  },
  {
   "cell_type": "code",
   "execution_count": 73,
   "metadata": {},
   "outputs": [],
   "source": [
    "def filtererdMetricsByScore(df, keys):\n",
    "    finalDict = {}\n",
    "    # Iterate over elements in df\n",
    "    for element in df:\n",
    "        concatenatedDict = {}\n",
    "        # Iterate over keys\n",
    "        for key in keys:\n",
    "            # Check if the current element has the key\n",
    "            if str(key) in df[element]:\n",
    "                # Assign the value corresponding to the key in concatenatedDict\n",
    "                concatenatedDict[key] = df[element][str(key)]\n",
    "        # Add concatenatedDict to finalDict under the current element\n",
    "        finalDict[element] = concatenatedDict\n",
    "    return finalDict"
   ]
  },
  {
   "cell_type": "code",
   "execution_count": 74,
   "metadata": {},
   "outputs": [],
   "source": [
    "metadataBarcelonaFile = readCSV(metadataBarcelonaPath)"
   ]
  },
  {
   "cell_type": "code",
   "execution_count": 75,
   "metadata": {},
   "outputs": [],
   "source": [
    "dfBarcelonaFiltered = filterScoresBarcelona(metadataBarcelonaFile)"
   ]
  },
  {
   "cell_type": "code",
   "execution_count": 76,
   "metadata": {},
   "outputs": [],
   "source": [
    "uniqueScores = dfBarcelonaFiltered[\"Score\"].unique()"
   ]
  },
  {
   "cell_type": "code",
   "execution_count": 77,
   "metadata": {},
   "outputs": [],
   "source": [
    "finalDict = filtererdMetricsByScore(classifiedDict, uniqueScores)"
   ]
  },
  {
   "cell_type": "markdown",
   "metadata": {},
   "source": [
    "Save dictionary"
   ]
  },
  {
   "cell_type": "code",
   "execution_count": 78,
   "metadata": {},
   "outputs": [],
   "source": [
    "# Save dictionary as a object.\n",
    "def saveDictToPickle(dictionary, filePath):\n",
    "    try:\n",
    "        with open(filePath, \"wb\") as f:\n",
    "            pickle.dump(dictionary, f)\n",
    "        # print(\"Dictionary saved to\", filePath)\n",
    "    except Exception as e:\n",
    "        print(\"Error occurred while saving the dictionary:\", str(e))"
   ]
  },
  {
   "cell_type": "code",
   "execution_count": 79,
   "metadata": {},
   "outputs": [],
   "source": [
    "saveDictToPickle(finalDict, \"../Data/Team_1/05Stage/Metrics/Filtered/Individual/finalIndividualnetworkMetrics.pkl\")"
   ]
  },
  {
   "cell_type": "markdown",
   "metadata": {},
   "source": [
    "Tables"
   ]
  },
  {
   "cell_type": "markdown",
   "metadata": {},
   "source": [
    "Score tables"
   ]
  },
  {
   "cell_type": "code",
   "execution_count": 80,
   "metadata": {},
   "outputs": [],
   "source": [
    "def saveIndividualMetrics(finalDict, uniqueScores, folderPath):\n",
    "    for score in uniqueScores:\n",
    "        metricsTable = pd.DataFrame()\n",
    "        elementValues = []\n",
    "        for element in finalDict:\n",
    "            if score in finalDict[element]:\n",
    "                if not element in elementValues:\n",
    "                    elementValues.append(element)\n",
    "                df = pd.DataFrame.from_dict(finalDict[element][score], orient='index')\n",
    "                metricsTable = pd.concat([metricsTable, df], axis=1)\n",
    "        multiIndex = pd.MultiIndex.from_product([elementValues, ['Mean', 'Std', 'Count', 'Class']], names=[None, None])\n",
    "        metricsTable.columns = multiIndex\n",
    "        metricsTable.fillna(0, inplace=True)\n",
    "        metricsTable.to_pickle(f\"{folderPath}/{score}_individualMetrics.pkl\")"
   ]
  },
  {
   "cell_type": "code",
   "execution_count": 81,
   "metadata": {},
   "outputs": [],
   "source": [
    "saveIndividualMetrics(finalDict, uniqueScores, \"../Data/Team_1/06Stage/Tables/Score/Individual\")"
   ]
  },
  {
   "cell_type": "markdown",
   "metadata": {},
   "source": [
    "Player tables"
   ]
  },
  {
   "cell_type": "code",
   "execution_count": 82,
   "metadata": {},
   "outputs": [],
   "source": [
    "playersList = loadPickleFile(playersBarcelonaPath)"
   ]
  },
  {
   "cell_type": "code",
   "execution_count": 83,
   "metadata": {},
   "outputs": [],
   "source": [
    "def savePlayerMetrics(playersList, finalDict, folderPath):\n",
    "    elementValues = []\n",
    "    for key in playersList.keys():\n",
    "        scoreMetrics = {}\n",
    "        previousMetricsTable = pd.DataFrame()\n",
    "        metricsTable = pd.DataFrame()\n",
    "        for element in finalDict:\n",
    "            if element not in elementValues:\n",
    "                elementValues.append(element)\n",
    "            for score in finalDict[element]:\n",
    "                if score in finalDict[element]:\n",
    "                    allValues = []\n",
    "                    if str(key) in finalDict[element][score].keys():\n",
    "                        values = finalDict[element][score][str(key)]\n",
    "                        if values:           \n",
    "                            # Create or update dictionary entry for the score\n",
    "                            if score not in scoreMetrics:\n",
    "                                scoreMetrics[score] = {'Mean': values[0], 'Std': values[1], 'Count': values[2], 'Class': values[3]}\n",
    "                            else:\n",
    "                                scoreMetrics[score]['Mean'] = values[0]\n",
    "                                scoreMetrics[score]['Std'] = values[1]\n",
    "                                scoreMetrics[score]['Count'] = values[2]\n",
    "                                scoreMetrics[score]['Class'] = values[3]\n",
    "                        else:\n",
    "                            if score not in scoreMetrics:\n",
    "                                scoreMetrics[score] = {'Mean': 0, 'Std': 0, 'Count': 0, 'Class':0}\n",
    "                            else:\n",
    "                                scoreMetrics[score]['Mean'] = 0\n",
    "                                scoreMetrics[score]['Std'] = 0\n",
    "                                scoreMetrics[score]['Count'] = 0\n",
    "                                scoreMetrics[score]['Class'] = 0\n",
    "                    else:\n",
    "                        if score not in scoreMetrics:\n",
    "                            scoreMetrics[score] = {'Mean': 0, 'Std': 0, 'Count': 0, 'Class': 0}\n",
    "                        else:\n",
    "                            scoreMetrics[score]['Mean'] = 0\n",
    "                            scoreMetrics[score]['Std'] = 0\n",
    "                            scoreMetrics[score]['Count'] = 0\n",
    "                            scoreMetrics[score]['Class'] = 0\n",
    "\n",
    "            previousMetricsTable = pd.DataFrame.from_dict(scoreMetrics, orient='index')\n",
    "            metricsTable = pd.concat([metricsTable, previousMetricsTable], axis=1) \n",
    "        metricsTable.columns.name = None\n",
    "        multiIndex = pd.MultiIndex.from_product([elementValues, ['Mean', 'Std', 'Count','Class']], names=[None, None])\n",
    "        metricsTable.columns = multiIndex\n",
    "        metricsTable.fillna(0, inplace=True)\n",
    "        metricsTable.to_pickle(f\"{folderPath}/{key}_individualMetrics.pkl\")\n"
   ]
  },
  {
   "cell_type": "code",
   "execution_count": 84,
   "metadata": {},
   "outputs": [],
   "source": [
    "savePlayerMetrics(playersList, finalDict, \"../Data/Team_1/06Stage/Tables/Player\")"
   ]
  },
  {
   "cell_type": "markdown",
   "metadata": {},
   "source": [
    "Global tables"
   ]
  },
  {
   "cell_type": "code",
   "execution_count": 85,
   "metadata": {},
   "outputs": [],
   "source": [
    "globalMetricsBarcelonaFile = loadPickleFile(globalMetricsBarcelonaPath)"
   ]
  },
  {
   "cell_type": "code",
   "execution_count": 86,
   "metadata": {},
   "outputs": [],
   "source": [
    "filteredGlobal = filtererdMetricsByScore(globalMetricsBarcelonaFile, uniqueScores)"
   ]
  },
  {
   "cell_type": "code",
   "execution_count": 87,
   "metadata": {},
   "outputs": [],
   "source": [
    "saveDictToPickle(finalDict, \"../Data/Team_1/05Stage/Metrics/Filtered/Global/finalGlobalnetworkMetrics.pkl\")"
   ]
  },
  {
   "cell_type": "code",
   "execution_count": 88,
   "metadata": {},
   "outputs": [],
   "source": [
    "def saveGlobalMetrics(filteredGlobal,path ):\n",
    "    elementValues = []\n",
    "    metricsTable = pd.DataFrame()\n",
    "    for element in filteredGlobal: \n",
    "        if element not in elementValues:\n",
    "            elementValues.append(element)\n",
    "        df = pd.DataFrame.from_dict(filteredGlobal[element], orient='index')\n",
    "        meanValues, stdValues, countValues = calculateMetrics(df)\n",
    "        metricsTable = pd.concat([metricsTable, meanValues.rename('Mean'), stdValues.rename('Std'), countValues.rename('Count')], axis=1)\n",
    "    multiIndex = pd.MultiIndex.from_product([elementValues, ['Mean', 'Std', 'Count']], names=[None, None])\n",
    "    metricsTable.columns = multiIndex\n",
    "    metricsTable.fillna(0, inplace=True)\n",
    "    metricsTable.to_pickle(f\"{path}/06Stage/Tables/Score/Global/globalMetrics.pkl\")\n",
    "    return metricsTable"
   ]
  },
  {
   "cell_type": "code",
   "execution_count": 89,
   "metadata": {},
   "outputs": [
    {
     "data": {
      "text/html": [
       "<div>\n",
       "<style scoped>\n",
       "    .dataframe tbody tr th:only-of-type {\n",
       "        vertical-align: middle;\n",
       "    }\n",
       "\n",
       "    .dataframe tbody tr th {\n",
       "        vertical-align: top;\n",
       "    }\n",
       "\n",
       "    .dataframe thead tr th {\n",
       "        text-align: left;\n",
       "    }\n",
       "</style>\n",
       "<table border=\"1\" class=\"dataframe\">\n",
       "  <thead>\n",
       "    <tr>\n",
       "      <th></th>\n",
       "      <th colspan=\"3\" halign=\"left\">av_clust</th>\n",
       "      <th colspan=\"3\" halign=\"left\">dty</th>\n",
       "      <th colspan=\"3\" halign=\"left\">diam</th>\n",
       "    </tr>\n",
       "    <tr>\n",
       "      <th></th>\n",
       "      <th>Mean</th>\n",
       "      <th>Std</th>\n",
       "      <th>Count</th>\n",
       "      <th>Mean</th>\n",
       "      <th>Std</th>\n",
       "      <th>Count</th>\n",
       "      <th>Mean</th>\n",
       "      <th>Std</th>\n",
       "      <th>Count</th>\n",
       "    </tr>\n",
       "  </thead>\n",
       "  <tbody>\n",
       "    <tr>\n",
       "      <th>0_1</th>\n",
       "      <td>0.60</td>\n",
       "      <td>0.12</td>\n",
       "      <td>9</td>\n",
       "      <td>0.53</td>\n",
       "      <td>0.16</td>\n",
       "      <td>9</td>\n",
       "      <td>2.71</td>\n",
       "      <td>0.49</td>\n",
       "      <td>7.0</td>\n",
       "    </tr>\n",
       "    <tr>\n",
       "      <th>0_2</th>\n",
       "      <td>0.38</td>\n",
       "      <td>0.27</td>\n",
       "      <td>3</td>\n",
       "      <td>0.35</td>\n",
       "      <td>0.15</td>\n",
       "      <td>3</td>\n",
       "      <td>5.00</td>\n",
       "      <td>0.00</td>\n",
       "      <td>1.0</td>\n",
       "    </tr>\n",
       "    <tr>\n",
       "      <th>1_2</th>\n",
       "      <td>0.59</td>\n",
       "      <td>0.16</td>\n",
       "      <td>3</td>\n",
       "      <td>0.51</td>\n",
       "      <td>0.17</td>\n",
       "      <td>3</td>\n",
       "      <td>2.50</td>\n",
       "      <td>0.71</td>\n",
       "      <td>2.0</td>\n",
       "    </tr>\n",
       "    <tr>\n",
       "      <th>1_0</th>\n",
       "      <td>0.64</td>\n",
       "      <td>0.16</td>\n",
       "      <td>28</td>\n",
       "      <td>0.57</td>\n",
       "      <td>0.17</td>\n",
       "      <td>28</td>\n",
       "      <td>2.96</td>\n",
       "      <td>0.66</td>\n",
       "      <td>26.0</td>\n",
       "    </tr>\n",
       "    <tr>\n",
       "      <th>2_0</th>\n",
       "      <td>0.56</td>\n",
       "      <td>0.23</td>\n",
       "      <td>20</td>\n",
       "      <td>0.53</td>\n",
       "      <td>0.17</td>\n",
       "      <td>20</td>\n",
       "      <td>3.06</td>\n",
       "      <td>1.09</td>\n",
       "      <td>17.0</td>\n",
       "    </tr>\n",
       "    <tr>\n",
       "      <th>3_0</th>\n",
       "      <td>0.57</td>\n",
       "      <td>0.16</td>\n",
       "      <td>14</td>\n",
       "      <td>0.52</td>\n",
       "      <td>0.15</td>\n",
       "      <td>14</td>\n",
       "      <td>3.23</td>\n",
       "      <td>0.73</td>\n",
       "      <td>13.0</td>\n",
       "    </tr>\n",
       "    <tr>\n",
       "      <th>1_1</th>\n",
       "      <td>0.46</td>\n",
       "      <td>0.19</td>\n",
       "      <td>11</td>\n",
       "      <td>0.42</td>\n",
       "      <td>0.16</td>\n",
       "      <td>11</td>\n",
       "      <td>3.00</td>\n",
       "      <td>0.58</td>\n",
       "      <td>7.0</td>\n",
       "    </tr>\n",
       "    <tr>\n",
       "      <th>2_1</th>\n",
       "      <td>0.54</td>\n",
       "      <td>0.17</td>\n",
       "      <td>12</td>\n",
       "      <td>0.48</td>\n",
       "      <td>0.15</td>\n",
       "      <td>12</td>\n",
       "      <td>3.55</td>\n",
       "      <td>1.13</td>\n",
       "      <td>11.0</td>\n",
       "    </tr>\n",
       "    <tr>\n",
       "      <th>3_1</th>\n",
       "      <td>0.54</td>\n",
       "      <td>0.18</td>\n",
       "      <td>6</td>\n",
       "      <td>0.47</td>\n",
       "      <td>0.20</td>\n",
       "      <td>6</td>\n",
       "      <td>3.00</td>\n",
       "      <td>0.71</td>\n",
       "      <td>5.0</td>\n",
       "    </tr>\n",
       "    <tr>\n",
       "      <th>0_3</th>\n",
       "      <td>0.62</td>\n",
       "      <td>0.00</td>\n",
       "      <td>1</td>\n",
       "      <td>0.60</td>\n",
       "      <td>0.00</td>\n",
       "      <td>1</td>\n",
       "      <td>3.00</td>\n",
       "      <td>0.00</td>\n",
       "      <td>1.0</td>\n",
       "    </tr>\n",
       "    <tr>\n",
       "      <th>1_3</th>\n",
       "      <td>0.60</td>\n",
       "      <td>0.00</td>\n",
       "      <td>1</td>\n",
       "      <td>0.52</td>\n",
       "      <td>0.00</td>\n",
       "      <td>1</td>\n",
       "      <td>3.00</td>\n",
       "      <td>0.00</td>\n",
       "      <td>1.0</td>\n",
       "    </tr>\n",
       "    <tr>\n",
       "      <th>1_4</th>\n",
       "      <td>0.00</td>\n",
       "      <td>0.00</td>\n",
       "      <td>1</td>\n",
       "      <td>0.20</td>\n",
       "      <td>0.00</td>\n",
       "      <td>1</td>\n",
       "      <td>0.00</td>\n",
       "      <td>0.00</td>\n",
       "      <td>0.0</td>\n",
       "    </tr>\n",
       "    <tr>\n",
       "      <th>2_2</th>\n",
       "      <td>0.34</td>\n",
       "      <td>0.10</td>\n",
       "      <td>2</td>\n",
       "      <td>0.25</td>\n",
       "      <td>0.05</td>\n",
       "      <td>2</td>\n",
       "      <td>0.00</td>\n",
       "      <td>0.00</td>\n",
       "      <td>0.0</td>\n",
       "    </tr>\n",
       "  </tbody>\n",
       "</table>\n",
       "</div>"
      ],
      "text/plain": [
       "    av_clust               dty              diam            \n",
       "        Mean   Std Count  Mean   Std Count  Mean   Std Count\n",
       "0_1     0.60  0.12     9  0.53  0.16     9  2.71  0.49   7.0\n",
       "0_2     0.38  0.27     3  0.35  0.15     3  5.00  0.00   1.0\n",
       "1_2     0.59  0.16     3  0.51  0.17     3  2.50  0.71   2.0\n",
       "1_0     0.64  0.16    28  0.57  0.17    28  2.96  0.66  26.0\n",
       "2_0     0.56  0.23    20  0.53  0.17    20  3.06  1.09  17.0\n",
       "3_0     0.57  0.16    14  0.52  0.15    14  3.23  0.73  13.0\n",
       "1_1     0.46  0.19    11  0.42  0.16    11  3.00  0.58   7.0\n",
       "2_1     0.54  0.17    12  0.48  0.15    12  3.55  1.13  11.0\n",
       "3_1     0.54  0.18     6  0.47  0.20     6  3.00  0.71   5.0\n",
       "0_3     0.62  0.00     1  0.60  0.00     1  3.00  0.00   1.0\n",
       "1_3     0.60  0.00     1  0.52  0.00     1  3.00  0.00   1.0\n",
       "1_4     0.00  0.00     1  0.20  0.00     1  0.00  0.00   0.0\n",
       "2_2     0.34  0.10     2  0.25  0.05     2  0.00  0.00   0.0"
      ]
     },
     "execution_count": 89,
     "metadata": {},
     "output_type": "execute_result"
    }
   ],
   "source": [
    "saveGlobalMetrics(filteredGlobal, \"../Data/Team_1/\")\n"
   ]
  },
  {
   "cell_type": "markdown",
   "metadata": {},
   "source": [
    "Graphics Treatment"
   ]
  },
  {
   "cell_type": "code",
   "execution_count": 90,
   "metadata": {},
   "outputs": [
    {
     "name": "stdout",
     "output_type": "stream",
     "text": [
      "{'inD': {'0_1': {'5503': [0.37, 0.23, 5, 'medium'], '5203': [0.62, 0.33, 8, 'excellent'], '6379': [0.55, 0.24, 7, 'excellent'], '5506': [0.53, 0.25, 7, 'good'], '4691': [0.1, 0.13, 7, 'worst'], '4324': [0.3, 0.2, 5, 'bad'], '4320': [0.61, 0.34, 8, 'excellent'], '5213': [0.56, 0.35, 8, 'excellent'], '5470': [0.51, 0.21, 6, 'good'], '5211': [0.59, 0.31, 7, 'excellent'], '5216': [0.56, 0.43, 4, 'excellent'], '5246': [0.64, 0.26, 8, 'excellent'], '10609': [0.33, 0.27, 5, 'medium']}, '0_2': {'5246': [0.5, 0.17, 3, 'medium'], '5503': [1.0, nan, 1, 'excellent'], '6379': [0.31, 0.34, 3, 'bad'], '5213': [0.54, 0.12, 3, 'medium'], '5506': [0.71, 0.06, 2, 'good'], '5211': [0.47, 0.04, 2, 'medium'], '5203': [0.8, 0.26, 3, 'good'], '5216': [0.56, nan, 1, 'medium'], '5470': [0.83, 0.24, 2, 'excellent'], '4320': [0.45, 0.21, 3, 'medium'], '4691': [0.25, 0.35, 2, 'bad'], '4324': [0.22, nan, 1, 'worst'], '10609': [0.06, 0.08, 2, 'worst'], '6616': [0.11, nan, 1, 'worst']}, '1_2': {'5246': [0.7, 0.18, 3, 'excellent'], '5503': [0.87, 0.01, 2, 'excellent'], '5203': [0.83, 0.29, 3, 'excellent'], '5211': [0.66, 0.18, 3, 'good'], '5506': [0.67, 0.29, 3, 'good'], '5213': [0.72, 0.1, 3, 'excellent'], '6379': [0.8, 0.08, 2, 'excellent'], '5216': [0.79, 0.11, 2, 'excellent'], '4691': [0.05, 0.08, 3, 'worst'], '4320': [0.75, 0.25, 3, 'excellent'], '5470': [0.72, 0.25, 3, 'excellent'], '10609': [0.0, nan, 1, 'worst'], '4324': [0.79, 0.3, 2, 'excellent'], '3508': [0.57, nan, 1, 'good'], '6616': [0.0, nan, 1, 'worst'], '11094': [0.57, nan, 1, 'good']}, '1_0': {'5216': [0.6, 0.29, 19, 'excellent'], '5203': [0.65, 0.35, 24, 'excellent'], '5211': [0.62, 0.32, 21, 'excellent'], '4320': [0.66, 0.32, 24, 'excellent'], '5506': [0.56, 0.21, 23, 'good'], '4324': [0.58, 0.31, 18, 'excellent'], '5503': [0.59, 0.31, 24, 'excellent'], '5470': [0.61, 0.35, 23, 'excellent'], '4691': [0.08, 0.16, 23, 'worst'], '5246': [0.47, 0.35, 24, 'good'], '6379': [0.53, 0.29, 15, 'good'], '5213': [0.51, 0.32, 21, 'good'], '10609': [0.69, 0.27, 8, 'excellent']}, '2_0': {'4324': [0.65, 0.34, 14, 'excellent'], '5470': [0.61, 0.33, 17, 'excellent'], '5503': [0.61, 0.3, 16, 'excellent'], '5211': [0.73, 0.29, 15, 'excellent'], '5216': [0.73, 0.24, 12, 'excellent'], '4320': [0.57, 0.3, 17, 'good'], '5506': [0.54, 0.34, 16, 'good'], '5203': [0.63, 0.3, 17, 'excellent'], '5246': [0.66, 0.25, 17, 'excellent'], '4691': [0.1, 0.13, 14, 'worst'], '5213': [0.62, 0.29, 16, 'excellent'], '6379': [0.47, 0.38, 11, 'medium'], '6616': [0.37, 0.25, 6, 'medium'], '10609': [0.22, 0.28, 6, 'worst']}, '3_0': {'5211': [0.76, 0.28, 10, 'excellent'], '4320': [0.57, 0.37, 12, 'good'], '5216': [0.72, 0.28, 10, 'excellent'], '4324': [0.58, 0.39, 10, 'good'], '5470': [0.56, 0.31, 12, 'good'], '5503': [0.52, 0.36, 12, 'good'], '7068': [0.37, 0.39, 4, 'medium'], '4691': [0.09, 0.09, 10, 'worst'], '5506': [0.47, 0.2, 10, 'medium'], '5203': [0.56, 0.37, 12, 'good'], '5246': [0.6, 0.33, 12, 'good'], '5213': [0.45, 0.34, 11, 'medium'], '10609': [0.34, 0.22, 7, 'bad'], '11094': [0.42, 0.41, 5, 'medium'], '6616': [0.45, 0.26, 4, 'medium'], '6379': [0.61, 0.31, 6, 'good']}, '1_1': {'4691': [0.24, 0.25, 7, 'worst'], '11094': [0.42, 0.35, 4, 'bad'], '6400': [0.42, 0.38, 3, 'bad'], '5216': [0.53, 0.29, 7, 'medium'], '5506': [0.58, 0.27, 8, 'good'], '5246': [0.43, 0.41, 10, 'bad'], '5203': [0.66, 0.31, 9, 'good'], '5503': [0.77, 0.28, 7, 'excellent'], '6379': [0.31, 0.19, 5, 'worst'], '10609': [0.28, 0.22, 5, 'worst'], '5211': [0.39, 0.26, 9, 'bad'], '4320': [0.55, 0.39, 10, 'medium'], '5470': [0.46, 0.28, 7, 'medium'], '5213': [0.52, 0.26, 8, 'medium'], '4324': [0.4, 0.32, 7, 'bad']}, '2_1': {'5246': [0.52, 0.36, 11, 'good'], '5503': [0.63, 0.31, 9, 'excellent'], '6400': [0.52, 0.46, 3, 'good'], '5506': [0.67, 0.33, 9, 'excellent'], '22102': [0.43, 0.25, 3, 'medium'], '5203': [0.61, 0.38, 11, 'excellent'], '4691': [0.13, 0.16, 9, 'worst'], '5216': [0.67, 0.32, 6, 'excellent'], '11094': [0.6, 0.34, 5, 'excellent'], '6616': [0.29, 0.25, 3, 'bad'], '10609': [0.45, 0.33, 7, 'medium'], '5211': [0.66, 0.3, 9, 'excellent'], '5470': [0.49, 0.35, 8, 'good'], '6379': [0.61, 0.31, 7, 'excellent'], '4320': [0.57, 0.38, 10, 'excellent'], '5213': [0.49, 0.26, 9, 'good'], '3508': [0.25, 0.24, 4, 'bad'], '4324': [0.49, 0.39, 7, 'good']}, '3_1': {'22102': [0.62, 0.53, 2, 'good'], '5506': [0.44, 0.38, 4, 'medium'], '5470': [0.53, 0.35, 6, 'good'], '4324': [0.75, 0.22, 3, 'excellent'], '6616': [0.52, 0.38, 3, 'medium'], '7068': [0.24, 0.02, 2, 'worst'], '5503': [0.36, 0.32, 4, 'bad'], '4320': [0.69, 0.36, 6, 'excellent'], '5211': [0.39, 0.35, 3, 'bad'], '5203': [0.58, 0.36, 5, 'good'], '5213': [0.63, 0.3, 5, 'good'], '4691': [0.19, 0.19, 5, 'worst'], '5246': [0.7, 0.14, 4, 'excellent'], '6379': [0.5, 0.71, 2, 'medium'], '10609': [0.51, 0.36, 4, 'medium'], '5216': [0.42, 0.12, 2, 'medium'], '6400': [0.71, 0.06, 2, 'excellent']}, '0_3': {'5246': [0.83, nan, 1, 'excellent'], '5506': [0.83, nan, 1, 'excellent'], '5213': [0.67, nan, 1, 'good'], '4324': [0.83, nan, 1, 'excellent'], '5203': [1.0, nan, 1, 'excellent'], '5503': [0.83, nan, 1, 'excellent'], '6379': [0.5, nan, 1, 'medium'], '20055': [0.0, nan, 1, 'worst'], '4320': [0.33, nan, 1, 'bad'], '5216': [1.0, nan, 1, 'excellent'], '10609': [0.5, nan, 1, 'medium']}, '1_3': {'4320': [1.0, nan, 1, 'excellent'], '5246': [1.0, nan, 1, 'excellent'], '4324': [0.71, nan, 1, 'good'], '5213': [0.86, nan, 1, 'excellent'], '20055': [0.0, nan, 1, 'worst'], '6616': [0.57, nan, 1, 'medium'], '5506': [0.86, nan, 1, 'excellent'], '5203': [0.29, nan, 1, 'bad'], '10609': [0.29, nan, 1, 'bad'], '5216': [0.86, nan, 1, 'excellent'], '5503': [0.86, nan, 1, 'excellent'], '5470': [0.71, nan, 1, 'good']}, '1_4': {'5470': [0.0, nan, 1, 'worst'], '5216': [1.0, nan, 1, 'excellent'], '5506': [1.0, nan, 1, 'excellent'], '5503': [1.0, nan, 1, 'excellent'], '6616': [1.0, nan, 1, 'excellent']}, '2_2': {'5503': [0.48, 0.27, 2, 'good'], '5246': [0.6, 0.37, 2, 'excellent'], '5203': [0.67, 0.47, 2, 'excellent'], '5213': [0.29, nan, 1, 'medium'], '5216': [0.71, nan, 1, 'excellent'], '10609': [0.62, 0.07, 2, 'excellent'], '6379': [0.57, 0.61, 2, 'excellent'], '4691': [0.14, 0.2, 2, 'worst'], '5506': [0.0, nan, 1, 'worst'], '4324': [0.57, 0.61, 2, 'excellent'], '6616': [0.14, nan, 1, 'worst'], '5211': [0.29, nan, 1, 'medium'], '4320': [0.57, nan, 1, 'excellent'], '5470': [0.14, nan, 1, 'worst']}}, 'outD': {'0_1': {'5503': [0.3, 0.34, 5, 'bad'], '5203': [0.61, 0.37, 9, 'good'], '6379': [0.6, 0.18, 7, 'good'], '5506': [0.46, 0.44, 7, 'medium'], '4691': [0.2, 0.18, 7, 'worst'], '4324': [0.39, 0.29, 5, 'medium'], '4320': [0.6, 0.38, 9, 'good'], '5213': [0.65, 0.31, 8, 'good'], '5470': [0.68, 0.27, 6, 'excellent'], '5211': [0.8, 0.21, 7, 'excellent'], '5216': [0.46, 0.37, 4, 'medium'], '5246': [0.11, 0.13, 8, 'worst'], '10609': [0.41, 0.42, 5, 'medium']}, '0_2': {'5246': [0.17, 0.29, 3, 'worst'], '5503': [0.67, nan, 1, 'good'], '6379': [0.47, 0.21, 3, 'medium'], '5213': [0.33, 0.29, 3, 'bad'], '5506': [1.0, 0.0, 2, 'excellent'], '5211': [0.67, 0.24, 2, 'good'], '5203': [0.75, 0.43, 3, 'good'], '5216': [1.0, nan, 1, 'excellent'], '5470': [0.58, 0.12, 2, 'medium'], '4320': [0.36, 0.43, 3, 'bad'], '4691': [0.21, 0.06, 2, 'bad'], '4324': [0.17, nan, 1, 'worst'], '10609': [0.21, 0.06, 2, 'bad'], '6616': [0.0, nan, 1, 'worst']}, '1_2': {'5246': [0.2, 0.35, 3, 'bad'], '5503': [0.85, 0.21, 2, 'excellent'], '5203': [0.75, 0.29, 3, 'excellent'], '5211': [0.36, 0.23, 3, 'bad'], '5506': [0.69, 0.02, 3, 'good'], '5213': [0.66, 0.36, 3, 'good'], '6379': [0.64, 0.09, 2, 'good'], '5216': [0.9, 0.14, 2, 'excellent'], '4691': [0.13, 0.23, 3, 'worst'], '4320': [0.49, 0.44, 3, 'medium'], '5470': [0.34, 0.31, 3, 'bad'], '10609': [0.1, nan, 1, 'worst'], '4324': [0.66, 0.08, 2, 'good'], '3508': [0.3, nan, 1, 'bad'], '6616': [0.0, nan, 1, 'worst'], '11094': [0.4, nan, 1, 'medium']}, '1_0': {'5216': [0.53, 0.34, 19, 'good'], '5203': [0.67, 0.33, 24, 'excellent'], '5211': [0.51, 0.26, 21, 'good'], '4320': [0.55, 0.29, 24, 'good'], '5506': [0.64, 0.31, 23, 'excellent'], '4324': [0.72, 0.2, 18, 'excellent'], '5503': [0.56, 0.31, 24, 'good'], '5470': [0.59, 0.28, 23, 'good'], '4691': [0.3, 0.31, 23, 'bad'], '5246': [0.14, 0.21, 24, 'worst'], '6379': [0.51, 0.33, 15, 'good'], '5213': [0.67, 0.32, 21, 'excellent'], '10609': [0.57, 0.32, 8, 'good']}, '2_0': {'4324': [0.59, 0.27, 14, 'good'], '5470': [0.62, 0.33, 17, 'good'], '5503': [0.61, 0.34, 16, 'good'], '5211': [0.62, 0.3, 15, 'good'], '5216': [0.76, 0.22, 12, 'excellent'], '4320': [0.49, 0.35, 17, 'medium'], '5506': [0.57, 0.36, 16, 'good'], '5203': [0.72, 0.27, 17, 'excellent'], '5246': [0.41, 0.31, 17, 'bad'], '4691': [0.3, 0.27, 14, 'worst'], '5213': [0.71, 0.34, 16, 'excellent'], '6379': [0.44, 0.3, 11, 'medium'], '6616': [0.31, 0.32, 6, 'worst'], '10609': [0.2, 0.24, 6, 'worst']}, '3_0': {'5211': [0.61, 0.26, 10, 'excellent'], '4320': [0.46, 0.33, 12, 'medium'], '5216': [0.69, 0.26, 10, 'excellent'], '4324': [0.6, 0.29, 10, 'good'], '5470': [0.62, 0.31, 12, 'excellent'], '5503': [0.56, 0.33, 12, 'good'], '7068': [0.4, 0.23, 4, 'bad'], '4691': [0.4, 0.28, 10, 'bad'], '5506': [0.66, 0.23, 10, 'excellent'], '5203': [0.66, 0.32, 12, 'excellent'], '5246': [0.27, 0.2, 12, 'worst'], '5213': [0.56, 0.37, 11, 'good'], '10609': [0.36, 0.13, 7, 'bad'], '11094': [0.5, 0.47, 5, 'medium'], '6616': [0.26, 0.23, 4, 'worst'], '6379': [0.66, 0.23, 6, 'excellent']}, '1_1': {'4691': [0.37, 0.37, 7, 'bad'], '11094': [0.29, 0.34, 4, 'worst'], '6400': [0.51, 0.27, 3, 'medium'], '5216': [0.65, 0.39, 7, 'excellent'], '5506': [0.63, 0.25, 8, 'excellent'], '5246': [0.18, 0.22, 10, 'worst'], '5203': [0.74, 0.31, 9, 'excellent'], '5503': [0.63, 0.36, 7, 'excellent'], '6379': [0.42, 0.35, 5, 'medium'], '10609': [0.31, 0.26, 5, 'bad'], '5211': [0.53, 0.31, 9, 'good'], '4320': [0.44, 0.37, 10, 'medium'], '5470': [0.39, 0.37, 7, 'bad'], '5213': [0.59, 0.29, 8, 'good'], '4324': [0.46, 0.34, 7, 'medium']}, '2_1': {'5246': [0.17, 0.17, 11, 'worst'], '5503': [0.54, 0.28, 9, 'good'], '6400': [0.58, 0.4, 3, 'good'], '5506': [0.71, 0.36, 9, 'excellent'], '22102': [0.68, 0.36, 3, 'excellent'], '5203': [0.57, 0.37, 11, 'good'], '4691': [0.34, 0.27, 9, 'bad'], '5216': [0.75, 0.29, 6, 'excellent'], '11094': [0.6, 0.34, 5, 'good'], '6616': [0.21, 0.26, 3, 'bad'], '10609': [0.43, 0.34, 7, 'medium'], '5211': [0.63, 0.21, 9, 'excellent'], '5470': [0.46, 0.29, 8, 'medium'], '6379': [0.54, 0.26, 7, 'good'], '4320': [0.48, 0.33, 10, 'good'], '5213': [0.58, 0.25, 9, 'good'], '3508': [0.07, 0.14, 4, 'worst'], '4324': [0.52, 0.3, 7, 'good']}, '3_1': {'22102': [0.44, 0.62, 2, 'medium'], '5506': [0.47, 0.48, 4, 'medium'], '5470': [0.78, 0.44, 5, 'excellent'], '4324': [0.55, 0.24, 3, 'medium'], '6616': [0.33, 0.38, 3, 'bad'], '7068': [0.21, 0.11, 2, 'worst'], '5503': [0.41, 0.41, 4, 'bad'], '4320': [0.42, 0.34, 5, 'bad'], '5211': [0.45, 0.39, 3, 'medium'], '5203': [0.67, 0.39, 5, 'excellent'], '5213': [0.67, 0.32, 5, 'excellent'], '4691': [0.5, 0.44, 5, 'medium'], '5246': [0.5, 0.3, 4, 'medium'], '6379': [0.29, 0.4, 2, 'worst'], '10609': [0.62, 0.43, 4, 'good'], '5216': [0.28, 0.21, 2, 'worst'], '6400': [0.59, 0.23, 2, 'good']}, '0_3': {'5246': [0.5, nan, 1, 'medium'], '5506': [1.0, nan, 1, 'excellent'], '5213': [0.5, nan, 1, 'medium'], '4324': [0.5, nan, 1, 'medium'], '5203': [0.0, nan, 1, 'worst'], '5503': [1.0, nan, 1, 'excellent'], '6379': [0.5, nan, 1, 'medium'], '20055': [0.0, nan, 1, 'worst'], '4320': [0.5, nan, 1, 'medium'], '5216': [1.0, nan, 1, 'excellent'], '10609': [0.0, nan, 1, 'worst']}, '1_3': {'4320': [0.2, nan, 1, 'worst'], '5246': [0.2, nan, 1, 'worst'], '4324': [0.6, nan, 1, 'medium'], '5213': [0.6, nan, 1, 'medium'], '20055': [0.0, nan, 1, 'worst'], '6616': [0.0, nan, 1, 'worst'], '5506': [0.8, nan, 1, 'good'], '5203': [0.0, nan, 1, 'worst'], '10609': [0.2, nan, 1, 'worst'], '5216': [1.0, nan, 1, 'excellent'], '5503': [0.0, nan, 1, 'worst'], '5470': [0.4, nan, 1, 'bad']}, '1_4': {'5470': [1.0, nan, 1, 'excellent'], '5216': [1.0, nan, 1, 'excellent'], '5506': [1.0, nan, 1, 'excellent'], '5503': [1.0, nan, 1, 'excellent'], '6616': [0.0, nan, 1, 'worst']}, '2_2': {'5503': [0.67, 0.24, 2, 'excellent'], '5246': [0.38, 0.18, 2, 'medium'], '5203': [0.75, 0.35, 2, 'excellent'], '5213': [0.5, nan, 1, 'good'], '5216': [0.5, nan, 1, 'good'], '10609': [0.25, 0.35, 2, 'bad'], '6379': [0.62, 0.18, 2, 'excellent'], '4691': [0.5, 0.0, 2, 'good'], '5506': [0.33, nan, 1, 'medium'], '4324': [0.5, 0.71, 2, 'good'], '6616': [0.0, nan, 1, 'worst'], '5211': [0.5, nan, 1, 'good'], '4320': [0.33, nan, 1, 'medium'], '5470': [0.0, nan, 1, 'worst']}}, 'clust': {'0_1': {'5503': [0.48, 0.29, 5, 'medium'], '5203': [0.53, 0.26, 9, 'good'], '6379': [0.71, 0.24, 7, 'excellent'], '5506': [0.54, 0.28, 7, 'good'], '4691': [0.8, 0.19, 7, 'excellent'], '4324': [0.08, 0.17, 5, 'worst'], '4320': [0.41, 0.35, 9, 'medium'], '5213': [0.4, 0.35, 8, 'medium'], '5470': [0.55, 0.24, 6, 'good'], '5211': [0.36, 0.31, 7, 'bad'], '5216': [0.66, 0.24, 4, 'excellent'], '5246': [0.7, 0.32, 8, 'excellent'], '10609': [0.76, 0.29, 5, 'excellent']}, '0_2': {'5246': [0.22, 0.29, 3, 'worst'], '5503': [0.58, nan, 1, 'good'], '6379': [0.54, 0.5, 3, 'medium'], '5213': [0.58, 0.21, 3, 'good'], '5506': [0.64, 0.2, 2, 'good'], '5211': [0.74, 0.05, 2, 'excellent'], '5203': [0.31, 0.26, 3, 'worst'], '5216': [0.6, nan, 1, 'good'], '5470': [0.71, 0.06, 2, 'excellent'], '4320': [0.25, 0.43, 3, 'worst'], '4691': [0.83, 0.24, 2, 'excellent'], '4324': [0.2, nan, 1, 'worst'], '10609': [0.5, 0.71, 2, 'medium'], '6616': [0.5, nan, 1, 'medium']}, '1_2': {'5246': [0.65, 0.26, 3, 'good'], '5503': [0.72, 0.28, 2, 'good'], '5203': [0.62, 0.19, 3, 'good'], '5211': [0.89, 0.1, 3, 'excellent'], '5506': [0.41, 0.39, 3, 'medium'], '5213': [0.31, 0.41, 3, 'bad'], '6379': [0.58, 0.46, 2, 'medium'], '5216': [0.85, 0.13, 2, 'excellent'], '4691': [0.7, 0.27, 3, 'good'], '4320': [0.57, 0.31, 3, 'medium'], '5470': [0.95, 0.08, 3, 'excellent'], '10609': [0.0, nan, 1, 'worst'], '4324': [0.76, 0.29, 2, 'good'], '3508': [0.52, nan, 1, 'medium'], '6616': [0.0, nan, 1, 'worst'], '11094': [1.0, nan, 1, 'excellent']}, '1_0': {'5216': [0.52, 0.28, 19, 'medium'], '5203': [0.58, 0.34, 24, 'good'], '5211': [0.41, 0.34, 21, 'worst'], '4320': [0.46, 0.35, 24, 'bad'], '5506': [0.46, 0.25, 23, 'bad'], '4324': [0.54, 0.37, 18, 'medium'], '5503': [0.48, 0.33, 24, 'bad'], '5470': [0.54, 0.28, 23, 'medium'], '4691': [0.65, 0.36, 23, 'excellent'], '5246': [0.54, 0.35, 24, 'medium'], '6379': [0.46, 0.35, 15, 'bad'], '5213': [0.43, 0.3, 21, 'worst'], '10609': [0.58, 0.29, 8, 'good']}, '2_0': {'4324': [0.57, 0.26, 14, 'good'], '5470': [0.66, 0.33, 17, 'excellent'], '5503': [0.54, 0.37, 16, 'good'], '5211': [0.55, 0.29, 15, 'good'], '5216': [0.56, 0.24, 12, 'good'], '4320': [0.65, 0.34, 17, 'excellent'], '5506': [0.57, 0.36, 16, 'good'], '5203': [0.69, 0.31, 17, 'excellent'], '5246': [0.61, 0.38, 17, 'excellent'], '4691': [0.66, 0.39, 14, 'excellent'], '5213': [0.58, 0.28, 16, 'good'], '6379': [0.63, 0.37, 11, 'excellent'], '6616': [0.52, 0.42, 6, 'good'], '10609': [0.23, 0.22, 6, 'worst']}, '3_0': {'5211': [0.62, 0.25, 10, 'good'], '4320': [0.37, 0.31, 12, 'worst'], '5216': [0.54, 0.24, 10, 'medium'], '4324': [0.41, 0.28, 10, 'bad'], '5470': [0.58, 0.35, 12, 'medium'], '5503': [0.54, 0.3, 12, 'medium'], '7068': [0.27, 0.27, 4, 'worst'], '4691': [0.68, 0.38, 10, 'good'], '5506': [0.49, 0.28, 10, 'bad'], '5203': [0.42, 0.29, 12, 'bad'], '5246': [0.7, 0.36, 12, 'good'], '5213': [0.48, 0.32, 11, 'bad'], '10609': [0.43, 0.35, 7, 'bad'], '11094': [0.85, 0.05, 5, 'excellent'], '6616': [0.48, 0.34, 4, 'bad'], '6379': [0.63, 0.21, 6, 'good']}, '1_1': {'4691': [0.71, 0.36, 7, 'excellent'], '11094': [0.59, 0.38, 4, 'good'], '6400': [0.48, 0.5, 3, 'bad'], '5216': [0.46, 0.23, 7, 'bad'], '5506': [0.54, 0.32, 8, 'medium'], '5246': [0.65, 0.36, 10, 'excellent'], '5203': [0.55, 0.32, 9, 'medium'], '5503': [0.49, 0.44, 7, 'bad'], '6379': [0.38, 0.35, 5, 'worst'], '10609': [0.44, 0.36, 5, 'worst'], '5211': [0.67, 0.34, 9, 'excellent'], '4320': [0.49, 0.35, 10, 'bad'], '5470': [0.47, 0.39, 7, 'bad'], '5213': [0.53, 0.16, 8, 'medium'], '4324': [0.5, 0.31, 7, 'bad']}, '2_1': {'5246': [0.55, 0.41, 11, 'medium'], '5503': [0.63, 0.39, 9, 'good'], '6400': [0.45, 0.51, 3, 'bad'], '5506': [0.47, 0.29, 9, 'bad'], '22102': [0.35, 0.41, 3, 'worst'], '5203': [0.54, 0.39, 11, 'medium'], '4691': [0.57, 0.35, 9, 'medium'], '5216': [0.62, 0.22, 6, 'good'], '11094': [0.66, 0.42, 5, 'good'], '6616': [0.61, 0.54, 3, 'good'], '10609': [0.4, 0.36, 7, 'worst'], '5211': [0.55, 0.31, 9, 'medium'], '5470': [0.5, 0.28, 8, 'bad'], '6379': [0.7, 0.14, 7, 'excellent'], '4320': [0.5, 0.32, 10, 'bad'], '5213': [0.44, 0.31, 9, 'bad'], '3508': [0.74, 0.28, 4, 'excellent'], '4324': [0.51, 0.34, 7, 'medium']}, '3_1': {'22102': [0.43, 0.61, 2, 'bad'], '5506': [0.33, 0.27, 4, 'worst'], '5470': [0.51, 0.28, 6, 'bad'], '4324': [0.41, 0.32, 3, 'worst'], '6616': [0.69, 0.35, 3, 'good'], '7068': [0.47, 0.6, 2, 'bad'], '5503': [0.51, 0.4, 4, 'bad'], '4320': [0.6, 0.31, 6, 'medium'], '5211': [0.79, 0.19, 3, 'excellent'], '5203': [0.54, 0.36, 5, 'medium'], '5213': [0.63, 0.17, 5, 'medium'], '4691': [0.77, 0.24, 5, 'excellent'], '5246': [0.64, 0.38, 4, 'medium'], '6379': [0.31, 0.44, 2, 'worst'], '10609': [0.7, 0.2, 4, 'good'], '5216': [0.43, 0.4, 2, 'bad'], '6400': [0.87, 0.18, 2, 'excellent']}, '0_3': {'5246': [0.55, nan, 1, 'medium'], '5506': [0.0, nan, 1, 'worst'], '5213': [0.33, nan, 1, 'bad'], '4324': [0.59, nan, 1, 'medium'], '5203': [0.74, nan, 1, 'good'], '5503': [0.57, nan, 1, 'medium'], '6379': [1.0, nan, 1, 'excellent'], '20055': [0.42, nan, 1, 'medium'], '4320': [0.85, nan, 1, 'excellent'], '5216': [0.47, nan, 1, 'medium'], '10609': [0.66, nan, 1, 'good']}, '1_3': {'4320': [0.08, nan, 1, 'worst'], '5246': [0.36, nan, 1, 'bad'], '4324': [0.27, nan, 1, 'bad'], '5213': [0.0, nan, 1, 'worst'], '20055': [0.66, nan, 1, 'good'], '6616': [0.7, nan, 1, 'good'], '5506': [0.04, nan, 1, 'worst'], '5203': [1.0, nan, 1, 'excellent'], '10609': [0.89, nan, 1, 'excellent'], '5216': [0.11, nan, 1, 'worst'], '5503': [0.62, nan, 1, 'good'], '5470': [0.59, nan, 1, 'medium']}, '2_2': {'5503': [0.38, 0.31, 2, 'medium'], '5246': [0.34, 0.48, 2, 'bad'], '5203': [0.21, 0.29, 2, 'bad'], '5213': [0.27, nan, 1, 'bad'], '5216': [0.6, nan, 1, 'good'], '10609': [0.93, 0.09, 2, 'excellent'], '6379': [0.65, 0.49, 2, 'good'], '4691': [0.72, 0.31, 2, 'good'], '5506': [0.0, nan, 1, 'worst'], '4324': [0.02, 0.04, 2, 'worst'], '6616': [0.0, nan, 1, 'worst'], '5211': [0.4, nan, 1, 'medium'], '4320': [0.39, nan, 1, 'medium'], '5470': [0.0, nan, 1, 'worst']}}, 'betw': {'0_1': {'5503': [0.3, 0.39, 5, 'medium'], '5203': [0.38, 0.29, 9, 'medium'], '6379': [0.18, 0.18, 7, 'bad'], '5506': [0.27, 0.13, 7, 'bad'], '4691': [0.04, 0.04, 7, 'worst'], '4324': [0.68, 0.43, 5, 'excellent'], '4320': [0.51, 0.4, 9, 'good'], '5213': [0.52, 0.36, 8, 'good'], '5470': [0.3, 0.18, 6, 'medium'], '5211': [0.47, 0.31, 7, 'good'], '5216': [0.31, 0.29, 4, 'medium'], '5246': [0.08, 0.12, 8, 'worst'], '10609': [0.1, 0.16, 5, 'worst']}, '0_2': {'5246': [0.24, 0.37, 3, 'bad'], '5503': [0.14, nan, 1, 'worst'], '6379': [0.2, 0.26, 3, 'worst'], '5213': [0.44, 0.49, 3, 'medium'], '5506': [0.49, 0.48, 2, 'medium'], '5211': [0.18, 0.21, 2, 'worst'], '5203': [0.61, 0.41, 3, 'good'], '5216': [0.09, nan, 1, 'worst'], '5470': [0.52, 0.68, 2, 'medium'], '4320': [0.37, 0.42, 3, 'bad'], '4691': [0.03, 0.04, 2, 'worst'], '4324': [1.0, nan, 1, 'excellent'], '10609': [0.36, 0.51, 2, 'bad'], '6616': [0.01, nan, 1, 'worst']}, '1_2': {'5246': [0.13, 0.05, 3, 'worst'], '5503': [0.47, 0.29, 2, 'good'], '5203': [0.67, 0.29, 3, 'excellent'], '5211': [0.18, 0.13, 3, 'bad'], '5506': [0.62, 0.33, 3, 'excellent'], '5213': [0.61, 0.35, 3, 'good'], '6379': [0.32, 0.19, 2, 'medium'], '5216': [0.32, 0.18, 2, 'medium'], '4691': [0.0, 0.0, 3, 'worst'], '4320': [0.28, 0.23, 3, 'bad'], '5470': [0.14, 0.16, 3, 'worst'], '10609': [0.77, nan, 1, 'excellent'], '4324': [0.37, 0.01, 2, 'medium'], '3508': [0.41, nan, 1, 'medium'], '6616': [0.0, nan, 1, 'worst'], '11094': [0.05, nan, 1, 'worst']}, '1_0': {'5216': [0.29, 0.22, 19, 'medium'], '5203': [0.46, 0.37, 24, 'excellent'], '5211': [0.53, 0.38, 21, 'excellent'], '4320': [0.41, 0.33, 24, 'good'], '5506': [0.5, 0.33, 23, 'excellent'], '4324': [0.37, 0.35, 18, 'good'], '5503': [0.4, 0.3, 24, 'good'], '5470': [0.33, 0.27, 23, 'medium'], '4691': [0.06, 0.14, 23, 'worst'], '5246': [0.08, 0.14, 24, 'worst'], '6379': [0.34, 0.36, 15, 'medium'], '5213': [0.48, 0.31, 21, 'excellent'], '10609': [0.38, 0.39, 8, 'good']}, '2_0': {'4324': [0.36, 0.28, 14, 'good'], '5470': [0.24, 0.2, 17, 'medium'], '5503': [0.41, 0.33, 16, 'excellent'], '5211': [0.41, 0.3, 15, 'excellent'], '5216': [0.4, 0.27, 12, 'excellent'], '4320': [0.2, 0.25, 17, 'bad'], '5506': [0.35, 0.36, 16, 'good'], '5203': [0.29, 0.3, 17, 'medium'], '5246': [0.23, 0.32, 17, 'medium'], '4691': [0.04, 0.08, 14, 'worst'], '5213': [0.48, 0.39, 16, 'excellent'], '6379': [0.22, 0.31, 11, 'medium'], '6616': [0.11, 0.14, 6, 'worst'], '10609': [0.16, 0.16, 6, 'bad']}, '3_0': {'5211': [0.34, 0.27, 10, 'good'], '4320': [0.45, 0.32, 12, 'excellent'], '5216': [0.4, 0.23, 10, 'excellent'], '4324': [0.47, 0.31, 10, 'excellent'], '5470': [0.45, 0.35, 12, 'excellent'], '5503': [0.33, 0.35, 12, 'good'], '7068': [0.3, 0.2, 4, 'medium'], '4691': [0.08, 0.14, 10, 'worst'], '5506': [0.43, 0.37, 10, 'excellent'], '5203': [0.44, 0.36, 12, 'excellent'], '5246': [0.1, 0.12, 12, 'worst'], '5213': [0.42, 0.31, 11, 'excellent'], '10609': [0.36, 0.38, 7, 'good'], '11094': [0.08, 0.09, 5, 'worst'], '6616': [0.34, 0.44, 4, 'good'], '6379': [0.23, 0.18, 6, 'bad']}, '1_1': {'4691': [0.05, 0.1, 7, 'worst'], '11094': [0.23, 0.18, 4, 'medium'], '6400': [0.18, 0.09, 3, 'bad'], '5216': [0.45, 0.38, 7, 'excellent'], '5506': [0.44, 0.37, 8, 'excellent'], '5246': [0.11, 0.14, 10, 'worst'], '5203': [0.47, 0.34, 9, 'excellent'], '5503': [0.45, 0.39, 7, 'excellent'], '6379': [0.5, 0.38, 5, 'excellent'], '10609': [0.48, 0.41, 5, 'excellent'], '5211': [0.15, 0.1, 9, 'bad'], '4320': [0.34, 0.4, 10, 'good'], '5470': [0.09, 0.1, 7, 'worst'], '5213': [0.32, 0.3, 8, 'medium'], '4324': [0.13, 0.14, 7, 'worst']}, '2_1': {'5246': [0.2, 0.28, 11, 'bad'], '5503': [0.27, 0.33, 9, 'medium'], '6400': [0.23, 0.19, 3, 'medium'], '5506': [0.41, 0.14, 9, 'good'], '22102': [0.51, 0.45, 3, 'excellent'], '5203': [0.46, 0.42, 11, 'excellent'], '4691': [0.14, 0.23, 9, 'bad'], '5216': [0.31, 0.16, 6, 'medium'], '11094': [0.17, 0.11, 5, 'bad'], '6616': [0.01, 0.01, 3, 'worst'], '10609': [0.26, 0.25, 7, 'medium'], '5211': [0.46, 0.42, 9, 'excellent'], '5470': [0.37, 0.35, 8, 'good'], '6379': [0.13, 0.09, 7, 'bad'], '4320': [0.15, 0.13, 10, 'bad'], '5213': [0.48, 0.4, 9, 'excellent'], '3508': [0.02, 0.02, 4, 'worst'], '4324': [0.29, 0.35, 7, 'medium']}, '3_1': {'22102': [0.25, 0.2, 2, 'bad'], '5506': [0.61, 0.25, 4, 'excellent'], '5470': [0.43, 0.38, 6, 'good'], '4324': [0.53, 0.41, 3, 'excellent'], '6616': [0.17, 0.26, 3, 'worst'], '7068': [0.52, 0.63, 2, 'excellent'], '5503': [0.18, 0.19, 4, 'bad'], '4320': [0.34, 0.34, 6, 'medium'], '5211': [0.12, 0.2, 3, 'worst'], '5203': [0.42, 0.41, 5, 'good'], '5213': [0.41, 0.33, 5, 'good'], '4691': [0.07, 0.11, 5, 'worst'], '5246': [0.29, 0.48, 4, 'medium'], '6379': [0.1, 0.14, 2, 'worst'], '10609': [0.13, 0.06, 4, 'worst'], '5216': [0.52, 0.67, 2, 'excellent'], '6400': [0.08, 0.0, 2, 'worst']}, '0_3': {'5246': [0.36, nan, 1, 'bad'], '5506': [1.0, nan, 1, 'excellent'], '5213': [0.64, nan, 1, 'good'], '4324': [0.28, nan, 1, 'bad'], '5203': [0.19, nan, 1, 'worst'], '5503': [0.51, nan, 1, 'medium'], '6379': [0.07, nan, 1, 'worst'], '20055': [0.0, nan, 1, 'worst'], '4320': [0.07, nan, 1, 'worst'], '5216': [0.61, nan, 1, 'good'], '10609': [0.19, nan, 1, 'worst']}, '1_3': {'4320': [0.56, nan, 1, 'medium'], '5246': [0.4, nan, 1, 'bad'], '4324': [0.44, nan, 1, 'medium'], '5213': [1.0, nan, 1, 'excellent'], '20055': [0.0, nan, 1, 'worst'], '6616': [0.08, nan, 1, 'worst'], '5506': [0.62, nan, 1, 'good'], '5203': [0.07, nan, 1, 'worst'], '10609': [0.07, nan, 1, 'worst'], '5216': [0.62, nan, 1, 'good'], '5503': [0.18, nan, 1, 'worst'], '5470': [0.16, nan, 1, 'worst']}, '1_4': {'5470': [0.0, nan, 1, 'worst'], '5216': [0.75, nan, 1, 'good'], '5506': [1.0, nan, 1, 'excellent'], '5503': [0.75, nan, 1, 'good'], '6616': [0.0, nan, 1, 'worst']}, '2_2': {'5503': [0.45, 0.06, 2, 'medium'], '5246': [0.17, 0.09, 2, 'bad'], '5203': [0.55, 0.64, 2, 'good'], '5213': [0.34, nan, 1, 'medium'], '5216': [0.17, nan, 1, 'bad'], '10609': [0.01, 0.02, 2, 'worst'], '6379': [0.39, 0.55, 2, 'medium'], '4691': [0.02, 0.02, 2, 'worst'], '5506': [0.0, nan, 1, 'worst'], '4324': [0.5, 0.71, 2, 'good'], '6616': [0.0, nan, 1, 'worst'], '5211': [0.77, nan, 1, 'excellent'], '4320': [0.24, nan, 1, 'bad'], '5470': [0.0, nan, 1, 'worst']}}, 'clos': {'0_1': {'5503': [0.44, 0.22, 5, 'medium'], '5203': [0.68, 0.29, 8, 'excellent'], '6379': [0.6, 0.21, 7, 'good'], '5506': [0.58, 0.26, 7, 'good'], '4691': [0.14, 0.2, 7, 'worst'], '4324': [0.31, 0.22, 5, 'bad'], '4320': [0.66, 0.33, 8, 'excellent'], '5213': [0.63, 0.27, 8, 'excellent'], '5470': [0.55, 0.23, 6, 'good'], '5211': [0.62, 0.27, 7, 'excellent'], '5216': [0.61, 0.44, 4, 'excellent'], '5246': [0.72, 0.19, 8, 'excellent'], '10609': [0.39, 0.3, 5, 'medium']}, '0_2': {'5246': [0.62, 0.17, 3, 'medium'], '5503': [1.0, nan, 1, 'excellent'], '6379': [0.44, 0.4, 3, 'bad'], '5213': [0.75, 0.11, 3, 'good'], '5506': [0.81, 0.04, 2, 'good'], '5211': [0.69, 0.01, 2, 'good'], '5203': [0.7, 0.24, 3, 'good'], '5216': [0.73, nan, 1, 'good'], '5470': [0.89, 0.15, 2, 'excellent'], '4320': [0.75, 0.22, 3, 'good'], '4691': [0.28, 0.39, 2, 'worst'], '4324': [0.55, nan, 1, 'medium'], '10609': [0.22, 0.31, 2, 'worst'], '6616': [0.46, nan, 1, 'bad']}, '1_2': {'5246': [0.73, 0.17, 3, 'excellent'], '5503': [0.91, 0.04, 2, 'excellent'], '5203': [0.89, 0.19, 3, 'excellent'], '5211': [0.7, 0.17, 3, 'good'], '5506': [0.74, 0.23, 3, 'excellent'], '5213': [0.76, 0.08, 3, 'excellent'], '6379': [0.82, 0.09, 2, 'excellent'], '5216': [0.85, 0.11, 2, 'excellent'], '4691': [0.16, 0.27, 3, 'worst'], '4320': [0.77, 0.23, 3, 'excellent'], '5470': [0.77, 0.2, 3, 'excellent'], '10609': [0.13, nan, 1, 'worst'], '4324': [0.74, 0.37, 2, 'excellent'], '3508': [0.41, nan, 1, 'medium'], '6616': [0.0, nan, 1, 'worst'], '11094': [0.65, nan, 1, 'good']}, '1_0': {'5216': [0.61, 0.3, 19, 'excellent'], '5203': [0.65, 0.34, 24, 'excellent'], '5211': [0.64, 0.29, 21, 'excellent'], '4320': [0.66, 0.32, 24, 'excellent'], '5506': [0.56, 0.19, 23, 'good'], '4324': [0.6, 0.28, 18, 'good'], '5503': [0.57, 0.3, 24, 'good'], '5470': [0.62, 0.34, 23, 'excellent'], '4691': [0.11, 0.19, 23, 'worst'], '5246': [0.48, 0.32, 24, 'medium'], '6379': [0.49, 0.29, 15, 'good'], '5213': [0.49, 0.34, 21, 'good'], '10609': [0.73, 0.25, 8, 'excellent']}, '2_0': {'4324': [0.67, 0.32, 14, 'excellent'], '5470': [0.61, 0.3, 17, 'good'], '5503': [0.68, 0.27, 16, 'excellent'], '5211': [0.71, 0.31, 15, 'excellent'], '5216': [0.72, 0.25, 12, 'excellent'], '4320': [0.61, 0.22, 17, 'good'], '5506': [0.58, 0.31, 16, 'good'], '5203': [0.64, 0.26, 17, 'excellent'], '5246': [0.64, 0.22, 17, 'excellent'], '4691': [0.2, 0.16, 14, 'worst'], '5213': [0.6, 0.3, 16, 'good'], '6379': [0.44, 0.32, 11, 'medium'], '6616': [0.44, 0.3, 6, 'medium'], '10609': [0.28, 0.32, 6, 'worst']}, '3_0': {'5211': [0.76, 0.27, 10, 'excellent'], '4320': [0.55, 0.35, 12, 'good'], '5216': [0.71, 0.28, 10, 'excellent'], '4324': [0.61, 0.38, 10, 'good'], '5470': [0.57, 0.25, 12, 'good'], '5503': [0.54, 0.33, 12, 'good'], '7068': [0.36, 0.37, 4, 'bad'], '4691': [0.15, 0.12, 10, 'worst'], '5506': [0.47, 0.2, 10, 'medium'], '5203': [0.54, 0.33, 12, 'good'], '5246': [0.61, 0.3, 12, 'good'], '5213': [0.45, 0.36, 11, 'medium'], '10609': [0.39, 0.23, 7, 'bad'], '11094': [0.51, 0.38, 5, 'medium'], '6616': [0.5, 0.35, 4, 'medium'], '6379': [0.65, 0.29, 6, 'excellent']}, '1_1': {'4691': [0.32, 0.33, 7, 'worst'], '11094': [0.48, 0.39, 4, 'bad'], '6400': [0.49, 0.44, 3, 'bad'], '5216': [0.63, 0.23, 7, 'good'], '5506': [0.6, 0.27, 8, 'medium'], '5246': [0.49, 0.37, 10, 'bad'], '5203': [0.76, 0.23, 9, 'excellent'], '5503': [0.8, 0.3, 7, 'excellent'], '6379': [0.45, 0.17, 5, 'bad'], '10609': [0.41, 0.25, 5, 'worst'], '5211': [0.46, 0.29, 9, 'bad'], '4320': [0.63, 0.36, 10, 'good'], '5470': [0.54, 0.24, 7, 'medium'], '5213': [0.62, 0.17, 8, 'good'], '4324': [0.51, 0.34, 7, 'bad']}, '2_1': {'5246': [0.53, 0.35, 11, 'good'], '5503': [0.57, 0.35, 9, 'good'], '6400': [0.56, 0.48, 3, 'good'], '5506': [0.67, 0.3, 9, 'excellent'], '22102': [0.52, 0.26, 3, 'good'], '5203': [0.64, 0.37, 11, 'excellent'], '4691': [0.2, 0.19, 9, 'worst'], '5216': [0.7, 0.3, 6, 'excellent'], '11094': [0.59, 0.31, 5, 'good'], '6616': [0.47, 0.23, 3, 'medium'], '10609': [0.49, 0.35, 7, 'medium'], '5211': [0.62, 0.31, 9, 'excellent'], '5470': [0.48, 0.3, 8, 'medium'], '6379': [0.64, 0.26, 7, 'excellent'], '4320': [0.59, 0.36, 10, 'good'], '5213': [0.49, 0.27, 9, 'medium'], '3508': [0.38, 0.32, 4, 'bad'], '4324': [0.52, 0.37, 7, 'good']}, '3_1': {'22102': [0.63, 0.52, 2, 'good'], '5506': [0.45, 0.39, 4, 'bad'], '5470': [0.55, 0.35, 6, 'medium'], '4324': [0.76, 0.16, 3, 'excellent'], '6616': [0.54, 0.42, 3, 'medium'], '7068': [0.46, 0.16, 2, 'bad'], '5503': [0.47, 0.36, 4, 'bad'], '4320': [0.74, 0.31, 6, 'excellent'], '5211': [0.43, 0.39, 3, 'worst'], '5203': [0.61, 0.37, 5, 'medium'], '5213': [0.65, 0.3, 5, 'good'], '4691': [0.35, 0.24, 5, 'worst'], '5246': [0.77, 0.07, 4, 'excellent'], '6379': [0.5, 0.71, 2, 'bad'], '10609': [0.56, 0.3, 4, 'medium'], '5216': [0.6, 0.03, 2, 'medium'], '6400': [0.8, 0.02, 2, 'excellent']}, '0_3': {'5246': [0.79, nan, 1, 'good'], '5506': [0.79, nan, 1, 'good'], '5213': [0.61, nan, 1, 'good'], '4324': [0.79, nan, 1, 'good'], '5203': [1.0, nan, 1, 'excellent'], '5503': [0.79, nan, 1, 'good'], '6379': [0.46, nan, 1, 'medium'], '20055': [0.0, nan, 1, 'worst'], '4320': [0.32, nan, 1, 'bad'], '5216': [1.0, nan, 1, 'excellent'], '10609': [0.46, nan, 1, 'medium']}, '1_3': {'4320': [1.0, nan, 1, 'excellent'], '5246': [1.0, nan, 1, 'excellent'], '4324': [0.72, nan, 1, 'good'], '5213': [0.85, nan, 1, 'excellent'], '20055': [0.0, nan, 1, 'worst'], '6616': [0.6, nan, 1, 'medium'], '5506': [0.85, nan, 1, 'excellent'], '5203': [0.4, nan, 1, 'bad'], '10609': [0.24, nan, 1, 'bad'], '5216': [0.85, nan, 1, 'excellent'], '5503': [0.85, nan, 1, 'excellent'], '5470': [0.72, nan, 1, 'good']}, '1_4': {'5470': [0.0, nan, 1, 'worst'], '5216': [0.62, nan, 1, 'good'], '5506': [0.83, nan, 1, 'excellent'], '5503': [0.94, nan, 1, 'excellent'], '6616': [1.0, nan, 1, 'excellent']}, '2_2': {'5503': [0.59, 0.01, 2, 'good'], '5246': [0.76, 0.2, 2, 'excellent'], '5203': [0.76, 0.34, 2, 'excellent'], '5213': [0.64, nan, 1, 'good'], '5216': [0.82, nan, 1, 'excellent'], '10609': [0.8, 0.07, 2, 'excellent'], '6379': [0.71, 0.4, 2, 'excellent'], '4691': [0.32, 0.45, 2, 'bad'], '5506': [0.0, nan, 1, 'worst'], '4324': [0.61, 0.17, 2, 'good'], '6616': [0.47, nan, 1, 'medium'], '5211': [0.51, nan, 1, 'good'], '4320': [0.77, nan, 1, 'excellent'], '5470': [0.43, nan, 1, 'medium']}}, 'eigenv': {'0_1': {'5203': [0.56, 0.32, 7, 'medium'], '5470': [0.47, 0.3, 6, 'medium'], '4691': [0.13, 0.15, 5, 'worst'], '5211': [0.5, 0.35, 6, 'medium'], '5506': [0.4, 0.29, 6, 'bad'], '5213': [0.5, 0.33, 6, 'medium'], '6379': [0.51, 0.35, 5, 'medium'], '5503': [0.54, 0.33, 3, 'medium'], '5216': [0.56, 0.38, 4, 'medium'], '4320': [0.58, 0.26, 7, 'medium'], '5246': [0.59, 0.32, 7, 'medium'], '20055': [0.0, 0.0, 2, 'worst'], '10609': [0.23, 0.23, 4, 'bad'], '4324': [0.69, 0.27, 4, 'good'], '3508': [1.0, 0.0, 2, 'excellent']}, '0_2': {'5246': [0.13, nan, 1, 'worst'], '6379': [0.0, nan, 1, 'worst'], '5203': [0.75, nan, 1, 'good'], '4324': [1.0, nan, 1, 'excellent'], '10609': [0.38, nan, 1, 'bad'], '4320': [0.0, nan, 1, 'worst'], '5213': [0.67, nan, 1, 'good']}, '1_2': {'5246': [0.65, 0.16, 2, 'good'], '5503': [0.77, 0.01, 2, 'good'], '5203': [0.95, 0.07, 2, 'excellent'], '5211': [0.59, 0.11, 2, 'medium'], '5506': [0.68, 0.18, 2, 'good'], '5213': [0.66, 0.15, 2, 'good'], '6379': [0.77, nan, 1, 'good'], '5216': [0.74, 0.12, 2, 'good'], '4691': [0.0, 0.0, 2, 'worst'], '4320': [0.71, 0.32, 2, 'good'], '5470': [0.75, 0.1, 2, 'good'], '4324': [1.0, nan, 1, 'excellent'], '11094': [0.63, nan, 1, 'good']}, '1_0': {'5216': [0.77, 0.16, 17, 'excellent'], '5203': [0.72, 0.27, 23, 'excellent'], '5211': [0.73, 0.26, 19, 'excellent'], '4320': [0.8, 0.21, 22, 'excellent'], '5506': [0.65, 0.28, 21, 'excellent'], '4324': [0.65, 0.3, 17, 'excellent'], '5503': [0.78, 0.15, 23, 'excellent'], '5470': [0.66, 0.27, 22, 'excellent'], '4691': [0.04, 0.1, 21, 'worst'], '5246': [0.53, 0.33, 23, 'good'], '6379': [0.63, 0.29, 14, 'good'], '5213': [0.55, 0.27, 20, 'good'], '6616': [0.51, 0.33, 6, 'good'], '10609': [0.67, 0.21, 7, 'excellent']}, '2_0': {'5213': [0.58, 0.2, 15, 'good'], '5503': [0.82, 0.16, 13, 'excellent'], '5470': [0.68, 0.29, 15, 'excellent'], '5211': [0.66, 0.27, 14, 'good'], '5203': [0.67, 0.21, 15, 'excellent'], '6379': [0.6, 0.25, 10, 'good'], '5216': [0.77, 0.15, 11, 'excellent'], '5506': [0.61, 0.26, 13, 'good'], '5246': [0.74, 0.18, 15, 'excellent'], '4320': [0.71, 0.19, 15, 'excellent'], '4691': [0.0, 0.01, 13, 'worst'], '4324': [0.73, 0.18, 12, 'excellent'], '6400': [0.55, 0.16, 4, 'good'], '6616': [0.43, 0.27, 6, 'medium'], '10609': [0.36, 0.32, 5, 'medium'], '11094': [0.83, 0.14, 4, 'excellent']}, '3_0': {'5211': [0.71, 0.31, 10, 'excellent'], '4320': [0.76, 0.22, 11, 'excellent'], '5216': [0.81, 0.14, 9, 'excellent'], '4324': [0.71, 0.2, 9, 'excellent'], '5470': [0.58, 0.32, 11, 'good'], '5503': [0.71, 0.22, 11, 'excellent'], '7068': [0.55, 0.38, 4, 'good'], '4691': [0.09, 0.14, 9, 'worst'], '5506': [0.58, 0.2, 9, 'good'], '5203': [0.59, 0.34, 11, 'good'], '5246': [0.7, 0.24, 11, 'excellent'], '5213': [0.39, 0.31, 10, 'medium'], '20055': [0.13, 0.12, 3, 'worst'], '10609': [0.46, 0.24, 6, 'medium'], '11094': [0.47, 0.35, 5, 'medium'], '6400': [0.7, 0.23, 3, 'excellent'], '6616': [0.68, 0.2, 4, 'excellent'], '6379': [0.77, 0.14, 6, 'excellent']}, '1_1': {'4691': [0.08, 0.11, 5, 'worst'], '11094': [0.75, 0.12, 2, 'excellent'], '6400': [0.5, 0.11, 2, 'medium'], '5216': [0.57, 0.3, 5, 'good'], '5506': [0.73, 0.22, 6, 'excellent'], '5246': [0.55, 0.39, 7, 'good'], '5203': [0.73, 0.35, 7, 'excellent'], '5503': [0.83, 0.13, 6, 'excellent'], '4320': [0.66, 0.39, 6, 'good'], '5470': [0.7, 0.21, 4, 'excellent'], '4324': [0.52, 0.17, 5, 'medium'], '5213': [0.6, 0.24, 6, 'good'], '5211': [0.53, 0.23, 6, 'good'], '6379': [0.52, 0.2, 2, 'medium']}, '2_1': {'5246': [0.66, 0.32, 10, 'excellent'], '5503': [0.64, 0.31, 8, 'excellent'], '5506': [0.62, 0.28, 9, 'excellent'], '5203': [0.69, 0.27, 10, 'excellent'], '4691': [0.11, 0.13, 9, 'worst'], '5216': [0.7, 0.15, 6, 'excellent'], '11094': [0.6, 0.16, 4, 'good'], '6616': [0.35, 0.3, 3, 'bad'], '10609': [0.42, 0.28, 6, 'medium'], '5211': [0.73, 0.22, 9, 'excellent'], '5470': [0.49, 0.37, 7, 'good'], '6379': [0.51, 0.25, 7, 'good'], '4320': [0.71, 0.22, 9, 'excellent'], '5213': [0.54, 0.3, 8, 'good'], '3508': [0.3, 0.21, 4, 'bad'], '4324': [0.46, 0.34, 7, 'medium']}, '3_1': {'22102': [0.65, 0.37, 2, 'good'], '5506': [0.61, 0.34, 3, 'good'], '5470': [0.8, 0.18, 5, 'excellent'], '4324': [0.95, 0.05, 3, 'excellent'], '6616': [0.54, 0.34, 3, 'medium'], '7068': [0.35, 0.38, 2, 'bad'], '5503': [0.46, 0.4, 3, 'medium'], '4320': [0.55, 0.45, 5, 'medium'], '5211': [0.22, 0.28, 3, 'worst'], '5203': [0.67, 0.33, 4, 'good'], '5213': [0.72, 0.34, 4, 'good'], '4691': [0.07, 0.09, 4, 'worst'], '5246': [0.66, 0.17, 4, 'good'], '10609': [0.5, 0.37, 3, 'medium'], '6400': [0.64, 0.03, 2, 'good']}, '0_3': {'5246': [0.76, nan, 1, 'good'], '5506': [0.72, nan, 1, 'good'], '5213': [0.54, nan, 1, 'medium'], '4324': [0.82, nan, 1, 'excellent'], '5203': [0.96, nan, 1, 'excellent'], '5503': [0.87, nan, 1, 'excellent'], '6379': [0.58, nan, 1, 'medium'], '20055': [0.0, nan, 1, 'worst'], '4320': [0.39, nan, 1, 'bad'], '5216': [1.0, nan, 1, 'excellent'], '10609': [0.43, nan, 1, 'medium']}, '1_3': {'4320': [0.95, nan, 1, 'excellent'], '5246': [1.0, nan, 1, 'excellent'], '4324': [0.68, nan, 1, 'good'], '5213': [0.68, nan, 1, 'good'], '20055': [0.0, nan, 1, 'worst'], '6616': [0.63, nan, 1, 'good'], '5506': [0.69, nan, 1, 'good'], '5203': [0.35, nan, 1, 'bad'], '10609': [0.31, nan, 1, 'bad'], '5216': [0.84, nan, 1, 'excellent'], '5503': [0.99, nan, 1, 'excellent'], '5470': [0.77, nan, 1, 'good']}}, 'ecce': {'0_1': {'5203': [0.36, 0.48, 7, 'worst'], '5470': [0.42, 0.49, 6, 'bad'], '4691': [0.7, 0.45, 5, 'good'], '5211': [0.58, 0.49, 6, 'medium'], '5506': [0.67, 0.52, 6, 'medium'], '5213': [0.42, 0.49, 6, 'bad'], '6379': [0.5, 0.5, 5, 'bad'], '5503': [1.0, 0.0, 3, 'excellent'], '5216': [0.62, 0.48, 4, 'medium'], '4320': [0.21, 0.39, 7, 'worst'], '5246': [0.93, 0.19, 7, 'excellent'], '20055': [0.75, 0.35, 2, 'good'], '10609': [0.5, 0.58, 4, 'bad'], '4324': [0.38, 0.48, 4, 'bad'], '3508': [1.0, 0.0, 2, 'excellent']}, '0_2': {'5246': [0.5, nan, 1, 'medium'], '6379': [0.5, nan, 1, 'medium'], '5203': [0.5, nan, 1, 'medium'], '4324': [0.0, nan, 1, 'worst'], '10609': [0.0, nan, 1, 'worst'], '4320': [1.0, nan, 1, 'excellent'], '5213': [0.5, nan, 1, 'medium']}, '1_2': {'5246': [0.75, 0.35, 2, 'good'], '5503': [0.25, 0.35, 2, 'bad'], '5203': [0.0, 0.0, 2, 'worst'], '5211': [0.25, 0.35, 2, 'bad'], '5506': [0.25, 0.35, 2, 'bad'], '5213': [0.25, 0.35, 2, 'bad'], '6379': [0.5, nan, 1, 'medium'], '5216': [0.25, 0.35, 2, 'bad'], '4691': [0.25, 0.35, 2, 'bad'], '4320': [0.75, 0.35, 2, 'good'], '5470': [0.25, 0.35, 2, 'bad'], '4324': [0.5, nan, 1, 'medium'], '11094': [1.0, nan, 1, 'excellent']}, '1_0': {'5216': [0.46, 0.43, 16, 'medium'], '5203': [0.31, 0.39, 22, 'worst'], '5211': [0.27, 0.35, 18, 'worst'], '4320': [0.35, 0.42, 21, 'bad'], '5506': [0.25, 0.38, 20, 'worst'], '4324': [0.24, 0.36, 16, 'worst'], '5503': [0.29, 0.36, 22, 'worst'], '5470': [0.4, 0.44, 21, 'bad'], '4691': [0.37, 0.42, 20, 'bad'], '5246': [0.82, 0.36, 22, 'excellent'], '6379': [0.38, 0.4, 14, 'bad'], '5213': [0.28, 0.42, 19, 'worst'], '6616': [0.33, 0.52, 6, 'worst'], '10609': [0.21, 0.27, 7, 'worst']}, '2_0': {'5213': [0.07, 0.18, 14, 'worst'], '5503': [0.21, 0.4, 12, 'bad'], '5470': [0.16, 0.3, 14, 'bad'], '5211': [0.23, 0.37, 13, 'bad'], '5203': [0.09, 0.18, 14, 'worst'], '6379': [0.28, 0.34, 10, 'medium'], '5216': [0.14, 0.23, 11, 'worst'], '5506': [0.1, 0.2, 12, 'worst'], '5246': [0.48, 0.43, 14, 'excellent'], '4320': [0.42, 0.43, 14, 'excellent'], '4691': [0.42, 0.42, 12, 'excellent'], '4324': [0.2, 0.4, 11, 'bad'], '6400': [0.25, 0.5, 4, 'medium'], '6616': [0.46, 0.46, 6, 'excellent'], '10609': [0.25, 0.43, 5, 'medium'], '11094': [0.25, 0.29, 4, 'medium']}, '3_0': {'5211': [0.1, 0.32, 10, 'worst'], '4320': [0.45, 0.47, 11, 'good'], '5216': [0.28, 0.36, 9, 'bad'], '4324': [0.28, 0.36, 9, 'bad'], '5470': [0.27, 0.41, 11, 'bad'], '5503': [0.45, 0.47, 11, 'good'], '7068': [0.38, 0.48, 4, 'medium'], '4691': [0.28, 0.36, 9, 'bad'], '5506': [0.28, 0.44, 9, 'bad'], '5203': [0.23, 0.41, 11, 'bad'], '5246': [0.59, 0.44, 11, 'excellent'], '5213': [0.1, 0.21, 10, 'worst'], '20055': [0.33, 0.29, 3, 'medium'], '10609': [0.33, 0.41, 6, 'medium'], '11094': [0.3, 0.45, 5, 'medium'], '6400': [0.17, 0.29, 3, 'worst'], '6616': [0.5, 0.58, 4, 'excellent'], '6379': [0.33, 0.41, 6, 'medium']}, '1_1': {'4691': [0.3, 0.45, 5, 'medium'], '11094': [0.0, 0.0, 2, 'worst'], '6400': [0.0, 0.0, 2, 'worst'], '5216': [0.2, 0.45, 5, 'bad'], '5506': [0.0, 0.0, 6, 'worst'], '5246': [0.71, 0.49, 7, 'excellent'], '5203': [0.21, 0.39, 7, 'bad'], '5503': [0.17, 0.41, 6, 'bad'], '4320': [0.5, 0.55, 6, 'good'], '5470': [0.25, 0.5, 4, 'bad'], '4324': [0.6, 0.55, 5, 'excellent'], '5213': [0.33, 0.52, 6, 'medium'], '5211': [0.17, 0.41, 6, 'bad'], '6379': [0.0, 0.0, 2, 'worst']}, '2_1': {'5246': [0.72, 0.37, 9, 'excellent'], '5503': [0.36, 0.45, 8, 'medium'], '5506': [0.06, 0.13, 9, 'worst'], '5203': [0.2, 0.35, 9, 'bad'], '4691': [0.18, 0.33, 9, 'worst'], '5216': [0.14, 0.22, 6, 'worst'], '11094': [0.08, 0.17, 4, 'worst'], '6616': [0.61, 0.35, 3, 'excellent'], '10609': [0.39, 0.49, 6, 'medium'], '5211': [0.22, 0.37, 9, 'bad'], '5470': [0.35, 0.34, 7, 'medium'], '6379': [0.26, 0.38, 7, 'bad'], '4320': [0.39, 0.49, 9, 'medium'], '5213': [0.1, 0.2, 8, 'worst'], '3508': [0.71, 0.34, 4, 'excellent'], '4324': [0.45, 0.42, 7, 'medium']}, '3_1': {'22102': [0.5, 0.71, 2, 'good'], '5506': [0.17, 0.29, 3, 'bad'], '5470': [0.0, 0.0, 4, 'worst'], '4324': [0.0, 0.0, 3, 'worst'], '6616': [0.17, 0.29, 3, 'bad'], '7068': [0.75, 0.35, 2, 'excellent'], '5503': [0.5, 0.5, 3, 'good'], '4320': [0.62, 0.48, 4, 'excellent'], '5211': [0.0, 0.0, 3, 'worst'], '5203': [0.0, 0.0, 4, 'worst'], '5213': [0.0, 0.0, 4, 'worst'], '4691': [0.25, 0.5, 4, 'bad'], '5246': [0.38, 0.48, 4, 'medium'], '10609': [0.0, 0.0, 3, 'worst'], '6400': [0.25, 0.35, 2, 'bad']}, '0_3': {'5246': [0.0, nan, 1, 'worst'], '5506': [0.0, nan, 1, 'worst'], '5213': [0.0, nan, 1, 'worst'], '4324': [0.0, nan, 1, 'worst'], '5203': [0.0, nan, 1, 'worst'], '5503': [1.0, nan, 1, 'excellent'], '6379': [0.0, nan, 1, 'worst'], '20055': [0.0, nan, 1, 'worst'], '4320': [0.0, nan, 1, 'worst'], '5216': [0.0, nan, 1, 'worst'], '10609': [0.0, nan, 1, 'worst']}, '1_3': {'4320': [0.0, nan, 1, 'worst'], '5246': [1.0, nan, 1, 'excellent'], '4324': [0.0, nan, 1, 'worst'], '5213': [0.0, nan, 1, 'worst'], '20055': [1.0, nan, 1, 'excellent'], '6616': [1.0, nan, 1, 'excellent'], '5506': [0.0, nan, 1, 'worst'], '5203': [0.0, nan, 1, 'worst'], '10609': [0.0, nan, 1, 'worst'], '5216': [0.0, nan, 1, 'worst'], '5503': [1.0, nan, 1, 'excellent'], '5470': [1.0, nan, 1, 'excellent']}}}\n"
     ]
    }
   ],
   "source": [
    "print(finalDict)"
   ]
  },
  {
   "cell_type": "code",
   "execution_count": 102,
   "metadata": {},
   "outputs": [],
   "source": [
    "b = {}\n",
    "for element in finalDict:\n",
    "    concatenated_dict = {}\n",
    "    for score in finalDict[element]:\n",
    "        df = pd.DataFrame.from_dict(finalDict[element][score], orient=\"index\")\n",
    "        dfExcellent = df[(df[3] == \"excellent\") | (df[3] == \"good\")]\n",
    "        dfExcellent.set_index(dfExcellent.index, inplace=True)\n",
    "        a = dfExcellent.T.to_dict(orient=\"list\")\n",
    "        concatenated_dict[score] = a\n",
    "    b[element] = concatenated_dict"
   ]
  },
  {
   "cell_type": "code",
   "execution_count": 121,
   "metadata": {},
   "outputs": [
    {
     "name": "stdout",
     "output_type": "stream",
     "text": [
      "             inD       outD      clust       betw       clos     eigenv  \\\n",
      "5203   excellent       good       good      worst  excellent      worst   \n",
      "6379   excellent       good  excellent      worst       good      worst   \n",
      "5506        good      worst       good      worst       good      worst   \n",
      "4320   excellent       good      worst       good  excellent      worst   \n",
      "5213   excellent       good      worst       good  excellent      worst   \n",
      "5470        good  excellent       good      worst       good      worst   \n",
      "5211   excellent  excellent      worst       good  excellent      worst   \n",
      "5216   excellent      worst  excellent      worst  excellent      worst   \n",
      "5246   excellent      worst  excellent      worst  excellent      worst   \n",
      "4691       worst      worst  excellent      worst      worst      worst   \n",
      "10609      worst      worst  excellent      worst      worst      worst   \n",
      "4324       worst      worst      worst  excellent      worst       good   \n",
      "3508       worst      worst      worst      worst      worst  excellent   \n",
      "5503       worst      worst      worst      worst      worst      worst   \n",
      "20055      worst      worst      worst      worst      worst      worst   \n",
      "\n",
      "            ecce  \n",
      "5203       worst  \n",
      "6379       worst  \n",
      "5506       worst  \n",
      "4320       worst  \n",
      "5213       worst  \n",
      "5470       worst  \n",
      "5211       worst  \n",
      "5216       worst  \n",
      "5246   excellent  \n",
      "4691        good  \n",
      "10609      worst  \n",
      "4324       worst  \n",
      "3508   excellent  \n",
      "5503   excellent  \n",
      "20055       good  \n",
      "      inD  outD  clust  betw  clos  eigenv  ecce\n",
      "5246    4     0      4     0     4       0     4\n",
      "5211    4     4      0     3     4       0     0\n",
      "5203    4     3      3     0     4       0     0\n",
      "6379    4     3      4     0     3       0     0\n",
      "4320    4     3      0     3     4       0     0\n"
     ]
    },
    {
     "data": {
      "application/vnd.plotly.v1+json": {
       "config": {
        "plotlyServerURL": "https://plot.ly"
       },
       "data": [
        {
         "fill": "toself",
         "name": "Player-5246",
         "opacity": 0.5,
         "r": [
          4,
          0,
          4,
          0,
          4,
          0,
          4
         ],
         "showlegend": true,
         "theta": [
          "inD",
          "outD",
          "clust",
          "betw",
          "clos",
          "eigenv",
          "ecce"
         ],
         "type": "scatterpolar"
        },
        {
         "fill": "toself",
         "name": "Player-5211",
         "opacity": 0.5,
         "r": [
          4,
          4,
          0,
          3,
          4,
          0,
          0
         ],
         "showlegend": true,
         "theta": [
          "inD",
          "outD",
          "clust",
          "betw",
          "clos",
          "eigenv",
          "ecce"
         ],
         "type": "scatterpolar"
        },
        {
         "fill": "toself",
         "name": "Player-5203",
         "opacity": 0.5,
         "r": [
          4,
          3,
          3,
          0,
          4,
          0,
          0
         ],
         "showlegend": true,
         "theta": [
          "inD",
          "outD",
          "clust",
          "betw",
          "clos",
          "eigenv",
          "ecce"
         ],
         "type": "scatterpolar"
        },
        {
         "fill": "toself",
         "name": "Player-6379",
         "opacity": 0.5,
         "r": [
          4,
          3,
          4,
          0,
          3,
          0,
          0
         ],
         "showlegend": true,
         "theta": [
          "inD",
          "outD",
          "clust",
          "betw",
          "clos",
          "eigenv",
          "ecce"
         ],
         "type": "scatterpolar"
        },
        {
         "fill": "toself",
         "name": "Player-4320",
         "opacity": 0.5,
         "r": [
          4,
          3,
          0,
          3,
          4,
          0,
          0
         ],
         "showlegend": true,
         "theta": [
          "inD",
          "outD",
          "clust",
          "betw",
          "clos",
          "eigenv",
          "ecce"
         ],
         "type": "scatterpolar"
        }
       ],
       "layout": {
        "font": {
         "size": 13
        },
        "legend": {
         "x": 0.8,
         "xanchor": "left",
         "y": 1,
         "yanchor": "top"
        },
        "polar": {
         "radialaxis": {
          "angle": 45,
          "gridwidth": 2,
          "range": [
           0,
           4
          ],
          "tickangle": 45,
          "ticktext": [
           "worst",
           "",
           "",
           "good",
           "excellent"
          ],
          "tickvals": [
           0,
           1,
           2,
           3,
           4,
           5,
           6
          ],
          "tickwidth": 10,
          "visible": true
         }
        },
        "template": {
         "data": {
          "bar": [
           {
            "error_x": {
             "color": "#2a3f5f"
            },
            "error_y": {
             "color": "#2a3f5f"
            },
            "marker": {
             "line": {
              "color": "#E5ECF6",
              "width": 0.5
             },
             "pattern": {
              "fillmode": "overlay",
              "size": 10,
              "solidity": 0.2
             }
            },
            "type": "bar"
           }
          ],
          "barpolar": [
           {
            "marker": {
             "line": {
              "color": "#E5ECF6",
              "width": 0.5
             },
             "pattern": {
              "fillmode": "overlay",
              "size": 10,
              "solidity": 0.2
             }
            },
            "type": "barpolar"
           }
          ],
          "carpet": [
           {
            "aaxis": {
             "endlinecolor": "#2a3f5f",
             "gridcolor": "white",
             "linecolor": "white",
             "minorgridcolor": "white",
             "startlinecolor": "#2a3f5f"
            },
            "baxis": {
             "endlinecolor": "#2a3f5f",
             "gridcolor": "white",
             "linecolor": "white",
             "minorgridcolor": "white",
             "startlinecolor": "#2a3f5f"
            },
            "type": "carpet"
           }
          ],
          "choropleth": [
           {
            "colorbar": {
             "outlinewidth": 0,
             "ticks": ""
            },
            "type": "choropleth"
           }
          ],
          "contour": [
           {
            "colorbar": {
             "outlinewidth": 0,
             "ticks": ""
            },
            "colorscale": [
             [
              0,
              "#0d0887"
             ],
             [
              0.1111111111111111,
              "#46039f"
             ],
             [
              0.2222222222222222,
              "#7201a8"
             ],
             [
              0.3333333333333333,
              "#9c179e"
             ],
             [
              0.4444444444444444,
              "#bd3786"
             ],
             [
              0.5555555555555556,
              "#d8576b"
             ],
             [
              0.6666666666666666,
              "#ed7953"
             ],
             [
              0.7777777777777778,
              "#fb9f3a"
             ],
             [
              0.8888888888888888,
              "#fdca26"
             ],
             [
              1,
              "#f0f921"
             ]
            ],
            "type": "contour"
           }
          ],
          "contourcarpet": [
           {
            "colorbar": {
             "outlinewidth": 0,
             "ticks": ""
            },
            "type": "contourcarpet"
           }
          ],
          "heatmap": [
           {
            "colorbar": {
             "outlinewidth": 0,
             "ticks": ""
            },
            "colorscale": [
             [
              0,
              "#0d0887"
             ],
             [
              0.1111111111111111,
              "#46039f"
             ],
             [
              0.2222222222222222,
              "#7201a8"
             ],
             [
              0.3333333333333333,
              "#9c179e"
             ],
             [
              0.4444444444444444,
              "#bd3786"
             ],
             [
              0.5555555555555556,
              "#d8576b"
             ],
             [
              0.6666666666666666,
              "#ed7953"
             ],
             [
              0.7777777777777778,
              "#fb9f3a"
             ],
             [
              0.8888888888888888,
              "#fdca26"
             ],
             [
              1,
              "#f0f921"
             ]
            ],
            "type": "heatmap"
           }
          ],
          "heatmapgl": [
           {
            "colorbar": {
             "outlinewidth": 0,
             "ticks": ""
            },
            "colorscale": [
             [
              0,
              "#0d0887"
             ],
             [
              0.1111111111111111,
              "#46039f"
             ],
             [
              0.2222222222222222,
              "#7201a8"
             ],
             [
              0.3333333333333333,
              "#9c179e"
             ],
             [
              0.4444444444444444,
              "#bd3786"
             ],
             [
              0.5555555555555556,
              "#d8576b"
             ],
             [
              0.6666666666666666,
              "#ed7953"
             ],
             [
              0.7777777777777778,
              "#fb9f3a"
             ],
             [
              0.8888888888888888,
              "#fdca26"
             ],
             [
              1,
              "#f0f921"
             ]
            ],
            "type": "heatmapgl"
           }
          ],
          "histogram": [
           {
            "marker": {
             "pattern": {
              "fillmode": "overlay",
              "size": 10,
              "solidity": 0.2
             }
            },
            "type": "histogram"
           }
          ],
          "histogram2d": [
           {
            "colorbar": {
             "outlinewidth": 0,
             "ticks": ""
            },
            "colorscale": [
             [
              0,
              "#0d0887"
             ],
             [
              0.1111111111111111,
              "#46039f"
             ],
             [
              0.2222222222222222,
              "#7201a8"
             ],
             [
              0.3333333333333333,
              "#9c179e"
             ],
             [
              0.4444444444444444,
              "#bd3786"
             ],
             [
              0.5555555555555556,
              "#d8576b"
             ],
             [
              0.6666666666666666,
              "#ed7953"
             ],
             [
              0.7777777777777778,
              "#fb9f3a"
             ],
             [
              0.8888888888888888,
              "#fdca26"
             ],
             [
              1,
              "#f0f921"
             ]
            ],
            "type": "histogram2d"
           }
          ],
          "histogram2dcontour": [
           {
            "colorbar": {
             "outlinewidth": 0,
             "ticks": ""
            },
            "colorscale": [
             [
              0,
              "#0d0887"
             ],
             [
              0.1111111111111111,
              "#46039f"
             ],
             [
              0.2222222222222222,
              "#7201a8"
             ],
             [
              0.3333333333333333,
              "#9c179e"
             ],
             [
              0.4444444444444444,
              "#bd3786"
             ],
             [
              0.5555555555555556,
              "#d8576b"
             ],
             [
              0.6666666666666666,
              "#ed7953"
             ],
             [
              0.7777777777777778,
              "#fb9f3a"
             ],
             [
              0.8888888888888888,
              "#fdca26"
             ],
             [
              1,
              "#f0f921"
             ]
            ],
            "type": "histogram2dcontour"
           }
          ],
          "mesh3d": [
           {
            "colorbar": {
             "outlinewidth": 0,
             "ticks": ""
            },
            "type": "mesh3d"
           }
          ],
          "parcoords": [
           {
            "line": {
             "colorbar": {
              "outlinewidth": 0,
              "ticks": ""
             }
            },
            "type": "parcoords"
           }
          ],
          "pie": [
           {
            "automargin": true,
            "type": "pie"
           }
          ],
          "scatter": [
           {
            "fillpattern": {
             "fillmode": "overlay",
             "size": 10,
             "solidity": 0.2
            },
            "type": "scatter"
           }
          ],
          "scatter3d": [
           {
            "line": {
             "colorbar": {
              "outlinewidth": 0,
              "ticks": ""
             }
            },
            "marker": {
             "colorbar": {
              "outlinewidth": 0,
              "ticks": ""
             }
            },
            "type": "scatter3d"
           }
          ],
          "scattercarpet": [
           {
            "marker": {
             "colorbar": {
              "outlinewidth": 0,
              "ticks": ""
             }
            },
            "type": "scattercarpet"
           }
          ],
          "scattergeo": [
           {
            "marker": {
             "colorbar": {
              "outlinewidth": 0,
              "ticks": ""
             }
            },
            "type": "scattergeo"
           }
          ],
          "scattergl": [
           {
            "marker": {
             "colorbar": {
              "outlinewidth": 0,
              "ticks": ""
             }
            },
            "type": "scattergl"
           }
          ],
          "scattermapbox": [
           {
            "marker": {
             "colorbar": {
              "outlinewidth": 0,
              "ticks": ""
             }
            },
            "type": "scattermapbox"
           }
          ],
          "scatterpolar": [
           {
            "marker": {
             "colorbar": {
              "outlinewidth": 0,
              "ticks": ""
             }
            },
            "type": "scatterpolar"
           }
          ],
          "scatterpolargl": [
           {
            "marker": {
             "colorbar": {
              "outlinewidth": 0,
              "ticks": ""
             }
            },
            "type": "scatterpolargl"
           }
          ],
          "scatterternary": [
           {
            "marker": {
             "colorbar": {
              "outlinewidth": 0,
              "ticks": ""
             }
            },
            "type": "scatterternary"
           }
          ],
          "surface": [
           {
            "colorbar": {
             "outlinewidth": 0,
             "ticks": ""
            },
            "colorscale": [
             [
              0,
              "#0d0887"
             ],
             [
              0.1111111111111111,
              "#46039f"
             ],
             [
              0.2222222222222222,
              "#7201a8"
             ],
             [
              0.3333333333333333,
              "#9c179e"
             ],
             [
              0.4444444444444444,
              "#bd3786"
             ],
             [
              0.5555555555555556,
              "#d8576b"
             ],
             [
              0.6666666666666666,
              "#ed7953"
             ],
             [
              0.7777777777777778,
              "#fb9f3a"
             ],
             [
              0.8888888888888888,
              "#fdca26"
             ],
             [
              1,
              "#f0f921"
             ]
            ],
            "type": "surface"
           }
          ],
          "table": [
           {
            "cells": {
             "fill": {
              "color": "#EBF0F8"
             },
             "line": {
              "color": "white"
             }
            },
            "header": {
             "fill": {
              "color": "#C8D4E3"
             },
             "line": {
              "color": "white"
             }
            },
            "type": "table"
           }
          ]
         },
         "layout": {
          "annotationdefaults": {
           "arrowcolor": "#2a3f5f",
           "arrowhead": 0,
           "arrowwidth": 1
          },
          "autotypenumbers": "strict",
          "coloraxis": {
           "colorbar": {
            "outlinewidth": 0,
            "ticks": ""
           }
          },
          "colorscale": {
           "diverging": [
            [
             0,
             "#8e0152"
            ],
            [
             0.1,
             "#c51b7d"
            ],
            [
             0.2,
             "#de77ae"
            ],
            [
             0.3,
             "#f1b6da"
            ],
            [
             0.4,
             "#fde0ef"
            ],
            [
             0.5,
             "#f7f7f7"
            ],
            [
             0.6,
             "#e6f5d0"
            ],
            [
             0.7,
             "#b8e186"
            ],
            [
             0.8,
             "#7fbc41"
            ],
            [
             0.9,
             "#4d9221"
            ],
            [
             1,
             "#276419"
            ]
           ],
           "sequential": [
            [
             0,
             "#0d0887"
            ],
            [
             0.1111111111111111,
             "#46039f"
            ],
            [
             0.2222222222222222,
             "#7201a8"
            ],
            [
             0.3333333333333333,
             "#9c179e"
            ],
            [
             0.4444444444444444,
             "#bd3786"
            ],
            [
             0.5555555555555556,
             "#d8576b"
            ],
            [
             0.6666666666666666,
             "#ed7953"
            ],
            [
             0.7777777777777778,
             "#fb9f3a"
            ],
            [
             0.8888888888888888,
             "#fdca26"
            ],
            [
             1,
             "#f0f921"
            ]
           ],
           "sequentialminus": [
            [
             0,
             "#0d0887"
            ],
            [
             0.1111111111111111,
             "#46039f"
            ],
            [
             0.2222222222222222,
             "#7201a8"
            ],
            [
             0.3333333333333333,
             "#9c179e"
            ],
            [
             0.4444444444444444,
             "#bd3786"
            ],
            [
             0.5555555555555556,
             "#d8576b"
            ],
            [
             0.6666666666666666,
             "#ed7953"
            ],
            [
             0.7777777777777778,
             "#fb9f3a"
            ],
            [
             0.8888888888888888,
             "#fdca26"
            ],
            [
             1,
             "#f0f921"
            ]
           ]
          },
          "colorway": [
           "#636efa",
           "#EF553B",
           "#00cc96",
           "#ab63fa",
           "#FFA15A",
           "#19d3f3",
           "#FF6692",
           "#B6E880",
           "#FF97FF",
           "#FECB52"
          ],
          "font": {
           "color": "#2a3f5f"
          },
          "geo": {
           "bgcolor": "white",
           "lakecolor": "white",
           "landcolor": "#E5ECF6",
           "showlakes": true,
           "showland": true,
           "subunitcolor": "white"
          },
          "hoverlabel": {
           "align": "left"
          },
          "hovermode": "closest",
          "mapbox": {
           "style": "light"
          },
          "paper_bgcolor": "white",
          "plot_bgcolor": "#E5ECF6",
          "polar": {
           "angularaxis": {
            "gridcolor": "white",
            "linecolor": "white",
            "ticks": ""
           },
           "bgcolor": "#E5ECF6",
           "radialaxis": {
            "gridcolor": "white",
            "linecolor": "white",
            "ticks": ""
           }
          },
          "scene": {
           "xaxis": {
            "backgroundcolor": "#E5ECF6",
            "gridcolor": "white",
            "gridwidth": 2,
            "linecolor": "white",
            "showbackground": true,
            "ticks": "",
            "zerolinecolor": "white"
           },
           "yaxis": {
            "backgroundcolor": "#E5ECF6",
            "gridcolor": "white",
            "gridwidth": 2,
            "linecolor": "white",
            "showbackground": true,
            "ticks": "",
            "zerolinecolor": "white"
           },
           "zaxis": {
            "backgroundcolor": "#E5ECF6",
            "gridcolor": "white",
            "gridwidth": 2,
            "linecolor": "white",
            "showbackground": true,
            "ticks": "",
            "zerolinecolor": "white"
           }
          },
          "shapedefaults": {
           "line": {
            "color": "#2a3f5f"
           }
          },
          "ternary": {
           "aaxis": {
            "gridcolor": "white",
            "linecolor": "white",
            "ticks": ""
           },
           "baxis": {
            "gridcolor": "white",
            "linecolor": "white",
            "ticks": ""
           },
           "bgcolor": "#E5ECF6",
           "caxis": {
            "gridcolor": "white",
            "linecolor": "white",
            "ticks": ""
           }
          },
          "title": {
           "x": 0.05
          },
          "xaxis": {
           "automargin": true,
           "gridcolor": "white",
           "linecolor": "white",
           "ticks": "",
           "title": {
            "standoff": 15
           },
           "zerolinecolor": "white",
           "zerolinewidth": 2
          },
          "yaxis": {
           "automargin": true,
           "gridcolor": "white",
           "linecolor": "white",
           "ticks": "",
           "title": {
            "standoff": 15
           },
           "zerolinecolor": "white",
           "zerolinewidth": 2
          }
         }
        },
        "title": {
         "text": "Player Variables"
        }
       }
      }
     },
     "metadata": {},
     "output_type": "display_data"
    }
   ],
   "source": [
    "\n",
    "categories = [\"worst\", \"\", \"\", \"good\", \"excellent\"]\n",
    "cat_values = dict(zip(categories,range(len(categories))))\n",
    "\n",
    "import plotly.express as px\n",
    "import plotly.graph_objects as go\n",
    "\n",
    "for score in uniqueScores:\n",
    "    c = pd.DataFrame()\n",
    "    elementValues = []\n",
    "    for element in b:\n",
    "        if score in b[element]:\n",
    "            if not element in elementValues:\n",
    "                elementValues.append(element)\n",
    "            df = pd.DataFrame.from_dict(b[element][score], orient='index')\n",
    "            c = pd.concat([c, df], axis=1)\n",
    "    multiIndex = pd.MultiIndex.from_product([elementValues, ['Mean', 'Std', 'Count', 'Class']], names=[None, None])\n",
    "    c.columns = multiIndex\n",
    "    c.fillna(0, inplace=True)\n",
    "    break\n",
    "\n",
    "\n",
    "#print(c)\n",
    "testNo0 = c.replace(0, \"worst\")\n",
    "class_columns = testNo0.xs('Class', level=1, axis=1)\n",
    "print(class_columns)\n",
    "testCut = class_columns.map(lambda x:cat_values[x]) \n",
    "\n",
    "\n",
    "row_sums = testCut.sum(axis=1)\n",
    "row_sums_sroted = row_sums.sort_values(ascending=False).head(5)\n",
    "filtered_testCut = testCut.loc[row_sums_sroted.index]\n",
    "\n",
    "print(filtered_testCut)\n",
    "\n",
    "\n",
    "fig = go.Figure()\n",
    "\n",
    "\n",
    "for i in range(len(filtered_testCut)):\n",
    "    fig.add_trace(\n",
    "        go.Scatterpolar(\n",
    "            r=filtered_testCut.iloc[i],\n",
    "            theta=filtered_testCut.columns,\n",
    "            fill='toself',\n",
    "            opacity=0.5,\n",
    "            name=f\"Player-{filtered_testCut.index[i]}\",  # Use player's name if available\n",
    "            showlegend=True\n",
    "        )\n",
    "    )\n",
    "\n",
    "fig.update_layout(\n",
    "    font_size=13,\n",
    "    legend=dict(\n",
    "        yanchor=\"top\",\n",
    "        y=1.,\n",
    "        xanchor=\"left\",\n",
    "        x=0.8\n",
    "    ),\n",
    "    polar=dict(\n",
    "        radialaxis=dict(\n",
    "            angle=45,\n",
    "            tickangle=45,\n",
    "            visible=True,\n",
    "            gridwidth=2,\n",
    "            range=[0, max(filtered_testCut.max(numeric_only=True))],  # Adjust range based on data\n",
    "            tickvals=list(range(len(filtered_testCut.columns))),\n",
    "            ticktext=categories,\n",
    "            tickwidth=10\n",
    "        )\n",
    "    ),\n",
    "    title=\"Player Variables\"\n",
    ")\n"
   ]
  }
 ],
 "metadata": {
  "kernelspec": {
   "display_name": "Python 3",
   "language": "python",
   "name": "python3"
  },
  "language_info": {
   "codemirror_mode": {
    "name": "ipython",
    "version": 3
   },
   "file_extension": ".py",
   "mimetype": "text/x-python",
   "name": "python",
   "nbconvert_exporter": "python",
   "pygments_lexer": "ipython3",
   "version": "3.12.0"
  }
 },
 "nbformat": 4,
 "nbformat_minor": 2
}
