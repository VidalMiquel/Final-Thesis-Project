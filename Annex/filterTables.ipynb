{
 "cells": [
  {
   "cell_type": "code",
   "execution_count": 208,
   "metadata": {},
   "outputs": [],
   "source": [
    "import pandas as pd\n",
    "import os\n",
    "import glob"
   ]
  },
  {
   "cell_type": "code",
   "execution_count": 209,
   "metadata": {},
   "outputs": [],
   "source": [
    "#FCBarcelona\n",
    "metadataBarcelonaPath = \"../Data/Team1/03Stage/finalMetadataBarcelona.csv\"\n",
    "tablesBarcelonaPath = \"../Data/Team1/06Stage/Tables/Score/Individual\"\n",
    "#Rayo Vallecano\n",
    "metadataRVallecanoPath = \"../Data/Team2/03Stage/finalMetadataRayo Vallecano.csv\"\n",
    "tablesRVallecanoPath = \"../Data/Team2/06Stage/Tables/Score/Individual\""
   ]
  },
  {
   "cell_type": "code",
   "execution_count": 210,
   "metadata": {},
   "outputs": [],
   "source": [
    "def readCSV(filePath):\n",
    "\n",
    "    try:\n",
    "        df = pd.read_csv(filePath)\n",
    "        return df\n",
    "    except FileNotFoundError:\n",
    "        print(f\"No s'ha trobat el fitxer: {filePath}\")\n",
    "    except pd.errors.EmptyDataError:\n",
    "        print(f\"El fitxer està buit: {filePath}\")\n",
    "    except pd.errors.ParserError:\n",
    "        print(f\"Error de parseig al fitxer: {filePath}\")\n",
    "    except Exception as e:\n",
    "        print(f\"Ha ocorregut un error: {e}\")"
   ]
  },
  {
   "cell_type": "code",
   "execution_count": 211,
   "metadata": {},
   "outputs": [],
   "source": [
    "def filterScoresBarcelona(dfScore):\n",
    "    # Convert 'Difference' column to numeric\n",
    "    dfScore['Difference'] = pd.to_numeric(dfScore['Difference'], errors='coerce')\n",
    "\n",
    "    # Group by the 'Score' column and calculate the size of each group\n",
    "    scoreCounts = dfScore.groupby('Score').size()\n",
    "\n",
    "    # Filter the DataFrame by the conditions: 'Difference' <= 3, size of 'Score' > 1, and 'Difference' < 0\n",
    "    filteredDfScore = dfScore[((dfScore['Difference'] < 3) & dfScore['Score'].isin(scoreCounts[scoreCounts > 1].index)) | (dfScore['Difference'] <= 0) | (dfScore[\"Score\"] == \"3_2\") | ((dfScore[\"Score\"] == \"3_0\"))]\n",
    "    filteredDfScore = filteredDfScore[filteredDfScore[\"Score\"]!=\"NF\"]\n",
    "\n",
    "    return filteredDfScore"
   ]
  },
  {
   "cell_type": "code",
   "execution_count": 212,
   "metadata": {},
   "outputs": [],
   "source": [
    "def filterScoresRayoVallecano(dfScore):\n",
    "    # Convert 'Difference' column to numeric\n",
    "    dfScore['Difference'] = pd.to_numeric(dfScore['Difference'], errors='coerce')\n",
    "\n",
    "    # Group by the 'Score' column and calculate the size of each group\n",
    "    scoreCounts = dfScore.groupby('Score').size()\n",
    "\n",
    "    # Filter the DataFrame by the conditions: 'Difference' <= 3, size of 'Score' > 1, and 'Difference' < 0\n",
    "    filteredDfScore = dfScore[( dfScore['Score'].isin(scoreCounts[scoreCounts > 1].index)) | (dfScore['Difference'] >= 0)]\n",
    "    filteredDfScore = filteredDfScore[filteredDfScore[\"Score\"]!=\"NF\"]\n",
    "\n",
    "    return filteredDfScore"
   ]
  },
  {
   "cell_type": "code",
   "execution_count": null,
   "metadata": {},
   "outputs": [],
   "source": [
    "def saveCsv(dataframe, filePath):\n",
    "    try:\n",
    "        dataframe.to_pickle(filePath)\n",
    "        return True\n",
    "    except Exception as e:\n",
    "        print(f\"Error saving DataFrame to {filePath}: {e}\")\n",
    "        return False"
   ]
  },
  {
   "cell_type": "code",
   "execution_count": 221,
   "metadata": {},
   "outputs": [],
   "source": [
    "def managmentFiles(path, scores):\n",
    "    # Get all files from the specified directory\n",
    "    files = glob.glob(os.path.join(path, '*'))\n",
    "    print(files)\n",
    "    # Create a list to store the filenames and split parts    \n",
    "    for file in files:\n",
    "        # Get only the filename without the full path\n",
    "        fileName = os.path.basename(file)\n",
    "        splitParts = fileName.split('_')\n",
    "\n",
    "        score = f\"{splitParts[0]}_{splitParts[1]}\"\n",
    "        if score in scores:\n",
    "            saveCsv()"
   ]
  },
  {
   "cell_type": "markdown",
   "metadata": {},
   "source": [
    "FCBarcelona"
   ]
  },
  {
   "cell_type": "code",
   "execution_count": 216,
   "metadata": {},
   "outputs": [],
   "source": [
    "#Read metadata file\n",
    "metadataBarcelonaFile = readCSV(metadataBarcelonaPath)"
   ]
  },
  {
   "cell_type": "code",
   "execution_count": 217,
   "metadata": {},
   "outputs": [],
   "source": [
    "#Filtered scores\n",
    "dfBarcelonaFiltered = filterScoresBarcelona(metadataBarcelonaFile)\n",
    "uniqueScores = dfBarcelonaFiltered[\"Score\"].unique()"
   ]
  },
  {
   "cell_type": "code",
   "execution_count": 222,
   "metadata": {},
   "outputs": [
    {
     "name": "stdout",
     "output_type": "stream",
     "text": [
      "['../Data/Team1/06Stage/Tables/Score/Individual\\\\0_1_individualMetrics.pkl', '../Data/Team1/06Stage/Tables/Score/Individual\\\\0_2_individualMetrics.pkl', '../Data/Team1/06Stage/Tables/Score/Individual\\\\0_3_individualMetrics.pkl', '../Data/Team1/06Stage/Tables/Score/Individual\\\\1_0_individualMetrics.pkl', '../Data/Team1/06Stage/Tables/Score/Individual\\\\1_1_individualMetrics.pkl', '../Data/Team1/06Stage/Tables/Score/Individual\\\\1_2_individualMetrics.pkl', '../Data/Team1/06Stage/Tables/Score/Individual\\\\1_3_individualMetrics.pkl', '../Data/Team1/06Stage/Tables/Score/Individual\\\\1_4_individualMetrics.pkl', '../Data/Team1/06Stage/Tables/Score/Individual\\\\2_0_individualMetrics.pkl', '../Data/Team1/06Stage/Tables/Score/Individual\\\\2_1_individualMetrics.pkl', '../Data/Team1/06Stage/Tables/Score/Individual\\\\2_2_individualMetrics.pkl', '../Data/Team1/06Stage/Tables/Score/Individual\\\\3_0_individualMetrics.pkl', '../Data/Team1/06Stage/Tables/Score/Individual\\\\3_1_individualMetrics.pkl', '../Data/Team1/06Stage/Tables/Score/Individual\\\\4_0_individualMetrics.pkl', '../Data/Team1/06Stage/Tables/Score/Individual\\\\4_1_individualMetrics.pkl', '../Data/Team1/06Stage/Tables/Score/Individual\\\\5_0_individualMetrics.pkl', '../Data/Team1/06Stage/Tables/Score/Individual\\\\5_1_individualMetrics.pkl', '../Data/Team1/06Stage/Tables/Score/Individual\\\\5_2_individualMetrics.pkl', '../Data/Team1/06Stage/Tables/Score/Individual\\\\6_0_individualMetrics.pkl', '../Data/Team1/06Stage/Tables/Score/Individual\\\\6_1_individualMetrics.pkl', '../Data/Team1/06Stage/Tables/Score/Individual\\\\7_0_individualMetrics.pkl', '../Data/Team1/06Stage/Tables/Score/Individual\\\\8_0_individualMetrics.pkl', '../Data/Team1/06Stage/Tables/Score/Individual\\\\nan_individualMetrics.pkl', '../Data/Team1/06Stage/Tables/Score/Individual\\\\NF_individualMetrics.pkl']\n",
      "0_1_individualMetrics.pkl\n",
      "0_2_individualMetrics.pkl\n",
      "0_3_individualMetrics.pkl\n",
      "1_0_individualMetrics.pkl\n",
      "1_1_individualMetrics.pkl\n",
      "1_2_individualMetrics.pkl\n",
      "1_3_individualMetrics.pkl\n",
      "1_4_individualMetrics.pkl\n",
      "2_0_individualMetrics.pkl\n",
      "2_1_individualMetrics.pkl\n",
      "2_2_individualMetrics.pkl\n",
      "3_0_individualMetrics.pkl\n",
      "3_1_individualMetrics.pkl\n"
     ]
    }
   ],
   "source": [
    "fitxers = save(tablesBarcelonaPath, uniqueScores)\n"
   ]
  },
  {
   "cell_type": "markdown",
   "metadata": {},
   "source": [
    "Rayo Vallecano"
   ]
  },
  {
   "cell_type": "code",
   "execution_count": null,
   "metadata": {},
   "outputs": [],
   "source": [
    "#Read metadata file\n",
    "metadataRVallecanoFile = readCSV(metadataRVallecanoPath)"
   ]
  },
  {
   "cell_type": "code",
   "execution_count": null,
   "metadata": {},
   "outputs": [],
   "source": [
    "#Filtered scores\n",
    "dfRVallecanoFiltered = filterScoresRayoVallecano(metadataRVallecanoFile)\n",
    "dfRVallecanoFiltered[\"Score\"].unique"
   ]
  }
 ],
 "metadata": {
  "kernelspec": {
   "display_name": "Python 3",
   "language": "python",
   "name": "python3"
  },
  "language_info": {
   "codemirror_mode": {
    "name": "ipython",
    "version": 3
   },
   "file_extension": ".py",
   "mimetype": "text/x-python",
   "name": "python",
   "nbconvert_exporter": "python",
   "pygments_lexer": "ipython3",
   "version": "3.12.0"
  }
 },
 "nbformat": 4,
 "nbformat_minor": 2
}
