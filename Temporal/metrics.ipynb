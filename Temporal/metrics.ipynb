{
 "cells": [
  {
   "cell_type": "code",
   "execution_count": 51,
   "metadata": {},
   "outputs": [],
   "source": [
    "import pickle"
   ]
  },
  {
   "cell_type": "code",
   "execution_count": 52,
   "metadata": {},
   "outputs": [],
   "source": [
    "path = \"../Data/MCity/04Stage/Metrics/32_1_0_1_Graph.pkl\""
   ]
  },
  {
   "cell_type": "code",
   "execution_count": 53,
   "metadata": {},
   "outputs": [],
   "source": [
    "with open(path, 'rb') as file:\n",
    "    # Load data from the file\n",
    "    data = pickle.load(file)"
   ]
  },
  {
   "cell_type": "code",
   "execution_count": 54,
   "metadata": {},
   "outputs": [
    {
     "name": "stdout",
     "output_type": "stream",
     "text": [
      "{'19636': 0.7142857142857143, '40217': 0.94, '24758': 0.6436781609195402, '38552': 0.6171875, '38465': 0.6371681415929203, '15519': 0.8770491803278688, '40218': 0.8214285714285714, '40215': 0.6442307692307693, '20329': 0.7, '20447': 0.5, '38551': 0.9117647058823529}\n",
      "0.7278902494243398\n"
     ]
    }
   ],
   "source": [
    "print(data[\"clustering\"])\n",
    "print(data[\"averageClustering\"])"
   ]
  }
 ],
 "metadata": {
  "kernelspec": {
   "display_name": "Python 3",
   "language": "python",
   "name": "python3"
  },
  "language_info": {
   "codemirror_mode": {
    "name": "ipython",
    "version": 3
   },
   "file_extension": ".py",
   "mimetype": "text/x-python",
   "name": "python",
   "nbconvert_exporter": "python",
   "pygments_lexer": "ipython3",
   "version": "3.12.0"
  }
 },
 "nbformat": 4,
 "nbformat_minor": 2
}
