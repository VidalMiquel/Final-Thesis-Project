{
 "cells": [
  {
   "cell_type": "code",
   "execution_count": 388,
   "metadata": {},
   "outputs": [],
   "source": [
    "import networkx as nx\n",
    "import numpy as np\n",
    "import matplotlib.pyplot as plt"
   ]
  },
  {
   "cell_type": "code",
   "execution_count": 389,
   "metadata": {},
   "outputs": [],
   "source": [
    "path = \"../Data/MCity/04Stage/Graphs/32_1_0_1_Graph.gexf\""
   ]
  },
  {
   "cell_type": "code",
   "execution_count": 390,
   "metadata": {},
   "outputs": [],
   "source": [
    "def readGraph(path):\n",
    "    try:\n",
    "        graph = nx.read_gexf(path)\n",
    "        return graph\n",
    "    except FileNotFoundError:\n",
    "        print(f\"File '{path}' not found in '{path}'.\")\n",
    "        return None\n",
    "    except nx.NetworkXError as e:\n",
    "        print(f\"Error reading graph from '{path}': {e}\")\n",
    "        return None"
   ]
  },
  {
   "cell_type": "code",
   "execution_count": 391,
   "metadata": {},
   "outputs": [],
   "source": [
    "graph = readGraph(path)"
   ]
  },
  {
   "cell_type": "code",
   "execution_count": 392,
   "metadata": {},
   "outputs": [
    {
     "name": "stdout",
     "output_type": "stream",
     "text": [
      "123\n"
     ]
    }
   ],
   "source": [
    "print(nx.number_of_edges(graph))"
   ]
  },
  {
   "cell_type": "code",
   "execution_count": 393,
   "metadata": {},
   "outputs": [
    {
     "name": "stdout",
     "output_type": "stream",
     "text": [
      "[('19636', '40217', {'possession': 3.0, 'location_0': 35.7, 'location_1': 61.8, 'pass_length': 23.093073, 'pass_height_id': 1.0, 'pass_end_location_0': 40.9, 'pass_end_location_1': 39.3, 'pass_outcome_name': 'nan', 'id': '0'}), ('19636', '40217', {'possession': 19.0, 'location_0': 66.0, 'location_1': 18.6, 'pass_length': 16.200308, 'pass_height_id': 1.0, 'pass_end_location_0': 77.8, 'pass_end_location_1': 7.5, 'pass_outcome_name': 'nan', 'id': '1'}), ('19636', '40217', {'possession': 19.0, 'location_0': 74.1, 'location_1': 13.8, 'pass_length': 7.0114193, 'pass_height_id': 2.0, 'pass_end_location_0': 81.1, 'pass_end_location_1': 14.2, 'pass_outcome_name': 'Incomplete', 'id': '2'}), ('19636', '15519', {'possession': 10.0, 'location_0': 37.5, 'location_1': 23.6, 'pass_length': 15.638734, 'pass_height_id': 1.0, 'pass_end_location_0': 51.9, 'pass_end_location_1': 29.7, 'pass_outcome_name': 'nan', 'id': '3'}), ('19636', '15519', {'possession': 37.0, 'location_0': 70.2, 'location_1': 60.3, 'pass_length': 32.429924, 'pass_height_id': 3.0, 'pass_end_location_0': 102.5, 'pass_end_location_1': 57.4, 'pass_outcome_name': 'Pass Offside', 'id': '4'}), ('19636', '15519', {'possession': 39.0, 'location_0': 63.4, 'location_1': 46.7, 'pass_length': 31.45314, 'pass_height_id': 1.0, 'pass_end_location_0': 91.1, 'pass_end_location_1': 61.6, 'pass_outcome_name': 'nan', 'id': '5'}), ('19636', '15519', {'possession': 57.0, 'location_0': 37.1, 'location_1': 72.6, 'pass_length': 19.695684, 'pass_height_id': 1.0, 'pass_end_location_0': 53.7, 'pass_end_location_1': 62.0, 'pass_outcome_name': 'nan', 'id': '6'}), ('19636', '40218', {'possession': 10.0, 'location_0': 59.9, 'location_1': 19.7, 'pass_length': 8.168843, 'pass_height_id': 1.0, 'pass_end_location_0': 53.6, 'pass_end_location_1': 24.9, 'pass_outcome_name': 'nan', 'id': '7'}), ('19636', '24758', {'possession': 10.0, 'location_0': 65.2, 'location_1': 16.4, 'pass_length': 41.117027, 'pass_height_id': 3.0, 'pass_end_location_0': 105.8, 'pass_end_location_1': 9.9, 'pass_outcome_name': 'Pass Offside', 'id': '8'}), ('19636', '38552', {'possession': 34.0, 'location_0': 56.0, 'location_1': 69.2, 'pass_length': 7.0114193, 'pass_height_id': 1.0, 'pass_end_location_0': 49.0, 'pass_end_location_1': 68.8, 'pass_outcome_name': 'nan', 'id': '9'}), ('19636', '38552', {'possession': 55.0, 'location_0': 62.2, 'location_1': 41.0, 'pass_length': 4.909175, 'pass_height_id': 2.0, 'pass_end_location_0': 64.9, 'pass_end_location_1': 36.9, 'pass_outcome_name': 'nan', 'id': '10'}), ('19636', '38551', {'possession': 37.0, 'location_0': 27.4, 'location_1': 71.4, 'pass_length': 8.811924, 'pass_height_id': 1.0, 'pass_end_location_0': 19.6, 'pass_end_location_1': 75.5, 'pass_outcome_name': 'nan', 'id': '11'}), ('19636', '38465', {'possession': 37.0, 'location_0': 34.8, 'location_1': 76.8, 'pass_length': 4.1340055, 'pass_height_id': 1.0, 'pass_end_location_0': 37.0, 'pass_end_location_1': 73.3, 'pass_outcome_name': 'Incomplete', 'id': '12'}), ('19636', '38465', {'possession': 68.0, 'location_0': 78.4, 'location_1': 76.3, 'pass_length': 14.094325, 'pass_height_id': 3.0, 'pass_end_location_0': 85.1, 'pass_end_location_1': 63.9, 'pass_outcome_name': 'nan', 'id': '13'}), ('19636', '40215', {'possession': 62.0, 'location_0': 25.9, 'location_1': 35.2, 'pass_length': 22.997608, 'pass_height_id': 1.0, 'pass_end_location_0': 19.2, 'pass_end_location_1': 57.2, 'pass_outcome_name': 'nan', 'id': '14'}), ('40217', '24758', {'possession': 3.0, 'location_0': 45.5, 'location_1': 32.8, 'pass_length': 19.719027, 'pass_height_id': 1.0, 'pass_end_location_0': 32.7, 'pass_end_location_1': 17.8, 'pass_outcome_name': 'nan', 'id': '15'}), ('40217', '24758', {'possession': 19.0, 'location_0': 75.2, 'location_1': 6.1, 'pass_length': 12.403628, 'pass_height_id': 1.0, 'pass_end_location_0': 62.8, 'pass_end_location_1': 6.4, 'pass_outcome_name': 'nan', 'id': '16'}), ('40217', '15519', {'possession': 10.0, 'location_0': 73.2, 'location_1': 16.6, 'pass_length': 7.340981, 'pass_height_id': 1.0, 'pass_end_location_0': 70.2, 'pass_end_location_1': 9.9, 'pass_outcome_name': 'nan', 'id': '17'}), ('40217', '15519', {'possession': 32.0, 'location_0': 95.5, 'location_1': 12.9, 'pass_length': 10.218122, 'pass_height_id': 1.0, 'pass_end_location_0': 105.1, 'pass_end_location_1': 9.4, 'pass_outcome_name': 'Incomplete', 'id': '18'}), ('40217', '38465', {'possession': 19.0, 'location_0': 77.8, 'location_1': 7.5, 'pass_length': 9.402127, 'pass_height_id': 2.0, 'pass_end_location_0': 82.4, 'pass_end_location_1': 15.7, 'pass_outcome_name': 'nan', 'id': '19'}), ('40217', '38465', {'possession': 39.0, 'location_0': 35.1, 'location_1': 17.1, 'pass_length': 10.845276, 'pass_height_id': 1.0, 'pass_end_location_0': 41.0, 'pass_end_location_1': 26.2, 'pass_outcome_name': 'nan', 'id': '20'}), ('40217', '38552', {'possession': 22.0, 'location_0': 100.1, 'location_1': 35.6, 'pass_length': 5.108816, 'pass_height_id': 1.0, 'pass_end_location_0': 96.8, 'pass_end_location_1': 39.5, 'pass_outcome_name': 'nan', 'id': '21'}), ('40217', '38552', {'possession': 71.0, 'location_0': 94.4, 'location_1': 33.7, 'pass_length': 12.889143, 'pass_height_id': 2.0, 'pass_end_location_0': 105.7, 'pass_end_location_1': 39.9, 'pass_outcome_name': 'Incomplete', 'id': '22'}), ('40217', '19636', {'possession': 37.0, 'location_0': 64.7, 'location_1': 25.6, 'pass_length': 29.896488, 'pass_height_id': 1.0, 'pass_end_location_0': 68.9, 'pass_end_location_1': 55.2, 'pass_outcome_name': 'nan', 'id': '23'}), ('40217', '38551', {'possession': 60.0, 'location_0': 25.2, 'location_1': 47.2, 'pass_length': 7.558439, 'pass_height_id': 2.0, 'pass_end_location_0': 21.9, 'pass_end_location_1': 54.0, 'pass_outcome_name': 'nan', 'id': '24'}), ('40217', '38551', {'possession': 64.0, 'location_0': 54.6, 'location_1': 41.0, 'pass_length': 43.184486, 'pass_height_id': 2.0, 'pass_end_location_0': 78.3, 'pass_end_location_1': 77.1, 'pass_outcome_name': 'nan', 'id': '25'}), ('24758', '38551', {'possession': 3.0, 'location_0': 58.0, 'location_1': 9.7, 'pass_length': 33.296246, 'pass_height_id': 3.0, 'pass_end_location_0': 90.0, 'pass_end_location_1': 18.9, 'pass_outcome_name': 'Incomplete', 'id': '26'}), ('24758', '38551', {'possession': 20.0, 'location_0': 79.1, 'location_1': 0.1, 'pass_length': 23.860008, 'pass_height_id': 3.0, 'pass_end_location_0': 102.0, 'pass_end_location_1': 6.8, 'pass_outcome_name': 'Incomplete', 'id': '27'}), ('24758', '15519', {'possession': 10.0, 'location_0': 67.4, 'location_1': 9.0, 'pass_length': 11.7652025, 'pass_height_id': 1.0, 'pass_end_location_0': 78.5, 'pass_end_location_1': 12.9, 'pass_outcome_name': 'nan', 'id': '28'}), ('24758', '15519', {'possession': 14.0, 'location_0': 50.3, 'location_1': 9.9, 'pass_length': 53.996296, 'pass_height_id': 3.0, 'pass_end_location_0': 78.9, 'pass_end_location_1': 55.7, 'pass_outcome_name': 'Incomplete', 'id': '29'}), ('24758', '15519', {'possession': 32.0, 'location_0': 29.6, 'location_1': 7.5, 'pass_length': 81.5669, 'pass_height_id': 3.0, 'pass_end_location_0': 110.6, 'pass_end_location_1': 17.1, 'pass_outcome_name': 'nan', 'id': '30'}), ('24758', '15519', {'possession': 39.0, 'location_0': 65.2, 'location_1': 13.1, 'pass_length': 11.241441, 'pass_height_id': 3.0, 'pass_end_location_0': 74.3, 'pass_end_location_1': 19.7, 'pass_outcome_name': 'Incomplete', 'id': '31'}), ('24758', '19636', {'possession': 19.0, 'location_0': 62.8, 'location_1': 6.4, 'pass_length': 12.612692, 'pass_height_id': 1.0, 'pass_end_location_0': 66.0, 'pass_end_location_1': 18.6, 'pass_outcome_name': 'nan', 'id': '32'}), ('24758', '38552', {'possession': 29.0, 'location_0': 57.3, 'location_1': 8.1, 'pass_length': 15.924824, 'pass_height_id': 1.0, 'pass_end_location_0': 64.1, 'pass_end_location_1': 22.5, 'pass_outcome_name': 'nan', 'id': '33'}), ('24758', '38552', {'possession': 46.0, 'location_0': 27.0, 'location_1': 24.5, 'pass_length': 11.268097, 'pass_height_id': 1.0, 'pass_end_location_0': 36.6, 'pass_end_location_1': 30.4, 'pass_outcome_name': 'nan', 'id': '34'}), ('24758', '38552', {'possession': 64.0, 'location_0': 29.8, 'location_1': 28.7, 'pass_length': 17.487425, 'pass_height_id': 1.0, 'pass_end_location_0': 46.4, 'pass_end_location_1': 34.2, 'pass_outcome_name': 'nan', 'id': '35'}), ('24758', '38465', {'possession': 39.0, 'location_0': 35.7, 'location_1': 7.2, 'pass_length': 15.126798, 'pass_height_id': 1.0, 'pass_end_location_0': 36.6, 'pass_end_location_1': 22.3, 'pass_outcome_name': 'nan', 'id': '36'}), ('24758', '38465', {'possession': 62.0, 'location_0': 6.2, 'location_1': 15.3, 'pass_length': 17.023808, 'pass_height_id': 1.0, 'pass_end_location_0': 19.6, 'pass_end_location_1': 25.8, 'pass_outcome_name': 'nan', 'id': '37'}), ('24758', '38465', {'possession': 62.0, 'location_0': 1.3, 'location_1': 9.8, 'pass_length': 11.345484, 'pass_height_id': 1.0, 'pass_end_location_0': 9.9, 'pass_end_location_1': 17.2, 'pass_outcome_name': 'nan', 'id': '38'}), ('24758', '40217', {'possession': 49.0, 'location_0': 10.8, 'location_1': 0.1, 'pass_length': 25.4637, 'pass_height_id': 3.0, 'pass_end_location_0': 32.2, 'pass_end_location_1': 13.9, 'pass_outcome_name': 'nan', 'id': '39'}), ('24758', '40217', {'possession': 72.0, 'location_0': 106.4, 'location_1': 0.1, 'pass_length': 28.539446, 'pass_height_id': 3.0, 'pass_end_location_0': 107.9, 'pass_end_location_1': 28.6, 'pass_outcome_name': 'nan', 'id': '40'}), ('24758', '40215', {'possession': 53.0, 'location_0': 28.1, 'location_1': 30.4, 'pass_length': 53.21842, 'pass_height_id': 3.0, 'pass_end_location_0': 51.9, 'pass_end_location_1': 78.0, 'pass_outcome_name': 'nan', 'id': '41'}), ('38552', '38465', {'possession': 5.0, 'location_0': 78.3, 'location_1': 37.6, 'pass_length': 14.003571, 'pass_height_id': 1.0, 'pass_end_location_0': 92.0, 'pass_end_location_1': 34.7, 'pass_outcome_name': 'nan', 'id': '42'}), ('38552', '38465', {'possession': 6.0, 'location_0': 92.0, 'location_1': 7.7, 'pass_length': 6.3788714, 'pass_height_id': 1.0, 'pass_end_location_0': 93.5, 'pass_end_location_1': 13.9, 'pass_outcome_name': 'nan', 'id': '43'}), ('38552', '15519', {'possession': 12.0, 'location_0': 44.0, 'location_1': 57.9, 'pass_length': 7.4330344, 'pass_height_id': 2.0, 'pass_end_location_0': 49.0, 'pass_end_location_1': 52.4, 'pass_outcome_name': 'Incomplete', 'id': '44'}), ('38552', '15519', {'possession': 55.0, 'location_0': 65.4, 'location_1': 36.4, 'pass_length': 15.729272, 'pass_height_id': 2.0, 'pass_end_location_0': 78.3, 'pass_end_location_1': 45.4, 'pass_outcome_name': 'nan', 'id': '45'}), ('38552', '15519', {'possession': 64.0, 'location_0': 44.4, 'location_1': 33.7, 'pass_length': 19.042059, 'pass_height_id': 1.0, 'pass_end_location_0': 62.6, 'pass_end_location_1': 39.3, 'pass_outcome_name': 'nan', 'id': '46'}), ('38552', '20447', {'possession': 14.0, 'location_0': 41.5, 'location_1': 58.1, 'pass_length': 18.057962, 'pass_height_id': 1.0, 'pass_end_location_0': 24.3, 'pass_end_location_1': 52.6, 'pass_outcome_name': 'nan', 'id': '47'}), ('38552', '40217', {'possession': 19.0, 'location_0': 72.4, 'location_1': 31.7, 'pass_length': 21.435719, 'pass_height_id': 3.0, 'pass_end_location_0': 76.7, 'pass_end_location_1': 10.7, 'pass_outcome_name': 'nan', 'id': '48'}), ('38552', '40217', {'possession': 37.0, 'location_0': 76.7, 'location_1': 38.2, 'pass_length': 18.906612, 'pass_height_id': 1.0, 'pass_end_location_0': 72.8, 'pass_end_location_1': 19.7, 'pass_outcome_name': 'nan', 'id': '49'}), ('38552', '24758', {'possession': 20.0, 'location_0': 80.7, 'location_1': 17.9, 'pass_length': 10.920165, 'pass_height_id': 2.0, 'pass_end_location_0': 84.6, 'pass_end_location_1': 7.7, 'pass_outcome_name': 'nan', 'id': '50'}), ('38552', '24758', {'possession': 34.0, 'location_0': 54.5, 'location_1': 63.1, 'pass_length': 36.067158, 'pass_height_id': 2.0, 'pass_end_location_0': 56.7, 'pass_end_location_1': 27.1, 'pass_outcome_name': 'nan', 'id': '51'}), ('38552', '19636', {'possession': 20.0, 'location_0': 83.5, 'location_1': 44.5, 'pass_length': 4.8703184, 'pass_height_id': 2.0, 'pass_end_location_0': 78.9, 'pass_end_location_1': 46.1, 'pass_outcome_name': 'nan', 'id': '52'}), ('38552', '19636', {'possession': 34.0, 'location_0': 48.4, 'location_1': 68.3, 'pass_length': 8.631338, 'pass_height_id': 1.0, 'pass_end_location_0': 56.9, 'pass_end_location_1': 66.8, 'pass_outcome_name': 'nan', 'id': '53'}), ('38552', '19636', {'possession': 46.0, 'location_0': 35.4, 'location_1': 32.3, 'pass_length': 11.5, 'pass_height_id': 1.0, 'pass_end_location_0': 44.6, 'pass_end_location_1': 39.2, 'pass_outcome_name': 'nan', 'id': '54'}), ('38552', '40215', {'possession': 37.0, 'location_0': 32.4, 'location_1': 67.9, 'pass_length': 11.12205, 'pass_height_id': 1.0, 'pass_end_location_0': 23.1, 'pass_end_location_1': 61.8, 'pass_outcome_name': 'nan', 'id': '55'}), ('38552', '38551', {'possession': 37.0, 'location_0': 34.4, 'location_1': 62.4, 'pass_length': 12.269067, 'pass_height_id': 2.0, 'pass_end_location_0': 35.7, 'pass_end_location_1': 74.6, 'pass_outcome_name': 'nan', 'id': '56'}), ('38552', '40218', {'possession': 62.0, 'location_0': 27.9, 'location_1': 7.4, 'pass_length': 18.64886, 'pass_height_id': 1.0, 'pass_end_location_0': 19.6, 'pass_end_location_1': 24.1, 'pass_outcome_name': 'nan', 'id': '57'}), ('38465', '15519', {'possession': 5.0, 'location_0': 87.2, 'location_1': 34.9, 'pass_length': 23.601906, 'pass_height_id': 1.0, 'pass_end_location_0': 110.8, 'pass_end_location_1': 35.2, 'pass_outcome_name': 'Incomplete', 'id': '58'}), ('38465', '15519', {'possession': 51.0, 'location_0': 37.5, 'location_1': 58.1, 'pass_length': 12.727922, 'pass_height_id': 1.0, 'pass_end_location_0': 50.1, 'pass_end_location_1': 59.9, 'pass_outcome_name': 'nan', 'id': '59'}), ('38465', '15519', {'possession': 51.0, 'location_0': 79.6, 'location_1': 68.2, 'pass_length': 38.019073, 'pass_height_id': 1.0, 'pass_end_location_0': 97.2, 'pass_end_location_1': 34.5, 'pass_outcome_name': 'nan', 'id': '60'}), ('38465', '15519', {'possession': 60.0, 'location_0': 30.3, 'location_1': 67.0, 'pass_length': 23.331095, 'pass_height_id': 1.0, 'pass_end_location_0': 50.6, 'pass_end_location_1': 78.5, 'pass_outcome_name': 'nan', 'id': '61'}), ('38465', '15519', {'possession': 68.0, 'location_0': 85.3, 'location_1': 63.6, 'pass_length': 7.6655073, 'pass_height_id': 1.0, 'pass_end_location_0': 92.7, 'pass_end_location_1': 65.6, 'pass_outcome_name': 'nan', 'id': '62'}), ('38465', '15519', {'possession': 71.0, 'location_0': 111.0, 'location_1': 78.5, 'pass_length': 11.936499, 'pass_height_id': 1.0, 'pass_end_location_0': 99.2, 'pass_end_location_1': 76.7, 'pass_outcome_name': 'nan', 'id': '63'}), ('38465', '38551', {'possession': 6.0, 'location_0': 95.9, 'location_1': 14.2, 'pass_length': 10.536128, 'pass_height_id': 2.0, 'pass_end_location_0': 106.0, 'pass_end_location_1': 11.2, 'pass_outcome_name': 'Incomplete', 'id': '64'}), ('38465', '38551', {'possession': 27.0, 'location_0': 77.2, 'location_1': 70.5, 'pass_length': 7.6380625, 'pass_height_id': 1.0, 'pass_end_location_0': 71.9, 'pass_end_location_1': 76.0, 'pass_outcome_name': 'nan', 'id': '65'}), ('38465', '19636', {'possession': 19.0, 'location_0': 83.3, 'location_1': 5.1, 'pass_length': 14.821943, 'pass_height_id': 2.0, 'pass_end_location_0': 71.3, 'pass_end_location_1': 13.8, 'pass_outcome_name': 'nan', 'id': '66'}), ('38465', '24758', {'possession': 29.0, 'location_0': 71.1, 'location_1': 12.9, 'pass_length': 14.610955, 'pass_height_id': 1.0, 'pass_end_location_0': 57.3, 'pass_end_location_1': 8.1, 'pass_outcome_name': 'nan', 'id': '67'}), ('38465', '24758', {'possession': 39.0, 'location_0': 41.0, 'location_1': 26.2, 'pass_length': 14.327945, 'pass_height_id': 1.0, 'pass_end_location_0': 36.2, 'pass_end_location_1': 12.7, 'pass_outcome_name': 'nan', 'id': '68'}), ('38465', '24758', {'possession': 62.0, 'location_0': 20.0, 'location_1': 26.9, 'pass_length': 20.447495, 'pass_height_id': 2.0, 'pass_end_location_0': 2.7, 'pass_end_location_1': 16.0, 'pass_outcome_name': 'nan', 'id': '69'}), ('38465', '40217', {'possession': 37.0, 'location_0': 49.7, 'location_1': 74.2, 'pass_length': 44.961872, 'pass_height_id': 1.0, 'pass_end_location_0': 83.1, 'pass_end_location_1': 44.1, 'pass_outcome_name': 'nan', 'id': '70'}), ('38465', '40217', {'possession': 39.0, 'location_0': 40.1, 'location_1': 32.5, 'pass_length': 16.286497, 'pass_height_id': 2.0, 'pass_end_location_0': 34.8, 'pass_end_location_1': 17.1, 'pass_outcome_name': 'nan', 'id': '71'}), ('38465', '38552', {'possession': 37.0, 'location_0': 85.5, 'location_1': 40.8, 'pass_length': 9.176056, 'pass_height_id': 1.0, 'pass_end_location_0': 76.7, 'pass_end_location_1': 38.2, 'pass_outcome_name': 'nan', 'id': '72'}), ('38465', '38552', {'possession': 62.0, 'location_0': 21.9, 'location_1': 18.2, 'pass_length': 10.907337, 'pass_height_id': 1.0, 'pass_end_location_0': 22.3, 'pass_end_location_1': 7.3, 'pass_outcome_name': 'nan', 'id': '73'}), ('38465', '40218', {'possession': 39.0, 'location_0': 36.6, 'location_1': 22.5, 'pass_length': 8.1024685, 'pass_height_id': 1.0, 'pass_end_location_0': 29.2, 'pass_end_location_1': 25.8, 'pass_outcome_name': 'nan', 'id': '74'}), ('15519', '19636', {'possession': 10.0, 'location_0': 69.3, 'location_1': 9.2, 'pass_length': 11.101802, 'pass_height_id': 1.0, 'pass_end_location_0': 69.1, 'pass_end_location_1': 20.3, 'pass_outcome_name': 'nan', 'id': '75'}), ('15519', '19636', {'possession': 57.0, 'location_0': 52.5, 'location_1': 62.7, 'pass_length': 19.384789, 'pass_height_id': 1.0, 'pass_end_location_0': 64.9, 'pass_end_location_1': 77.6, 'pass_outcome_name': 'nan', 'id': '76'}), ('15519', '38552', {'possession': 12.0, 'location_0': 50.3, 'location_1': 54.6, 'pass_length': 7.111962, 'pass_height_id': 2.0, 'pass_end_location_0': 44.0, 'pass_end_location_1': 57.9, 'pass_outcome_name': 'nan', 'id': '77'}), ('15519', '38552', {'possession': 12.0, 'location_0': 53.0, 'location_1': 52.0, 'pass_length': 8.316851, 'pass_height_id': 2.0, 'pass_end_location_0': 45.1, 'pass_end_location_1': 54.6, 'pass_outcome_name': 'nan', 'id': '78'}), ('15519', '38551', {'possession': 20.0, 'location_0': 103.4, 'location_1': 59.6, 'pass_length': 12.808201, 'pass_height_id': 1.0, 'pass_end_location_0': 107.3, 'pass_end_location_1': 47.4, 'pass_outcome_name': 'Incomplete', 'id': '79'}), ('15519', '38551', {'possession': 22.0, 'location_0': 44.0, 'location_1': 74.4, 'pass_length': 7.641989, 'pass_height_id': 1.0, 'pass_end_location_0': 38.8, 'pass_end_location_1': 68.8, 'pass_outcome_name': 'nan', 'id': '80'}), ('15519', '38551', {'possession': 22.0, 'location_0': 66.0, 'location_1': 71.6, 'pass_length': 42.428764, 'pass_height_id': 1.0, 'pass_end_location_0': 108.2, 'pass_end_location_1': 76.0, 'pass_outcome_name': 'nan', 'id': '81'}), ('15519', '38551', {'possession': 55.0, 'location_0': 80.0, 'location_1': 44.3, 'pass_length': 28.057262, 'pass_height_id': 3.0, 'pass_end_location_0': 106.4, 'pass_end_location_1': 34.8, 'pass_outcome_name': 'Incomplete', 'id': '82'}), ('15519', '38465', {'possession': 29.0, 'location_0': 64.5, 'location_1': 24.7, 'pass_length': 13.967104, 'pass_height_id': 1.0, 'pass_end_location_0': 71.3, 'pass_end_location_1': 12.5, 'pass_outcome_name': 'nan', 'id': '83'}), ('15519', '38465', {'possession': 37.0, 'location_0': 89.4, 'location_1': 57.9, 'pass_length': 15.316005, 'pass_height_id': 1.0, 'pass_end_location_0': 88.7, 'pass_end_location_1': 42.6, 'pass_outcome_name': 'nan', 'id': '84'}), ('15519', '38465', {'possession': 51.0, 'location_0': 45.8, 'location_1': 61.5, 'pass_length': 8.256513, 'pass_height_id': 1.0, 'pass_end_location_0': 48.2, 'pass_end_location_1': 69.4, 'pass_outcome_name': 'nan', 'id': '85'}), ('15519', '38465', {'possession': 60.0, 'location_0': 51.9, 'location_1': 75.9, 'pass_length': 12.925943, 'pass_height_id': 1.0, 'pass_end_location_0': 39.1, 'pass_end_location_1': 77.7, 'pass_outcome_name': 'nan', 'id': '86'}), ('15519', '38465', {'possession': 62.0, 'location_0': 75.5, 'location_1': 40.7, 'pass_length': 9.321481, 'pass_height_id': 1.0, 'pass_end_location_0': 66.3, 'pass_end_location_1': 39.2, 'pass_outcome_name': 'nan', 'id': '87'}), ('15519', '40217', {'possession': 64.0, 'location_0': 64.7, 'location_1': 41.7, 'pass_length': 11.101802, 'pass_height_id': 1.0, 'pass_end_location_0': 53.7, 'pass_end_location_1': 40.2, 'pass_outcome_name': 'nan', 'id': '88'}), ('15519', '40217', {'possession': 71.0, 'location_0': 98.5, 'location_1': 77.0, 'pass_length': 42.280018, 'pass_height_id': 3.0, 'pass_end_location_0': 95.9, 'pass_end_location_1': 34.8, 'pass_outcome_name': 'nan', 'id': '89'}), ('40218', '24758', {'possession': 10.0, 'location_0': 58.0, 'location_1': 21.2, 'pass_length': 13.551753, 'pass_height_id': 1.0, 'pass_end_location_0': 63.9, 'pass_end_location_1': 9.0, 'pass_outcome_name': 'nan', 'id': '90'}), ('40218', '24758', {'possession': 39.0, 'location_0': 29.2, 'location_1': 25.8, 'pass_length': 30.54734, 'pass_height_id': 1.0, 'pass_end_location_0': 56.7, 'pass_end_location_1': 12.5, 'pass_outcome_name': 'nan', 'id': '91'}), ('40218', '24758', {'possession': 53.0, 'location_0': 26.9, 'location_1': 43.3, 'pass_length': 11.562439, 'pass_height_id': 1.0, 'pass_end_location_0': 28.1, 'pass_end_location_1': 31.8, 'pass_outcome_name': 'nan', 'id': '92'}), ('40218', '38465', {'possession': 39.0, 'location_0': 27.0, 'location_1': 35.6, 'pass_length': 13.461798, 'pass_height_id': 2.0, 'pass_end_location_0': 40.1, 'pass_end_location_1': 32.5, 'pass_outcome_name': 'nan', 'id': '93'}), ('40218', '38465', {'possession': 62.0, 'location_0': 21.6, 'location_1': 24.5, 'pass_length': 15.164762, 'pass_height_id': 1.0, 'pass_end_location_0': 36.7, 'pass_end_location_1': 23.1, 'pass_outcome_name': 'nan', 'id': '94'}), ('40215', '15519', {'possession': 12.0, 'location_0': 36.6, 'location_1': 68.8, 'pass_length': 19.731447, 'pass_height_id': 1.0, 'pass_end_location_0': 50.3, 'pass_end_location_1': 54.6, 'pass_outcome_name': 'nan', 'id': '95'}), ('40215', '15519', {'possession': 37.0, 'location_0': 77.8, 'location_1': 66.6, 'pass_length': 12.631706, 'pass_height_id': 1.0, 'pass_end_location_0': 89.4, 'pass_end_location_1': 61.6, 'pass_outcome_name': 'nan', 'id': '96'}), ('40215', '38552', {'possession': 14.0, 'location_0': 45.3, 'location_1': 55.7, 'pass_length': 12.557467, 'pass_height_id': 1.0, 'pass_end_location_0': 33.3, 'pass_end_location_1': 52.0, 'pass_outcome_name': 'nan', 'id': '97'}), ('40215', '38552', {'possession': 37.0, 'location_0': 23.1, 'location_1': 61.8, 'pass_length': 10.7, 'pass_height_id': 1.0, 'pass_end_location_0': 33.8, 'pass_end_location_1': 61.8, 'pass_outcome_name': 'nan', 'id': '98'}), ('40215', '38551', {'possession': 22.0, 'location_0': 3.9, 'location_1': 80.0, 'pass_length': 30.236732, 'pass_height_id': 3.0, 'pass_end_location_0': 33.8, 'pass_end_location_1': 75.5, 'pass_outcome_name': 'nan', 'id': '99'}), ('40215', '38551', {'possession': 53.0, 'location_0': 52.0, 'location_1': 78.1, 'pass_length': 65.0243, 'pass_height_id': 3.0, 'pass_end_location_0': 114.0, 'pass_end_location_1': 58.5, 'pass_outcome_name': 'Unknown', 'id': '100'}), ('40215', '38551', {'possession': 62.0, 'location_0': 25.5, 'location_1': 58.2, 'pass_length': 25.923735, 'pass_height_id': 1.0, 'pass_end_location_0': 49.5, 'pass_end_location_1': 68.0, 'pass_outcome_name': 'nan', 'id': '101'}), ('40215', '38465', {'possession': 27.0, 'location_0': 62.6, 'location_1': 80.0, 'pass_length': 17.418669, 'pass_height_id': 3.0, 'pass_end_location_0': 77.2, 'pass_end_location_1': 70.5, 'pass_outcome_name': 'nan', 'id': '102'}), ('40215', '19636', {'possession': 57.0, 'location_0': 12.3, 'location_1': 75.7, 'pass_length': 24.403278, 'pass_height_id': 1.0, 'pass_end_location_0': 36.7, 'pass_end_location_1': 75.3, 'pass_outcome_name': 'nan', 'id': '103'}), ('40215', '20447', {'possession': 65.0, 'location_0': 81.4, 'location_1': 80.0, 'pass_length': 23.114714, 'pass_height_id': 2.0, 'pass_end_location_0': 58.4, 'pass_end_location_1': 77.7, 'pass_outcome_name': 'nan', 'id': '104'}), ('20329', '40215', {'possession': 14.0, 'location_0': 12.6, 'location_1': 45.9, 'pass_length': 32.58297, 'pass_height_id': 2.0, 'pass_end_location_0': 44.0, 'pass_end_location_1': 54.6, 'pass_outcome_name': 'nan', 'id': '105'}), ('20329', '20447', {'possession': 25.0, 'location_0': 12.2, 'location_1': 33.4, 'pass_length': 9.771898, 'pass_height_id': 1.0, 'pass_end_location_0': 21.5, 'pass_end_location_1': 30.4, 'pass_outcome_name': 'nan', 'id': '106'}), ('20329', '24758', {'possession': 32.0, 'location_0': 8.7, 'location_1': 33.9, 'pass_length': 33.240486, 'pass_height_id': 2.0, 'pass_end_location_0': 28.5, 'pass_end_location_1': 7.2, 'pass_outcome_name': 'nan', 'id': '107'}), ('20447', '24758', {'possession': 14.0, 'location_0': 28.7, 'location_1': 49.1, 'pass_length': 39.722286, 'pass_height_id': 1.0, 'pass_end_location_0': 41.8, 'pass_end_location_1': 11.6, 'pass_outcome_name': 'nan', 'id': '108'}), ('20447', '40215', {'possession': 24.0, 'location_0': 15.4, 'location_1': 48.3, 'pass_length': 6.129437, 'pass_height_id': 1.0, 'pass_end_location_0': 14.8, 'pass_end_location_1': 54.4, 'pass_outcome_name': 'nan', 'id': '109'}), ('20447', '40215', {'possession': 25.0, 'location_0': 19.6, 'location_1': 37.8, 'pass_length': 25.434818, 'pass_height_id': 1.0, 'pass_end_location_0': 29.8, 'pass_end_location_1': 61.1, 'pass_outcome_name': 'nan', 'id': '110'}), ('20447', '20329', {'possession': 25.0, 'location_0': 35.7, 'location_1': 38.0, 'pass_length': 23.749737, 'pass_height_id': 2.0, 'pass_end_location_0': 12.4, 'pass_end_location_1': 33.4, 'pass_outcome_name': 'nan', 'id': '111'}), ('20447', '38552', {'possession': 34.0, 'location_0': 37.9, 'location_1': 73.6, 'pass_length': 12.924783, 'pass_height_id': 1.0, 'pass_end_location_0': 49.5, 'pass_end_location_1': 67.9, 'pass_outcome_name': 'nan', 'id': '112'}), ('20447', '40218', {'possession': 53.0, 'location_0': 31.3, 'location_1': 68.8, 'pass_length': 19.376274, 'pass_height_id': 1.0, 'pass_end_location_0': 27.5, 'pass_end_location_1': 49.8, 'pass_outcome_name': 'nan', 'id': '113'}), ('20447', '38465', {'possession': 71.0, 'location_0': 5.9, 'location_1': 71.1, 'pass_length': 75.34056, 'pass_height_id': 3.0, 'pass_end_location_0': 81.1, 'pass_end_location_1': 75.7, 'pass_outcome_name': 'nan', 'id': '114'}), ('38551', '15519', {'possession': 14.0, 'location_0': 82.8, 'location_1': 62.2, 'pass_length': 23.66115, 'pass_height_id': 1.0, 'pass_end_location_0': 106.4, 'pass_end_location_1': 60.5, 'pass_outcome_name': 'Pass Offside', 'id': '115'}), ('38551', '15519', {'possession': 22.0, 'location_0': 33.8, 'location_1': 75.5, 'pass_length': 12.271104, 'pass_height_id': 3.0, 'pass_end_location_0': 45.5, 'pass_end_location_1': 71.8, 'pass_outcome_name': 'nan', 'id': '116'}), ('38551', '15519', {'possession': 22.0, 'location_0': 56.2, 'location_1': 76.8, 'pass_length': 10.607545, 'pass_height_id': 2.0, 'pass_end_location_0': 63.6, 'pass_end_location_1': 69.2, 'pass_outcome_name': 'nan', 'id': '117'}), ('38551', '38552', {'possession': 27.0, 'location_0': 71.9, 'location_1': 76.0, 'pass_length': 5.2201533, 'pass_height_id': 1.0, 'pass_end_location_0': 75.0, 'pass_end_location_1': 71.8, 'pass_outcome_name': 'Incomplete', 'id': '118'}), ('38551', '38552', {'possession': 64.0, 'location_0': 84.2, 'location_1': 68.7, 'pass_length': 17.528547, 'pass_height_id': 1.0, 'pass_end_location_0': 97.6, 'pass_end_location_1': 57.4, 'pass_outcome_name': 'nan', 'id': '119'}), ('38551', '19636', {'possession': 37.0, 'location_0': 19.6, 'location_1': 75.5, 'pass_length': 14.875819, 'pass_height_id': 1.0, 'pass_end_location_0': 34.4, 'pass_end_location_1': 77.0, 'pass_outcome_name': 'nan', 'id': '120'}), ('38551', '38465', {'possession': 37.0, 'location_0': 35.7, 'location_1': 74.6, 'pass_length': 12.201639, 'pass_height_id': 2.0, 'pass_end_location_0': 47.9, 'pass_end_location_1': 74.4, 'pass_outcome_name': 'nan', 'id': '121'}), ('38551', '38465', {'possession': 60.0, 'location_0': 24.1, 'location_1': 53.7, 'pass_length': 15.033629, 'pass_height_id': 2.0, 'pass_end_location_0': 32.6, 'pass_end_location_1': 66.1, 'pass_outcome_name': 'nan', 'id': '122'})]\n"
     ]
    }
   ],
   "source": [
    "print(graph.edges(data= True))"
   ]
  },
  {
   "cell_type": "code",
   "execution_count": 394,
   "metadata": {},
   "outputs": [],
   "source": [
    "def extract_positions(edge):\n",
    "    \"\"\"\n",
    "    Extract initial and final positions from the edge attributes.\n",
    "    \"\"\"\n",
    "    initial_x, initial_y = edge[2]['location_0'], edge[2]['location_1']\n",
    "    final_x, final_y = edge[2]['pass_end_location_0'], edge[2]['pass_end_location_1']\n",
    "    return initial_x, initial_y, final_x, final_y"
   ]
  },
  {
   "cell_type": "code",
   "execution_count": 395,
   "metadata": {},
   "outputs": [],
   "source": [
    "def bound_indices(initial_x, initial_y, final_x, final_y, matrix_width, matrix_height):\n",
    "    \"\"\"\n",
    "    Ensure the indices are within the bounds of the matrix.\n",
    "    \"\"\"\n",
    "    initial_x_index = min(int(initial_x), matrix_width - 1)\n",
    "    initial_y_index = min(int(initial_y), matrix_height - 1)\n",
    "    final_x_index = min(int(final_x), matrix_width - 1)\n",
    "    final_y_index = min(int(final_y), matrix_height - 1)\n",
    "    return initial_x_index, initial_y_index, final_x_index, final_y_index"
   ]
  },
  {
   "cell_type": "code",
   "execution_count": 396,
   "metadata": {},
   "outputs": [],
   "source": [
    "def update_matrix(passes_matrix, initial_y_index, initial_x_index, final_y_index, final_x_index):\n",
    "    \"\"\"\n",
    "    Increment the corresponding cells in the matrix for initial and final positions.\n",
    "    \"\"\"\n",
    "    passes_matrix[initial_y_index][initial_x_index] += 1\n",
    "    passes_matrix[final_y_index][final_x_index] += 1"
   ]
  },
  {
   "cell_type": "code",
   "execution_count": 397,
   "metadata": {},
   "outputs": [],
   "source": [
    "matrix_height = 120\n",
    "matrix_width = 80\n",
    "\n",
    "# Create an empty matrix to store passes\n",
    "passes_matrix = np.zeros((matrix_width, matrix_height))"
   ]
  },
  {
   "cell_type": "code",
   "execution_count": 398,
   "metadata": {},
   "outputs": [],
   "source": [
    "for edge in graph.edges(data=True):\n",
    "    initial_x, initial_y, final_x, final_y = extract_positions(edge)\n",
    "    initial_x_index, initial_y_index, final_x_index, final_y_index = bound_indices(initial_x, initial_y, final_x, final_y, matrix_height, matrix_width)\n",
    "    update_matrix(passes_matrix, initial_y_index, initial_x_index, final_y_index, final_x_index)\n"
   ]
  },
  {
   "cell_type": "code",
   "execution_count": 399,
   "metadata": {},
   "outputs": [
    {
     "data": {
      "text/plain": [
       "\"\\nfor row in passes_matrix:\\n    # Iterate over each element in the row\\n    for element in row:\\n        # Print the element, separated by a space\\n        print(element, end=' ')\\n    # Move to the next line after printing each row\\n    print()\\n\""
      ]
     },
     "execution_count": 399,
     "metadata": {},
     "output_type": "execute_result"
    }
   ],
   "source": [
    "'''\n",
    "for row in passes_matrix:\n",
    "    # Iterate over each element in the row\n",
    "    for element in row:\n",
    "        # Print the element, separated by a space\n",
    "        print(element, end=' ')\n",
    "    # Move to the next line after printing each row\n",
    "    print()\n",
    "'''"
   ]
  },
  {
   "cell_type": "code",
   "execution_count": 400,
   "metadata": {},
   "outputs": [
    {
     "name": "stdout",
     "output_type": "stream",
     "text": [
      "Total sum of all values in the matrix: 246.0\n"
     ]
    }
   ],
   "source": [
    "total_sum = np.sum(passes_matrix)\n",
    "\n",
    "print(\"Total sum of all values in the matrix:\", total_sum)"
   ]
  },
  {
   "cell_type": "code",
   "execution_count": 403,
   "metadata": {},
   "outputs": [
    {
     "data": {
      "image/png": "[encoded data removed]",
      "text/plain": [
       "<Figure size 640x480 with 1 Axes>"
      ]
     },
     "metadata": {},
     "output_type": "display_data"
    }
   ],
   "source": [
    "# Using Lanczos interpolation method\n",
    "interp_method = 'nearest'\n",
    "\n",
    "plt.imshow(passes_matrix, interpolation=interp_method, cmap='viridis')\n",
    "plt.title(\"Heatmap\")\n",
    "plt.xticks([])  # Remove x-axis ticks\n",
    "plt.yticks([])  # Remove y-axis ticks\n",
    "plt.show()"
   ]
  }
 ],
 "metadata": {
  "kernelspec": {
   "display_name": "Python 3",
   "language": "python",
   "name": "python3"
  },
  "language_info": {
   "codemirror_mode": {
    "name": "ipython",
    "version": 3
   },
   "file_extension": ".py",
   "mimetype": "text/x-python",
   "name": "python",
   "nbconvert_exporter": "python",
   "pygments_lexer": "ipython3",
   "version": "3.12.0"
  }
 },
 "nbformat": 4,
 "nbformat_minor": 2
}
