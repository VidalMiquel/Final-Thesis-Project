{
 "cells": [
  {
   "cell_type": "code",
   "execution_count": 147,
   "metadata": {},
   "outputs": [],
   "source": [
    "import networkx as nx\n",
    "import numpy as np\n",
    "import matplotlib.pyplot as plt\n",
    "import community as cm  # You might need to install python-louvain package for this\n"
   ]
  },
  {
   "cell_type": "code",
   "execution_count": 148,
   "metadata": {},
   "outputs": [],
   "source": [
    "path = \"../Data/FCBarcelona/04Stage/Graphs/11_1_1_0_Graph.gexf\""
   ]
  },
  {
   "cell_type": "code",
   "execution_count": 149,
   "metadata": {},
   "outputs": [],
   "source": [
    "def readGraph(path):\n",
    "    try:\n",
    "        graph = nx.read_gexf(path)\n",
    "        return graph\n",
    "    except FileNotFoundError:\n",
    "        print(f\"File '{path}' not found in '{path}'.\")\n",
    "        return None\n",
    "    except nx.NetworkXError as e:\n",
    "        print(f\"Error reading graph from '{path}': {e}\")\n",
    "        return None"
   ]
  },
  {
   "cell_type": "code",
   "execution_count": 150,
   "metadata": {},
   "outputs": [],
   "source": [
    "G = readGraph(path)"
   ]
  },
  {
   "cell_type": "code",
   "execution_count": 151,
   "metadata": {},
   "outputs": [
    {
     "data": {
      "text/plain": [
       "[['4320', '5203', '5211', '5213', '5216', '5246', '5506'],\n",
       " ['4324', '5470', '5503'],\n",
       " ['4691']]"
      ]
     },
     "execution_count": 151,
     "metadata": {},
     "output_type": "execute_result"
    }
   ],
   "source": [
    "communities_generator = nx.community.girvan_newman(G)\n",
    "top_level_communities = next(communities_generator)\n",
    "next_level_communities = next(communities_generator)\n",
    "sorted(map(sorted, next_level_communities))"
   ]
  },
  {
   "cell_type": "code",
   "execution_count": 152,
   "metadata": {},
   "outputs": [
    {
     "name": "stdout",
     "output_type": "stream",
     "text": [
      "[{'5213', '4691', '5203', '5506'}, {'4320', '5211', '5246', '5216'}, {'5470', '5503', '4324'}]\n"
     ]
    }
   ],
   "source": [
    "partition = nx.community.louvain_communities(G)\n",
    "print(partition)\n",
    "\n",
    "\n"
   ]
  },
  {
   "cell_type": "code",
   "execution_count": 153,
   "metadata": {},
   "outputs": [
    {
     "name": "stdout",
     "output_type": "stream",
     "text": [
      "[('4324', {'label': 'Daniel Alves da Silva'}), ('5470', {'label': 'Ivan Rakitić'}), ('5213', {'label': 'Gerard Piqué Bernabéu'}), ('5506', {'label': 'Javier Alejandro Mascherano'}), ('5211', {'label': 'Jordi Alba Ramos'}), ('4320', {'label': 'Neymar da Silva Santos Junior'}), ('5216', {'label': 'Andrés Iniesta Luján'}), ('5203', {'label': 'Sergio Busquets i Burgos'}), ('5503', {'label': 'Lionel Andrés Messi Cuccittini'}), ('4691', {'label': 'Claudio Andrés Bravo Muñoz'}), ('5246', {'label': 'Luis Alberto Suárez Díaz'})]\n"
     ]
    }
   ],
   "source": [
    "print(G.nodes(data= True))"
   ]
  },
  {
   "cell_type": "code",
   "execution_count": 154,
   "metadata": {},
   "outputs": [
    {
     "name": "stdout",
     "output_type": "stream",
     "text": [
      "Community 0:\n",
      "Node 5213: Gerard Piqué Bernabéu\n",
      "Node 4691: Claudio Andrés Bravo Muñoz\n",
      "Node 5203: Sergio Busquets i Burgos\n",
      "Node 5506: Javier Alejandro Mascherano\n",
      "Community 1:\n",
      "Node 4320: Neymar da Silva Santos Junior\n",
      "Node 5211: Jordi Alba Ramos\n",
      "Node 5246: Luis Alberto Suárez Díaz\n",
      "Node 5216: Andrés Iniesta Luján\n",
      "Community 2:\n",
      "Node 5470: Ivan Rakitić\n",
      "Node 5503: Lionel Andrés Messi Cuccittini\n",
      "Node 4324: Daniel Alves da Silva\n"
     ]
    }
   ],
   "source": [
    "for i, community in enumerate(partition):\n",
    "    print(f\"Community {i}:\")\n",
    "    for node in community:\n",
    "        print(f\"Node {node}: {G.nodes[node]['label']}\")"
   ]
  },
  {
   "cell_type": "code",
   "execution_count": 155,
   "metadata": {},
   "outputs": [
    {
     "name": "stdout",
     "output_type": "stream",
     "text": [
      "Community 1:\n",
      "Node 4691: Claudio Andrés Bravo Muñoz\n",
      "Node 5506: Javier Alejandro Mascherano\n",
      "Node 5213: Gerard Piqué Bernabéu\n",
      "Node 5211: Jordi Alba Ramos\n",
      "Node 5203: Sergio Busquets i Burgos\n",
      "\n",
      "Community 2:\n",
      "Node 5470: Ivan Rakitić\n",
      "Node 5503: Lionel Andrés Messi Cuccittini\n",
      "Node 4324: Daniel Alves da Silva\n",
      "\n",
      "Community 3:\n",
      "Node 4320: Neymar da Silva Santos Junior\n",
      "Node 5246: Luis Alberto Suárez Díaz\n",
      "Node 5216: Andrés Iniesta Luján\n",
      "\n"
     ]
    }
   ],
   "source": [
    "communities =nx.algorithms.community.greedy_modularity_communities(G)\n",
    "for i, community in enumerate(communities):\n",
    "    print(f\"Community {i + 1}:\")\n",
    "    # Iterate over the nodes in the community\n",
    "    for node in community:\n",
    "        # Check if the node has a 'label' attribute\n",
    "        if 'label' in G.nodes[node]:\n",
    "            label = G.nodes[node]['label']\n",
    "            print(f\"Node {node}: {label}\")\n",
    "        else:\n",
    "            print(f\"Node {node}: No label found\")\n",
    "    print()  # Add a newline between communities"
   ]
  },
  {
   "cell_type": "code",
   "execution_count": 157,
   "metadata": {},
   "outputs": [
    {
     "ename": "NetworkXNotImplemented",
     "evalue": "not implemented for directed type",
     "output_type": "error",
     "traceback": [
      "\u001b[1;31m---------------------------------------------------------------------------\u001b[0m",
      "\u001b[1;31mNetworkXNotImplemented\u001b[0m                    Traceback (most recent call last)",
      "Cell \u001b[1;32mIn[157], line 1\u001b[0m\n\u001b[1;32m----> 1\u001b[0m \u001b[43mnx\u001b[49m\u001b[38;5;241;43m.\u001b[39;49m\u001b[43mefficiency\u001b[49m\u001b[43m(\u001b[49m\u001b[43mG\u001b[49m\u001b[43m,\u001b[49m\u001b[43m \u001b[49m\u001b[38;5;124;43m\"\u001b[39;49m\u001b[38;5;124;43m5470\u001b[39;49m\u001b[38;5;124;43m\"\u001b[39;49m\u001b[43m,\u001b[49m\u001b[43m \u001b[49m\u001b[38;5;124;43m\"\u001b[39;49m\u001b[38;5;124;43m4320\u001b[39;49m\u001b[38;5;124;43m\"\u001b[39;49m\u001b[43m)\u001b[49m  \u001b[38;5;66;03m# this gives efficiency for node 2 and 3\u001b[39;00m\n",
      "File \u001b[1;32mc:\\Users\\MiquelVidal\\AppData\\Local\\Programs\\Python\\Python312\\Lib\\site-packages\\networkx\\utils\\decorators.py:770\u001b[0m, in \u001b[0;36margmap.__call__.<locals>.func\u001b[1;34m(_argmap__wrapper, *args, **kwargs)\u001b[0m\n\u001b[0;32m    769\u001b[0m \u001b[38;5;28;01mdef\u001b[39;00m \u001b[38;5;21mfunc\u001b[39m(\u001b[38;5;241m*\u001b[39margs, __wrapper\u001b[38;5;241m=\u001b[39m\u001b[38;5;28;01mNone\u001b[39;00m, \u001b[38;5;241m*\u001b[39m\u001b[38;5;241m*\u001b[39mkwargs):\n\u001b[1;32m--> 770\u001b[0m     \u001b[38;5;28;01mreturn\u001b[39;00m \u001b[43margmap\u001b[49m\u001b[38;5;241;43m.\u001b[39;49m\u001b[43m_lazy_compile\u001b[49m\u001b[43m(\u001b[49m\u001b[43m__wrapper\u001b[49m\u001b[43m)\u001b[49m\u001b[43m(\u001b[49m\u001b[38;5;241;43m*\u001b[39;49m\u001b[43margs\u001b[49m\u001b[43m,\u001b[49m\u001b[43m \u001b[49m\u001b[38;5;241;43m*\u001b[39;49m\u001b[38;5;241;43m*\u001b[39;49m\u001b[43mkwargs\u001b[49m\u001b[43m)\u001b[49m\n",
      "File \u001b[1;32m<class 'networkx.utils.decorators.argmap'> compilation 38:3\u001b[0m, in \u001b[0;36margmap_efficiency_35\u001b[1;34m(G, u, v, backend, **backend_kwargs)\u001b[0m\n\u001b[0;32m      1\u001b[0m \u001b[38;5;28;01mimport\u001b[39;00m \u001b[38;5;21;01mbz2\u001b[39;00m\n\u001b[0;32m      2\u001b[0m \u001b[38;5;28;01mimport\u001b[39;00m \u001b[38;5;21;01mcollections\u001b[39;00m\n\u001b[1;32m----> 3\u001b[0m \u001b[38;5;28;01mimport\u001b[39;00m \u001b[38;5;21;01mgzip\u001b[39;00m\n\u001b[0;32m      4\u001b[0m \u001b[38;5;28;01mimport\u001b[39;00m \u001b[38;5;21;01minspect\u001b[39;00m\n\u001b[0;32m      5\u001b[0m \u001b[38;5;28;01mimport\u001b[39;00m \u001b[38;5;21;01mitertools\u001b[39;00m\n",
      "File \u001b[1;32mc:\\Users\\MiquelVidal\\AppData\\Local\\Programs\\Python\\Python312\\Lib\\site-packages\\networkx\\utils\\decorators.py:90\u001b[0m, in \u001b[0;36mnot_implemented_for.<locals>._not_implemented_for\u001b[1;34m(g)\u001b[0m\n\u001b[0;32m     86\u001b[0m \u001b[38;5;28;01mdef\u001b[39;00m \u001b[38;5;21m_not_implemented_for\u001b[39m(g):\n\u001b[0;32m     87\u001b[0m     \u001b[38;5;28;01mif\u001b[39;00m (mval \u001b[38;5;129;01mis\u001b[39;00m \u001b[38;5;28;01mNone\u001b[39;00m \u001b[38;5;129;01mor\u001b[39;00m mval \u001b[38;5;241m==\u001b[39m g\u001b[38;5;241m.\u001b[39mis_multigraph()) \u001b[38;5;129;01mand\u001b[39;00m (\n\u001b[0;32m     88\u001b[0m         dval \u001b[38;5;129;01mis\u001b[39;00m \u001b[38;5;28;01mNone\u001b[39;00m \u001b[38;5;129;01mor\u001b[39;00m dval \u001b[38;5;241m==\u001b[39m g\u001b[38;5;241m.\u001b[39mis_directed()\n\u001b[0;32m     89\u001b[0m     ):\n\u001b[1;32m---> 90\u001b[0m         \u001b[38;5;28;01mraise\u001b[39;00m nx\u001b[38;5;241m.\u001b[39mNetworkXNotImplemented(errmsg)\n\u001b[0;32m     92\u001b[0m     \u001b[38;5;28;01mreturn\u001b[39;00m g\n",
      "\u001b[1;31mNetworkXNotImplemented\u001b[0m: not implemented for directed type"
     ]
    }
   ],
   "source": [
    "nx.efficiency(G, \"5470\", \"4320\")  # this gives efficiency for node 2 and 3\n"
   ]
  },
  {
   "cell_type": "code",
   "execution_count": 160,
   "metadata": {},
   "outputs": [
    {
     "name": "stdout",
     "output_type": "stream",
     "text": [
      "{'4324': 0.6666666666666666, '5470': 0.625, '5213': 0.6666666666666666, '5506': 0.6666666666666666, '5211': 0.6666666666666666, '4320': 0.7142857142857143, '5216': 0.7142857142857143, '5203': 0.7142857142857143, '5503': 0.6666666666666666, '4691': 0.4166666666666667, '5246': 0.6666666666666666}\n",
      "{'4324': 0.018518518518518517, '5470': 0.08333333333333333, '5213': 0.05092592592592594, '5506': 0.20648148148148152, '5211': 0.05925925925925926, '4320': 0.05555555555555556, '5216': 0.07777777777777778, '5203': 0.08981481481481482, '5503': 0.03379629629629629, '4691': 0.0, '5246': 0.013425925925925926}\n"
     ]
    }
   ],
   "source": [
    "print(nx.closeness_centrality(G))\n",
    "print(nx.betweenness_centrality(G))\n"
   ]
  }
 ],
 "metadata": {
  "kernelspec": {
   "display_name": "Python 3",
   "language": "python",
   "name": "python3"
  },
  "language_info": {
   "codemirror_mode": {
    "name": "ipython",
    "version": 3
   },
   "file_extension": ".py",
   "mimetype": "text/x-python",
   "name": "python",
   "nbconvert_exporter": "python",
   "pygments_lexer": "ipython3",
   "version": "3.12.0"
  }
 },
 "nbformat": 4,
 "nbformat_minor": 2
}
