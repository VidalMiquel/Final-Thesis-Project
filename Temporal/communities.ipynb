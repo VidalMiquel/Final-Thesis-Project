{
 "cells": [
  {
   "cell_type": "code",
   "execution_count": 56,
   "metadata": {},
   "outputs": [],
   "source": [
    "import networkx as nx\n",
    "import numpy as np\n",
    "import matplotlib.pyplot as plt\n",
    "import community as cm  # You might need to install python-louvain package for this\n"
   ]
  },
  {
   "cell_type": "code",
   "execution_count": 57,
   "metadata": {},
   "outputs": [],
   "source": [
    "path = \"../Data/Barcelona/04Stage/Graphs/diGraphs/9_2_2_0_diGraph.gexf\""
   ]
  },
  {
   "cell_type": "code",
   "execution_count": 58,
   "metadata": {},
   "outputs": [],
   "source": [
    "def readGraph(path):\n",
    "    try:\n",
    "        graph = nx.read_gexf(path)\n",
    "        return graph\n",
    "    except FileNotFoundError:\n",
    "        print(f\"File '{path}' not found in '{path}'.\")\n",
    "        return None\n",
    "    except nx.NetworkXError as e:\n",
    "        print(f\"Error reading graph from '{path}': {e}\")\n",
    "        return None"
   ]
  },
  {
   "cell_type": "code",
   "execution_count": 59,
   "metadata": {},
   "outputs": [],
   "source": [
    "G = readGraph(path)"
   ]
  },
  {
   "cell_type": "code",
   "execution_count": 60,
   "metadata": {},
   "outputs": [
    {
     "name": "stdout",
     "output_type": "stream",
     "text": [
      "[{'5213', '4691'}, {'5211', '4320', '6379', '6332', '11094'}, {'5470', '5246', '5503', '6400'}]\n"
     ]
    }
   ],
   "source": [
    "partition = nx.community.louvain_communities(G)\n",
    "print(partition)\n",
    "\n",
    "\n"
   ]
  },
  {
   "cell_type": "code",
   "execution_count": 61,
   "metadata": {},
   "outputs": [
    {
     "name": "stdout",
     "output_type": "stream",
     "text": [
      "[('6332', {'label': 'Thomas Vermaelen'}), ('5211', {'label': 'Jordi Alba Ramos'}), ('4320', {'label': 'Neymar da Silva Santos Junior'}), ('11094', {'label': 'Arda Turan'}), ('4691', {'label': 'Claudio Andrés Bravo Muñoz'}), ('6379', {'label': 'Sergi Roberto Carnicer'}), ('5503', {'label': 'Lionel Andrés Messi Cuccittini'}), ('5470', {'label': 'Ivan Rakitić'}), ('5213', {'label': 'Gerard Piqué Bernabéu'}), ('6400', {'label': 'Aleix Vidal Parreu'}), ('5246', {'label': 'Luis Alberto Suárez Díaz'})]\n"
     ]
    }
   ],
   "source": [
    "print(G.nodes(data= True))"
   ]
  },
  {
   "cell_type": "code",
   "execution_count": 62,
   "metadata": {},
   "outputs": [
    {
     "name": "stdout",
     "output_type": "stream",
     "text": [
      "Community 0:\n",
      "Node 5213: Gerard Piqué Bernabéu\n",
      "Node 4691: Claudio Andrés Bravo Muñoz\n",
      "Community 1:\n",
      "Node 5211: Jordi Alba Ramos\n",
      "Node 4320: Neymar da Silva Santos Junior\n",
      "Node 6379: Sergi Roberto Carnicer\n",
      "Node 6332: Thomas Vermaelen\n",
      "Node 11094: Arda Turan\n",
      "Community 2:\n",
      "Node 5470: Ivan Rakitić\n",
      "Node 5246: Luis Alberto Suárez Díaz\n",
      "Node 5503: Lionel Andrés Messi Cuccittini\n",
      "Node 6400: Aleix Vidal Parreu\n"
     ]
    }
   ],
   "source": [
    "for i, community in enumerate(partition):\n",
    "    print(f\"Community {i}:\")\n",
    "    for node in community:\n",
    "        print(f\"Node {node}: {G.nodes[node]['label']}\")"
   ]
  },
  {
   "cell_type": "code",
   "execution_count": 63,
   "metadata": {},
   "outputs": [
    {
     "name": "stdout",
     "output_type": "stream",
     "text": [
      "Community 1:\n",
      "Node 5211: Jordi Alba Ramos\n",
      "Node 4320: Neymar da Silva Santos Junior\n",
      "Node 6332: Thomas Vermaelen\n",
      "Node 6379: Sergi Roberto Carnicer\n",
      "Node 11094: Arda Turan\n",
      "\n",
      "Community 2:\n",
      "Node 6400: Aleix Vidal Parreu\n",
      "Node 5470: Ivan Rakitić\n",
      "Node 5503: Lionel Andrés Messi Cuccittini\n",
      "Node 5246: Luis Alberto Suárez Díaz\n",
      "\n",
      "Community 3:\n",
      "Node 5213: Gerard Piqué Bernabéu\n",
      "Node 4691: Claudio Andrés Bravo Muñoz\n",
      "\n"
     ]
    }
   ],
   "source": [
    "communities =nx.algorithms.community.greedy_modularity_communities(G)\n",
    "for i, community in enumerate(communities):\n",
    "    print(f\"Community {i + 1}:\")\n",
    "    # Iterate over the nodes in the community\n",
    "    for node in community:\n",
    "        # Check if the node has a 'label' attribute\n",
    "        if 'label' in G.nodes[node]:\n",
    "            label = G.nodes[node]['label']\n",
    "            print(f\"Node {node}: {label}\")\n",
    "        else:\n",
    "            print(f\"Node {node}: No label found\")\n",
    "    print()  # Add a newline between communities"
   ]
  },
  {
   "cell_type": "code",
   "execution_count": 64,
   "metadata": {},
   "outputs": [
    {
     "name": "stdout",
     "output_type": "stream",
     "text": [
      "{'6332': 0.24390243902439024, '5211': 0.5263157894736842, '4320': 0.5, '11094': 0.6666666666666666, '4691': 0.2857142857142857, '6379': 0.45454545454545453, '5503': 0.5, '5470': 0.37037037037037035, '5213': 0.3448275862068966, '6400': 0.4, '5246': 0.625}\n",
      "{'6332': 0.03518518518518519, '5211': 0.057777777777777775, '4320': 0.12851851851851853, '11094': 0.44962962962962966, '4691': 0.11296296296296296, '6379': 0.29888888888888887, '5503': 0.17555555555555558, '5470': 0.07777777777777778, '5213': 0.21333333333333335, '6400': 0.024074074074074074, '5246': 0.19296296296296298}\n"
     ]
    }
   ],
   "source": [
    "print(nx.closeness_centrality(G))\n",
    "print(nx.betweenness_centrality(G))\n"
   ]
  }
 ],
 "metadata": {
  "kernelspec": {
   "display_name": "Python 3",
   "language": "python",
   "name": "python3"
  },
  "language_info": {
   "codemirror_mode": {
    "name": "ipython",
    "version": 3
   },
   "file_extension": ".py",
   "mimetype": "text/x-python",
   "name": "python",
   "nbconvert_exporter": "python",
   "pygments_lexer": "ipython3",
   "version": "3.12.0"
  }
 },
 "nbformat": 4,
 "nbformat_minor": 2
}
