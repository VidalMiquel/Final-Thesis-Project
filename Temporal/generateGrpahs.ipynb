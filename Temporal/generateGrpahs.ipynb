{
 "cells": [
  {
   "cell_type": "markdown",
   "metadata": {},
   "source": []
  },
  {
   "cell_type": "code",
   "execution_count": 9,
   "metadata": {},
   "outputs": [],
   "source": [
    "import pandas as pd\n",
    "import networkx as nx\n",
    "import os\n",
    "import matplotlib.pyplot as plt\n",
    "import seaborn as sns"
   ]
  },
  {
   "cell_type": "code",
   "execution_count": 10,
   "metadata": {},
   "outputs": [],
   "source": [
    "#Path\n",
    "Barcelona = \"../Data/FCBarcelona/03Stage/TargetFiles/67_4_3_1_footballDayPasses.csv\""
   ]
  },
  {
   "cell_type": "code",
   "execution_count": 11,
   "metadata": {},
   "outputs": [],
   "source": [
    "try:\n",
    "    # Read the CSV files into DataFrames\n",
    "    metadataBarcelona = pd.read_csv(Barcelona, sep=\",\")\n",
    "    #metadataArsenal = pd.read_csv(Arsenal, sep=\",\")\n",
    "    # Now metadataManUnited and metadataManCity contain the data from the CSV files\n",
    "except FileNotFoundError:\n",
    "    print(\"One of the files does not exist or the path is incorrect.\")\n",
    "except Exception as e:\n",
    "    print(\"An error occurred:\", str(e))\n"
   ]
  },
  {
   "cell_type": "markdown",
   "metadata": {},
   "source": [
    "GENERATE GRAPH"
   ]
  },
  {
   "cell_type": "code",
   "execution_count": 12,
   "metadata": {},
   "outputs": [],
   "source": [
    "# Initialize a directed graph using NetworkX\n",
    "G = nx.MultiDiGraph()"
   ]
  },
  {
   "cell_type": "markdown",
   "metadata": {},
   "source": [
    "NODES"
   ]
  },
  {
   "cell_type": "code",
   "execution_count": 13,
   "metadata": {},
   "outputs": [],
   "source": [
    "# Remove NaN values from the 'player_id' column\n",
    "validRecipientId = metadataBarcelona.loc[metadataBarcelona['pass_recipient_id'].notna()]\n",
    "\n",
    "validPlayerIds = validRecipientId[\"player_id\"].dropna().unique()\n",
    "\n",
    "G.add_nodes_from(validPlayerIds)"
   ]
  },
  {
   "cell_type": "code",
   "execution_count": 14,
   "metadata": {},
   "outputs": [
    {
     "name": "stdout",
     "output_type": "stream",
     "text": [
      "5211.0\n",
      "5506.0\n",
      "5213.0\n",
      "4324.0\n",
      "10609.0\n",
      "5503.0\n",
      "5216.0\n",
      "3958.0\n",
      "20131.0\n",
      "4691.0\n",
      "5246.0\n",
      "5470.0\n",
      "All nodes in the graph: [5211.0, 5506.0, 5213.0, 4324.0, 10609.0, 5503.0, 5216.0, 3958.0, 20131.0, 4691.0, 5246.0, 5470.0]\n"
     ]
    }
   ],
   "source": [
    "allNodes = list(G.nodes())\n",
    "for node in allNodes:\n",
    "    print(node)\n",
    "\n",
    "# Print all the nodes at once\n",
    "print(\"All nodes in the graph:\", allNodes)"
   ]
  },
  {
   "cell_type": "code",
   "execution_count": 15,
   "metadata": {},
   "outputs": [],
   "source": [
    "uniquePlayers = metadataBarcelona[['player_id', 'player_name']].drop_duplicates().dropna()\n",
    "\n",
    "# Create a dictionary mapping player IDs to their names\n",
    "playerNameDict = dict(zip(uniquePlayers['player_id'], uniquePlayers['player_name']))\n",
    "\n",
    "# Set node attributes for names\n",
    "nx.set_node_attributes(G, playerNameDict, name='label')"
   ]
  },
  {
   "cell_type": "code",
   "execution_count": 16,
   "metadata": {},
   "outputs": [
    {
     "name": "stdout",
     "output_type": "stream",
     "text": [
      "Node attributes: {5211.0: 'Jordi Alba Ramos', 5506.0: 'Javier Alejandro Mascherano', 5213.0: 'Gerard Piqué Bernabéu', 4324.0: 'Daniel Alves da Silva', 10609.0: 'Jérémy Mathieu', 5503.0: 'Lionel Andrés Messi Cuccittini', 5216.0: 'Andrés Iniesta Luján', 3958.0: 'Pedro Eliezer Rodríguez Ledesma', 20131.0: 'Xavier Hernández Creus', 4691.0: 'Claudio Andrés Bravo Muñoz', 5246.0: 'Luis Alberto Suárez Díaz', 5470.0: 'Ivan Rakitić'}\n"
     ]
    }
   ],
   "source": [
    "# Get all node attributes\n",
    "nodeAttributes = nx.get_node_attributes(G, 'label')\n",
    "\n",
    "# Print all node attributes at once\n",
    "print(\"Node attributes:\", nodeAttributes)\n"
   ]
  },
  {
   "cell_type": "markdown",
   "metadata": {},
   "source": [
    "EDGES"
   ]
  },
  {
   "cell_type": "code",
   "execution_count": 17,
   "metadata": {},
   "outputs": [],
   "source": [
    "def add_edges_with_attributes(row):\n",
    "    # Extract relevant information\n",
    "    playerId = row['player_id']\n",
    "    passRecipientId = int(row['pass_recipient_id'])\n",
    "    attributes = {\n",
    "        'possession': float(row['possession']),\n",
    "        'location_0': float(row['location_0']),\n",
    "        'location_1': float(row['location_1']),\n",
    "        'pass_length': float(row['pass_length']),\n",
    "        'pass_height_id': float(row['pass_height_id']),\n",
    "        'pass_end_location_0': float(row['pass_end_location_0']),\n",
    "        'pass_end_location_1': float(row['pass_end_location_1']),\n",
    "        'pass_outcome_name': str(row['pass_outcome_name'])\n",
    "    }\n",
    "    # Add edge with attributes to the graph\n",
    "    G.add_edge(playerId, passRecipientId, **attributes)\n"
   ]
  },
  {
   "cell_type": "code",
   "execution_count": 18,
   "metadata": {},
   "outputs": [],
   "source": [
    "# Apply the function to each row of the DataFrame\n",
    "_ = validRecipientId.apply(add_edges_with_attributes, axis=1)"
   ]
  },
  {
   "cell_type": "code",
   "execution_count": 19,
   "metadata": {},
   "outputs": [
    {
     "name": "stdout",
     "output_type": "stream",
     "text": [
      "All nodes in the graph: [(5211.0, 5506, {'possession': 147.0, 'location_0': 29.2, 'location_1': 0.1, 'pass_length': 8.905055, 'pass_height_id': 2.0, 'pass_end_location_0': 32.9, 'pass_end_location_1': 8.2, 'pass_outcome_name': 'nan'}), (5211.0, 5503, {'possession': 147.0, 'location_0': 46.0, 'location_1': 12.1, 'pass_length': 23.345236, 'pass_height_id': 1.0, 'pass_end_location_0': 56.6, 'pass_end_location_1': 32.9, 'pass_outcome_name': 'nan'}), (5211.0, 5503, {'possession': 152.0, 'location_0': 110.9, 'location_1': 13.1, 'pass_length': 26.711983, 'pass_height_id': 3.0, 'pass_end_location_0': 111.7, 'pass_end_location_1': 39.8, 'pass_outcome_name': 'Incomplete'}), (5211.0, 5216, {'possession': 150.0, 'location_0': 76.0, 'location_1': 4.9, 'pass_length': 8.431489, 'pass_height_id': 1.0, 'pass_end_location_0': 69.0, 'pass_end_location_1': 9.6, 'pass_outcome_name': 'nan'}), (5211.0, 5470, {'possession': 150.0, 'location_0': 67.4, 'location_1': 5.6, 'pass_length': 22.105429, 'pass_height_id': 1.0, 'pass_end_location_0': 62.7, 'pass_end_location_1': 27.2, 'pass_outcome_name': 'nan'}), (5211.0, 5246, {'possession': 150.0, 'location_0': 63.3, 'location_1': 4.3, 'pass_length': 20.640978, 'pass_height_id': 1.0, 'pass_end_location_0': 83.9, 'pass_end_location_1': 5.6, 'pass_outcome_name': 'nan'}), (5506.0, 5213, {'possession': 147.0, 'location_0': 30.7, 'location_1': 11.9, 'pass_length': 28.220915, 'pass_height_id': 1.0, 'pass_end_location_0': 17.8, 'pass_end_location_1': 37.0, 'pass_outcome_name': 'nan'}), (5213.0, 4324, {'possession': 147.0, 'location_0': 13.7, 'location_1': 38.6, 'pass_length': 33.09154, 'pass_height_id': 1.0, 'pass_end_location_0': 25.8, 'pass_end_location_1': 69.4, 'pass_outcome_name': 'nan'}), (5213.0, 10609, {'possession': 147.0, 'location_0': 62.5, 'location_1': 48.2, 'pass_length': 19.425756, 'pass_height_id': 1.0, 'pass_end_location_0': 63.5, 'pass_end_location_1': 28.8, 'pass_outcome_name': 'nan'}), (5213.0, 4691, {'possession': 150.0, 'location_0': 59.6, 'location_1': 69.0, 'pass_length': 30.8099, 'pass_height_id': 1.0, 'pass_end_location_0': 29.4, 'pass_end_location_1': 62.9, 'pass_outcome_name': 'nan'}), (5213.0, 20131, {'possession': 150.0, 'location_0': 56.0, 'location_1': 50.5, 'pass_length': 19.185932, 'pass_height_id': 1.0, 'pass_end_location_0': 64.7, 'pass_end_location_1': 67.6, 'pass_outcome_name': 'nan'}), (5213.0, 5470, {'possession': 150.0, 'location_0': 48.6, 'location_1': 48.6, 'pass_length': 11.844408, 'pass_height_id': 1.0, 'pass_end_location_0': 57.6, 'pass_end_location_1': 40.9, 'pass_outcome_name': 'nan'}), (5213.0, 5216, {'possession': 152.0, 'location_0': 8.2, 'location_1': 38.8, 'pass_length': 16.51575, 'pass_height_id': 2.0, 'pass_end_location_0': 22.3, 'pass_end_location_1': 30.2, 'pass_outcome_name': 'nan'}), (4324.0, 10609, {'possession': 147.0, 'location_0': 35.8, 'location_1': 69.6, 'pass_length': 49.640003, 'pass_height_id': 2.0, 'pass_end_location_0': 30.0, 'pass_end_location_1': 20.3, 'pass_outcome_name': 'nan'}), (4324.0, 20131, {'possession': 150.0, 'location_0': 92.9, 'location_1': 80.0, 'pass_length': 15.098676, 'pass_height_id': 2.0, 'pass_end_location_0': 104.3, 'pass_end_location_1': 70.1, 'pass_outcome_name': 'nan'}), (10609.0, 5211, {'possession': 147.0, 'location_0': 34.9, 'location_1': 22.1, 'pass_length': 14.06165, 'pass_height_id': 1.0, 'pass_end_location_0': 42.7, 'pass_end_location_1': 10.4, 'pass_outcome_name': 'nan'}), (10609.0, 5216, {'possession': 147.0, 'location_0': 63.5, 'location_1': 28.8, 'pass_length': 19.006578, 'pass_height_id': 1.0, 'pass_end_location_0': 78.4, 'pass_end_location_1': 17.0, 'pass_outcome_name': 'nan'}), (10609.0, 5213, {'possession': 150.0, 'location_0': 49.8, 'location_1': 30.2, 'pass_length': 21.034496, 'pass_height_id': 1.0, 'pass_end_location_0': 56.0, 'pass_end_location_1': 50.3, 'pass_outcome_name': 'nan'}), (5503.0, 5216, {'possession': 147.0, 'location_0': 57.8, 'location_1': 28.0, 'pass_length': 11.988745, 'pass_height_id': 1.0, 'pass_end_location_0': 64.1, 'pass_end_location_1': 17.8, 'pass_outcome_name': 'nan'}), (5503.0, 5216, {'possession': 150.0, 'location_0': 97.0, 'location_1': 55.0, 'pass_length': 14.333876, 'pass_height_id': 1.0, 'pass_end_location_0': 100.5, 'pass_end_location_1': 41.1, 'pass_outcome_name': 'nan'}), (5503.0, 5246, {'possession': 149.0, 'location_0': 92.1, 'location_1': 55.8, 'pass_length': 8.928606, 'pass_height_id': 1.0, 'pass_end_location_0': 100.7, 'pass_end_location_1': 58.2, 'pass_outcome_name': 'Incomplete'}), (5216.0, 3958, {'possession': 147.0, 'location_0': 64.1, 'location_1': 17.8, 'pass_length': 25.176577, 'pass_height_id': 1.0, 'pass_end_location_0': 85.6, 'pass_end_location_1': 4.7, 'pass_outcome_name': 'nan'}), (5216.0, 3958, {'possession': 147.0, 'location_0': 81.7, 'location_1': 14.9, 'pass_length': 9.247703, 'pass_height_id': 1.0, 'pass_end_location_0': 90.3, 'pass_end_location_1': 11.5, 'pass_outcome_name': 'nan'}), (5216.0, 3958, {'possession': 150.0, 'location_0': 63.1, 'location_1': 25.6, 'pass_length': 37.78095, 'pass_height_id': 1.0, 'pass_end_location_0': 100.3, 'pass_end_location_1': 19.0, 'pass_outcome_name': 'nan'}), (5216.0, 20131, {'possession': 147.0, 'location_0': 82.5, 'location_1': 20.9, 'pass_length': 35.78966, 'pass_height_id': 3.0, 'pass_end_location_0': 76.6, 'pass_end_location_1': 56.2, 'pass_outcome_name': 'nan'}), (5216.0, 20131, {'possession': 147.0, 'location_0': 86.8, 'location_1': 21.3, 'pass_length': 3.206244, 'pass_height_id': 2.0, 'pass_end_location_0': 87.0, 'pass_end_location_1': 24.5, 'pass_outcome_name': 'Incomplete'}), (5216.0, 20131, {'possession': 152.0, 'location_0': 29.8, 'location_1': 39.2, 'pass_length': 15.682156, 'pass_height_id': 1.0, 'pass_end_location_0': 42.5, 'pass_end_location_1': 48.4, 'pass_outcome_name': 'nan'}), (5216.0, 5503, {'possession': 149.0, 'location_0': 68.0, 'location_1': 29.2, 'pass_length': 27.108854, 'pass_height_id': 1.0, 'pass_end_location_0': 77.2, 'pass_end_location_1': 54.7, 'pass_outcome_name': 'nan'}), (5216.0, 5211, {'possession': 150.0, 'location_0': 100.5, 'location_1': 41.1, 'pass_length': 5.3935146, 'pass_height_id': 1.0, 'pass_end_location_0': 101.5, 'pass_end_location_1': 35.8, 'pass_outcome_name': 'Incomplete'}), (5216.0, 5211, {'possession': 150.0, 'location_0': 69.0, 'location_1': 9.6, 'pass_length': 4.3081317, 'pass_height_id': 1.0, 'pass_end_location_0': 67.4, 'pass_end_location_1': 5.6, 'pass_outcome_name': 'nan'}), (3958.0, 5216, {'possession': 147.0, 'location_0': 92.1, 'location_1': 5.3, 'pass_length': 14.940214, 'pass_height_id': 1.0, 'pass_end_location_0': 82.1, 'pass_end_location_1': 16.4, 'pass_outcome_name': 'nan'}), (3958.0, 5216, {'possession': 147.0, 'location_0': 90.3, 'location_1': 11.5, 'pass_length': 10.084641, 'pass_height_id': 1.0, 'pass_end_location_0': 85.2, 'pass_end_location_1': 20.2, 'pass_outcome_name': 'nan'}), (3958.0, 5216, {'possession': 149.0, 'location_0': 71.1, 'location_1': 20.7, 'pass_length': 7.479305, 'pass_height_id': 1.0, 'pass_end_location_0': 67.4, 'pass_end_location_1': 27.2, 'pass_outcome_name': 'nan'}), (3958.0, 20131, {'possession': 152.0, 'location_0': 72.7, 'location_1': 68.4, 'pass_length': 14.3178215, 'pass_height_id': 1.0, 'pass_end_location_0': 63.3, 'pass_end_location_1': 57.6, 'pass_outcome_name': 'nan'}), (3958.0, 5246, {'possession': 152.0, 'location_0': 75.8, 'location_1': 30.5, 'pass_length': 24.946743, 'pass_height_id': 1.0, 'pass_end_location_0': 90.3, 'pass_end_location_1': 10.2, 'pass_outcome_name': 'nan'}), (20131.0, 5213, {'possession': 147.0, 'location_0': 78.2, 'location_1': 55.4, 'pass_length': 17.272232, 'pass_height_id': 1.0, 'pass_end_location_0': 62.5, 'pass_end_location_1': 48.2, 'pass_outcome_name': 'nan'}), (20131.0, 5213, {'possession': 150.0, 'location_0': 61.1, 'location_1': 63.7, 'pass_length': 17.2363, 'pass_height_id': 1.0, 'pass_end_location_0': 46.4, 'pass_end_location_1': 54.7, 'pass_outcome_name': 'nan'}), (20131.0, 5246, {'possession': 150.0, 'location_0': 106.4, 'location_1': 77.2, 'pass_length': 7.8409185, 'pass_height_id': 1.0, 'pass_end_location_0': 105.6, 'pass_end_location_1': 69.4, 'pass_outcome_name': 'nan'}), (20131.0, 3958, {'possession': 152.0, 'location_0': 50.2, 'location_1': 50.5, 'pass_length': 29.940775, 'pass_height_id': 1.0, 'pass_end_location_0': 72.3, 'pass_end_location_1': 70.7, 'pass_outcome_name': 'nan'}), (4691.0, 3958, {'possession': 149.0, 'location_0': 6.0, 'location_1': 36.0, 'pass_length': 36.970936, 'pass_height_id': 1.0, 'pass_end_location_0': 26.6, 'pass_end_location_1': 5.3, 'pass_outcome_name': 'nan'}), (4691.0, 5470, {'possession': 150.0, 'location_0': 30.7, 'location_1': 62.7, 'pass_length': 14.766516, 'pass_height_id': 1.0, 'pass_end_location_0': 43.3, 'pass_end_location_1': 55.0, 'pass_outcome_name': 'nan'}), (5246.0, 5503, {'possession': 150.0, 'location_0': 100.7, 'location_1': 68.6, 'pass_length': 14.094325, 'pass_height_id': 1.0, 'pass_end_location_0': 97.0, 'pass_end_location_1': 55.0, 'pass_outcome_name': 'nan'}), (5246.0, 5211, {'possession': 152.0, 'location_0': 90.3, 'location_1': 10.2, 'pass_length': 2.8442926, 'pass_height_id': 1.0, 'pass_end_location_0': 89.8, 'pass_end_location_1': 7.4, 'pass_outcome_name': 'nan'}), (5470.0, 5216, {'possession': 150.0, 'location_0': 47.2, 'location_1': 54.3, 'pass_length': 30.371368, 'pass_height_id': 1.0, 'pass_end_location_0': 61.3, 'pass_end_location_1': 27.4, 'pass_outcome_name': 'nan'}), (5470.0, 10609, {'possession': 150.0, 'location_0': 62.9, 'location_1': 22.9, 'pass_length': 8.572631, 'pass_height_id': 1.0, 'pass_end_location_0': 54.7, 'pass_end_location_1': 25.4, 'pass_outcome_name': 'nan'}), (5470.0, 5211, {'possession': 150.0, 'location_0': 58.4, 'location_1': 43.3, 'pass_length': 41.49036, 'pass_height_id': 2.0, 'pass_end_location_0': 63.3, 'pass_end_location_1': 2.1, 'pass_outcome_name': 'nan'})]\n",
      "46\n"
     ]
    }
   ],
   "source": [
    "print(\"All nodes in the graph:\", list(G.edges(data = True)))\n",
    "print(len(list(G.edges())))"
   ]
  },
  {
   "cell_type": "markdown",
   "metadata": {},
   "source": [
    "VERIFICATION"
   ]
  },
  {
   "cell_type": "code",
   "execution_count": 20,
   "metadata": {},
   "outputs": [],
   "source": [
    "assert len(list(G.edges())) == len(validRecipientId), f\"number of edges and dataframe' size is not the same\""
   ]
  },
  {
   "cell_type": "code",
   "execution_count": 21,
   "metadata": {},
   "outputs": [
    {
     "name": "stdout",
     "output_type": "stream",
     "text": [
      "Node Degrees:\n",
      "Node 5211.0: InDegree = 5, OutDegree = 6, TotalDegree = 11\n",
      "Node 5506.0: InDegree = 1, OutDegree = 1, TotalDegree = 2\n",
      "Node 5213.0: InDegree = 4, OutDegree = 6, TotalDegree = 10\n",
      "Node 4324.0: InDegree = 1, OutDegree = 2, TotalDegree = 3\n",
      "Node 10609.0: InDegree = 3, OutDegree = 3, TotalDegree = 6\n",
      "Node 5503.0: InDegree = 4, OutDegree = 3, TotalDegree = 7\n",
      "Node 5216.0: InDegree = 9, OutDegree = 9, TotalDegree = 18\n",
      "Node 3958.0: InDegree = 5, OutDegree = 5, TotalDegree = 10\n",
      "Node 20131.0: InDegree = 6, OutDegree = 4, TotalDegree = 10\n",
      "Node 4691.0: InDegree = 1, OutDegree = 2, TotalDegree = 3\n",
      "Node 5246.0: InDegree = 4, OutDegree = 2, TotalDegree = 6\n",
      "Node 5470.0: InDegree = 3, OutDegree = 3, TotalDegree = 6\n"
     ]
    }
   ],
   "source": [
    "# Assuming you have a multidigraph named G\n",
    "# Calculate the inDegree and outDegree for each node\n",
    "inDegree = dict(G.in_degree())\n",
    "outDegree = dict(G.out_degree())\n",
    "\n",
    "# Print the inDegree, outDegree, and count for each node\n",
    "print(\"Node Degrees:\")\n",
    "for node in G.nodes():\n",
    "    in_degree = inDegree.get(node, 0)\n",
    "    out_degree = outDegree.get(node, 0)\n",
    "    total_degree = in_degree + out_degree\n",
    "    print(f\"Node {node}: InDegree = {in_degree}, OutDegree = {out_degree}, TotalDegree = {total_degree}\")\n"
   ]
  },
  {
   "cell_type": "code",
   "execution_count": 44,
   "metadata": {},
   "outputs": [
    {
     "name": "stdout",
     "output_type": "stream",
     "text": [
      "{5211.0: 5, 5506.0: 1, 5213.0: 4, 4324.0: 1, 10609.0: 3, 5503.0: 4, 5216.0: 9, 3958.0: 5, 20131.0: 6, 4691.0: 1, 5246.0: 4, 5470.0: 3}\n",
      "{5211.0: 6, 5506.0: 1, 5213.0: 6, 4324.0: 2, 10609.0: 3, 5503.0: 3, 5216.0: 9, 3958.0: 5, 20131.0: 4, 4691.0: 2, 5246.0: 2, 5470.0: 3}\n"
     ]
    }
   ],
   "source": [
    "nodes = list(G.nodes())\n",
    "\n",
    "# Calculate in-degree and out-degree for each node using list comprehensions\n",
    "inDegree = list(dict(G.in_degree()).values())\n",
    "outDegree = list(dict(G.out_degree()).values())\n",
    "\n",
    "# Combine node IDs with their respective in-degree and out-degree using zip\n",
    "node_degrees_in = dict(zip(nodes, inDegree))\n",
    "node_degrees_out = dict(zip(nodes, outDegree))\n",
    "print(node_degrees_in)\n",
    "print(node_degrees_out)"
   ]
  },
  {
   "cell_type": "markdown",
   "metadata": {},
   "source": [
    "DISTRIBUTION DEGREE GRAPHIC"
   ]
  },
  {
   "cell_type": "code",
   "execution_count": 22,
   "metadata": {},
   "outputs": [
    {
     "name": "stdout",
     "output_type": "stream",
     "text": [
      "[5, 1, 4, 1, 3, 4, 9, 5, 6, 1, 4, 3]\n"
     ]
    }
   ],
   "source": [
    "# Assuming you have already calculated inDegree using in_degree() method\n",
    "inDegree = list(dict(G.in_degree()).values())\n",
    "outDegree = list(dict(G.out_degree()).values())\n",
    "print(inDegree)"
   ]
  },
  {
   "cell_type": "code",
   "execution_count": 23,
   "metadata": {},
   "outputs": [],
   "source": [
    "def plotDegreeDistribution(degrees, outputFilePath, type):\n",
    "    # Plot the degree distribution\n",
    "    plt.boxplot(degrees)\n",
    "    plt.xlabel('Nodes', fontsize='large')\n",
    "    plt.ylabel(f\"{type}-Degree\", fontsize='large')\n",
    "    plt.title(f'{type}-Degree Distribution', fontsize='large')\n",
    "    plt.savefig(outputFilePath)\n",
    "    plt.show()"
   ]
  },
  {
   "cell_type": "code",
   "execution_count": 24,
   "metadata": {},
   "outputs": [],
   "source": [
    "# Get the current working directory\n",
    "currentDirectory = os.getcwd()"
   ]
  },
  {
   "cell_type": "code",
   "execution_count": 25,
   "metadata": {},
   "outputs": [],
   "source": [
    "# Specify the output file name\n",
    "outputFileNameInDegree = 'inDegreeDistribution.pdf'\n",
    "outputFileNameOutDegree = 'outDegreeDistribution.pdf'"
   ]
  },
  {
   "cell_type": "code",
   "execution_count": 26,
   "metadata": {},
   "outputs": [
    {
     "data": {
      "image/png": "[encoded data removed]",
      "text/plain": [
       "<Figure size 640x480 with 1 Axes>"
      ]
     },
     "metadata": {},
     "output_type": "display_data"
    }
   ],
   "source": [
    "plotDegreeDistribution(inDegree, outputFileNameInDegree, \"In\")"
   ]
  },
  {
   "cell_type": "code",
   "execution_count": 27,
   "metadata": {},
   "outputs": [
    {
     "data": {
      "image/png": "[encoded data removed]",
      "text/plain": [
       "<Figure size 640x480 with 1 Axes>"
      ]
     },
     "metadata": {},
     "output_type": "display_data"
    }
   ],
   "source": [
    "plotDegreeDistribution(outDegree, outputFileNameOutDegree, \"Out\")"
   ]
  },
  {
   "cell_type": "markdown",
   "metadata": {},
   "source": [
    "SAVE GRAPH AS FILE"
   ]
  },
  {
   "cell_type": "code",
   "execution_count": 28,
   "metadata": {},
   "outputs": [],
   "source": [
    "# Specify the output file name\n",
    "outputFileName = 'individualTest.graphml'\n",
    "\n",
    "# Combine the directory path and file name\n",
    "outputFilePath = os.path.join(currentDirectory, outputFileName)\n",
    "\n",
    "# Write the graph to the GraphML file\n",
    "nx.write_gexf(G, outputFilePath, version=\"1.2draft\", encoding=\"utf-8\", prettyprint=True)"
   ]
  },
  {
   "cell_type": "markdown",
   "metadata": {},
   "source": [
    "READ AND TESTTHE GENERATE GRAPH"
   ]
  },
  {
   "cell_type": "code",
   "execution_count": 29,
   "metadata": {},
   "outputs": [
    {
     "name": "stdout",
     "output_type": "stream",
     "text": [
      "All nodes in the graph: ['5211.0', '5506.0', '5213.0', '4324.0', '10609.0', '5503.0', '5216.0', '3958.0', '20131.0', '4691.0', '5246.0', '5470.0', '5506', '5503', '5216', '5470', '5246', '5213', '4324', '10609', '4691', '20131', '5211', '3958']\n",
      "[('5211.0', '5506', {'possession': 147.0, 'location_0': 29.2, 'location_1': 0.1, 'pass_length': 8.905055, 'pass_height_id': 2.0, 'pass_end_location_0': 32.9, 'pass_end_location_1': 8.2, 'pass_outcome_name': 'nan', 'id': '0'}), ('5211.0', '5503', {'possession': 147.0, 'location_0': 46.0, 'location_1': 12.1, 'pass_length': 23.345236, 'pass_height_id': 1.0, 'pass_end_location_0': 56.6, 'pass_end_location_1': 32.9, 'pass_outcome_name': 'nan', 'id': '1'}), ('5211.0', '5503', {'possession': 152.0, 'location_0': 110.9, 'location_1': 13.1, 'pass_length': 26.711983, 'pass_height_id': 3.0, 'pass_end_location_0': 111.7, 'pass_end_location_1': 39.8, 'pass_outcome_name': 'Incomplete', 'id': '2'}), ('5211.0', '5216', {'possession': 150.0, 'location_0': 76.0, 'location_1': 4.9, 'pass_length': 8.431489, 'pass_height_id': 1.0, 'pass_end_location_0': 69.0, 'pass_end_location_1': 9.6, 'pass_outcome_name': 'nan', 'id': '3'}), ('5211.0', '5470', {'possession': 150.0, 'location_0': 67.4, 'location_1': 5.6, 'pass_length': 22.105429, 'pass_height_id': 1.0, 'pass_end_location_0': 62.7, 'pass_end_location_1': 27.2, 'pass_outcome_name': 'nan', 'id': '4'}), ('5211.0', '5246', {'possession': 150.0, 'location_0': 63.3, 'location_1': 4.3, 'pass_length': 20.640978, 'pass_height_id': 1.0, 'pass_end_location_0': 83.9, 'pass_end_location_1': 5.6, 'pass_outcome_name': 'nan', 'id': '5'}), ('5506.0', '5213', {'possession': 147.0, 'location_0': 30.7, 'location_1': 11.9, 'pass_length': 28.220915, 'pass_height_id': 1.0, 'pass_end_location_0': 17.8, 'pass_end_location_1': 37.0, 'pass_outcome_name': 'nan', 'id': '6'}), ('5213.0', '4324', {'possession': 147.0, 'location_0': 13.7, 'location_1': 38.6, 'pass_length': 33.09154, 'pass_height_id': 1.0, 'pass_end_location_0': 25.8, 'pass_end_location_1': 69.4, 'pass_outcome_name': 'nan', 'id': '7'}), ('5213.0', '10609', {'possession': 147.0, 'location_0': 62.5, 'location_1': 48.2, 'pass_length': 19.425756, 'pass_height_id': 1.0, 'pass_end_location_0': 63.5, 'pass_end_location_1': 28.8, 'pass_outcome_name': 'nan', 'id': '8'}), ('5213.0', '4691', {'possession': 150.0, 'location_0': 59.6, 'location_1': 69.0, 'pass_length': 30.8099, 'pass_height_id': 1.0, 'pass_end_location_0': 29.4, 'pass_end_location_1': 62.9, 'pass_outcome_name': 'nan', 'id': '9'}), ('5213.0', '20131', {'possession': 150.0, 'location_0': 56.0, 'location_1': 50.5, 'pass_length': 19.185932, 'pass_height_id': 1.0, 'pass_end_location_0': 64.7, 'pass_end_location_1': 67.6, 'pass_outcome_name': 'nan', 'id': '10'}), ('5213.0', '5470', {'possession': 150.0, 'location_0': 48.6, 'location_1': 48.6, 'pass_length': 11.844408, 'pass_height_id': 1.0, 'pass_end_location_0': 57.6, 'pass_end_location_1': 40.9, 'pass_outcome_name': 'nan', 'id': '11'}), ('5213.0', '5216', {'possession': 152.0, 'location_0': 8.2, 'location_1': 38.8, 'pass_length': 16.51575, 'pass_height_id': 2.0, 'pass_end_location_0': 22.3, 'pass_end_location_1': 30.2, 'pass_outcome_name': 'nan', 'id': '12'}), ('4324.0', '10609', {'possession': 147.0, 'location_0': 35.8, 'location_1': 69.6, 'pass_length': 49.640003, 'pass_height_id': 2.0, 'pass_end_location_0': 30.0, 'pass_end_location_1': 20.3, 'pass_outcome_name': 'nan', 'id': '13'}), ('4324.0', '20131', {'possession': 150.0, 'location_0': 92.9, 'location_1': 80.0, 'pass_length': 15.098676, 'pass_height_id': 2.0, 'pass_end_location_0': 104.3, 'pass_end_location_1': 70.1, 'pass_outcome_name': 'nan', 'id': '14'}), ('10609.0', '5211', {'possession': 147.0, 'location_0': 34.9, 'location_1': 22.1, 'pass_length': 14.06165, 'pass_height_id': 1.0, 'pass_end_location_0': 42.7, 'pass_end_location_1': 10.4, 'pass_outcome_name': 'nan', 'id': '15'}), ('10609.0', '5216', {'possession': 147.0, 'location_0': 63.5, 'location_1': 28.8, 'pass_length': 19.006578, 'pass_height_id': 1.0, 'pass_end_location_0': 78.4, 'pass_end_location_1': 17.0, 'pass_outcome_name': 'nan', 'id': '16'}), ('10609.0', '5213', {'possession': 150.0, 'location_0': 49.8, 'location_1': 30.2, 'pass_length': 21.034496, 'pass_height_id': 1.0, 'pass_end_location_0': 56.0, 'pass_end_location_1': 50.3, 'pass_outcome_name': 'nan', 'id': '17'}), ('5503.0', '5216', {'possession': 147.0, 'location_0': 57.8, 'location_1': 28.0, 'pass_length': 11.988745, 'pass_height_id': 1.0, 'pass_end_location_0': 64.1, 'pass_end_location_1': 17.8, 'pass_outcome_name': 'nan', 'id': '18'}), ('5503.0', '5216', {'possession': 150.0, 'location_0': 97.0, 'location_1': 55.0, 'pass_length': 14.333876, 'pass_height_id': 1.0, 'pass_end_location_0': 100.5, 'pass_end_location_1': 41.1, 'pass_outcome_name': 'nan', 'id': '19'}), ('5503.0', '5246', {'possession': 149.0, 'location_0': 92.1, 'location_1': 55.8, 'pass_length': 8.928606, 'pass_height_id': 1.0, 'pass_end_location_0': 100.7, 'pass_end_location_1': 58.2, 'pass_outcome_name': 'Incomplete', 'id': '20'}), ('5216.0', '3958', {'possession': 147.0, 'location_0': 64.1, 'location_1': 17.8, 'pass_length': 25.176577, 'pass_height_id': 1.0, 'pass_end_location_0': 85.6, 'pass_end_location_1': 4.7, 'pass_outcome_name': 'nan', 'id': '21'}), ('5216.0', '3958', {'possession': 147.0, 'location_0': 81.7, 'location_1': 14.9, 'pass_length': 9.247703, 'pass_height_id': 1.0, 'pass_end_location_0': 90.3, 'pass_end_location_1': 11.5, 'pass_outcome_name': 'nan', 'id': '22'}), ('5216.0', '3958', {'possession': 150.0, 'location_0': 63.1, 'location_1': 25.6, 'pass_length': 37.78095, 'pass_height_id': 1.0, 'pass_end_location_0': 100.3, 'pass_end_location_1': 19.0, 'pass_outcome_name': 'nan', 'id': '23'}), ('5216.0', '20131', {'possession': 147.0, 'location_0': 82.5, 'location_1': 20.9, 'pass_length': 35.78966, 'pass_height_id': 3.0, 'pass_end_location_0': 76.6, 'pass_end_location_1': 56.2, 'pass_outcome_name': 'nan', 'id': '24'}), ('5216.0', '20131', {'possession': 147.0, 'location_0': 86.8, 'location_1': 21.3, 'pass_length': 3.206244, 'pass_height_id': 2.0, 'pass_end_location_0': 87.0, 'pass_end_location_1': 24.5, 'pass_outcome_name': 'Incomplete', 'id': '25'}), ('5216.0', '20131', {'possession': 152.0, 'location_0': 29.8, 'location_1': 39.2, 'pass_length': 15.682156, 'pass_height_id': 1.0, 'pass_end_location_0': 42.5, 'pass_end_location_1': 48.4, 'pass_outcome_name': 'nan', 'id': '26'}), ('5216.0', '5503', {'possession': 149.0, 'location_0': 68.0, 'location_1': 29.2, 'pass_length': 27.108854, 'pass_height_id': 1.0, 'pass_end_location_0': 77.2, 'pass_end_location_1': 54.7, 'pass_outcome_name': 'nan', 'id': '27'}), ('5216.0', '5211', {'possession': 150.0, 'location_0': 100.5, 'location_1': 41.1, 'pass_length': 5.3935146, 'pass_height_id': 1.0, 'pass_end_location_0': 101.5, 'pass_end_location_1': 35.8, 'pass_outcome_name': 'Incomplete', 'id': '28'}), ('5216.0', '5211', {'possession': 150.0, 'location_0': 69.0, 'location_1': 9.6, 'pass_length': 4.3081317, 'pass_height_id': 1.0, 'pass_end_location_0': 67.4, 'pass_end_location_1': 5.6, 'pass_outcome_name': 'nan', 'id': '29'}), ('3958.0', '5216', {'possession': 147.0, 'location_0': 92.1, 'location_1': 5.3, 'pass_length': 14.940214, 'pass_height_id': 1.0, 'pass_end_location_0': 82.1, 'pass_end_location_1': 16.4, 'pass_outcome_name': 'nan', 'id': '30'}), ('3958.0', '5216', {'possession': 147.0, 'location_0': 90.3, 'location_1': 11.5, 'pass_length': 10.084641, 'pass_height_id': 1.0, 'pass_end_location_0': 85.2, 'pass_end_location_1': 20.2, 'pass_outcome_name': 'nan', 'id': '31'}), ('3958.0', '5216', {'possession': 149.0, 'location_0': 71.1, 'location_1': 20.7, 'pass_length': 7.479305, 'pass_height_id': 1.0, 'pass_end_location_0': 67.4, 'pass_end_location_1': 27.2, 'pass_outcome_name': 'nan', 'id': '32'}), ('3958.0', '20131', {'possession': 152.0, 'location_0': 72.7, 'location_1': 68.4, 'pass_length': 14.3178215, 'pass_height_id': 1.0, 'pass_end_location_0': 63.3, 'pass_end_location_1': 57.6, 'pass_outcome_name': 'nan', 'id': '33'}), ('3958.0', '5246', {'possession': 152.0, 'location_0': 75.8, 'location_1': 30.5, 'pass_length': 24.946743, 'pass_height_id': 1.0, 'pass_end_location_0': 90.3, 'pass_end_location_1': 10.2, 'pass_outcome_name': 'nan', 'id': '34'}), ('20131.0', '5213', {'possession': 147.0, 'location_0': 78.2, 'location_1': 55.4, 'pass_length': 17.272232, 'pass_height_id': 1.0, 'pass_end_location_0': 62.5, 'pass_end_location_1': 48.2, 'pass_outcome_name': 'nan', 'id': '35'}), ('20131.0', '5213', {'possession': 150.0, 'location_0': 61.1, 'location_1': 63.7, 'pass_length': 17.2363, 'pass_height_id': 1.0, 'pass_end_location_0': 46.4, 'pass_end_location_1': 54.7, 'pass_outcome_name': 'nan', 'id': '36'}), ('20131.0', '5246', {'possession': 150.0, 'location_0': 106.4, 'location_1': 77.2, 'pass_length': 7.8409185, 'pass_height_id': 1.0, 'pass_end_location_0': 105.6, 'pass_end_location_1': 69.4, 'pass_outcome_name': 'nan', 'id': '37'}), ('20131.0', '3958', {'possession': 152.0, 'location_0': 50.2, 'location_1': 50.5, 'pass_length': 29.940775, 'pass_height_id': 1.0, 'pass_end_location_0': 72.3, 'pass_end_location_1': 70.7, 'pass_outcome_name': 'nan', 'id': '38'}), ('4691.0', '3958', {'possession': 149.0, 'location_0': 6.0, 'location_1': 36.0, 'pass_length': 36.970936, 'pass_height_id': 1.0, 'pass_end_location_0': 26.6, 'pass_end_location_1': 5.3, 'pass_outcome_name': 'nan', 'id': '39'}), ('4691.0', '5470', {'possession': 150.0, 'location_0': 30.7, 'location_1': 62.7, 'pass_length': 14.766516, 'pass_height_id': 1.0, 'pass_end_location_0': 43.3, 'pass_end_location_1': 55.0, 'pass_outcome_name': 'nan', 'id': '40'}), ('5246.0', '5503', {'possession': 150.0, 'location_0': 100.7, 'location_1': 68.6, 'pass_length': 14.094325, 'pass_height_id': 1.0, 'pass_end_location_0': 97.0, 'pass_end_location_1': 55.0, 'pass_outcome_name': 'nan', 'id': '41'}), ('5246.0', '5211', {'possession': 152.0, 'location_0': 90.3, 'location_1': 10.2, 'pass_length': 2.8442926, 'pass_height_id': 1.0, 'pass_end_location_0': 89.8, 'pass_end_location_1': 7.4, 'pass_outcome_name': 'nan', 'id': '42'}), ('5470.0', '5216', {'possession': 150.0, 'location_0': 47.2, 'location_1': 54.3, 'pass_length': 30.371368, 'pass_height_id': 1.0, 'pass_end_location_0': 61.3, 'pass_end_location_1': 27.4, 'pass_outcome_name': 'nan', 'id': '43'}), ('5470.0', '10609', {'possession': 150.0, 'location_0': 62.9, 'location_1': 22.9, 'pass_length': 8.572631, 'pass_height_id': 1.0, 'pass_end_location_0': 54.7, 'pass_end_location_1': 25.4, 'pass_outcome_name': 'nan', 'id': '44'}), ('5470.0', '5211', {'possession': 150.0, 'location_0': 58.4, 'location_1': 43.3, 'pass_length': 41.49036, 'pass_height_id': 2.0, 'pass_end_location_0': 63.3, 'pass_end_location_1': 2.1, 'pass_outcome_name': 'nan', 'id': '45'})]\n",
      "46\n"
     ]
    }
   ],
   "source": [
    "graph = nx.read_gexf(\"individualTest.graphml\")\n",
    "nodes= list(graph.nodes())\n",
    "edgeAttributes = list(graph.edges(data=True))\n",
    "numberOfEdges = graph.number_of_edges()\n",
    "# Print all the nodes at once\n",
    "print(\"All nodes in the graph:\", nodes)\n",
    "print(edgeAttributes)\n",
    "print(numberOfEdges)"
   ]
  }
 ],
 "metadata": {
  "kernelspec": {
   "display_name": "Python 3",
   "language": "python",
   "name": "python3"
  },
  "language_info": {
   "codemirror_mode": {
    "name": "ipython",
    "version": 3
   },
   "file_extension": ".py",
   "mimetype": "text/x-python",
   "name": "python",
   "nbconvert_exporter": "python",
   "pygments_lexer": "ipython3",
   "version": "3.12.0"
  },
  "polyglot_notebook": {
   "kernelInfo": {
    "defaultKernelName": "csharp",
    "items": [
     {
      "aliases": [],
      "languageName": "csharp",
      "name": "csharp"
     }
    ]
   }
  }
 },
 "nbformat": 4,
 "nbformat_minor": 2
}
