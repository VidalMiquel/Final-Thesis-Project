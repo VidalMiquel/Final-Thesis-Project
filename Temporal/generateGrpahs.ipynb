{
 "cells": [
  {
   "cell_type": "markdown",
   "metadata": {},
   "source": []
  },
  {
   "cell_type": "code",
   "execution_count": 406,
   "metadata": {},
   "outputs": [],
   "source": [
    "import pandas as pd\n",
    "import networkx as nx\n",
    "import os\n",
    "import seaborn"
   ]
  },
  {
   "cell_type": "code",
   "execution_count": 407,
   "metadata": {},
   "outputs": [],
   "source": [
    "#Path\n",
    "Barcelona = \"../Data/FCBarcelona/ThirdStage/TargetFiles/11_1_1_0_footballDayPasses.csv\""
   ]
  },
  {
   "cell_type": "code",
   "execution_count": 408,
   "metadata": {},
   "outputs": [],
   "source": [
    "try:\n",
    "    # Read the CSV files into DataFrames\n",
    "    metadataBarcelona = pd.read_csv(Barcelona, sep=\",\")\n",
    "    #metadataArsenal = pd.read_csv(Arsenal, sep=\",\")\n",
    "    # Now metadataManUnited and metadataManCity contain the data from the CSV files\n",
    "except FileNotFoundError:\n",
    "    print(\"One of the files does not exist or the path is incorrect.\")\n",
    "except Exception as e:\n",
    "    print(\"An error occurred:\", str(e))\n"
   ]
  },
  {
   "cell_type": "code",
   "execution_count": 409,
   "metadata": {},
   "outputs": [],
   "source": [
    "# Initialize a directed graph using NetworkX\n",
    "G = nx.MultiDiGraph()"
   ]
  },
  {
   "cell_type": "code",
   "execution_count": 410,
   "metadata": {},
   "outputs": [],
   "source": [
    "# Remove NaN values from the 'player_id' column\n",
    "validPlayerIds = metadataBarcelona['player_id'].dropna().unique()\n",
    "\n",
    "# Add nodes to the graph\n",
    "G.add_nodes_from(validPlayerIds)"
   ]
  },
  {
   "cell_type": "code",
   "execution_count": 411,
   "metadata": {},
   "outputs": [
    {
     "name": "stdout",
     "output_type": "stream",
     "text": [
      "All nodes in the graph: [4324.0, 5470.0, 5213.0, 5506.0, 5211.0, 4320.0, 5216.0, 5203.0, 5503.0, 4691.0, 5246.0]\n"
     ]
    }
   ],
   "source": [
    "allNodes = list(G.nodes())\n",
    "\n",
    "# Print all the nodes at once\n",
    "print(\"All nodes in the graph:\", allNodes)"
   ]
  },
  {
   "cell_type": "code",
   "execution_count": 422,
   "metadata": {},
   "outputs": [
    {
     "ename": "TypeError",
     "evalue": "'method' object is not subscriptable",
     "output_type": "error",
     "traceback": [
      "\u001b[1;31m---------------------------------------------------------------------------\u001b[0m",
      "\u001b[1;31mTypeError\u001b[0m                                 Traceback (most recent call last)",
      "Cell \u001b[1;32mIn[422], line 4\u001b[0m\n\u001b[0;32m      1\u001b[0m uniquePlayers \u001b[38;5;241m=\u001b[39m metadataBarcelona[[\u001b[38;5;124m'\u001b[39m\u001b[38;5;124mplayer_id\u001b[39m\u001b[38;5;124m'\u001b[39m, \u001b[38;5;124m'\u001b[39m\u001b[38;5;124mplayer_name\u001b[39m\u001b[38;5;124m'\u001b[39m]]\u001b[38;5;241m.\u001b[39mdrop_duplicates()\u001b[38;5;241m.\u001b[39mdropna\n\u001b[0;32m      3\u001b[0m \u001b[38;5;66;03m# Create a dictionary mapping player IDs to their names\u001b[39;00m\n\u001b[1;32m----> 4\u001b[0m playerNameDict \u001b[38;5;241m=\u001b[39m \u001b[38;5;28mdict\u001b[39m(\u001b[38;5;28mzip\u001b[39m(\u001b[43muniquePlayers\u001b[49m\u001b[43m[\u001b[49m\u001b[38;5;124;43m'\u001b[39;49m\u001b[38;5;124;43mplayer_id\u001b[39;49m\u001b[38;5;124;43m'\u001b[39;49m\u001b[43m]\u001b[49m, uniquePlayers[\u001b[38;5;124m'\u001b[39m\u001b[38;5;124mplayer_name\u001b[39m\u001b[38;5;124m'\u001b[39m]))\n\u001b[0;32m      6\u001b[0m \u001b[38;5;66;03m# Set node attributes for names\u001b[39;00m\n\u001b[0;32m      7\u001b[0m nx\u001b[38;5;241m.\u001b[39mset_node_attributes(G, playerNameDict, name\u001b[38;5;241m=\u001b[39m\u001b[38;5;124m'\u001b[39m\u001b[38;5;124mlabel\u001b[39m\u001b[38;5;124m'\u001b[39m)\n",
      "\u001b[1;31mTypeError\u001b[0m: 'method' object is not subscriptable"
     ]
    }
   ],
   "source": [
    "uniquePlayers = metadataBarcelona[['player_id', 'player_name']].drop_duplicates().dropna()\n",
    "\n",
    "# Create a dictionary mapping player IDs to their names\n",
    "playerNameDict = dict(zip(uniquePlayers['player_id'], uniquePlayers['player_name']))\n",
    "\n",
    "# Set node attributes for names\n",
    "nx.set_node_attributes(G, playerNameDict, name='label')"
   ]
  },
  {
   "cell_type": "code",
   "execution_count": 413,
   "metadata": {},
   "outputs": [
    {
     "name": "stdout",
     "output_type": "stream",
     "text": [
      "Node attributes: {4324.0: 'Daniel Alves da Silva', 5470.0: 'Ivan Rakitić', 5213.0: 'Gerard Piqué Bernabéu', 5506.0: 'Javier Alejandro Mascherano', 5211.0: 'Jordi Alba Ramos', 4320.0: 'Neymar da Silva Santos Junior', 5216.0: 'Andrés Iniesta Luján', 5203.0: 'Sergio Busquets i Burgos', 5503.0: 'Lionel Andrés Messi Cuccittini', 4691.0: 'Claudio Andrés Bravo Muñoz', 5246.0: 'Luis Alberto Suárez Díaz'}\n"
     ]
    }
   ],
   "source": [
    "# Get all node attributes\n",
    "nodeAttributes = nx.get_node_attributes(G, 'label')\n",
    "\n",
    "# Print all node attributes at once\n",
    "print(\"Node attributes:\", nodeAttributes)\n"
   ]
  },
  {
   "cell_type": "markdown",
   "metadata": {},
   "source": [
    "EDGES"
   ]
  },
  {
   "cell_type": "code",
   "execution_count": 414,
   "metadata": {},
   "outputs": [],
   "source": [
    "def add_edges_with_attributes(row):\n",
    "    # Extract relevant information\n",
    "    playerId = row['player_id']\n",
    "    passRecipientId = row['pass_recipient_id']\n",
    "    attributes = {\n",
    "        'possession': float(row['possession']),\n",
    "        'location_0': float(row['location_0']),\n",
    "        'location_1': float(row['location_1']),\n",
    "        'pass_length': float(row['pass_length']),\n",
    "        'pass_height_id': float(row['pass_height_id']),\n",
    "        'pass_end_location_0': float(row['pass_end_location_0']),\n",
    "        'pass_end_location_1': float(row['pass_end_location_1']),\n",
    "        'pass_outcome_name': str(row['pass_outcome_name'])\n",
    "    }\n",
    "    \n",
    "    # Add edge with attributes to the graph\n",
    "    G.add_edge(playerId, passRecipientId, **attributes)\n"
   ]
  },
  {
   "cell_type": "code",
   "execution_count": 415,
   "metadata": {},
   "outputs": [],
   "source": [
    "# Apply the function to each row of the DataFrame\n",
    "_ = metadataBarcelona.apply(add_edges_with_attributes, axis=1)"
   ]
  },
  {
   "cell_type": "code",
   "execution_count": 416,
   "metadata": {},
   "outputs": [],
   "source": [
    "#G.add_edges_from(metadataBarcelona[['player_id', 'pass_recipient_id']].values.tolist())"
   ]
  },
  {
   "cell_type": "code",
   "execution_count": 417,
   "metadata": {},
   "outputs": [
    {
     "name": "stdout",
     "output_type": "stream",
     "text": [
      "All nodes in the graph: [(4324.0, 5470.0, {'possession': 3.0, 'location_0': 11.1, 'location_1': 54.8, 'pass_length': 11.014536, 'pass_height_id': 3.0, 'pass_end_location_0': 20.7, 'pass_end_location_1': 49.4, 'pass_outcome_name': 'nan'}), (4324.0, 5470.0, {'possession': 16.0, 'location_0': 93.3, 'location_1': 76.9, 'pass_length': 19.423954, 'pass_height_id': 1.0, 'pass_end_location_0': 75.6, 'pass_end_location_1': 68.9, 'pass_outcome_name': 'nan'}), (4324.0, 5470.0, {'possession': 19.0, 'location_0': 86.5, 'location_1': 65.7, 'pass_length': 18.47187, 'pass_height_id': 1.0, 'pass_end_location_0': 100.1, 'pass_end_location_1': 78.2, 'pass_outcome_name': 'nan'}), (4324.0, 5503.0, {'possession': 6.0, 'location_0': 72.7, 'location_1': 67.3, 'pass_length': 16.420109, 'pass_height_id': 1.0, 'pass_end_location_0': 85.8, 'pass_end_location_1': 77.2, 'pass_outcome_name': 'nan'}), (4324.0, 5503.0, {'possession': 16.0, 'location_0': 68.3, 'location_1': 64.2, 'pass_length': 21.46835, 'pass_height_id': 1.0, 'pass_end_location_0': 86.3, 'pass_end_location_1': 75.9, 'pass_outcome_name': 'nan'}), (4324.0, 5503.0, {'possession': 16.0, 'location_0': 100.8, 'location_1': 74.3, 'pass_length': 10.542295, 'pass_height_id': 1.0, 'pass_end_location_0': 94.3, 'pass_end_location_1': 66.0, 'pass_outcome_name': 'nan'}), (4324.0, 5503.0, {'possession': 16.0, 'location_0': 77.9, 'location_1': 61.6, 'pass_length': 17.762882, 'pass_height_id': 1.0, 'pass_end_location_0': 92.3, 'pass_end_location_1': 72.0, 'pass_outcome_name': 'nan'}), (4324.0, 5503.0, {'possession': 17.0, 'location_0': 114.1, 'location_1': 80.0, 'pass_length': 10.324728, 'pass_height_id': 2.0, 'pass_end_location_0': 105.3, 'pass_end_location_1': 74.6, 'pass_outcome_name': 'nan'}), (4324.0, 5503.0, {'possession': 17.0, 'location_0': 112.0, 'location_1': 75.4, 'pass_length': 10.751744, 'pass_height_id': 2.0, 'pass_end_location_0': 101.4, 'pass_end_location_1': 77.2, 'pass_outcome_name': 'nan'}), (4324.0, 5503.0, {'possession': 23.0, 'location_0': 92.8, 'location_1': 73.5, 'pass_length': 9.752948, 'pass_height_id': 1.0, 'pass_end_location_0': 83.4, 'pass_end_location_1': 70.9, 'pass_outcome_name': 'nan'}), (4324.0, 5503.0, {'possession': 23.0, 'location_0': 75.3, 'location_1': 63.9, 'pass_length': 14.26359, 'pass_height_id': 1.0, 'pass_end_location_0': 84.5, 'pass_end_location_1': 74.8, 'pass_outcome_name': 'nan'}), (4324.0, 5503.0, {'possession': 23.0, 'location_0': 94.9, 'location_1': 61.3, 'pass_length': 10.358571, 'pass_height_id': 2.0, 'pass_end_location_0': 105.0, 'pass_end_location_1': 59.0, 'pass_outcome_name': 'nan'}), (4324.0, 5203.0, {'possession': 6.0, 'location_0': 76.4, 'location_1': 64.7, 'pass_length': 11.510864, 'pass_height_id': 1.0, 'pass_end_location_0': 72.7, 'pass_end_location_1': 53.8, 'pass_outcome_name': 'nan'}), (4324.0, 5213.0, {'possession': 16.0, 'location_0': 78.2, 'location_1': 65.2, 'pass_length': 20.349447, 'pass_height_id': 1.0, 'pass_end_location_0': 62.3, 'pass_end_location_1': 52.5, 'pass_outcome_name': 'nan'}), (5470.0, 4324.0, {'possession': 3.0, 'location_0': 18.1, 'location_1': 49.9, 'pass_length': 22.495556, 'pass_height_id': 3.0, 'pass_end_location_0': 22.3, 'pass_end_location_1': 72.0, 'pass_outcome_name': 'nan'}), (5470.0, 4324.0, {'possession': 16.0, 'location_0': 79.0, 'location_1': 64.2, 'pass_length': 25.056934, 'pass_height_id': 1.0, 'pass_end_location_0': 100.6, 'pass_end_location_1': 76.9, 'pass_outcome_name': 'nan'}), (5470.0, nan, {'possession': 10.0, 'location_0': 120.0, 'location_1': 0.1, 'pass_length': 39.213516, 'pass_height_id': 3.0, 'pass_end_location_0': 107.9, 'pass_end_location_1': 37.4, 'pass_outcome_name': 'Unknown'}), (5470.0, 5203.0, {'possession': 16.0, 'location_0': 87.3, 'location_1': 57.4, 'pass_length': 9.900505, 'pass_height_id': 1.0, 'pass_end_location_0': 83.4, 'pass_end_location_1': 48.3, 'pass_outcome_name': 'nan'}), (5470.0, 5203.0, {'possession': 16.0, 'location_0': 75.9, 'location_1': 68.9, 'pass_length': 15.3222065, 'pass_height_id': 1.0, 'pass_end_location_0': 73.3, 'pass_end_location_1': 53.8, 'pass_outcome_name': 'nan'}), (5470.0, 5246.0, {'possession': 19.0, 'location_0': 55.8, 'location_1': 20.5, 'pass_length': 21.528818, 'pass_height_id': 1.0, 'pass_end_location_0': 74.0, 'pass_end_location_1': 9.0, 'pass_outcome_name': 'nan'}), (5470.0, 5216.0, {'possession': 19.0, 'location_0': 88.4, 'location_1': 41.8, 'pass_length': 17.05198, 'pass_height_id': 1.0, 'pass_end_location_0': 84.5, 'pass_end_location_1': 25.2, 'pass_outcome_name': 'nan'}), (5470.0, 5213.0, {'possession': 19.0, 'location_0': 93.8, 'location_1': 73.3, 'pass_length': 26.666082, 'pass_height_id': 1.0, 'pass_end_location_0': 69.6, 'pass_end_location_1': 62.1, 'pass_outcome_name': 'nan'}), (5470.0, 4320.0, {'possession': 21.0, 'location_0': 67.5, 'location_1': 17.4, 'pass_length': 9.167879, 'pass_height_id': 1.0, 'pass_end_location_0': 74.6, 'pass_end_location_1': 11.6, 'pass_outcome_name': 'nan'}), (5470.0, 4320.0, {'possession': 23.0, 'location_0': 90.2, 'location_1': 36.3, 'pass_length': 13.245754, 'pass_height_id': 1.0, 'pass_end_location_0': 100.1, 'pass_end_location_1': 27.5, 'pass_outcome_name': 'Incomplete'}), (5470.0, 5503.0, {'possession': 23.0, 'location_0': 109.4, 'location_1': 76.9, 'pass_length': 11.462111, 'pass_height_id': 1.0, 'pass_end_location_0': 102.7, 'pass_end_location_1': 67.6, 'pass_outcome_name': 'nan'}), (5213.0, 5506.0, {'possession': 6.0, 'location_0': 34.0, 'location_1': 58.2, 'pass_length': 26.304752, 'pass_height_id': 1.0, 'pass_end_location_0': 33.5, 'pass_end_location_1': 31.9, 'pass_outcome_name': 'nan'}), (5213.0, 5506.0, {'possession': 16.0, 'location_0': 46.7, 'location_1': 40.8, 'pass_length': 23.828764, 'pass_height_id': 1.0, 'pass_end_location_0': 51.2, 'pass_end_location_1': 17.4, 'pass_outcome_name': 'nan'}), (5213.0, 5506.0, {'possession': 16.0, 'location_0': 59.5, 'location_1': 48.6, 'pass_length': 22.865038, 'pass_height_id': 1.0, 'pass_end_location_0': 67.0, 'pass_end_location_1': 27.0, 'pass_outcome_name': 'nan'}), (5213.0, 5506.0, {'possession': 23.0, 'location_0': 53.8, 'location_1': 47.3, 'pass_length': 28.408625, 'pass_height_id': 1.0, 'pass_end_location_0': 54.5, 'pass_end_location_1': 18.9, 'pass_outcome_name': 'nan'}), (5213.0, 5211.0, {'possession': 16.0, 'location_0': 62.3, 'location_1': 52.0, 'pass_length': 41.60012, 'pass_height_id': 1.0, 'pass_end_location_0': 69.9, 'pass_end_location_1': 11.1, 'pass_outcome_name': 'nan'}), (5213.0, 5211.0, {'possession': 19.0, 'location_0': 70.9, 'location_1': 56.9, 'pass_length': 56.312077, 'pass_height_id': 3.0, 'pass_end_location_0': 77.7, 'pass_end_location_1': 1.0, 'pass_outcome_name': 'Out'}), (5213.0, 4324.0, {'possession': 16.0, 'location_0': 58.2, 'location_1': 44.7, 'pass_length': 27.718946, 'pass_height_id': 1.0, 'pass_end_location_0': 77.9, 'pass_end_location_1': 64.2, 'pass_outcome_name': 'nan'}), (5213.0, 4324.0, {'possession': 23.0, 'location_0': 57.4, 'location_1': 59.0, 'pass_length': 26.414011, 'pass_height_id': 1.0, 'pass_end_location_0': 77.7, 'pass_end_location_1': 75.9, 'pass_outcome_name': 'nan'}), (5213.0, 5203.0, {'possession': 23.0, 'location_0': 40.2, 'location_1': 56.4, 'pass_length': 23.593431, 'pass_height_id': 1.0, 'pass_end_location_0': 55.8, 'pass_end_location_1': 38.7, 'pass_outcome_name': 'nan'}), (5506.0, 5211.0, {'possession': 6.0, 'location_0': 32.9, 'location_1': 31.4, 'pass_length': 29.95797, 'pass_height_id': 1.0, 'pass_end_location_0': 49.1, 'pass_end_location_1': 6.2, 'pass_outcome_name': 'nan'}), (5506.0, 5211.0, {'possession': 6.0, 'location_0': 70.7, 'location_1': 31.7, 'pass_length': 23.928644, 'pass_height_id': 1.0, 'pass_end_location_0': 74.0, 'pass_end_location_1': 8.0, 'pass_outcome_name': 'nan'}), (5506.0, 5211.0, {'possession': 7.0, 'location_0': 43.1, 'location_1': 21.3, 'pass_length': 33.899853, 'pass_height_id': 1.0, 'pass_end_location_0': 71.7, 'pass_end_location_1': 3.1, 'pass_outcome_name': 'nan'}), (5506.0, 5211.0, {'possession': 16.0, 'location_0': 51.7, 'location_1': 21.5, 'pass_length': 19.527416, 'pass_height_id': 1.0, 'pass_end_location_0': 62.3, 'pass_end_location_1': 5.1, 'pass_outcome_name': 'nan'}), (5506.0, 5211.0, {'possession': 17.0, 'location_0': 73.3, 'location_1': 41.5, 'pass_length': 28.953928, 'pass_height_id': 1.0, 'pass_end_location_0': 84.5, 'pass_end_location_1': 14.8, 'pass_outcome_name': 'nan'}), (5506.0, 5211.0, {'possession': 23.0, 'location_0': 57.4, 'location_1': 20.2, 'pass_length': 23.570532, 'pass_height_id': 1.0, 'pass_end_location_0': 73.3, 'pass_end_location_1': 2.8, 'pass_outcome_name': 'nan'}), (5506.0, 5216.0, {'possession': 6.0, 'location_0': 47.8, 'location_1': 31.1, 'pass_length': 19.894974, 'pass_height_id': 1.0, 'pass_end_location_0': 66.8, 'pass_end_location_1': 25.2, 'pass_outcome_name': 'nan'}), (5506.0, 5216.0, {'possession': 7.0, 'location_0': 41.8, 'location_1': 21.3, 'pass_length': 15.595512, 'pass_height_id': 1.0, 'pass_end_location_0': 56.9, 'pass_end_location_1': 17.4, 'pass_outcome_name': 'nan'}), (5506.0, 5216.0, {'possession': 23.0, 'location_0': 68.1, 'location_1': 25.2, 'pass_length': 13.81919, 'pass_height_id': 1.0, 'pass_end_location_0': 77.2, 'pass_end_location_1': 14.8, 'pass_outcome_name': 'nan'}), (5506.0, 4324.0, {'possession': 6.0, 'location_0': 56.1, 'location_1': 33.2, 'pass_length': 40.686363, 'pass_height_id': 1.0, 'pass_end_location_0': 71.4, 'pass_end_location_1': 70.9, 'pass_outcome_name': 'nan'}), (5506.0, 4324.0, {'possession': 16.0, 'location_0': 55.8, 'location_1': 22.8, 'pass_length': 49.504745, 'pass_height_id': 1.0, 'pass_end_location_0': 66.2, 'pass_end_location_1': 71.2, 'pass_outcome_name': 'nan'}), (5506.0, 4324.0, {'possession': 23.0, 'location_0': 60.3, 'location_1': 24.9, 'pass_length': 40.923832, 'pass_height_id': 1.0, 'pass_end_location_0': 72.7, 'pass_end_location_1': 63.9, 'pass_outcome_name': 'nan'}), (5506.0, 4691.0, {'possession': 7.0, 'location_0': 54.3, 'location_1': 19.2, 'pass_length': 36.989864, 'pass_height_id': 1.0, 'pass_end_location_0': 25.9, 'pass_end_location_1': 42.9, 'pass_outcome_name': 'nan'}), (5506.0, 4691.0, {'possession': 23.0, 'location_0': 59.7, 'location_1': 15.3, 'pass_length': 35.469563, 'pass_height_id': 2.0, 'pass_end_location_0': 27.7, 'pass_end_location_1': 30.6, 'pass_outcome_name': 'nan'}), (5506.0, 5213.0, {'possession': 16.0, 'location_0': 44.7, 'location_1': 16.1, 'pass_length': 34.324627, 'pass_height_id': 1.0, 'pass_end_location_0': 43.4, 'pass_end_location_1': 50.4, 'pass_outcome_name': 'nan'}), (5506.0, 5213.0, {'possession': 16.0, 'location_0': 61.0, 'location_1': 26.7, 'pass_length': 15.394155, 'pass_height_id': 1.0, 'pass_end_location_0': 55.3, 'pass_end_location_1': 41.0, 'pass_outcome_name': 'nan'}), (5506.0, 5503.0, {'possession': 16.0, 'location_0': 75.3, 'location_1': 25.2, 'pass_length': 40.422394, 'pass_height_id': 3.0, 'pass_end_location_0': 96.2, 'pass_end_location_1': 59.8, 'pass_outcome_name': 'Incomplete'}), (5506.0, 5203.0, {'possession': 19.0, 'location_0': 71.2, 'location_1': 14.5, 'pass_length': 21.100948, 'pass_height_id': 1.0, 'pass_end_location_0': 71.4, 'pass_end_location_1': 35.6, 'pass_outcome_name': 'nan'}), (5506.0, 4320.0, {'possession': 23.0, 'location_0': 66.0, 'location_1': 35.3, 'pass_length': 33.920643, 'pass_height_id': 1.0, 'pass_end_location_0': 85.0, 'pass_end_location_1': 7.2, 'pass_outcome_name': 'nan'}), (5211.0, 4320.0, {'possession': 6.0, 'location_0': 52.7, 'location_1': 7.5, 'pass_length': 12.608727, 'pass_height_id': 1.0, 'pass_end_location_0': 64.4, 'pass_end_location_1': 2.8, 'pass_outcome_name': 'nan'}), (5211.0, 4320.0, {'possession': 6.0, 'location_0': 75.3, 'location_1': 8.0, 'pass_length': 10.890821, 'pass_height_id': 2.0, 'pass_end_location_0': 84.7, 'pass_end_location_1': 2.5, 'pass_outcome_name': 'nan'}), (5211.0, 4320.0, {'possession': 7.0, 'location_0': 74.6, 'location_1': 0.1, 'pass_length': 19.82448, 'pass_height_id': 2.0, 'pass_end_location_0': 92.0, 'pass_end_location_1': 9.6, 'pass_outcome_name': 'nan'}), (5211.0, 4320.0, {'possession': 9.0, 'location_0': 101.6, 'location_1': 0.1, 'pass_length': 5.9816384, 'pass_height_id': 2.0, 'pass_end_location_0': 106.3, 'pass_end_location_1': 3.8, 'pass_outcome_name': 'nan'}), (5211.0, 4320.0, {'possession': 12.0, 'location_0': 47.8, 'location_1': 4.6, 'pass_length': 18.717104, 'pass_height_id': 3.0, 'pass_end_location_0': 66.5, 'pass_end_location_1': 5.4, 'pass_outcome_name': 'nan'}), (5211.0, 4320.0, {'possession': 16.0, 'location_0': 76.6, 'location_1': 10.3, 'pass_length': 12.89496, 'pass_height_id': 1.0, 'pass_end_location_0': 88.4, 'pass_end_location_1': 5.1, 'pass_outcome_name': 'nan'}), (5211.0, 4320.0, {'possession': 17.0, 'location_0': 84.7, 'location_1': 11.6, 'pass_length': 12.835108, 'pass_height_id': 1.0, 'pass_end_location_0': 96.2, 'pass_end_location_1': 5.9, 'pass_outcome_name': 'nan'}), (5211.0, 5506.0, {'possession': 6.0, 'location_0': 51.9, 'location_1': 7.0, 'pass_length': 22.915714, 'pass_height_id': 1.0, 'pass_end_location_0': 49.6, 'pass_end_location_1': 29.8, 'pass_outcome_name': 'nan'}), (5211.0, 5506.0, {'possession': 16.0, 'location_0': 65.2, 'location_1': 0.1, 'pass_length': 23.410467, 'pass_height_id': 2.0, 'pass_end_location_0': 48.3, 'pass_end_location_1': 16.3, 'pass_outcome_name': 'nan'}), (5211.0, 5506.0, {'possession': 16.0, 'location_0': 77.2, 'location_1': 4.1, 'pass_length': 27.806475, 'pass_height_id': 1.0, 'pass_end_location_0': 61.0, 'pass_end_location_1': 26.7, 'pass_outcome_name': 'nan'}), (5211.0, 5506.0, {'possession': 19.0, 'location_0': 98.0, 'location_1': 5.9, 'pass_length': 28.42534, 'pass_height_id': 1.0, 'pass_end_location_0': 70.4, 'pass_end_location_1': 12.7, 'pass_outcome_name': 'nan'}), (5211.0, 5506.0, {'possession': 23.0, 'location_0': 72.7, 'location_1': 3.6, 'pass_length': 23.881792, 'pass_height_id': 1.0, 'pass_end_location_0': 59.2, 'pass_end_location_1': 23.3, 'pass_outcome_name': 'nan'}), (5211.0, 5246.0, {'possession': 7.0, 'location_0': 72.7, 'location_1': 3.1, 'pass_length': 34.521877, 'pass_height_id': 1.0, 'pass_end_location_0': 100.1, 'pass_end_location_1': 24.1, 'pass_outcome_name': 'Incomplete'}), (5211.0, 5246.0, {'possession': 8.0, 'location_0': 97.5, 'location_1': 0.1, 'pass_length': 14.812494, 'pass_height_id': 2.0, 'pass_end_location_0': 110.5, 'pass_end_location_1': 7.2, 'pass_outcome_name': 'Incomplete'}), (5211.0, 5216.0, {'possession': 16.0, 'location_0': 64.9, 'location_1': 4.9, 'pass_length': 17.201162, 'pass_height_id': 1.0, 'pass_end_location_0': 71.7, 'pass_end_location_1': 20.7, 'pass_outcome_name': 'nan'}), (5211.0, 5216.0, {'possession': 23.0, 'location_0': 38.4, 'location_1': 14.0, 'pass_length': 19.688068, 'pass_height_id': 1.0, 'pass_end_location_0': 55.3, 'pass_end_location_1': 24.1, 'pass_outcome_name': 'nan'}), (4320.0, 5211.0, {'possession': 6.0, 'location_0': 65.5, 'location_1': 2.8, 'pass_length': 14.233763, 'pass_height_id': 1.0, 'pass_end_location_0': 51.9, 'pass_end_location_1': 7.0, 'pass_outcome_name': 'nan'}), (4320.0, 5216.0, {'possession': 7.0, 'location_0': 90.4, 'location_1': 12.2, 'pass_length': 9.055386, 'pass_height_id': 1.0, 'pass_end_location_0': 85.8, 'pass_end_location_1': 20.0, 'pass_outcome_name': 'Incomplete'}), (4320.0, 5216.0, {'possession': 12.0, 'location_0': 62.3, 'location_1': 4.6, 'pass_length': 10.223991, 'pass_height_id': 2.0, 'pass_end_location_0': 61.6, 'pass_end_location_1': 14.8, 'pass_outcome_name': 'nan'}), (4320.0, 5216.0, {'possession': 16.0, 'location_0': 86.8, 'location_1': 5.7, 'pass_length': 7.072482, 'pass_height_id': 1.0, 'pass_end_location_0': 90.7, 'pass_end_location_1': 11.6, 'pass_outcome_name': 'nan'}), (4320.0, 5216.0, {'possession': 23.0, 'location_0': 89.9, 'location_1': 11.9, 'pass_length': 12.124768, 'pass_height_id': 1.0, 'pass_end_location_0': 80.0, 'pass_end_location_1': 18.9, 'pass_outcome_name': 'nan'}), (4320.0, nan, {'possession': 9.0, 'location_0': 106.3, 'location_1': 4.4, 'pass_length': 6.621178, 'pass_height_id': 3.0, 'pass_end_location_0': 112.3, 'pass_end_location_1': 7.2, 'pass_outcome_name': 'Incomplete'}), (4320.0, 5246.0, {'possession': 17.0, 'location_0': 92.0, 'location_1': 16.6, 'pass_length': 12.503599, 'pass_height_id': 1.0, 'pass_end_location_0': 92.3, 'pass_end_location_1': 29.1, 'pass_outcome_name': 'nan'}), (4320.0, 5246.0, {'possession': 19.0, 'location_0': 96.4, 'location_1': 8.3, 'pass_length': 8.2, 'pass_height_id': 1.0, 'pass_end_location_0': 98.2, 'pass_end_location_1': 16.3, 'pass_outcome_name': 'nan'}), (4320.0, 5503.0, {'possession': 21.0, 'location_0': 95.1, 'location_1': 39.5, 'pass_length': 11.0385685, 'pass_height_id': 1.0, 'pass_end_location_0': 98.8, 'pass_end_location_1': 49.9, 'pass_outcome_name': 'nan'}), (4320.0, 5470.0, {'possession': 23.0, 'location_0': 88.4, 'location_1': 30.6, 'pass_length': 10.204411, 'pass_height_id': 1.0, 'pass_end_location_0': 88.1, 'pass_end_location_1': 40.8, 'pass_outcome_name': 'nan'}), (5216.0, 5203.0, {'possession': 6.0, 'location_0': 67.5, 'location_1': 25.7, 'pass_length': 13.8361845, 'pass_height_id': 1.0, 'pass_end_location_0': 66.5, 'pass_end_location_1': 39.5, 'pass_outcome_name': 'nan'}), (5216.0, 5203.0, {'possession': 16.0, 'location_0': 63.9, 'location_1': 25.2, 'pass_length': 9.126335, 'pass_height_id': 1.0, 'pass_end_location_0': 71.4, 'pass_end_location_1': 30.4, 'pass_outcome_name': 'nan'}), (5216.0, 5203.0, {'possession': 23.0, 'location_0': 55.8, 'location_1': 24.1, 'pass_length': 15.920113, 'pass_height_id': 1.0, 'pass_end_location_0': 56.6, 'pass_end_location_1': 40.0, 'pass_outcome_name': 'nan'}), (5216.0, 5203.0, {'possession': 23.0, 'location_0': 79.2, 'location_1': 19.4, 'pass_length': 23.236393, 'pass_height_id': 1.0, 'pass_end_location_0': 77.9, 'pass_end_location_1': 42.6, 'pass_outcome_name': 'nan'}), (5216.0, 5506.0, {'possession': 7.0, 'location_0': 56.6, 'location_1': 21.0, 'pass_length': 13.503333, 'pass_height_id': 1.0, 'pass_end_location_0': 43.1, 'pass_end_location_1': 21.3, 'pass_outcome_name': 'nan'}), (5216.0, 5246.0, {'possession': 12.0, 'location_0': 61.6, 'location_1': 16.1, 'pass_length': 20.193316, 'pass_height_id': 2.0, 'pass_end_location_0': 79.2, 'pass_end_location_1': 6.2, 'pass_outcome_name': 'Incomplete'}), (5216.0, 5246.0, {'possession': 17.0, 'location_0': 81.3, 'location_1': 28.3, 'pass_length': 12.322337, 'pass_height_id': 1.0, 'pass_end_location_0': 93.3, 'pass_end_location_1': 31.1, 'pass_outcome_name': 'Incomplete'}), (5216.0, 5211.0, {'possession': 16.0, 'location_0': 89.1, 'location_1': 12.4, 'pass_length': 16.169725, 'pass_height_id': 1.0, 'pass_end_location_0': 73.0, 'pass_end_location_1': 10.9, 'pass_outcome_name': 'Incomplete'}), (5216.0, 5211.0, {'possession': 19.0, 'location_0': 88.4, 'location_1': 25.7, 'pass_length': 22.418964, 'pass_height_id': 1.0, 'pass_end_location_0': 100.3, 'pass_end_location_1': 6.7, 'pass_outcome_name': 'nan'}), (5216.0, 4320.0, {'possession': 16.0, 'location_0': 84.5, 'location_1': 5.4, 'pass_length': 6.1392183, 'pass_height_id': 1.0, 'pass_end_location_0': 78.5, 'pass_end_location_1': 6.7, 'pass_outcome_name': 'Incomplete'}), (5216.0, 4320.0, {'possession': 23.0, 'location_0': 82.4, 'location_1': 20.7, 'pass_length': 13.437262, 'pass_height_id': 1.0, 'pass_end_location_0': 85.8, 'pass_end_location_1': 33.7, 'pass_outcome_name': 'nan'}), (5203.0, 5506.0, {'possession': 6.0, 'location_0': 66.8, 'location_1': 39.5, 'pass_length': 12.529964, 'pass_height_id': 1.0, 'pass_end_location_0': 55.8, 'pass_end_location_1': 33.5, 'pass_outcome_name': 'nan'}), (5203.0, 5506.0, {'possession': 6.0, 'location_0': 70.1, 'location_1': 52.0, 'pass_length': 14.747203, 'pass_height_id': 1.0, 'pass_end_location_0': 64.9, 'pass_end_location_1': 38.2, 'pass_outcome_name': 'nan'}), (5203.0, 5506.0, {'possession': 7.0, 'location_0': 73.8, 'location_1': 21.5, 'pass_length': 12.878665, 'pass_height_id': 1.0, 'pass_end_location_0': 61.3, 'pass_end_location_1': 18.4, 'pass_outcome_name': 'nan'}), (5203.0, 5506.0, {'possession': 17.0, 'location_0': 88.9, 'location_1': 65.2, 'pass_length': 28.46085, 'pass_height_id': 1.0, 'pass_end_location_0': 72.0, 'pass_end_location_1': 42.3, 'pass_outcome_name': 'nan'}), (5203.0, 5506.0, {'possession': 23.0, 'location_0': 73.8, 'location_1': 52.0, 'pass_length': 19.283672, 'pass_height_id': 1.0, 'pass_end_location_0': 65.7, 'pass_end_location_1': 34.5, 'pass_outcome_name': 'nan'}), (5203.0, 5506.0, {'possession': 23.0, 'location_0': 77.9, 'location_1': 42.6, 'pass_length': 20.118896, 'pass_height_id': 1.0, 'pass_end_location_0': 67.8, 'pass_end_location_1': 25.2, 'pass_outcome_name': 'nan'}), (5203.0, 5216.0, {'possession': 12.0, 'location_0': 62.9, 'location_1': 19.2, 'pass_length': 6.5, 'pass_height_id': 1.0, 'pass_end_location_0': 66.8, 'pass_end_location_1': 14.0, 'pass_outcome_name': 'nan'}), (5203.0, 5503.0, {'possession': 16.0, 'location_0': 71.2, 'location_1': 32.2, 'pass_length': 37.831863, 'pass_height_id': 1.0, 'pass_end_location_0': 76.9, 'pass_end_location_1': 69.6, 'pass_outcome_name': 'nan'}), (5203.0, 5470.0, {'possession': 16.0, 'location_0': 83.4, 'location_1': 48.3, 'pass_length': 15.052574, 'pass_height_id': 1.0, 'pass_end_location_0': 78.7, 'pass_end_location_1': 62.6, 'pass_outcome_name': 'nan'}), (5203.0, 5213.0, {'possession': 16.0, 'location_0': 74.0, 'location_1': 56.1, 'pass_length': 16.324827, 'pass_height_id': 1.0, 'pass_end_location_0': 59.5, 'pass_end_location_1': 48.6, 'pass_outcome_name': 'nan'}), (5203.0, 5213.0, {'possession': 23.0, 'location_0': 51.9, 'location_1': 38.7, 'pass_length': 18.56071, 'pass_height_id': 1.0, 'pass_end_location_0': 50.4, 'pass_end_location_1': 57.2, 'pass_outcome_name': 'nan'}), (5203.0, 5213.0, {'possession': 23.0, 'location_0': 55.6, 'location_1': 39.5, 'pass_length': 16.9, 'pass_height_id': 1.0, 'pass_end_location_0': 49.1, 'pass_end_location_1': 55.1, 'pass_outcome_name': 'nan'}), (5203.0, 4324.0, {'possession': 19.0, 'location_0': 71.2, 'location_1': 35.6, 'pass_length': 40.68464, 'pass_height_id': 1.0, 'pass_end_location_0': 85.2, 'pass_end_location_1': 73.8, 'pass_outcome_name': 'nan'}), (5503.0, 4324.0, {'possession': 6.0, 'location_0': 84.5, 'location_1': 75.9, 'pass_length': 13.060245, 'pass_height_id': 1.0, 'pass_end_location_0': 76.6, 'pass_end_location_1': 65.5, 'pass_outcome_name': 'nan'}), (5503.0, 4324.0, {'possession': 16.0, 'location_0': 85.0, 'location_1': 74.3, 'pass_length': 11.360018, 'pass_height_id': 1.0, 'pass_end_location_0': 78.2, 'pass_end_location_1': 65.2, 'pass_outcome_name': 'nan'}), (5503.0, 4324.0, {'possession': 16.0, 'location_0': 92.5, 'location_1': 65.0, 'pass_length': 11.950732, 'pass_height_id': 1.0, 'pass_end_location_0': 93.6, 'pass_end_location_1': 76.9, 'pass_outcome_name': 'nan'}), (5503.0, 4324.0, {'possession': 16.0, 'location_0': 92.3, 'location_1': 74.1, 'pass_length': 12.876335, 'pass_height_id': 1.0, 'pass_end_location_0': 101.1, 'pass_end_location_1': 64.7, 'pass_outcome_name': 'nan'}), (5503.0, 4324.0, {'possession': 17.0, 'location_0': 105.3, 'location_1': 74.6, 'pass_length': 7.045566, 'pass_height_id': 2.0, 'pass_end_location_0': 112.3, 'pass_end_location_1': 75.4, 'pass_outcome_name': 'nan'}), (5503.0, 4324.0, {'possession': 23.0, 'location_0': 99.3, 'location_1': 70.2, 'pass_length': 13.288341, 'pass_height_id': 1.0, 'pass_end_location_0': 93.0, 'pass_end_location_1': 58.5, 'pass_outcome_name': 'nan'}), (5503.0, 4320.0, {'possession': 16.0, 'location_0': 106.6, 'location_1': 63.9, 'pass_length': 17.05579, 'pass_height_id': 3.0, 'pass_end_location_0': 108.9, 'pass_end_location_1': 47.0, 'pass_outcome_name': 'Incomplete'}), (5503.0, 5203.0, {'possession': 17.0, 'location_0': 97.5, 'location_1': 68.3, 'pass_length': 9.222797, 'pass_height_id': 1.0, 'pass_end_location_0': 88.4, 'pass_end_location_1': 66.8, 'pass_outcome_name': 'nan'}), (5503.0, 5203.0, {'possession': 23.0, 'location_0': 83.4, 'location_1': 70.9, 'pass_length': 23.097185, 'pass_height_id': 1.0, 'pass_end_location_0': 72.2, 'pass_end_location_1': 50.7, 'pass_outcome_name': 'nan'}), (5503.0, 5470.0, {'possession': 23.0, 'location_0': 91.7, 'location_1': 71.7, 'pass_length': 15.861904, 'pass_height_id': 1.0, 'pass_end_location_0': 106.3, 'pass_end_location_1': 65.5, 'pass_outcome_name': 'nan'}), (5503.0, 5246.0, {'possession': 23.0, 'location_0': 114.4, 'location_1': 55.1, 'pass_length': 13.243867, 'pass_height_id': 2.0, 'pass_end_location_0': 111.0, 'pass_end_location_1': 42.3, 'pass_outcome_name': 'nan'}), (4691.0, 5506.0, {'possession': 7.0, 'location_0': 28.5, 'location_1': 42.9, 'pass_length': 24.956161, 'pass_height_id': 1.0, 'pass_end_location_0': 41.0, 'pass_end_location_1': 21.3, 'pass_outcome_name': 'nan'}), (4691.0, 5211.0, {'possession': 23.0, 'location_0': 25.4, 'location_1': 23.9, 'pass_length': 11.61034, 'pass_height_id': 1.0, 'pass_end_location_0': 34.0, 'pass_end_location_1': 16.1, 'pass_outcome_name': 'nan'}), (4691.0, 5213.0, {'possession': 23.0, 'location_0': 30.1, 'location_1': 34.8, 'pass_length': 23.55674, 'pass_height_id': 1.0, 'pass_end_location_0': 39.5, 'pass_end_location_1': 56.4, 'pass_outcome_name': 'nan'}), (5246.0, 5216.0, {'possession': 17.0, 'location_0': 91.0, 'location_1': 29.1, 'pass_length': 8.256513, 'pass_height_id': 1.0, 'pass_end_location_0': 83.1, 'pass_end_location_1': 26.7, 'pass_outcome_name': 'nan'}), (5246.0, 4320.0, {'possession': 19.0, 'location_0': 89.4, 'location_1': 15.5, 'pass_length': 11.764353, 'pass_height_id': 1.0, 'pass_end_location_0': 96.2, 'pass_end_location_1': 5.9, 'pass_outcome_name': 'nan'}), (5246.0, 4320.0, {'possession': 23.0, 'location_0': 109.9, 'location_1': 42.3, 'pass_length': 6.652819, 'pass_height_id': 2.0, 'pass_end_location_0': 114.4, 'pass_end_location_1': 37.4, 'pass_outcome_name': 'nan'}), (5246.0, 5470.0, {'possession': 19.0, 'location_0': 99.5, 'location_1': 21.0, 'pass_length': 20.796635, 'pass_height_id': 1.0, 'pass_end_location_0': 90.4, 'pass_end_location_1': 39.7, 'pass_outcome_name': 'nan'})]\n",
      "121\n"
     ]
    }
   ],
   "source": [
    "print(\"All nodes in the graph:\", list(G.edges(data = True)))\n",
    "print(len(list(G.edges())))"
   ]
  },
  {
   "cell_type": "code",
   "execution_count": 418,
   "metadata": {},
   "outputs": [],
   "source": [
    "# Get the current working directory\n",
    "currentDirectory = os.getcwd()\n",
    "\n",
    "# Specify the output file name\n",
    "outputFileName = 'asasa.graphml'\n",
    "\n",
    "# Combine the directory path and file name\n",
    "outputFilePath = os.path.join(currentDirectory, outputFileName)\n",
    "\n",
    "# Write the graph to the GraphML file\n",
    "nx.write_gexf(G, outputFilePath, version=\"1.2draft\", encoding=\"utf-8\", prettyprint=True)\n"
   ]
  },
  {
   "cell_type": "code",
   "execution_count": 419,
   "metadata": {},
   "outputs": [
    {
     "name": "stdout",
     "output_type": "stream",
     "text": [
      "Node Degrees:\n",
      "Node 4324.0: InDegree = 14, OutDegree = 14, TotalDegree = 28\n",
      "Node 5470.0: InDegree = 7, OutDegree = 11, TotalDegree = 18\n",
      "Node 5213.0: InDegree = 8, OutDegree = 9, TotalDegree = 17\n",
      "Node 5506.0: InDegree = 17, OutDegree = 19, TotalDegree = 36\n",
      "Node 5211.0: InDegree = 12, OutDegree = 16, TotalDegree = 28\n",
      "Node 4320.0: InDegree = 15, OutDegree = 10, TotalDegree = 25\n",
      "Node 5216.0: InDegree = 12, OutDegree = 11, TotalDegree = 23\n",
      "Node 5203.0: InDegree = 11, OutDegree = 13, TotalDegree = 24\n",
      "Node 5503.0: InDegree = 13, OutDegree = 11, TotalDegree = 24\n",
      "Node 4691.0: InDegree = 2, OutDegree = 3, TotalDegree = 5\n",
      "Node 5246.0: InDegree = 8, OutDegree = 4, TotalDegree = 12\n",
      "Node nan: InDegree = 1, OutDegree = 0, TotalDegree = 1\n",
      "Node nan: InDegree = 1, OutDegree = 0, TotalDegree = 1\n"
     ]
    }
   ],
   "source": [
    "# Assuming you have a multidigraph named G\n",
    "# Calculate the inDegree and outDegree for each node\n",
    "inDegree = dict(G.in_degree())\n",
    "outDegree = dict(G.out_degree())\n",
    "\n",
    "# Print the inDegree, outDegree, and count for each node\n",
    "print(\"Node Degrees:\")\n",
    "for node in G.nodes():\n",
    "    in_degree = inDegree.get(node, 0)\n",
    "    out_degree = outDegree.get(node, 0)\n",
    "    total_degree = in_degree + out_degree\n",
    "    print(f\"Node {node}: InDegree = {in_degree}, OutDegree = {out_degree}, TotalDegree = {total_degree}\")\n"
   ]
  },
  {
   "cell_type": "code",
   "execution_count": 420,
   "metadata": {},
   "outputs": [
    {
     "name": "stdout",
     "output_type": "stream",
     "text": [
      "      Node  InDegree\n",
      "0   4324.0        14\n",
      "1   5470.0         7\n",
      "2   5213.0         8\n",
      "3   5506.0        17\n",
      "4   5211.0        12\n",
      "5   4320.0        15\n",
      "6   5216.0        12\n",
      "7   5203.0        11\n",
      "8   5503.0        13\n",
      "9   4691.0         2\n",
      "10  5246.0         8\n"
     ]
    }
   ],
   "source": [
    "# Assuming you have already calculated inDegree using in_degree() method\n",
    "inDegree = dict(G.in_degree())\n",
    "\n",
    "# Convert dictionary to DataFrame\n",
    "inDegree_df = pd.DataFrame.from_dict(inDegree, orient='index', columns=['InDegree'])\n",
    "\n",
    "# Reset index to make 'Node' a regular column\n",
    "inDegree_df.reset_index(inplace=True)\n",
    "inDegree_df.rename(columns={'index': 'Node'}, inplace=True)\n",
    "\n",
    "# Remove rows with NaN values\n",
    "inDegree_df = inDegree_df.dropna()\n",
    "\n",
    "# Display the DataFrame\n",
    "print(inDegree_df)\n"
   ]
  },
  {
   "cell_type": "code",
   "execution_count": 421,
   "metadata": {},
   "outputs": [
    {
     "data": {
      "image/png": "[encoded data removed]",
      "text/plain": [
       "<Figure size 640x480 with 1 Axes>"
      ]
     },
     "metadata": {},
     "output_type": "display_data"
    }
   ],
   "source": [
    "hist = nx.degree_histogram(G)\n",
    "\n",
    "# Plot the histogram\n",
    "plt.bar(range(len(hist)), hist, width=0.80, color='b')\n",
    "plt.xlabel('Degree')\n",
    "plt.ylabel('Frequency')\n",
    "plt.title('Degree Histogram')\n",
    "plt.show()\n"
   ]
  }
 ],
 "metadata": {
  "kernelspec": {
   "display_name": "Python 3",
   "language": "python",
   "name": "python3"
  },
  "language_info": {
   "codemirror_mode": {
    "name": "ipython",
    "version": 3
   },
   "file_extension": ".py",
   "mimetype": "text/x-python",
   "name": "python",
   "nbconvert_exporter": "python",
   "pygments_lexer": "ipython3",
   "version": "3.12.0"
  },
  "polyglot_notebook": {
   "kernelInfo": {
    "defaultKernelName": "csharp",
    "items": [
     {
      "aliases": [],
      "languageName": "csharp",
      "name": "csharp"
     }
    ]
   }
  }
 },
 "nbformat": 4,
 "nbformat_minor": 2
}
