{
 "cells": [
  {
   "cell_type": "code",
   "execution_count": 17,
   "metadata": {},
   "outputs": [],
   "source": [
    "import pandas as pd\n",
    "import networkx as nx"
   ]
  },
  {
   "cell_type": "code",
   "execution_count": 18,
   "metadata": {},
   "outputs": [],
   "source": [
    "RayoVallecano = \"../Data/ADRVallecano/03Stage/TargetFiles/17_1_1_0_footballDayPasses.csv\""
   ]
  },
  {
   "cell_type": "code",
   "execution_count": 19,
   "metadata": {},
   "outputs": [],
   "source": [
    "try:\n",
    "    # Read the CSV files into DataFrames\n",
    "    metadataRV = pd.read_csv(RayoVallecano, sep=\",\")\n",
    "except FileNotFoundError:\n",
    "    print(\"One of the files does not exist or the path is incorrect.\")\n",
    "except Exception as e:\n",
    "    print(\"An error occurred:\", str(e))\n"
   ]
  },
  {
   "cell_type": "code",
   "execution_count": 20,
   "metadata": {},
   "outputs": [],
   "source": [
    "G = nx.DiGraph()"
   ]
  },
  {
   "cell_type": "code",
   "execution_count": 21,
   "metadata": {},
   "outputs": [],
   "source": [
    "# Remove NaN values from the 'player_id' column\n",
    "validRecipientId = metadataRV.loc[metadataRV['pass_recipient_id'].notna()]\n",
    "\n",
    "validPlayerIds = validRecipientId[\"player_id\"].dropna().unique()\n",
    "\n",
    "G.add_nodes_from(validPlayerIds)"
   ]
  },
  {
   "cell_type": "code",
   "execution_count": 22,
   "metadata": {},
   "outputs": [
    {
     "name": "stdout",
     "output_type": "stream",
     "text": [
      "26685\n",
      "26848\n",
      "26222\n",
      "11539\n",
      "4711\n",
      "24138\n",
      "24255\n",
      "6713\n",
      "6852\n",
      "6914\n",
      "11298\n",
      "All nodes in the graph: [26685, 26848, 26222, 11539, 4711, 24138, 24255, 6713, 6852, 6914, 11298]\n"
     ]
    }
   ],
   "source": [
    "allNodes = list(G.nodes())\n",
    "for node in allNodes:\n",
    "    print(node)\n",
    "\n",
    "# Print all the nodes at once\n",
    "print(\"All nodes in the graph:\", allNodes)"
   ]
  },
  {
   "cell_type": "code",
   "execution_count": 23,
   "metadata": {},
   "outputs": [],
   "source": [
    "edge_weights = metadataRV.groupby(['player_id', 'pass_recipient_id']).size().reset_index(name='weight')\n",
    "\n",
    "\n",
    "# Add edges to the graph with their weights\n",
    "G.add_weighted_edges_from(edge_weights.to_numpy())"
   ]
  },
  {
   "cell_type": "code",
   "execution_count": 24,
   "metadata": {},
   "outputs": [
    {
     "name": "stdout",
     "output_type": "stream",
     "text": [
      "Pass from 26685 to 4711.0, Weight: 1.0\n",
      "Pass from 26685 to 11539.0, Weight: 2.0\n",
      "Pass from 26685 to 26848.0, Weight: 1.0\n",
      "Pass from 26848 to 4711.0, Weight: 1.0\n",
      "Pass from 26848 to 6713.0, Weight: 4.0\n",
      "Pass from 26848 to 6852.0, Weight: 2.0\n",
      "Pass from 26848 to 6914.0, Weight: 4.0\n",
      "Pass from 26848 to 11298.0, Weight: 1.0\n",
      "Pass from 26848 to 11539.0, Weight: 1.0\n",
      "Pass from 26848 to 24138.0, Weight: 2.0\n",
      "Pass from 26848 to 26222.0, Weight: 6.0\n",
      "Pass from 26222 to 6852.0, Weight: 2.0\n",
      "Pass from 26222 to 11539.0, Weight: 3.0\n",
      "Pass from 26222 to 24138.0, Weight: 4.0\n",
      "Pass from 26222 to 24255.0, Weight: 1.0\n",
      "Pass from 26222 to 26685.0, Weight: 4.0\n",
      "Pass from 26222 to 26848.0, Weight: 3.0\n",
      "Pass from 11539 to 4711.0, Weight: 2.0\n",
      "Pass from 11539 to 6852.0, Weight: 4.0\n",
      "Pass from 11539 to 24138.0, Weight: 1.0\n",
      "Pass from 11539 to 26848.0, Weight: 3.0\n",
      "Pass from 4711 to 6713.0, Weight: 1.0\n",
      "Pass from 4711 to 6852.0, Weight: 2.0\n",
      "Pass from 4711 to 6914.0, Weight: 1.0\n",
      "Pass from 4711 to 11298.0, Weight: 1.0\n",
      "Pass from 4711 to 24138.0, Weight: 1.0\n",
      "Pass from 4711 to 26848.0, Weight: 2.0\n",
      "Pass from 24138 to 11539.0, Weight: 4.0\n",
      "Pass from 24138 to 24255.0, Weight: 1.0\n",
      "Pass from 24138 to 26222.0, Weight: 3.0\n",
      "Pass from 24138 to 26685.0, Weight: 2.0\n",
      "Pass from 24138 to 26848.0, Weight: 2.0\n",
      "Pass from 24255 to 6852.0, Weight: 1.0\n",
      "Pass from 24255 to 6914.0, Weight: 1.0\n",
      "Pass from 24255 to 26222.0, Weight: 2.0\n",
      "Pass from 24255 to 26685.0, Weight: 1.0\n",
      "Pass from 6713 to 6914.0, Weight: 2.0\n",
      "Pass from 6713 to 11539.0, Weight: 1.0\n",
      "Pass from 6713 to 24138.0, Weight: 1.0\n",
      "Pass from 6713 to 24255.0, Weight: 1.0\n",
      "Pass from 6713 to 26848.0, Weight: 1.0\n",
      "Pass from 6852 to 4711.0, Weight: 2.0\n",
      "Pass from 6852 to 6713.0, Weight: 1.0\n",
      "Pass from 6852 to 11539.0, Weight: 3.0\n",
      "Pass from 6852 to 24138.0, Weight: 1.0\n",
      "Pass from 6852 to 26222.0, Weight: 1.0\n",
      "Pass from 6852 to 26685.0, Weight: 1.0\n",
      "Pass from 6852 to 26848.0, Weight: 1.0\n",
      "Pass from 6914 to 4711.0, Weight: 2.0\n",
      "Pass from 6914 to 6852.0, Weight: 1.0\n",
      "Pass from 6914 to 11298.0, Weight: 3.0\n",
      "Pass from 6914 to 26222.0, Weight: 1.0\n",
      "Pass from 6914 to 26848.0, Weight: 1.0\n",
      "Pass from 11298 to 4711.0, Weight: 1.0\n",
      "Pass from 11298 to 11539.0, Weight: 1.0\n",
      "Pass from 11298 to 24255.0, Weight: 1.0\n",
      "Pass from 11298 to 26222.0, Weight: 1.0\n",
      "Pass from 11298 to 26685.0, Weight: 2.0\n",
      "Pass from 11298 to 26848.0, Weight: 1.0\n"
     ]
    }
   ],
   "source": [
    "# Print the edges and their weights\n",
    "for u, v, w in G.edges(data='weight'):\n",
    "    print(f\"Pass from {u} to {v}, Weight: {w}\")"
   ]
  }
 ],
 "metadata": {
  "kernelspec": {
   "display_name": "Python 3",
   "language": "python",
   "name": "python3"
  },
  "language_info": {
   "codemirror_mode": {
    "name": "ipython",
    "version": 3
   },
   "file_extension": ".py",
   "mimetype": "text/x-python",
   "name": "python",
   "nbconvert_exporter": "python",
   "pygments_lexer": "ipython3",
   "version": "3.12.0"
  }
 },
 "nbformat": 4,
 "nbformat_minor": 2
}
