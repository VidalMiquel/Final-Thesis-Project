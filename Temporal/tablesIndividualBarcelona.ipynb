{
 "cells": [
  {
   "cell_type": "code",
   "execution_count": 109,
   "metadata": {},
   "outputs": [],
   "source": [
    "import os\n",
    "import networkx as nx\n",
    "from collections import defaultdict\n",
    "import pandas as pd"
   ]
  },
  {
   "cell_type": "code",
   "execution_count": 110,
   "metadata": {},
   "outputs": [],
   "source": [
    "path = \"../Data/Barcelona/04Stage/Graphs/diGraphs\"\n",
    "pathCSV = \"../Data/Barcelona/03Stage/finalMetadataBarcelona.csv\""
   ]
  },
  {
   "cell_type": "code",
   "execution_count": 111,
   "metadata": {},
   "outputs": [],
   "source": [
    "try:\n",
    "    # Open the CSV file\n",
    "    # Create a CSV reader object\n",
    "    dfScore = pd.read_csv(pathCSV)\n",
    "except FileNotFoundError:\n",
    "    print(\"The file does not exist.\")\n",
    "except Exception as e:\n",
    "    print(\"An error occurred:\", e)"
   ]
  },
  {
   "cell_type": "code",
   "execution_count": 112,
   "metadata": {},
   "outputs": [],
   "source": [
    "# Convert 'Difference' column to numeric\n",
    "dfScore['Difference'] = pd.to_numeric(dfScore['Difference'], errors='coerce')\n",
    "\n",
    "# Group by the 'Score' column and calculate the size of each group\n",
    "score_counts = dfScore.groupby('Score').size()\n",
    "\n",
    "# Filter the DataFrame by the conditions: 'Difference' <= 3, size of 'Score' > 1, and 'Difference' < 0\n",
    "filtered_df_score = dfScore[((dfScore['Difference'] < 3) & dfScore['Score'].isin(score_counts[score_counts > 1].index)) | (dfScore['Difference'] <= 0) | (dfScore[\"Score\"] == \"3_2\") | ((dfScore[\"Score\"] == \"3_0\"))]\n",
    "\n"
   ]
  },
  {
   "cell_type": "code",
   "execution_count": 113,
   "metadata": {},
   "outputs": [
    {
     "name": "stdout",
     "output_type": "stream",
     "text": [
      "Score\n",
      "0_1     9\n",
      "0_2     3\n",
      "0_3     1\n",
      "1_0    28\n",
      "1_1    13\n",
      "1_2     3\n",
      "1_3     1\n",
      "1_4     1\n",
      "2_0    18\n",
      "2_1    12\n",
      "2_2     2\n",
      "3_0    14\n",
      "3_1     7\n",
      "3_2     1\n",
      "dtype: int64\n"
     ]
    }
   ],
   "source": [
    "filteredMatches = filtered_df_score.groupby('Score').size()\n",
    "print(filteredMatches)"
   ]
  },
  {
   "cell_type": "code",
   "execution_count": 114,
   "metadata": {},
   "outputs": [
    {
     "name": "stdout",
     "output_type": "stream",
     "text": [
      "Index(['0_1', '0_2', '0_3', '1_0', '1_1', '1_2', '1_3', '1_4', '2_0', '2_1',\n",
      "       '2_2', '3_0', '3_1', '3_2'],\n",
      "      dtype='object', name='Score')\n"
     ]
    }
   ],
   "source": [
    "print(filteredMatches.keys())"
   ]
  },
  {
   "cell_type": "code",
   "execution_count": 115,
   "metadata": {},
   "outputs": [],
   "source": [
    "def getScore(fileName):\n",
    "    parts = fileName.split(\"_\")\n",
    "    if len(parts) == 4:\n",
    "        pass\n",
    "    elif len(parts) == 5 :\n",
    "        return f\"{parts[2]}_{parts[3]}\"\n"
   ]
  },
  {
   "cell_type": "code",
   "execution_count": 116,
   "metadata": {},
   "outputs": [],
   "source": [
    "def readGraph(dataFolder, fileName):\n",
    "    try:\n",
    "        filePath = os.path.join(dataFolder, fileName)\n",
    "        graph = nx.read_gexf(filePath)\n",
    "        return graph\n",
    "    except FileNotFoundError:\n",
    "        print(f\"File '{fileName}' not found in '{dataFolder}'.\")\n",
    "        return None\n",
    "    except nx.NetworkXError as e:\n",
    "        print(f\"Error reading graph from '{filePath}': {e}\")\n",
    "        return None"
   ]
  },
  {
   "cell_type": "code",
   "execution_count": 117,
   "metadata": {},
   "outputs": [],
   "source": [
    "# Initialize dictionaries to store metrics for each score\n",
    "network_metrics = {\n",
    "    'inDegree_players': {},\n",
    "    'outDegree_players': {},\n",
    "    'clustering_coefficients': {},\n",
    "    'betweenness_centralities': {},\n",
    "    'closeness_centralities': {},\n",
    "    'eigenvector_centrality': {},\n",
    "    'eccentricity': {}\n",
    "}"
   ]
  },
  {
   "cell_type": "code",
   "execution_count": 118,
   "metadata": {},
   "outputs": [],
   "source": [
    "\n",
    "# Iterate through all the files in the folder\n",
    "for fileName in os.listdir(path):\n",
    "    # Join the folder path with the file name\n",
    "    graph = readGraph(path, fileName)\n",
    "    score = getScore(fileName)\n",
    "    if score in filtered_df_score[\"Score\"].unique():\n",
    "        # Initialize dictionaries for metrics if they don't exist\n",
    "        if score not in network_metrics['inDegree_players']:\n",
    "            network_metrics['inDegree_players'][score] = {}\n",
    "        if score not in network_metrics['outDegree_players']:\n",
    "            network_metrics['outDegree_players'][score] = {}\n",
    "        if score not in network_metrics['clustering_coefficients']:\n",
    "            network_metrics['clustering_coefficients'][score] = {}\n",
    "        if score not in network_metrics['betweenness_centralities']:\n",
    "            network_metrics['betweenness_centralities'][score] = {}\n",
    "        if score not in network_metrics['closeness_centralities']:\n",
    "            network_metrics['closeness_centralities'][score] = {}\n",
    "        if nx.is_strongly_connected(graph):   \n",
    "            if score not in network_metrics['eigenvector_centrality']:\n",
    "                network_metrics['eigenvector_centrality'][score] = {}\n",
    "            if score not in network_metrics['eccentricity']:\n",
    "                network_metrics['eccentricity'][score] = {}\n",
    "\n",
    "        # Iterate over nodes in the graph\n",
    "        for node in graph.nodes():\n",
    "            # Calculate in-degree and append to inDegree_players dictionary\n",
    "            in_degree = graph.in_degree(node)\n",
    "            if node not in network_metrics['inDegree_players'][score]:\n",
    "                network_metrics['inDegree_players'][score][node] = []\n",
    "            network_metrics['inDegree_players'][score][node].append(in_degree)\n",
    "            \n",
    "            # Calculate out-degree and append to outDegree_players dictionary\n",
    "            out_degree = graph.out_degree(node)\n",
    "            if node not in network_metrics['outDegree_players'][score]:\n",
    "                network_metrics['outDegree_players'][score][node] = []\n",
    "            network_metrics['outDegree_players'][score][node].append(out_degree)\n",
    "            \n",
    "            # Calculate clustering coefficient and store\n",
    "            clustering_coefficient = nx.clustering(graph, node)\n",
    "            network_metrics['clustering_coefficients'][score][node] = clustering_coefficient\n",
    "            \n",
    "            # Calculate betweenness centrality and store\n",
    "            betweenness_centrality = nx.betweenness_centrality(graph)[node]\n",
    "            network_metrics['betweenness_centralities'][score][node] = betweenness_centrality\n",
    "            \n",
    "            # Calculate closeness centrality and store\n",
    "            closeness_centrality = nx.closeness_centrality(graph)[node]\n",
    "            network_metrics['closeness_centralities'][score][node] = closeness_centrality\n",
    "            \n",
    "            if nx.is_strongly_connected(graph):   \n",
    "                #Calcualte eccentricity and store\n",
    "                eccentricity = nx.eccentricity(graph)[node]\n",
    "                network_metrics[\"eccentricity\"][score][node] = eccentricity\n",
    "                \n",
    "                #Calcualte eccentricity and store\n",
    "                eigenvector = nx.eigenvector_centrality(graph)[node]\n",
    "                network_metrics[\"eigenvector_centrality\"][score][node] = eigenvector\n",
    "                \n",
    "                "
   ]
  },
  {
   "cell_type": "code",
   "execution_count": 119,
   "metadata": {},
   "outputs": [],
   "source": [
    "for score in filtered_df_score[\"Score\"].unique():\n",
    "    metricsTable = pd.DataFrame()\n",
    "\n",
    "    for element in network_metrics:\n",
    "        if score in network_metrics[element]:\n",
    "            df = pd.DataFrame.from_dict(network_metrics[element][score], orient='index')        \n",
    "            df_no_nan = df.fillna(\" \")\n",
    "            df_no_blank = df_no_nan.replace(\" \", float('nan'))  # Replace blank spaces with NaN\n",
    "            #df_filled_int = df_no_blank.astype(float).astype('Int64')  # Convert to integers\n",
    "\n",
    "            #df_string = df_filled_int.to_string(header=False)\n",
    "\n",
    "            # Calculate mean, standard deviation, and count\n",
    "            mean_values = df_no_blank.mean(axis=1).round(2)\n",
    "            std_values = df_no_blank.std(axis=1).round(2)\n",
    "            count_values = df_no_blank.count(axis=1)\n",
    "            metricsTable = pd.concat([metricsTable, mean_values.rename('Mean'), std_values.rename('Std'), count_values.rename('Count')], axis=1)\n",
    "    metricsTable.to_csv(f\"Barcelona/Individual/{score}_individualMetrics.csv\", index = True)\n",
    "\n"
   ]
  }
 ],
 "metadata": {
  "kernelspec": {
   "display_name": "Python 3",
   "language": "python",
   "name": "python3"
  },
  "language_info": {
   "codemirror_mode": {
    "name": "ipython",
    "version": 3
   },
   "file_extension": ".py",
   "mimetype": "text/x-python",
   "name": "python",
   "nbconvert_exporter": "python",
   "pygments_lexer": "ipython3",
   "version": "3.12.0"
  }
 },
 "nbformat": 4,
 "nbformat_minor": 2
}
