{
 "cells": [
  {
   "cell_type": "code",
   "execution_count": 3,
   "metadata": {},
   "outputs": [],
   "source": [
    "individualMetricsBarcelona = \"../Data/Barcelona/04Stage/Metrics/Individual/IndividualnetworkMetrics.pkl\"\n",
    "globalMetricsBarcelona = \"../Data/Barcelona/04Stage/Metrics/Global/GlobalnetworkMetrics.pkl\"\n",
    "scoresBarcelona = \"../Data/Barcelona/03Stage/finalMetadataBarcelona.csv\""
   ]
  },
  {
   "cell_type": "code",
   "execution_count": 4,
   "metadata": {},
   "outputs": [],
   "source": [
    "individualMetricsRayoVallecano = \"../Data/ADRayoVallecano/04Stage/Metrics/Individual/IndividualnetworkMetrics.pkl\"\n",
    "globalMericsRayoVallecano = \"../Data/ADRayoVallecano/04Stage/Metrics/Global/GlobalnetworkMetrics.pkl\"\n",
    "scoresRayoVallecano = \"../Data/ADRayoVallecano/03Stage/finalMetadataRayo Vallecano.csv\""
   ]
  },
  {
   "cell_type": "code",
   "execution_count": 5,
   "metadata": {},
   "outputs": [],
   "source": [
    "import pickle\n",
    "import networkx as nx\n",
    "import pandas as pd\n"
   ]
  },
  {
   "cell_type": "code",
   "execution_count": 6,
   "metadata": {},
   "outputs": [],
   "source": [
    "def load_metrics(file):\n",
    "    try:\n",
    "        with open(file, \"rb\") as f:\n",
    "            deserializedFile = pickle.load(f)\n",
    "        return deserializedFile\n",
    "    except FileNotFoundError:\n",
    "        print(f\"File '{individualMetricsBarcelona}' not found.\")\n",
    "    except nx.NetworkXError as e:\n",
    "        print(f\"Error reading graph from '{individualMetricsBarcelona}': {e}\")"
   ]
  },
  {
   "cell_type": "code",
   "execution_count": 7,
   "metadata": {},
   "outputs": [],
   "source": [
    "def load_scores(scores):\n",
    "    try:\n",
    "        # Open the CSV file\n",
    "        # Create a CSV reader object\n",
    "        dfScore = pd.read_csv(scores)\n",
    "        return dfScore\n",
    "    except FileNotFoundError:\n",
    "        print(\"The file does not exist.\")\n",
    "    except Exception as e:\n",
    "        print(\"An error occurred:\", e)"
   ]
  },
  {
   "cell_type": "code",
   "execution_count": 8,
   "metadata": {},
   "outputs": [],
   "source": [
    "def processMetrics(dfScore, deserializedFile, team):\n",
    "    for score in dfScore[\"Score\"].unique():\n",
    "        metricsTable = pd.DataFrame()\n",
    "        for element in deserializedFile:\n",
    "            if score in deserializedFile[element]:\n",
    "                df = pd.DataFrame.from_dict(deserializedFile[element][score], orient='index')        \n",
    "                dfNoNan = df.fillna(\" \")\n",
    "                dfNoBlank = dfNoNan.replace(\" \", float('nan'))  # Replace blank spaces with NaN\n",
    "\n",
    "                # Calculate mean, standard deviation, and count\n",
    "                meanValues = dfNoBlank.mean(axis=1).round(2)\n",
    "                stdValues = dfNoBlank.std(axis=1).round(2)\n",
    "                countValues = dfNoBlank.count(axis=1)\n",
    "                metricsTable = pd.concat([metricsTable, meanValues.rename('Mean'), stdValues.rename('Std'), countValues.rename('Count')], axis=1)\n",
    "        metricsTable.to_csv(f\"{team}/Individual/{score}_individualMetrics.csv\", index=True)\n"
   ]
  },
  {
   "cell_type": "code",
   "execution_count": 9,
   "metadata": {},
   "outputs": [],
   "source": [
    "def filterScoresRayoVallecano(dfScore):\n",
    "    # Convert 'Difference' column to numeric\n",
    "    dfScore['Difference'] = pd.to_numeric(dfScore['Difference'], errors='coerce')\n",
    "\n",
    "    # Group by the 'Score' column and calculate the size of each group\n",
    "    scoreCounts = dfScore.groupby('Score').size()\n",
    "\n",
    "    # Filter the DataFrame by the conditions: 'Difference' <= 3, size of 'Score' > 1, and 'Difference' < 0\n",
    "    filteredDfScore = dfScore[( dfScore['Score'].isin(scoreCounts[scoreCounts > 1].index)) | (dfScore['Difference'] >= 0)]\n",
    "\n",
    "    return filteredDfScore"
   ]
  },
  {
   "cell_type": "code",
   "execution_count": 10,
   "metadata": {},
   "outputs": [],
   "source": [
    "def filterScoresBarcelona(dfScore):\n",
    "    # Convert 'Difference' column to numeric\n",
    "    dfScore['Difference'] = pd.to_numeric(dfScore['Difference'], errors='coerce')\n",
    "\n",
    "    # Group by the 'Score' column and calculate the size of each group\n",
    "    scoreCounts = dfScore.groupby('Score').size()\n",
    "\n",
    "    # Filter the DataFrame by the conditions: 'Difference' <= 3, size of 'Score' > 1, and 'Difference' < 0\n",
    "    filteredDfScore = dfScore[((dfScore['Difference'] < 3) & dfScore['Score'].isin(scoreCounts[scoreCounts > 1].index)) | (dfScore['Difference'] <= 0) | (dfScore[\"Score\"] == \"3_2\") | ((dfScore[\"Score\"] == \"3_0\"))]\n",
    "\n",
    "    return filteredDfScore"
   ]
  },
  {
   "cell_type": "code",
   "execution_count": 11,
   "metadata": {},
   "outputs": [],
   "source": [
    "def generateGlobalMetrics( networkMetrics, team):\n",
    "    metricsTable = pd.DataFrame()\n",
    "    for element in networkMetrics:\n",
    "        df = pd.DataFrame.from_dict(networkMetrics[element], orient='index')\n",
    "        dfNoNan = df.fillna(\" \")\n",
    "        dfNoBlank = dfNoNan.replace(\" \", float('nan'))  # Replace blank spaces with NaN\n",
    "\n",
    "        # Calculate mean, standard deviation, and count\n",
    "        meanValues = dfNoBlank.mean(axis=1).round(2)\n",
    "        stdValues = dfNoBlank.std(axis=1).round(2)\n",
    "        countValues = dfNoBlank.count(axis=1)\n",
    "\n",
    "        metricsTable = pd.concat([metricsTable, meanValues.rename('Mean'), stdValues.rename('Std'), countValues.rename('Count')], axis=1)\n",
    "\n",
    "    metricsTable.to_csv(f\"{team}/Global/globalMetrics.csv\", index=True)"
   ]
  },
  {
   "cell_type": "markdown",
   "metadata": {},
   "source": [
    "FCBARCELONA"
   ]
  },
  {
   "cell_type": "code",
   "execution_count": 12,
   "metadata": {},
   "outputs": [],
   "source": [
    "individualMetricsBarcelonaFile = load_metrics(individualMetricsBarcelona)\n",
    "globalMetricsBarcelonaFile = load_metrics(globalMetricsBarcelona)\n",
    "scoresBarcelonaFile = load_scores(scoresBarcelona)"
   ]
  },
  {
   "cell_type": "code",
   "execution_count": 13,
   "metadata": {},
   "outputs": [],
   "source": [
    "filteredScoresBarcelona = filterScoresBarcelona(scoresBarcelonaFile)"
   ]
  },
  {
   "cell_type": "code",
   "execution_count": 14,
   "metadata": {},
   "outputs": [],
   "source": [
    "processMetrics(filteredScoresBarcelona, individualMetricsBarcelonaFile, \"Barcelona\")"
   ]
  },
  {
   "cell_type": "code",
   "execution_count": 15,
   "metadata": {},
   "outputs": [],
   "source": [
    "generateGlobalMetrics(globalMetricsBarcelonaFile, \"Barcelona\")"
   ]
  },
  {
   "cell_type": "markdown",
   "metadata": {},
   "source": [
    "RAYO VALLECANO"
   ]
  },
  {
   "cell_type": "code",
   "execution_count": 16,
   "metadata": {},
   "outputs": [],
   "source": [
    "individualMetricsRayoVallecanoFile = load_metrics(individualMetricsRayoVallecano)\n",
    "globalMetricsRayoVallecanoFile = load_metrics(globalMericsRayoVallecano)\n",
    "scoresFileRayoVallecano = load_scores(scoresRayoVallecano)"
   ]
  },
  {
   "cell_type": "code",
   "execution_count": 24,
   "metadata": {},
   "outputs": [
    {
     "name": "stdout",
     "output_type": "stream",
     "text": [
      "<bound method Series.unique of 0      0_1\n",
      "1       NF\n",
      "2      1_0\n",
      "3      1_1\n",
      "4      2_1\n",
      "      ... \n",
      "159     NF\n",
      "160    0_1\n",
      "161    0_2\n",
      "162    1_2\n",
      "163     NF\n",
      "Name: Score, Length: 156, dtype: object>\n"
     ]
    }
   ],
   "source": [
    "filteredScoresRayoVallecano = filterScoresRayoVallecano(scoresFileRayoVallecano)"
   ]
  },
  {
   "cell_type": "code",
   "execution_count": 18,
   "metadata": {},
   "outputs": [],
   "source": [
    "processMetrics(filteredScoresRayoVallecano, individualMetricsRayoVallecanoFile, \"RayoVallecano\")"
   ]
  },
  {
   "cell_type": "code",
   "execution_count": 19,
   "metadata": {},
   "outputs": [],
   "source": [
    "generateGlobalMetrics(globalMetricsRayoVallecanoFile, \"RayoVallecano\")"
   ]
  }
 ],
 "metadata": {
  "kernelspec": {
   "display_name": "Python 3",
   "language": "python",
   "name": "python3"
  },
  "language_info": {
   "codemirror_mode": {
    "name": "ipython",
    "version": 3
   },
   "file_extension": ".py",
   "mimetype": "text/x-python",
   "name": "python",
   "nbconvert_exporter": "python",
   "pygments_lexer": "ipython3",
   "version": "3.12.0"
  }
 },
 "nbformat": 4,
 "nbformat_minor": 2
}
