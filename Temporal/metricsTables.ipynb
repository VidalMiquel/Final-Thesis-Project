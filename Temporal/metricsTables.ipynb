{
 "cells": [
  {
   "cell_type": "code",
   "execution_count": 18,
   "metadata": {},
   "outputs": [],
   "source": [
    "import pickle\n",
    "import pandas as pd\n",
    "from tabulate import tabulate\n",
    "import numpy as np\n",
    "import pandas as pd\n"
   ]
  },
  {
   "cell_type": "code",
   "execution_count": 19,
   "metadata": {},
   "outputs": [],
   "source": [
    "\n",
    "#mètriques de tots els partis (llista de diccionaris)\n",
    "RayoVallecano2 = \"../Data/Barcelona/04Stage/playersList.pkl\"\n"
   ]
  },
  {
   "cell_type": "code",
   "execution_count": 20,
   "metadata": {},
   "outputs": [],
   "source": [
    "with open(RayoVallecano2, 'rb') as file:\n",
    "    # Load data from the file\n",
    "    dataRayo2 = pickle.load(file)"
   ]
  },
  {
   "cell_type": "code",
   "execution_count": 21,
   "metadata": {},
   "outputs": [
    {
     "name": "stdout",
     "output_type": "stream",
     "text": [
      "{4320: 'Neymar da Silva Santos Junior', 5506: 'Javier Alejandro Mascherano', 4324: 'Daniel Alves da Silva', 6379: 'Sergi Roberto Carnicer', 5203: 'Sergio Busquets i Burgos', 4691: 'Claudio Andrés Bravo Muñoz', 11094: 'Arda Turan', 6998: 'Rafael Alcântara do Nascimento', 6616: 'Munir El Haddadi Mohamed', 5213: 'Gerard Piqué Bernabéu', 5503: 'Lionel Andrés Messi Cuccittini', 5216: 'Andrés Iniesta Luján', 5211: 'Jordi Alba Ramos', 5470: 'Ivan Rakitić', 5246: 'Luis Alberto Suárez Díaz', 7068: 'Marc Bartra Aregall', 22102: 'Adriano Correia Claro', 20055: 'Marc-André ter Stegen', 10609: 'Jérémy Mathieu', 6400: 'Aleix Vidal Parreu', 6332: 'Thomas Vermaelen', 3508: 'Sandro Ramírez Castillo', 6834: 'Gerard Gumbau Garriga', 27318: 'Douglas Pereira dos Santos', 21229: 'Sergi Samper Montaña'}\n"
     ]
    }
   ],
   "source": [
    "print(dataRayo2)"
   ]
  }
 ],
 "metadata": {
  "kernelspec": {
   "display_name": "Python 3",
   "language": "python",
   "name": "python3"
  },
  "language_info": {
   "codemirror_mode": {
    "name": "ipython",
    "version": 3
   },
   "file_extension": ".py",
   "mimetype": "text/x-python",
   "name": "python",
   "nbconvert_exporter": "python",
   "pygments_lexer": "ipython3",
   "version": "3.12.0"
  }
 },
 "nbformat": 4,
 "nbformat_minor": 2
}
