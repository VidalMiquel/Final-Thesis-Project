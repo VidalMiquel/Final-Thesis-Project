{
 "cells": [
  {
   "cell_type": "code",
   "execution_count": 434,
   "metadata": {},
   "outputs": [],
   "source": [
    "import os\n",
    "import networkx as nx\n",
    "from collections import defaultdict\n",
    "import numpy as np\n",
    "import pandas as pd\n",
    "import csv\n"
   ]
  },
  {
   "cell_type": "code",
   "execution_count": 435,
   "metadata": {},
   "outputs": [],
   "source": [
    "path = \"../Data/Barcelona/04Stage/Graphs/diGraphs\"\n",
    "pathCSV = \"../Data/Barcelona/03Stage/finalMetadataBarcelona.csv\""
   ]
  },
  {
   "cell_type": "code",
   "execution_count": 436,
   "metadata": {},
   "outputs": [],
   "source": [
    "inDegree_players = defaultdict(list)\n",
    "outDegree_players = defaultdict(list)"
   ]
  },
  {
   "cell_type": "code",
   "execution_count": 437,
   "metadata": {},
   "outputs": [],
   "source": [
    "try:\n",
    "    # Open the CSV file\n",
    "    # Create a CSV reader object\n",
    "    dfScore = pd.read_csv(pathCSV)\n",
    "except FileNotFoundError:\n",
    "    print(\"The file does not exist.\")\n",
    "except Exception as e:\n",
    "    print(\"An error occurred:\", e)"
   ]
  },
  {
   "cell_type": "code",
   "execution_count": 438,
   "metadata": {},
   "outputs": [],
   "source": [
    "# Convert 'Difference' column to numeric\n",
    "dfScore['Difference'] = pd.to_numeric(dfScore['Difference'], errors='coerce')\n",
    "\n",
    "# Group by the 'Score' column and calculate the size of each group\n",
    "score_counts = dfScore.groupby('Score').size()\n",
    "\n",
    "# Filter the DataFrame by the conditions: 'Difference' <= 3, size of 'Score' > 1, and 'Difference' < 0\n",
    "filtered_df_score = dfScore[((dfScore['Difference'] < 3) & dfScore['Score'].isin(score_counts[score_counts > 1].index)) | (dfScore['Difference'] <= 0) | (dfScore[\"Score\"] == \"3_2\") | ((dfScore[\"Score\"] == \"3_0\"))]\n",
    "\n"
   ]
  },
  {
   "cell_type": "code",
   "execution_count": 439,
   "metadata": {},
   "outputs": [
    {
     "name": "stdout",
     "output_type": "stream",
     "text": [
      "Score\n",
      "0_1     9\n",
      "0_2     3\n",
      "0_3     1\n",
      "1_0    28\n",
      "1_1    13\n",
      "1_2     3\n",
      "1_3     1\n",
      "1_4     1\n",
      "2_0    18\n",
      "2_1    12\n",
      "2_2     2\n",
      "3_0    14\n",
      "3_1     7\n",
      "3_2     1\n",
      "dtype: int64\n"
     ]
    }
   ],
   "source": [
    "filteredMatches = filtered_df_score.groupby('Score').size()\n",
    "print(filteredMatches)"
   ]
  },
  {
   "cell_type": "code",
   "execution_count": 440,
   "metadata": {},
   "outputs": [],
   "source": [
    "def getScore(fileName):\n",
    "    parts = fileName.split(\"_\")\n",
    "    if len(parts) == 4:\n",
    "        pass\n",
    "    elif len(parts) == 5 :\n",
    "        return f\"{parts[2]}_{parts[3]}\"\n"
   ]
  },
  {
   "cell_type": "code",
   "execution_count": 441,
   "metadata": {},
   "outputs": [],
   "source": [
    "def readGraph(dataFolder, fileName):\n",
    "    try:\n",
    "        filePath = os.path.join(dataFolder, fileName)\n",
    "        graph = nx.read_gexf(filePath)\n",
    "        return graph\n",
    "    except FileNotFoundError:\n",
    "        print(f\"File '{fileName}' not found in '{dataFolder}'.\")\n",
    "        return None\n",
    "    except nx.NetworkXError as e:\n",
    "        print(f\"Error reading graph from '{filePath}': {e}\")\n",
    "        return None"
   ]
  },
  {
   "cell_type": "code",
   "execution_count": 442,
   "metadata": {},
   "outputs": [],
   "source": [
    "# Initialize dictionaries to store metrics for each score\n",
    "inDegree_players = {}\n",
    "outDegree_players = {}\n",
    "clustering_coefficients = {}\n",
    "betweenness_centralities = {}\n",
    "closeness_centralities = {}\n",
    "\n",
    "# Iterate through all the files in the folder\n",
    "for fileName in os.listdir(path):\n",
    "    # Join the folder path with the file name\n",
    "    graph = readGraph(path, fileName)\n",
    "    score = getScore(fileName)\n",
    "    if score in filtered_df_score[\"Score\"].unique():\n",
    "        # Initialize dictionaries for metrics if they don't exist\n",
    "        if score not in inDegree_players:\n",
    "            inDegree_players[score] = {}\n",
    "        if score not in outDegree_players:\n",
    "            outDegree_players[score] = {}\n",
    "        if score not in clustering_coefficients:\n",
    "            clustering_coefficients[score] = {}\n",
    "        if score not in betweenness_centralities:\n",
    "            betweenness_centralities[score] = {}\n",
    "        if score not in closeness_centralities:\n",
    "            closeness_centralities[score] = {}\n",
    "\n",
    "        # Iterate over nodes in the graph\n",
    "        for node in graph.nodes():\n",
    "            # Print node label        \n",
    "            # Calculate in-degree and append to inDegree_players dictionary\n",
    "            in_degree = graph.in_degree(node)\n",
    "            if node not in inDegree_players[score]:\n",
    "                inDegree_players[score][node] = []\n",
    "            inDegree_players[score][node].append(in_degree)\n",
    "            \n",
    "            # Calculate out-degree and append to outDegree_players dictionary\n",
    "            out_degree = graph.out_degree(node)\n",
    "            if node not in outDegree_players[score]:\n",
    "                outDegree_players[score][node] = []\n",
    "            outDegree_players[score][node].append(out_degree)\n",
    "            \n",
    "            # Calculate clustering coefficient and store\n",
    "            clustering_coefficient = nx.clustering(graph, node)\n",
    "            clustering_coefficients[score][node] = clustering_coefficient\n",
    "            \n",
    "            # Calculate betweenness centrality and store\n",
    "            betweenness_centrality = nx.betweenness_centrality(graph)[node]\n",
    "            betweenness_centralities[score][node] = betweenness_centrality\n",
    "            \n",
    "            # Calculate closeness centrality and store\n",
    "            closeness_centrality = nx.closeness_centrality(graph)[node]\n",
    "            closeness_centralities[score][node] = closeness_centrality\n"
   ]
  },
  {
   "cell_type": "code",
   "execution_count": 446,
   "metadata": {},
   "outputs": [
    {
     "name": "stdout",
     "output_type": "stream",
     "text": [
      "6616   3     5  <NA>  <NA>  <NA>  <NA>  <NA>  <NA>  <NA>\n",
      "5503   1     8     6     3     6  <NA>  <NA>  <NA>  <NA>\n",
      "5203   6     9    10     5     8     6     3     4     5\n",
      "6379   5     7     8     6     7     4     5  <NA>  <NA>\n",
      "5506   2     8    11     3     8     3     3  <NA>  <NA>\n",
      "4691   3     5     8     4     2     3     2  <NA>  <NA>\n",
      "4324   1     5     8     6     6  <NA>  <NA>  <NA>  <NA>\n",
      "4320   3     5     8     6     7     6     6     3     8\n",
      "5213   3    10     8     8     4     5     3     8  <NA>\n",
      "11094  2     5  <NA>  <NA>  <NA>  <NA>  <NA>  <NA>  <NA>\n",
      "6998   1     7  <NA>  <NA>  <NA>  <NA>  <NA>  <NA>  <NA>\n",
      "5470   7    10     9     6     5     4  <NA>  <NA>  <NA>\n",
      "5211   7     9     9     6     5     6     6  <NA>  <NA>\n",
      "5216   5     9     7     3  <NA>  <NA>  <NA>  <NA>  <NA>\n",
      "5246   3     5     6     4     2     3     1     3  <NA>\n",
      "20055  8     5  <NA>  <NA>  <NA>  <NA>  <NA>  <NA>  <NA>\n",
      "6332   5  <NA>  <NA>  <NA>  <NA>  <NA>  <NA>  <NA>  <NA>\n",
      "10609  6     4     5     5     7  <NA>  <NA>  <NA>  <NA>\n",
      "3508   4     3  <NA>  <NA>  <NA>  <NA>  <NA>  <NA>  <NA>\n",
      "7068   4  <NA>  <NA>  <NA>  <NA>  <NA>  <NA>  <NA>  <NA>\n",
      "6400   7  <NA>  <NA>  <NA>  <NA>  <NA>  <NA>  <NA>  <NA>\n"
     ]
    }
   ],
   "source": [
    "import pandas as pd\n",
    "\n",
    "score = '0_1'\n",
    "node_outdegrees = outDegree_players[score]\n",
    "\n",
    "df = pd.DataFrame.from_dict(node_outdegrees, orient='index')\n",
    "df_no_nan = df.fillna(\" \")\n",
    "df_no_blank = df_no_nan.replace(\" \", float('nan'))  # Replace blank spaces with NaN\n",
    "df_filled_int = df_no_blank.astype(float).astype('Int64')  # Convert to integers\n",
    "\n",
    "df_string = df_filled_int.to_string(header=False)\n",
    "\n",
    "print(df_string)\n"
   ]
  },
  {
   "cell_type": "code",
   "execution_count": 449,
   "metadata": {},
   "outputs": [
    {
     "name": "stdout",
     "output_type": "stream",
     "text": [
      "6616   3     5  <NA>  <NA>  <NA>  <NA>  <NA>  <NA>  <NA>   4.0  1.41   8\n",
      "5503   1     8     6     3     6  <NA>  <NA>  <NA>  <NA>   4.8  2.77  24\n",
      "5203   6     9    10     5     8     6     3     4     5  6.22  2.33  56\n",
      "6379   5     7     8     6     7     4     5  <NA>  <NA>   6.0  1.41  42\n",
      "5506   2     8    11     3     8     3     3  <NA>  <NA>  5.43  3.51  38\n",
      "4691   3     5     8     4     2     3     2  <NA>  <NA>  3.86  2.12  27\n",
      "4324   1     5     8     6     6  <NA>  <NA>  <NA>  <NA>   5.2  2.59  26\n",
      "4320   3     5     8     6     7     6     6     3     8  5.78  1.86  52\n",
      "5213   3    10     8     8     4     5     3     8  <NA>  6.12   2.7  49\n",
      "11094  2     5  <NA>  <NA>  <NA>  <NA>  <NA>  <NA>  <NA>   3.5  2.12   7\n",
      "6998   1     7  <NA>  <NA>  <NA>  <NA>  <NA>  <NA>  <NA>   4.0  4.24   8\n",
      "5470   7    10     9     6     5     4  <NA>  <NA>  <NA>  6.83  2.32  41\n",
      "5211   7     9     9     6     5     6     6  <NA>  <NA>  6.86  1.57  48\n",
      "5216   5     9     7     3  <NA>  <NA>  <NA>  <NA>  <NA>   6.0  2.58  24\n",
      "5246   3     5     6     4     2     3     1     3  <NA>  3.38   1.6  27\n",
      "20055  8     5  <NA>  <NA>  <NA>  <NA>  <NA>  <NA>  <NA>   6.5  2.12  13\n",
      "6332   5  <NA>  <NA>  <NA>  <NA>  <NA>  <NA>  <NA>  <NA>   5.0  <NA>   5\n",
      "10609  6     4     5     5     7  <NA>  <NA>  <NA>  <NA>   5.4  1.14  27\n",
      "3508   4     3  <NA>  <NA>  <NA>  <NA>  <NA>  <NA>  <NA>   3.5  0.71   7\n",
      "7068   4  <NA>  <NA>  <NA>  <NA>  <NA>  <NA>  <NA>  <NA>   4.0  <NA>   4\n",
      "6400   7  <NA>  <NA>  <NA>  <NA>  <NA>  <NA>  <NA>  <NA>   7.0  <NA>   7\n"
     ]
    }
   ],
   "source": [
    "# Calculate mean, standard deviation, and count\n",
    "mean_values = df_filled_int.mean(axis=1).round(2)\n",
    "std_values = df_filled_int.std(axis=1).round(2)\n",
    "sum_values = df_filled_int.sum(axis=1)\n",
    "\n",
    "# Combine mean, std, and count values with the DataFrame\n",
    "df_with_stats = pd.concat([df_filled_int, mean_values.rename('Mean'), std_values.rename('Std'), sum_values.rename('Count')], axis=1)\n",
    "\n",
    "# Print the DataFrame\n",
    "print(df_with_stats.to_string(header=False))"
   ]
  }
 ],
 "metadata": {
  "kernelspec": {
   "display_name": "Python 3",
   "language": "python",
   "name": "python3"
  },
  "language_info": {
   "codemirror_mode": {
    "name": "ipython",
    "version": 3
   },
   "file_extension": ".py",
   "mimetype": "text/x-python",
   "name": "python",
   "nbconvert_exporter": "python",
   "pygments_lexer": "ipython3",
   "version": "3.12.0"
  }
 },
 "nbformat": 4,
 "nbformat_minor": 2
}
